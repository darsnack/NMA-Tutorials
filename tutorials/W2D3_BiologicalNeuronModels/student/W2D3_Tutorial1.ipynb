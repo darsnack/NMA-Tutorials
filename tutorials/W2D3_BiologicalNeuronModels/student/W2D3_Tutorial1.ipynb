{
  "nbformat": 4,
  "nbformat_minor": 0,
  "metadata": {
    "colab": {
      "name": "W2D3_Tutorial1",
      "provenance": [],
      "collapsed_sections": [],
      "toc_visible": true,
      "include_colab_link": true
    },
    "kernel": {
      "display_name": "Python 3",
      "language": "python",
      "name": "python3"
    },
    "kernelspec": {
      "display_name": "Python 3",
      "name": "python3"
    },
    "language_info": {
      "codemirror_mode": {
        "name": "ipython",
        "version": 3
      },
      "file_extension": ".py",
      "mimetype": "text/x-python",
      "name": "python",
      "nbconvert_exporter": "python",
      "pygments_lexer": "ipython3",
      "version": "3.7.10"
    },
    "widgets": {
      "application/vnd.jupyter.widget-state+json": {
        "2b9e3db694d84a8dab6371c0763ef619": {
          "model_module": "@jupyter-widgets/controls",
          "model_name": "TabModel",
          "state": {
            "_view_name": "TabView",
            "_dom_classes": [],
            "_titles": {
              "0": "Youtube",
              "1": "Bilibili"
            },
            "_model_name": "TabModel",
            "_view_module": "@jupyter-widgets/controls",
            "selected_index": 0,
            "_model_module_version": "1.5.0",
            "_view_count": null,
            "_view_module_version": "1.5.0",
            "box_style": "",
            "layout": "IPY_MODEL_fb2b1368dc514cb4a505b778830dc8af",
            "_model_module": "@jupyter-widgets/controls",
            "children": [
              "IPY_MODEL_376587220ad64cbaba739c4ad233114f",
              "IPY_MODEL_bff90c7d78ad470ca25d22267116829c"
            ]
          }
        },
        "fb2b1368dc514cb4a505b778830dc8af": {
          "model_module": "@jupyter-widgets/base",
          "model_name": "LayoutModel",
          "state": {
            "_view_name": "LayoutView",
            "grid_template_rows": null,
            "right": null,
            "justify_content": null,
            "_view_module": "@jupyter-widgets/base",
            "overflow": null,
            "_model_module_version": "1.2.0",
            "_view_count": null,
            "flex_flow": null,
            "width": null,
            "min_width": null,
            "border": null,
            "align_items": null,
            "bottom": null,
            "_model_module": "@jupyter-widgets/base",
            "top": null,
            "grid_column": null,
            "overflow_y": null,
            "overflow_x": null,
            "grid_auto_flow": null,
            "grid_area": null,
            "grid_template_columns": null,
            "flex": null,
            "_model_name": "LayoutModel",
            "justify_items": null,
            "grid_row": null,
            "max_height": null,
            "align_content": null,
            "visibility": null,
            "align_self": null,
            "height": null,
            "min_height": null,
            "padding": null,
            "grid_auto_rows": null,
            "grid_gap": null,
            "max_width": null,
            "order": null,
            "_view_module_version": "1.2.0",
            "grid_template_areas": null,
            "object_position": null,
            "object_fit": null,
            "grid_auto_columns": null,
            "margin": null,
            "display": null,
            "left": null
          }
        },
        "376587220ad64cbaba739c4ad233114f": {
          "model_module": "@jupyter-widgets/output",
          "model_name": "OutputModel",
          "state": {
            "_view_name": "OutputView",
            "msg_id": "",
            "_dom_classes": [],
            "_model_name": "OutputModel",
            "outputs": [
              {
                "output_type": "stream",
                "metadata": {
                  "tags": []
                },
                "text": "Video available at https://youtube.com/watch?v=rSExvwCVRYg\n",
                "stream": "stdout"
              },
              {
                "output_type": "display_data",
                "metadata": {
                  "tags": []
                },
                "text/html": "\n        <iframe\n            width=\"854\"\n            height=\"480\"\n            src=\"https://www.youtube.com/embed/rSExvwCVRYg?fs=1&rel=0\"\n            frameborder=\"0\"\n            allowfullscreen\n        ></iframe>\n        ",
                "text/plain": "<IPython.lib.display.YouTubeVideo at 0x7f555c179d90>",
                "image/jpeg": "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\n"
              }
            ],
            "_view_module": "@jupyter-widgets/output",
            "_model_module_version": "1.0.0",
            "_view_count": null,
            "_view_module_version": "1.0.0",
            "layout": "IPY_MODEL_7558bd01ba4b4185bbb8422e0939ecd3",
            "_model_module": "@jupyter-widgets/output"
          }
        },
        "bff90c7d78ad470ca25d22267116829c": {
          "model_module": "@jupyter-widgets/output",
          "model_name": "OutputModel",
          "state": {
            "_view_name": "OutputView",
            "msg_id": "",
            "_dom_classes": [],
            "_model_name": "OutputModel",
            "outputs": [
              {
                "output_type": "stream",
                "metadata": {
                  "tags": []
                },
                "text": "Video available at https://www.bilibili.com/video/av456396195\n",
                "stream": "stdout"
              },
              {
                "output_type": "display_data",
                "metadata": {
                  "tags": []
                },
                "text/html": "\n        <iframe\n            width=\"854\"\n            height=\"480\"\n            src=\"https://player.bilibili.com/player.html?bvid=av456396195&page=1?fs=1\"\n            frameborder=\"0\"\n            allowfullscreen\n        ></iframe>\n        ",
                "text/plain": "<__main__.BiliVideo at 0x7f5556be14d0>"
              }
            ],
            "_view_module": "@jupyter-widgets/output",
            "_model_module_version": "1.0.0",
            "_view_count": null,
            "_view_module_version": "1.0.0",
            "layout": "IPY_MODEL_b42a741160d5405396c297b6c47f0e53",
            "_model_module": "@jupyter-widgets/output"
          }
        },
        "7558bd01ba4b4185bbb8422e0939ecd3": {
          "model_module": "@jupyter-widgets/base",
          "model_name": "LayoutModel",
          "state": {
            "_view_name": "LayoutView",
            "grid_template_rows": null,
            "right": null,
            "justify_content": null,
            "_view_module": "@jupyter-widgets/base",
            "overflow": null,
            "_model_module_version": "1.2.0",
            "_view_count": null,
            "flex_flow": null,
            "width": null,
            "min_width": null,
            "border": null,
            "align_items": null,
            "bottom": null,
            "_model_module": "@jupyter-widgets/base",
            "top": null,
            "grid_column": null,
            "overflow_y": null,
            "overflow_x": null,
            "grid_auto_flow": null,
            "grid_area": null,
            "grid_template_columns": null,
            "flex": null,
            "_model_name": "LayoutModel",
            "justify_items": null,
            "grid_row": null,
            "max_height": null,
            "align_content": null,
            "visibility": null,
            "align_self": null,
            "height": null,
            "min_height": null,
            "padding": null,
            "grid_auto_rows": null,
            "grid_gap": null,
            "max_width": null,
            "order": null,
            "_view_module_version": "1.2.0",
            "grid_template_areas": null,
            "object_position": null,
            "object_fit": null,
            "grid_auto_columns": null,
            "margin": null,
            "display": null,
            "left": null
          }
        },
        "b42a741160d5405396c297b6c47f0e53": {
          "model_module": "@jupyter-widgets/base",
          "model_name": "LayoutModel",
          "state": {
            "_view_name": "LayoutView",
            "grid_template_rows": null,
            "right": null,
            "justify_content": null,
            "_view_module": "@jupyter-widgets/base",
            "overflow": null,
            "_model_module_version": "1.2.0",
            "_view_count": null,
            "flex_flow": null,
            "width": null,
            "min_width": null,
            "border": null,
            "align_items": null,
            "bottom": null,
            "_model_module": "@jupyter-widgets/base",
            "top": null,
            "grid_column": null,
            "overflow_y": null,
            "overflow_x": null,
            "grid_auto_flow": null,
            "grid_area": null,
            "grid_template_columns": null,
            "flex": null,
            "_model_name": "LayoutModel",
            "justify_items": null,
            "grid_row": null,
            "max_height": null,
            "align_content": null,
            "visibility": null,
            "align_self": null,
            "height": null,
            "min_height": null,
            "padding": null,
            "grid_auto_rows": null,
            "grid_gap": null,
            "max_width": null,
            "order": null,
            "_view_module_version": "1.2.0",
            "grid_template_areas": null,
            "object_position": null,
            "object_fit": null,
            "grid_auto_columns": null,
            "margin": null,
            "display": null,
            "left": null
          }
        },
        "031737be5482478ea77eb8a1747c2c80": {
          "model_module": "@jupyter-widgets/controls",
          "model_name": "TabModel",
          "state": {
            "_view_name": "TabView",
            "_dom_classes": [],
            "_titles": {
              "0": "Youtube",
              "1": "Bilibili"
            },
            "_model_name": "TabModel",
            "_view_module": "@jupyter-widgets/controls",
            "selected_index": 0,
            "_model_module_version": "1.5.0",
            "_view_count": null,
            "_view_module_version": "1.5.0",
            "box_style": "",
            "layout": "IPY_MODEL_72e48494600845d5a82e77a29c12738f",
            "_model_module": "@jupyter-widgets/controls",
            "children": [
              "IPY_MODEL_a5d31ad2d99a469ca37f3af5462fcbb6",
              "IPY_MODEL_8de2f9e58e984d4794922193bea7fb50"
            ]
          }
        },
        "72e48494600845d5a82e77a29c12738f": {
          "model_module": "@jupyter-widgets/base",
          "model_name": "LayoutModel",
          "state": {
            "_view_name": "LayoutView",
            "grid_template_rows": null,
            "right": null,
            "justify_content": null,
            "_view_module": "@jupyter-widgets/base",
            "overflow": null,
            "_model_module_version": "1.2.0",
            "_view_count": null,
            "flex_flow": null,
            "width": null,
            "min_width": null,
            "border": null,
            "align_items": null,
            "bottom": null,
            "_model_module": "@jupyter-widgets/base",
            "top": null,
            "grid_column": null,
            "overflow_y": null,
            "overflow_x": null,
            "grid_auto_flow": null,
            "grid_area": null,
            "grid_template_columns": null,
            "flex": null,
            "_model_name": "LayoutModel",
            "justify_items": null,
            "grid_row": null,
            "max_height": null,
            "align_content": null,
            "visibility": null,
            "align_self": null,
            "height": null,
            "min_height": null,
            "padding": null,
            "grid_auto_rows": null,
            "grid_gap": null,
            "max_width": null,
            "order": null,
            "_view_module_version": "1.2.0",
            "grid_template_areas": null,
            "object_position": null,
            "object_fit": null,
            "grid_auto_columns": null,
            "margin": null,
            "display": null,
            "left": null
          }
        },
        "a5d31ad2d99a469ca37f3af5462fcbb6": {
          "model_module": "@jupyter-widgets/output",
          "model_name": "OutputModel",
          "state": {
            "_view_name": "OutputView",
            "msg_id": "",
            "_dom_classes": [],
            "_model_name": "OutputModel",
            "outputs": [
              {
                "output_type": "stream",
                "metadata": {
                  "tags": []
                },
                "text": "Video available at https://youtube.com/watch?v=preNGdab7Kk\n",
                "stream": "stdout"
              },
              {
                "output_type": "display_data",
                "metadata": {
                  "tags": []
                },
                "text/html": "\n        <iframe\n            width=\"854\"\n            height=\"480\"\n            src=\"https://www.youtube.com/embed/preNGdab7Kk?fs=1&rel=0\"\n            frameborder=\"0\"\n            allowfullscreen\n        ></iframe>\n        ",
                "text/plain": "<IPython.lib.display.YouTubeVideo at 0x7f5552b45990>",
                "image/jpeg": "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\n"
              }
            ],
            "_view_module": "@jupyter-widgets/output",
            "_model_module_version": "1.0.0",
            "_view_count": null,
            "_view_module_version": "1.0.0",
            "layout": "IPY_MODEL_8321307b592e467e92164a741382918d",
            "_model_module": "@jupyter-widgets/output"
          }
        },
        "8de2f9e58e984d4794922193bea7fb50": {
          "model_module": "@jupyter-widgets/output",
          "model_name": "OutputModel",
          "state": {
            "_view_name": "OutputView",
            "msg_id": "",
            "_dom_classes": [],
            "_model_name": "OutputModel",
            "outputs": [
              {
                "output_type": "stream",
                "metadata": {
                  "tags": []
                },
                "text": "Video available at https://www.bilibili.com/video/av541417171\n",
                "stream": "stdout"
              },
              {
                "output_type": "display_data",
                "metadata": {
                  "tags": []
                },
                "text/html": "\n        <iframe\n            width=\"854\"\n            height=\"480\"\n            src=\"https://player.bilibili.com/player.html?bvid=av541417171&page=1?fs=1\"\n            frameborder=\"0\"\n            allowfullscreen\n        ></iframe>\n        ",
                "text/plain": "<__main__.BiliVideo at 0x7f554a194450>"
              }
            ],
            "_view_module": "@jupyter-widgets/output",
            "_model_module_version": "1.0.0",
            "_view_count": null,
            "_view_module_version": "1.0.0",
            "layout": "IPY_MODEL_084844a1fda242419321a4adc8ac6e62",
            "_model_module": "@jupyter-widgets/output"
          }
        },
        "8321307b592e467e92164a741382918d": {
          "model_module": "@jupyter-widgets/base",
          "model_name": "LayoutModel",
          "state": {
            "_view_name": "LayoutView",
            "grid_template_rows": null,
            "right": null,
            "justify_content": null,
            "_view_module": "@jupyter-widgets/base",
            "overflow": null,
            "_model_module_version": "1.2.0",
            "_view_count": null,
            "flex_flow": null,
            "width": null,
            "min_width": null,
            "border": null,
            "align_items": null,
            "bottom": null,
            "_model_module": "@jupyter-widgets/base",
            "top": null,
            "grid_column": null,
            "overflow_y": null,
            "overflow_x": null,
            "grid_auto_flow": null,
            "grid_area": null,
            "grid_template_columns": null,
            "flex": null,
            "_model_name": "LayoutModel",
            "justify_items": null,
            "grid_row": null,
            "max_height": null,
            "align_content": null,
            "visibility": null,
            "align_self": null,
            "height": null,
            "min_height": null,
            "padding": null,
            "grid_auto_rows": null,
            "grid_gap": null,
            "max_width": null,
            "order": null,
            "_view_module_version": "1.2.0",
            "grid_template_areas": null,
            "object_position": null,
            "object_fit": null,
            "grid_auto_columns": null,
            "margin": null,
            "display": null,
            "left": null
          }
        },
        "084844a1fda242419321a4adc8ac6e62": {
          "model_module": "@jupyter-widgets/base",
          "model_name": "LayoutModel",
          "state": {
            "_view_name": "LayoutView",
            "grid_template_rows": null,
            "right": null,
            "justify_content": null,
            "_view_module": "@jupyter-widgets/base",
            "overflow": null,
            "_model_module_version": "1.2.0",
            "_view_count": null,
            "flex_flow": null,
            "width": null,
            "min_width": null,
            "border": null,
            "align_items": null,
            "bottom": null,
            "_model_module": "@jupyter-widgets/base",
            "top": null,
            "grid_column": null,
            "overflow_y": null,
            "overflow_x": null,
            "grid_auto_flow": null,
            "grid_area": null,
            "grid_template_columns": null,
            "flex": null,
            "_model_name": "LayoutModel",
            "justify_items": null,
            "grid_row": null,
            "max_height": null,
            "align_content": null,
            "visibility": null,
            "align_self": null,
            "height": null,
            "min_height": null,
            "padding": null,
            "grid_auto_rows": null,
            "grid_gap": null,
            "max_width": null,
            "order": null,
            "_view_module_version": "1.2.0",
            "grid_template_areas": null,
            "object_position": null,
            "object_fit": null,
            "grid_auto_columns": null,
            "margin": null,
            "display": null,
            "left": null
          }
        },
        "e2b60a426d0e496d8929832830a1455d": {
          "model_module": "@jupyter-widgets/controls",
          "model_name": "VBoxModel",
          "state": {
            "_view_name": "VBoxView",
            "_dom_classes": [
              "widget-interact"
            ],
            "_model_name": "VBoxModel",
            "_view_module": "@jupyter-widgets/controls",
            "_model_module_version": "1.5.0",
            "_view_count": null,
            "_view_module_version": "1.5.0",
            "box_style": "",
            "layout": "IPY_MODEL_1ba77492835747b88c4633a735c0773d",
            "_model_module": "@jupyter-widgets/controls",
            "children": [
              "IPY_MODEL_7dff3f3740ea49d9a413e5e9f097ab89",
              "IPY_MODEL_351ecd5b1b38428a86fe912c636c36d7",
              "IPY_MODEL_3f20894a97ba4b459c96cdd5185941ad"
            ]
          }
        },
        "1ba77492835747b88c4633a735c0773d": {
          "model_module": "@jupyter-widgets/base",
          "model_name": "LayoutModel",
          "state": {
            "_view_name": "LayoutView",
            "grid_template_rows": null,
            "right": null,
            "justify_content": null,
            "_view_module": "@jupyter-widgets/base",
            "overflow": null,
            "_model_module_version": "1.2.0",
            "_view_count": null,
            "flex_flow": null,
            "width": null,
            "min_width": null,
            "border": null,
            "align_items": null,
            "bottom": null,
            "_model_module": "@jupyter-widgets/base",
            "top": null,
            "grid_column": null,
            "overflow_y": null,
            "overflow_x": null,
            "grid_auto_flow": null,
            "grid_area": null,
            "grid_template_columns": null,
            "flex": null,
            "_model_name": "LayoutModel",
            "justify_items": null,
            "grid_row": null,
            "max_height": null,
            "align_content": null,
            "visibility": null,
            "align_self": null,
            "height": null,
            "min_height": null,
            "padding": null,
            "grid_auto_rows": null,
            "grid_gap": null,
            "max_width": null,
            "order": null,
            "_view_module_version": "1.2.0",
            "grid_template_areas": null,
            "object_position": null,
            "object_fit": null,
            "grid_auto_columns": null,
            "margin": null,
            "display": null,
            "left": null
          }
        },
        "7dff3f3740ea49d9a413e5e9f097ab89": {
          "model_module": "@jupyter-widgets/controls",
          "model_name": "FloatSliderModel",
          "state": {
            "_view_name": "FloatSliderView",
            "style": "IPY_MODEL_336f9053597e499ab27978be027ed6a2",
            "_dom_classes": [],
            "description": "I_dc",
            "step": 10,
            "_model_name": "FloatSliderModel",
            "orientation": "horizontal",
            "max": 300,
            "_view_module": "@jupyter-widgets/controls",
            "_model_module_version": "1.5.0",
            "value": 210,
            "_view_count": null,
            "disabled": false,
            "_view_module_version": "1.5.0",
            "min": 0,
            "continuous_update": true,
            "readout_format": ".2f",
            "description_tooltip": null,
            "readout": true,
            "_model_module": "@jupyter-widgets/controls",
            "layout": "IPY_MODEL_80968f57f2504fc8b93ea6d7f01aa7fb"
          }
        },
        "351ecd5b1b38428a86fe912c636c36d7": {
          "model_module": "@jupyter-widgets/controls",
          "model_name": "FloatSliderModel",
          "state": {
            "_view_name": "FloatSliderView",
            "style": "IPY_MODEL_e877247255bf49358eb8cd8a03491b98",
            "_dom_classes": [],
            "description": "tau_m",
            "step": 2,
            "_model_name": "FloatSliderModel",
            "orientation": "horizontal",
            "max": 20,
            "_view_module": "@jupyter-widgets/controls",
            "_model_module_version": "1.5.0",
            "value": 6,
            "_view_count": null,
            "disabled": false,
            "_view_module_version": "1.5.0",
            "min": 2,
            "continuous_update": true,
            "readout_format": ".2f",
            "description_tooltip": null,
            "readout": true,
            "_model_module": "@jupyter-widgets/controls",
            "layout": "IPY_MODEL_80968f57f2504fc8b93ea6d7f01aa7fb"
          }
        },
        "3f20894a97ba4b459c96cdd5185941ad": {
          "model_module": "@jupyter-widgets/output",
          "model_name": "OutputModel",
          "state": {
            "_view_name": "OutputView",
            "msg_id": "",
            "_dom_classes": [],
            "_model_name": "OutputModel",
            "outputs": [
              {
                "output_type": "display_data",
                "metadata": {
                  "tags": [],
                  "image/png": {
                    "width": 552,
                    "height": 414
                  },
                  "needs_background": "light"
                },
                "image/png": "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\n",
                "text/plain": "<Figure size 576x432 with 1 Axes>"
              }
            ],
            "_view_module": "@jupyter-widgets/output",
            "_model_module_version": "1.0.0",
            "_view_count": null,
            "_view_module_version": "1.0.0",
            "layout": "IPY_MODEL_96dc0b29d03a44ae953a0e73a4eda310",
            "_model_module": "@jupyter-widgets/output"
          }
        },
        "336f9053597e499ab27978be027ed6a2": {
          "model_module": "@jupyter-widgets/controls",
          "model_name": "SliderStyleModel",
          "state": {
            "_view_name": "StyleView",
            "handle_color": null,
            "_model_name": "SliderStyleModel",
            "description_width": "",
            "_view_module": "@jupyter-widgets/base",
            "_model_module_version": "1.5.0",
            "_view_count": null,
            "_view_module_version": "1.2.0",
            "_model_module": "@jupyter-widgets/controls"
          }
        },
        "80968f57f2504fc8b93ea6d7f01aa7fb": {
          "model_module": "@jupyter-widgets/base",
          "model_name": "LayoutModel",
          "state": {
            "_view_name": "LayoutView",
            "grid_template_rows": null,
            "right": null,
            "justify_content": null,
            "_view_module": "@jupyter-widgets/base",
            "overflow": null,
            "_model_module_version": "1.2.0",
            "_view_count": null,
            "flex_flow": null,
            "width": "450px",
            "min_width": null,
            "border": null,
            "align_items": null,
            "bottom": null,
            "_model_module": "@jupyter-widgets/base",
            "top": null,
            "grid_column": null,
            "overflow_y": null,
            "overflow_x": null,
            "grid_auto_flow": null,
            "grid_area": null,
            "grid_template_columns": null,
            "flex": null,
            "_model_name": "LayoutModel",
            "justify_items": null,
            "grid_row": null,
            "max_height": null,
            "align_content": null,
            "visibility": null,
            "align_self": null,
            "height": null,
            "min_height": null,
            "padding": null,
            "grid_auto_rows": null,
            "grid_gap": null,
            "max_width": null,
            "order": null,
            "_view_module_version": "1.2.0",
            "grid_template_areas": null,
            "object_position": null,
            "object_fit": null,
            "grid_auto_columns": null,
            "margin": null,
            "display": null,
            "left": null
          }
        },
        "e877247255bf49358eb8cd8a03491b98": {
          "model_module": "@jupyter-widgets/controls",
          "model_name": "SliderStyleModel",
          "state": {
            "_view_name": "StyleView",
            "handle_color": null,
            "_model_name": "SliderStyleModel",
            "description_width": "",
            "_view_module": "@jupyter-widgets/base",
            "_model_module_version": "1.5.0",
            "_view_count": null,
            "_view_module_version": "1.2.0",
            "_model_module": "@jupyter-widgets/controls"
          }
        },
        "96dc0b29d03a44ae953a0e73a4eda310": {
          "model_module": "@jupyter-widgets/base",
          "model_name": "LayoutModel",
          "state": {
            "_view_name": "LayoutView",
            "grid_template_rows": null,
            "right": null,
            "justify_content": null,
            "_view_module": "@jupyter-widgets/base",
            "overflow": null,
            "_model_module_version": "1.2.0",
            "_view_count": null,
            "flex_flow": null,
            "width": null,
            "min_width": null,
            "border": null,
            "align_items": null,
            "bottom": null,
            "_model_module": "@jupyter-widgets/base",
            "top": null,
            "grid_column": null,
            "overflow_y": null,
            "overflow_x": null,
            "grid_auto_flow": null,
            "grid_area": null,
            "grid_template_columns": null,
            "flex": null,
            "_model_name": "LayoutModel",
            "justify_items": null,
            "grid_row": null,
            "max_height": null,
            "align_content": null,
            "visibility": null,
            "align_self": null,
            "height": null,
            "min_height": null,
            "padding": null,
            "grid_auto_rows": null,
            "grid_gap": null,
            "max_width": null,
            "order": null,
            "_view_module_version": "1.2.0",
            "grid_template_areas": null,
            "object_position": null,
            "object_fit": null,
            "grid_auto_columns": null,
            "margin": null,
            "display": null,
            "left": null
          }
        },
        "32fdfc10acc74f4ab1e3818880d2f71a": {
          "model_module": "@jupyter-widgets/controls",
          "model_name": "VBoxModel",
          "state": {
            "_view_name": "VBoxView",
            "_dom_classes": [
              "widget-interact"
            ],
            "_model_name": "VBoxModel",
            "_view_module": "@jupyter-widgets/controls",
            "_model_module_version": "1.5.0",
            "_view_count": null,
            "_view_module_version": "1.5.0",
            "box_style": "",
            "layout": "IPY_MODEL_fca4e91dfb064866a294d3c2d82a3725",
            "_model_module": "@jupyter-widgets/controls",
            "children": [
              "IPY_MODEL_09c5c959e1a841d983c188ddace2e028",
              "IPY_MODEL_608d199718d445f8b217f8ea40c69f30",
              "IPY_MODEL_1a6dd59eb82e4df7bb192d52039492dc"
            ]
          }
        },
        "fca4e91dfb064866a294d3c2d82a3725": {
          "model_module": "@jupyter-widgets/base",
          "model_name": "LayoutModel",
          "state": {
            "_view_name": "LayoutView",
            "grid_template_rows": null,
            "right": null,
            "justify_content": null,
            "_view_module": "@jupyter-widgets/base",
            "overflow": null,
            "_model_module_version": "1.2.0",
            "_view_count": null,
            "flex_flow": null,
            "width": null,
            "min_width": null,
            "border": null,
            "align_items": null,
            "bottom": null,
            "_model_module": "@jupyter-widgets/base",
            "top": null,
            "grid_column": null,
            "overflow_y": null,
            "overflow_x": null,
            "grid_auto_flow": null,
            "grid_area": null,
            "grid_template_columns": null,
            "flex": null,
            "_model_name": "LayoutModel",
            "justify_items": null,
            "grid_row": null,
            "max_height": null,
            "align_content": null,
            "visibility": null,
            "align_self": null,
            "height": null,
            "min_height": null,
            "padding": null,
            "grid_auto_rows": null,
            "grid_gap": null,
            "max_width": null,
            "order": null,
            "_view_module_version": "1.2.0",
            "grid_template_areas": null,
            "object_position": null,
            "object_fit": null,
            "grid_auto_columns": null,
            "margin": null,
            "display": null,
            "left": null
          }
        },
        "09c5c959e1a841d983c188ddace2e028": {
          "model_module": "@jupyter-widgets/controls",
          "model_name": "FloatSliderModel",
          "state": {
            "_view_name": "FloatSliderView",
            "style": "IPY_MODEL_217ac8ce29d34bec9fc6f3bfc08ee791",
            "_dom_classes": [],
            "description": "mu_gwn",
            "step": 5,
            "_model_name": "FloatSliderModel",
            "orientation": "horizontal",
            "max": 300,
            "_view_module": "@jupyter-widgets/controls",
            "_model_module_version": "1.5.0",
            "value": 270,
            "_view_count": null,
            "disabled": false,
            "_view_module_version": "1.5.0",
            "min": 100,
            "continuous_update": true,
            "readout_format": ".2f",
            "description_tooltip": null,
            "readout": true,
            "_model_module": "@jupyter-widgets/controls",
            "layout": "IPY_MODEL_80968f57f2504fc8b93ea6d7f01aa7fb"
          }
        },
        "608d199718d445f8b217f8ea40c69f30": {
          "model_module": "@jupyter-widgets/controls",
          "model_name": "FloatSliderModel",
          "state": {
            "_view_name": "FloatSliderView",
            "style": "IPY_MODEL_13abe086e77b4afd81ec3e1ed707dbc3",
            "_dom_classes": [],
            "description": "sig_gwn",
            "step": 0.5,
            "_model_name": "FloatSliderModel",
            "orientation": "horizontal",
            "max": 5,
            "_view_module": "@jupyter-widgets/controls",
            "_model_module_version": "1.5.0",
            "value": 0,
            "_view_count": null,
            "disabled": false,
            "_view_module_version": "1.5.0",
            "min": 0,
            "continuous_update": true,
            "readout_format": ".2f",
            "description_tooltip": null,
            "readout": true,
            "_model_module": "@jupyter-widgets/controls",
            "layout": "IPY_MODEL_80968f57f2504fc8b93ea6d7f01aa7fb"
          }
        },
        "1a6dd59eb82e4df7bb192d52039492dc": {
          "model_module": "@jupyter-widgets/output",
          "model_name": "OutputModel",
          "state": {
            "_view_name": "OutputView",
            "msg_id": "",
            "_dom_classes": [],
            "_model_name": "OutputModel",
            "outputs": [
              {
                "output_type": "display_data",
                "metadata": {
                  "tags": [],
                  "image/png": {
                    "width": 846,
                    "height": 270
                  },
                  "needs_background": "light"
                },
                "image/png": "iVBORw0KGgoAAAANSUhEUgAABpwAAAIcCAYAAADrIg3/AAAABHNCSVQICAgIfAhkiAAAAAlwSFlzAAAWJQAAFiUBSVIk8AAAADh0RVh0U29mdHdhcmUAbWF0cGxvdGxpYiB2ZXJzaW9uMy4yLjIsIGh0dHA6Ly9tYXRwbG90bGliLm9yZy+WH4yJAAAgAElEQVR4nOzdd3xUVf7/8feZSR2SkEoJTbosKEI0gLu6KjZExd6RtaKuBbKCrqioPysqIGtvKIKga4GvIKLrytoQNTRBQIoUCQFCQtokgcyc3x+ZQIyTkHATEsLr+Xjcx8yde86Zz/2AGu8n5xxjrRUAAAAAAAAAAABwoFwNHQAAAAAAAAAAAAAObRScAAAAAAAAAAAA4AgFJwAAAAAAAAAAADhCwQkAAAAAAAAAAACOUHACAAAAAAAAAACAIxScAAAAAAAAAAAA4AgFJwAAAAAAAAAAADhCwQkAAAAAAAAAAACOUHACAAAAAAAAAACAIxScAAAAAAAAAAAA4AgFJwAAAAAAAAAAADhCwQkAAAAAAAAAAACOUHACAAAAAAAAAACAIxScAAAAAAAAAAAA4AgFJwAAAAC1Yoy52xhjy48atI82xjxgjPnJGFNgjMk1xvxgjPmHMSbsYMQMAAAAAKhfxtr9/v8hAAAAAEiSjDHdJS2RFFH+mbXWVNO+g6T5ko4IfOSV5JYUHjhfLGmgtTanHsIFAAAAABwkFJwAAAAA1IgxxiXpK0nHS1ogaYBUdcHJGBMiaZGkoyRtlXS1tfY/gXEulvSKpGhJH1trB9f/HQAAAKAm0tPTu0g6S9JJklpLCm3QgADUpz0q+/+1+ZI+TklJWXugA1FwAgAAAFAjxpg7JE2UNE3SWkljpWoLTtdJejVwery1dkGl65dLejtweqq19vP6iBsAAAA1l56e/mdJ40NCQlq43e4YY0y4pCpntAM45FlrbYnP58srLS3dLiktJSXlmwMZiIITAAAAgP0yxnSU9JOkYkk9JP1d+y84fSnpBElfWGtPCXLdSFonqaOkKdbaYfUTPQAAAGoiMLNpWnh4eOeYmJg98fHxOR6Pp8jlcvEQGWii/H6/8Xq9kdnZ2XF5eXmhJSUl6yRdkZKSsq62Y7nqIT4AAAAATc8rkppJSrPW7thfY2OMR9KfA6dzg7WxZb/99kng9PS6CBIAAACOnBUSEtIiJiZmT7t27bZERUV5KTYBTZvL5bJRUVHedu3abYmJidkTEhLSQmVLatZ+rDqODQAAAEATY4y5QdJASf+x1k6pYbce2vf/G8uraVd+rZUxJv4AQwQAAEDdOMntdsfEx8fnlE1GB3C4MMYoPj4+x+12x0g6+UDGoOAEAAAAoErGmDaSnpRUJGl4LbomV3i/pZp2Fa8lV9kKAAAAB0NrY0y4x+MpauhAABx8Ho+nKLBvW6sD6R9Sx/GgETHGTJMka+2VDR0LAAAADlkvSWou6S5r7fpa9Iuu8N5bTbuK16KrbBVgjEmvwXcfIekTfg4GAACotVBJhmX0gMOTMcZKMpLCDqQ/Baem7ci+ffv2lXRFQwcCAABQR1jXoxrGmL9JmuxgiEHW2vI9lWSMuUrSYElLJI13Ft1BFdG3b98rxM/BB01BgRRdoVy4erXUrVvDxXOoWbZM6t173/nu3VJoaMPFc6h59lnpttv2nVsekdbK+edLM2fuOyd/tRMTI+Xn7zsnf7VTccW2lBTpxx8bLpZGjp+BARwUTpfSpOAEAAAA4A+MMS0lTZTkk3SDtba0lkNUePwmTzXtKl7Lr7JVgLU2ZX9tArOg+u6vHeoOD1idIX/OkD9nyJ8z5K/usF0QABz6KDgBAAAATcd0SbMd9M+t8P5xSQmSXpC0yhgTVant3iUWKlzbba3dHXifUaFtG0nLqvjONhXeZ1TRBgAANHEUnADg0EfBCQAAAGgirLUlkkrqaLiOgdebA0d1ymcmPSNpROD9Skl+SS5JvSTNraJvr8BrprU2+8BCRUOr/Bv+/MZ/7ZA/AAAANAWuhg4AAAAAQNNjrfVK+iZwemawNqZsgfAzAqefHoy4UD8okDhD/pwhf86QP2fIHwDsM2nSpARjTEqbNm2OauhY0DAoOAEAAAD4A2vtSdZaU9Uh6cEKbcs/H1FpmDcDrycbY/oF+ZqLJXUKvJ9S93cBAAAOFSyph6YoLS0t2RiTUn68/PLLcfvrc9JJJ3Wp2Gf16tVh++sDNBYUnAAAAADUlzcl/STJSHrfGDNQkowxLmPMxZJeCbSba639vIFiRB1gSThnyB8AAIeHKVOmJFZ3fcOGDaFff/1184MVD1DXKDgBAAAAqBfW2lJJ50raIKmNpP8YYwolFUp6V1KMpMWSrmyoGAEAAID6FhsbWxoZGelfsGBBzLp160Kravfyyy8n+Hw+JScn7z6Y8QF1hYITAAAAgHpjrd0g6WhJD0laLslK2iMpXdKdkvpba3MaLEDUCWbkOEP+nCF/zpA/Z8gfgJrweDz+QYMG5fj9fr300ktVznJ6++23EyXpsssuyzp40QF1h4ITAAAAgFqz1j5QYT+n/bXNt9aOtdYeZa2NstbGWGuPtdY+ba3ltzebAJaEc4b8AQB7OKHpu/baa7MkacaMGQnBrs+bNy9q48aN4W3bti056aSTCvY33owZM5qfccYZnVu0aHF0WFhY35iYmGOOPfbY7k888URScXFx0H+iUlNTuxtjUtLS0pL37NmjBx98sEWPHj3+5PF4+sTHx/c+9dRTOy9YsCCyvH1+fr5r9OjRrbt27dozMjKyT2xs7DGDBw/utGLFivCa3POHH34Yc+KJJ3aNi4vrHRER0bdLly49R48e3drr9QaNr3zPq9TU1O6S9MYbb8T++c9/7hofH9/b5XKlpKWlJZe3/eGHHyLS0tKS+/fv361du3a9IiIi+kZFRfXp0aPHn26//fbkrVu3hlQVV5s2bY4yxqRMmjQpobi42Nx3330tu3fv/qfIyMg+0dHRx/Tv37/be++9F7O/+/v000+bDRkypGNycvJR4eHhfaOjo4856qijeowZM6ZVbm7uYVl7qTLpAAAAAAAAAADAuUGDBhW0a9euZPPmzeFz586NGjRo0O+KSq+99lqCJF122WU7TTUV2IKCAnPxxRd3/OSTT+LKP4uKivIVFBS409PTo9LT06OmT5+e8Nlnn61JSkryBRtjz5495q9//Wu3BQsWRIeGhtqQkBCbk5MT8vnnn8cuWLAgZu7cuau7detWcsopp3RbuXKlJzw83BpjbG5urvvjjz+O++6776K/++67lV27dq3yl8cef/zxpHvuuae9tVbR0dG+0tJSrVu3LuLJJ59Mnj17duz//ve/X6qKT5JuuOGGtq+++mpLY4yio6N9Ltfv6zfnnXde14yMjDBJCg8PtxEREf68vDz3qlWrIletWhX5zjvvJH766aere/fuXVJNLl39+vXrvmzZsmYhISE2LCzMFhQUuBcuXBh9ySWXRI8fP37DiBEjdlbu5/P5dP3117d74403WpR/5vF4/EVFRe7ly5d7li9f7nn77bcT5s2bt6Zbt26H1S/YHZZVNgAAAABA3WFGjjPkzxny5wz5c4b8Aagpl8ulyy67bKckvfrqq79bVi8vL881Z86ceJfLpeHDh1e7nN5VV111xCeffBLXtm3bkhdeeOHXnTt3Ls7Pz19SUFCwaOrUqWvbtm1bsnTp0mZXXHHFEVWN8eabbyatXLky8vXXX1+fn5+/uKCgYPH8+fNXtm3btsTr9bpGjBjR/uqrrz4iNzc35P33319TWFi4qKCgYPHMmTN/iYuLK83Ozg65884721Q1fnZ2dsh9993X7swzz8xZs2bNsry8vCW7du1a/MQTT2wKCwuzK1eu9Fx55ZVVxrdixQrPq6++2vLmm2/O/O2335bm5uYuyc/PX3TTTTftzU2/fv3yJ02atOGXX375qbi4eNGuXbuWeL3eRTNnzvzlqKOOKty+fXvoFVdc0am6XD7xxBNtMjMzw9566611BQUFiwsLCxcvWbJkee/evQuttRozZkz7nTt3uiv3S0tLS37jjTdaxMfHlz722GObMjMzlxQWFi4uLCxc9NFHH/3So0cP74YNGyLOP//8zj5flTW1JomCEwAAAADAEZaEc4b8AQBL6uHwcOONN2a5XC7NnTs3ruKSa5MnT47zer2u/v3753Xp0mVPVf0/+eSTqFmzZsXHx8eXfvHFF6tvuumm7Pj4eL8keTwee+WVV+bOnz9/dWRkpP8///lP7LfffhsZbJz8/Hz3jBkz1l1zzTU54eHh1uVy6a9//av3ueee2yhJixcvbvbVV1/FzJs375cLLrggz+12y+12a8iQIfn333//b5L06aefxpaUlAT9J7e4uNjVp0+fwo8++mh9+f1ERUXZ0aNH73j88cc3SdJnn30W+7///c8TrL/X63Vdf/31255//vktycnJpZIUGRlpK84W+uCDDzbcdtttOyvOsoqIiLBDhgzJ/+qrr35JSEgo/fnnnz3z5s2LqiqfxcXFrk8++eSXq666ald4eLiVpN69e5d8/PHHa8PDw63X63W9++67zSv2Wb16ddhzzz3XOiIiwj979uxf7r777h0tW7b0SWUzrc4+++z8b775ZnXLli33/Pzzz5633347tqrvb4ooOAEAAAAAAAAAUM+6dOmyZ8CAAXlFRUWuyZMn710S76233kqUpGHDhlU7u+mVV15JlKTzzz9/Z1WFqc6dO+/p379/viTNmTOnebA2ffv2LTjjjDP+sE/UWWedlR8WFmYl6cwzz8zp1avXH5ajGzJkSJ5UVqxZvnx5lXs53XPPPRlu9x8mB+n222/Patmy5R5Jmjp1anywvi6XSw888EBmVWPvT/Pmzf39+vXLl6T//e9/VRaczjzzzJw+ffoUV/48OTm59JhjjimQpGXLlv2uaPfSSy8l+nw+nXDCCXkDBgwoCjZuXFyc/4wzzsiRpE8++WS/e0E1JezhBAAAAABwhBk5zpA/Z8ifM+TPGfIHoLauvvrqrG+++SbmrbfeShwxYsTO5cuXh6enp0fFxMT4rrrqql3V9f3xxx+jJOmdd95JnDlzZkJV7QoKCtyStHHjxrBg1/v27VsY7POQkBDFxsaWbt++PfTYY4/1BmvTtm3bvYWuYMvNSZLb7bbBClqBa+rfv3/+rFmz4pcsWdIsWJt27dqVtGnTpjTYtYqmT5/efOrUqQlLly5ttnPnzpDi4uI/TLD57bffguZAklJTU4PmQZLKi2I5OTm/q6F89913zSTp66+/jklMTOxdVX+v1+va3/c3RRScAAAAAAAAADQoltTD4WLo0KG7Ro0a5Vu0aFHUTz/9FP7yyy8nStK5556b7fF4qi1jb9++PVQqKygVFASt5/xOUVFR0BXOoqOj/VX1CQkJsYE2QTcfCg0N3ft+9+7dQcePi4srjYyMrPJekpOTd0vSzp07g9YnEhISqlxWUJJ8Pp/OO++8jrNnz947Q8rtdtuYmBhfaGiolcpyVFJSYsoLP8FUdY/Svjzs2bPnd/922r59e5hUltuq8ltRUVFR0KJcU0XBCQAAAADgCHsQOUP+AAA4fERGRtpzzz03e+rUqUnPP/984ocffpggSTfccEO1y+lJkt/vN5L0xBNPbBo9evSO+o61oQRbiq+iiRMnJs6ePTve7Xbrtttu23rdddft7NGjR0nFfuedd17HWbNmxds6/sHK5yurUd18882Zzz///JY6HbwJYA8nAAAAAIAjFEicIX/OkD9nyJ8z5A/AgSgvLr322mstt23bFtq1a9eiE088MegSdhUlJibukapeKq+xyMnJCSkuLq5y3mJGRkaYJCUkJOx32bxg3nvvvXhJuuSSS3ZMmDAho1evXiWVi1Tbt2+vl8k2SUlJpZK0efPmRv1n0FAoOAEAAAAAAABoUCyph8PJiSee6O3atWtR+XJtV1555X5nN0lSSkpKgSR99tlnzeszPqd8Pp+ZN29eVLBrfr9fCxcujJKkY445pso9lKqzdevWMEnq06dP0CJdbm6ua9myZUG/36l+/foVSGV7OHm9Xv7NVQkFJwAAAACAIywJ5wz5AwDg8PPwww//dsMNN2wLHNk16TN8+PAdkrRmzZrIJ554Iqm6tnl5ea7qZhnVt8cee6x1+fJzFT377LMJmZmZYZJ0xRVX1Oi+K4uKivJJ0tKlSz3Brt99992tCwsL66X2cdNNN2W53W67a9eukH/84x/J1bUtLi42ubm5h1UN5rC6WQAAAABA3aNA4gz5c4b8oSHx9w/AgbrkkkvyXn755d9efvnl35KTk2u0tNzgwYMLLrroop2S9M9//rP9dddd1+7nn3/eu7RbUVGR+fzzz5vddNNNbTt06HDUli1b6mVZuf2JiIjwp6enRw0ZMqTTunXrQiXJ6/Wap556KnH06NEdJGngwIG7Tj755P0uIxjMwIEDcyVpxowZiU899VRieWFt06ZNIdddd127F198sVVsbOwBLde3Pz179iwZMWLEVkl68cUXW51//vlH/PDDDxHl1/fs2aNvv/028s4772zdsWPHXt99913QolhT1SB/4QAAAAAAANDwKJigsWBJPaBm3nrrrY1ut9u+8847ia+//nqL119/vYXH4/GHhITYgoICt9/v39vW5WqY+Sbx8fGlt956a+aYMWPaz5kzJy4mJsbn9XpdpaWlRpK6d+9eNHXq1A0HOv5999237aOPPor79ddfI0aNGtXhrrvu6tCsWTNfQUGB21qryy+/fEdJSYnrgw8+SKizm6pg3LhxW0tLS82kSZNaz5w5M2HmzJkJERER/oiICH9+fn5IxZldxpjD6r+0zHACAAAAADjCknDOkD8AAFBTERERdsaMGRs/++yzVRdeeOHOdu3alfj9fnm9Xld8fPye1NTU/BEjRmxduHDhzx07dtzTUHH+85//3PH++++vOeGEE/JcLpd1uVzq2LFj8Z133pnx448/rmzVqtUf19urocTERN/ChQtXXXvttduTk5N3u1wu63a7bWpqav5LL720/u23395Ul/dSmcvl0sSJEzMWLly44qqrrtrRqVOnYpfLpfz8fHd0dHRpnz59CocPH77ts88+W3X66acf0D5Vhypj+Um2yTLGpPft27dvenp6Q4cCAABQV/jdV+wXPwcffBkZUps2+86XLZOOOqrh4jnUfP21dMIJ+87z86Woetnmuml6+mnpzjv3nfOYo3bOOkuaO3ffOfmrnfBwaffufefkr3Yqzmr685/L/n2IoA7az8Dp6ek/RkRE9OjZs+fKg/WdABqXFStW9CguLl6ZkpJybG37MsMJAAAAAOAID1idIX/OkD9nyJ8z5A8AgH0oOAEAAAAAHGFJOGfIHwCwhxMANAUUnAAAAAAAAAAAAOAIBScAAAAAgCPMyHGG/DlD/pwhf86QPwAA9qHgBAAAAABwhCXhnCF/AAAAaAooOAEAAAAAAAAAAMCRkIYOAAAAAABwaGNGjjPkzxny5wz5c4b81R1jGjoC1IYxSmnoGOqatUpv6BiAQx0znAAAAAAAAAA0KApOAHDoo+AEAAAAAHCEPYicIX8AAADBpaamdjfGpKSlpSXX5bhpaWnJxpiU1NTU7nU57uGOJfUAAAAAAI5QIHGG/DlD/tCQ+PuHwxXLzzVub731VuzixYs9ffr08Q4dOnRXQ8cTzKEQI2qPGU4AAAAAAACHKQomaCxYUg+oOzNnzoydMGFC65kzZ8Y2dCxVqWmMbdq0KTniiCOKExMT9xys2HDgmOEEAAAAAHCEJeGcIX8AAADBffjhhxsaOgbUHDOcAAAAAAAAAAAA4AgFJwAAAACAI8zIcYb8OUP+nCF/zpA/ANVJTU3tboxJSUtLSy4uLjb33HNPq27duv0pMjKyT0xMzDHHH39813fffTemujHefPPN2JNPPrlLQkJC79DQ0L4JCQm9Tz755C5Tpkz5w1J0s2fPjjbGpHzwwQcJkvTBBx8kGGNSKh6zZ8+Ortzvhx9+iLj88ss7dOjQoVdkZGQfj8fTp1u3bn+67bbb2mzdujXoKmlpaWnJxpiU1NTU7pI0a9as6JNOOqlLXFxc7/Dw8L6dOnXq+Y9//KO11+v93YKZtY2xYg4rx7Bp06aQRx55pMXAgQM7d+rUqWd0dPQxERERfdu3b9/r0ksv7fDjjz9GVJdb1D2W1AMAAAAAOMKScM6QPwBgDyc0bbt37zZ/+ctfuqWnp0e53W7r8Xj8+fn57gULFsQsWLAg5rvvvts6fvz4jIp9iouLzUUXXdRxzpw5cZLkcrkUFRXl27VrV8j8+fObz58/v/m///3v7Pfee29DeHi4laTw8HB/QkJCaUFBgbukpMSEh4fbqKgoX8Vxw8PD/RXP77333paPPfZYW7+/7OOIiAh/aWmpWbNmTeSaNWsi33nnnYQPP/xwzZ///Oeiqu7vvvvua/nII4+0laSoqCjfnj17zK+//hoxfvz45G+++Sb666+//iUkJGTv99c2xqqMHDmybXnhyu1226ioKH9RUZE2b94cvnnz5vCZM2cmvPTSS+v/9re/7arJeHCOGU4AAAAAAAAAANSTN998M+mnn35qNm7cuI15eXmL8/LylqxZs2bZmWeemSNJEyZMaD1t2rTmFfvcfvvtbebMmRNnjNEdd9yxddu2bUtyc3OXZGZmLrn11lszJWn27NnxI0eO3Dvz57TTTivMyspaOnjw4GxJGjx4cHZWVtbSisdpp51WWN5+woQJiY888kjbiIgI/1133bVl48aNS4uKihZ7vd5FX3755cr+/fvn79ixI/TCCy/smpubG7SWsGrVqshHH3207S233JK5ZcuWpXl5eUuysrIWjxgxYqskLVy4MPrZZ59NONAYq9O5c+eS++6777fvv/9+RVFR0aJdu3YtKSkpWfTDDz+sOPfcc7N3795tbrnllo4bNmwIremfFZyh4AQAAAAAcIQZOc6QP2fInzPkzxnyB6AmCgoK3E888cTGUaNGZXk8HitJXbp02TN79uz1xx57bIEkPfDAA23L2//666+hr7/+egtJuuWWWzInTpyYkZiY6JOkpKQk37/+9a8t119//TZJeuWVV1pu3Lix1gWVnJwc19ixY9tK0pQpU9Y9/vjjme3bty+VpJCQEJ1wwgneL7/88peePXt6t23bFvrMM88kBhsnPz/ffccdd2x99tlnt7Ru3bpUkuLj4/0TJkzIOP3003dJ0rvvvhtf2/hqYty4cVsfeuihbccdd1xxaGhZCtxut4499tjiWbNm/XrSSSflFhUVuZ5//vmgsaPuUXACAAAAADjCknDOkD8AYEk9NG2tWrXaffvtt++s/Lnb7dY999yzVZLWrl0b8f3330dK0rRp0+J8Pp8JDw+3Dz300NZgYz766KNbw8LCbGlpqZk6dWpcbWN666234vLz8909evTwXnjhhXnB2oSGhurCCy/MlqT//Oc/zYO1CQsLs2PHjs0Mdu2cc87ZJUmrV6/21Da+unDmmWfmStKCBQuiGuL7D0fs4QQAAAAAAAAAQD3p379/vssVfO7HGWecke92u63P5zMLFizwpKamFqWnp3skqVevXoXx8fFB9zNKSkry9erVq3DRokVR5e1r49tvv42SpPXr10cmJib2rqpdSUmJkaQtW7aEBbvepUuXoubNmweNsW3btrslKTc3113b+GpqwYIFkc8991zS999/H5WRkRHu9XpdttJv72RmZgaNHXWPghMAAAAAwBFm5DhD/pwhf86QPwCof8nJyXuquubxeGxsbKxv586dIdu3bw+VpKysrFBJat269e7qxm3duvWeiu1rIzMzM1QqKyiVlJTst05QXFwctGLWrFmzoMUmqWxpPkny+Xz1Mofx0UcfTbrvvvva+/1lIRhjFBUV5QsLC7NS2b0VFBS4vV4vK70dJCQaAAAAQK0YY+42xtjyo5p2f6vYrprj1IMZP+ofD7CdIX8AAKC+lReBBg8enGOtTd/fsWXLlp8aOuaKFi1aFHH//fe39/v9GjRoUM78+fNXer3eRXl5eUuysrKWZmVlLX3ooYd+a+g4DzfMcAIAAABQY8aY7pLG1rKbX9KOaq6XHHhEaAwokDhD/gAAaNoyMjKqnIFUVFRkdu3a5ZakFi1a7JGkxMTEPYF+1S4Ft3Xr1tCK7Wuj/Lt+++23Q3K5uenTp8f5fD516tSp+KOPPlrvdv9x1b7MzEzqHwcZM5wAAAAA1IgxxiXpdUkRkhbUoutma22rao6v6idiHCwUTJwhf86QP6BpMPWy4BbQOCxcuDC6fNm3yubNmxdVPttowIABXklKSUnxStKKFSua7dy5M+j+R1lZWe7ly5c3k6Rjjz22sOK18v2iKu9lVNHxxx9fEPgOz8aNG2u9JJ9TNYmxOuWFsj/96U/eYMUmSZo/f37MAYaHA0TBCQAAAEBN3SbpeEnTJH3awLEAAOoABTs0FhSc0JRt3bo17Nlnn02o/LnP59Pjjz/eWpI6d+5cnJqaWiRJV155ZY7b7bYlJSVm7NixrYKNee+997bevXu3CQkJsVdeeeWuiteio6N9kpSbmxu8EiNp2LBhOdHR0b7S0lJz6623tq2qIFYeZ1ZWVpVjHYiaxFidmJgYnyStWrXKEyz2d999N+b777+PdhQkao2CEwAAAID9MsZ0lPSIpJ2SRjZwOGhkKj+w5gF27ZA/AACatqioKN/o0aM7PP3004ler9dI0tq1a0PPPffcTgsXLoyWpPvvv39LefuOHTvuufbaa7dL0vPPP99q5MiRyeUFn6ysLPcdd9yR/NJLL7WUpBtuuGFbhw4dfrekXq9evYok6ccff4xevHhxRLCYEhMTfY888shmSZo9e3b8ySef3OW///1vM5/PJ6msyLRo0aKIsWPHtuzatWvPd999t3ld5qQmMVbnrLPOypWktWvXRlx99dXtt23b5pakvLw815NPPpk4bNiwzrGxsaV1GTP2jzUMAQAAANTEK5KaSbrFWrvD8GvIqIACiTPkzxnyBwBo7IYNG7ZjwYIFUXfeeWeHu+++u73H4/Hn5eXtndlz++23b7366qt/N0tp0qRJW7Zs2RL28eXnFysAACAASURBVMcfx02cOLH1pEmTWkdFRfkKCgrc5TN6zj777OwJEyZkVP6+oUOH5jz88MNtcnJyQvr27dszNja21OPx+CVpypQp6wcOHFgoSbfddtvOoqIi17333tvuyy+/bD5w4MDmYWFh1uPx+AoKCtylpaV7f+iv65//axpjVYYMGZJ/9tlnZ8+ePTt+2rRpSdOmTUuKjo72eb1et8/nU8+ePb1XXHFF1pgxY9rXaeCoFjOcAAAAAFTLGHODpIGS/mOtnXIAQyQZY9KNMQXGmCJjzHpjzFRjzEl1GykAoLYo2AFA/QsLC7PffPPNL3ffffeWjh07Fu/evdtERUX5BgwYkD9jxoy1zzzzzB+KRhEREXbOnDnrJ0+evO7EE0/Mbd68eWlhYaGrefPmpSeeeGLum2++ue6jjz76NTw8/A//Jk9KSvJ9/vnnq88+++zsFi1a7CkoKHBnZGSEZWRkhBUVFf2uJjB69OgdP/300/Ibb7xxW/fu3YvCwsL8+fn5IR6Px9+zZ0/vsGHDtn/44Ye/3Hjjjdl1mZPaxFiVmTNn/vrQQw9t7tatW1FYWJj1+/2ma9euRf/85z+3/PDDD6uioqKqXicQ9cIc6KZcaPyMMel9+/btm56e3tChAAAA1BWm1Rxkxpg2klZICpPUy1q7PvD5A5LGSpK1NuifizHmb5ImV/goR2WzpMIqfDZZ0o3W2jpb7oKfgw++5culo47ad75woZSa2nDxHGr+7/+kIUP2nW/fLiUlNVw8h5qHH5buu2/fOY85aufkk6X58/edk7/aqfgL/8ZI1WyBgiAq5u/UU6XPPmu4WBq5g/YzcHp6+o8RERE9evbsufJgfWdTlpqa2v2HH36IGjly5Nbx48f/oagENEYrVqzoUVxcvDIlJeXY2vZlST0AAAAA1XlJUnNJd5UXm2ohQ9KDkj6QtNpaW2KMcUvqF/j8VEnXSCqUdFtNBjTG1KSKdGQt4wQAAAAAOMSSegAAAEATYYz5mzHGOjjOrDTeVZIGS1oiaXxt47HWfmqtfcBau8xaWxL4zGet/VbSGZJmBZreYozp6uzu0ZCYEeEM+XOG/DlD/gAAQF1hhhMAAACAPzDGtJQ0UZJP0g11ueSdJFlr/caYOyUNUdkvwp2jGhS1rLUp+2sTmAXV13GQqLHKD6x5gF075A9oGgwL/zpC/gDg0EfBCQAAAGg6pkua7aB/boX3j0tKkPSCpFXGmKhKbffuw1Th2m5r7e6afpm1dq0xJktSoqROBxYyAAAAAKAxoOAEAAAANBGBZetK6mi4joHXmwNHdfIDr89IGlFH349DCDNynCF/zpA/Z8gfANSf77//fnVDxwAcTOzhBAAAAKBBGGM6q2x2kyT92pCxwBmWhHOG/AEAAKApYIYTAAAAgD+w1p5U3XVjzAOSxgba/mHXBWOMsbbqx+bGGCPpycCpX86WAgQAAAAANDBmOAEAAACoDx2MMd8bY4YbYzoFCkwyxriMMf0lzZV0fqDtS9Zalhs5hDEjxxny5wz5Q2Nh/vDrF6gN8gcAhz5mOAEAAACoL8cFDkkqMcbkS4qWFF6hzWRJtx/swFC/KAA4Q/5wMPH3DQAA1JXDZoaTMSbBGHONMWaqMeZnY0yhMabEGPObMWamMeb8GoxxmjHmXWPMRmNMsTGmyBiz3hgzzRjz1xr0jzbGPGCM+ckYU2CMyTXG/GCM+YcxJqxu7hQAAABoFLZJuk3S25J+lpQnKVbSHkmrJL0u6S/W2muttaUNFiXqBA+snSF/AAAAaAoOpxlOmfr9/Rar7H922wSOIcaYuZIustZ6K3YMLP/xgqThFT4uCrx2DBxXGGMmWGvTgn25MaaDpPmSjgh85FXZb3YeGziuNMYMtNbmHOgNAgAAAAeLtfYBSQ9Uc71I0rOBA00cBRNnyJ8z5A+NBUvCOUP+AODQd9jMcFJZsel7SbdI6mytjbTWRqmsWPRaoM0gSS8F6fs37Ss2vSepm7XWY631SDpS0qzAtZHBZkoZY0IkfaSyYtNWSadZa5tJ8ki6TFK+pD6Spjq8RwAAAAAAgBqjYFd3KJg4Q/4A4NB3OBWcTrHW9rPWvmCtXV/+obV2g7X2eu0rNF1ljGlXqe/Vgde1ki631q6p0H+1pIsllY95SZDvHibpqMD7C621/wn09Vtr39G+YtZZxpiBB3h/AAAAANAgKj+w5gF27ZA/AAAANAWHTcHJWvvFfpq8VuH9sZWutQ68Lg22vry1do+kJYHTqCBjDwu8fmGtXRDk+gxJvwbeXx3kOgAAAAA0WhRInCF/zpA/AACAxuGwKTjVQHGF9+5K18pnL/UOLI/3O8aYUEnHBE5/rHTNI+nPgdO5wb7YWmslfRI4Pb0WMQMAAAAAABwwCnYAAKCuUHDa56QK73+qdO2FwGsXSdONMV3KLxhjukt6V1InSeskTajUt4f25Xl5Nd9ffq2VMSa+5mEDAAAAQMNiSThnyB/QNLAHkTPkDwAOfX+YrXM4MsbESvpn4PSrwL5Me1lrPzLGjJT0hKSLJF1kjCkKXI6UtEtlRal7rbV5lYZPrvB+SzVhVLyWLCl7PzGnV3c94MgatAEAAAAAAAAAAHDksJ/hZIxxSXpLZfs0FUu6NVg7a+1ESRdI2h74KDJwSFKYyvZuah6ka3SF995qQql4LbrKVgAAAADQyDAjxxny5wz5c4b8AQCAunLYF5wkPSPp7MD7v1trl1VuYIzxGGPekTRb0iaV7bOUFDhOl/SzpKGSvjfGHH0wgrbWpuzvkLTqYMQCAAAA4PDGknDOkD8AAFBZampqd2NMSlpaWvL+Wx86GvK+LrzwwiOMMSkXXnjhEQ3R/3BwWBecjDFPad+MppHW2teraPqkpEskrZZ0grX2M2ttVuD4TNKJkn6RlCjpuUp98yu891QTTsVr+VW2AgAAAAAAAAA0WsaYlAM9Jk2alNDQ8aPuXHbZZR2MMSmxsbHHFBUV1Xi3ug4dOvQyxqSccsopXeozvrp22BacjDHjJP0jcHpnYMm8YO2iJd0YOH3OWltcuY21tkjSs4HTvxhjWlS4nFHhfZtqQqp4LaPKVgAAAADQyDAjxxny5wz5Q2NhavwYEcGQPzQlCQkJpcGOyMhIf23a4NB3ww03ZElSbm6ue9q0abE16TNnzpyoTZs2hUvStddem1Wf8dW1kIYOoCEYY56UdGfgdLS19ulqmnfTvjytq6bdmgrvO2rfXk8rJflVVtzrJWluFf17BV4zrbXZ1XwPAAAAADRqFACcIX84mPj7BgB1Lysra2mwz9PS0pInTJjQuro2aFoGDhxY2Llz5+J169ZFTJkyJfH666/P2V+f119/PVEqK0peeumlu+o/yrpz2M1wCiyjV7HY9OR+ulSsKHeopl3LCu/3LolnrfVK+iZwemYVMRlJZwROP91PPAAAAADQqPDA2hnyBwAA0HRdddVVWZL0zTffxPz666+h1bXNyclxzZ07N06SLrroop2hodU2b3QOq4JToNhUcRm9/RWbJGmVpKLA++uNMX+YFWaMcWvfsns5KtvrqaI3A68nG2P6BfmOiyV1CryfUoOYAAAAAKDRoGDiDPlzhvyhsWBJOGfIH1A1v9+vp59+OvHoo48+Mioqqk+zZs36HHPMMUc+//zz8VX1SU1N7W6MSUlLS0suKSkxY8eObdmrV68e0dHRxxhjUmbPnh1dsf3q1avDrr322nZdunTp6fF4+kRGRvbp2LFjz2uuuabdmjVrwqr6nldeeSXuxBNP7JqQkNA7JCSkb3R09DEdOnTodcopp3R57LHHkrxeb5X/dB/IfZWbPXt29KBBgzq1aNHi6LCwsL5xcXG9BwwY0O2ZZ55JKC0t3V/3Kr3wwgvxffv2PbJZs2Z9oqOjjzn66KOPfOqppxL9/gNf6fDGG2/cGRISYv1+v1588cVq9+iaPHlyfFFRkUuShg8ffkgtpycdRkvqVdqzKc1aO6Em/ay1RcaYVyXdJqmvpI+MMaMlrQg06SXpSUnHB84nWmt9lYZ5U9Idko6S9L4xZpi19nNjjEvShZJeCbSba639/ABuDwAAAAAAoNYo2NUdCibOkD8gOJ/Pp9NPP73z559/Hut2u21kZKS/sLDQvXTp0mZ///vfO65ZsyZiwoQJGVX1Ly4uNgMGDOi+ePHiZm632zZr1sxvKv0D98ILL8SPGDHiiN27dxtJCgsLsy6Xy27YsCHijTfeiPj3v/+dOGXKlHUXXHBBXsV+F1988RHvvffe3gKKx+Pxl5aWmk2bNoVv2rQp/Isvvmh+wQUX5Hbv3n13Xd7X9ddf3/a1115rKUnGGEVFRfny8/NDvvvuu+jvvvsuesaMGQkff/zx2ri4uBpXifx+vy699NK992OMUXR0tG/FihXNRo0a1ex///tfdFhY2AH9VzM5Obl04MCBu+bNmxc3Y8aMxCeeeCKzqrZTp05NlKQ+ffoU9unTp/hAvq8hHRYznIwx7SWNCpz6Jd1ljMms5riz0hB3Sfok8P5MScskeQPHUkmnB65Nl/RI5e+31pZKOlfSBkltJP3HGFMoqVDSu5JiJC2WdGWd3DAAAAAAHESVH1jzALt2yB8AAKjKG2+80WLhwoXRkyZN2rBr167F+fn5S9auXbvs5JNPzpWkSZMmtf7pp5/Cq+r/5ptvtli9enXkM888s2HXrl2Lc3Nzl2RkZCw57rjjvJL04Ycfxtx6660dfT6fbrrppsxVq1b9VFRUtKiwsHDxkiVLlg8aNCinsLDQNWzYsE4VZzrNmzcv6r333ktwuVwaM2bMb5mZmUsKCwsXFxUVLd66deuS999/f80FF1ywMzw8POhPNgd6X48++mhSebHp8ssvz9qwYcPSvLy8JdnZ2YsffPDBzW6323733XfRQ4cOPaI2eX700UdblBebrr766u1btmxZmpubu2T79u1L0tLSMubMmRP/2WefxdZmzIquvfbaLEnatGlT+Ny5c6OCtVm6dGn44sWLmwVi2HGg39WQDouCk35/ny6V7bdU3fG7P3BrbZGks1S29N0sSb9JKi8Db5b0vqSzrbVXBJndVD7GBklHS3pI0nJJVtIeSekq21Oqv7V2vxuGAQAAAEBjQ4HEGfLnDPkDADRleXl57rfffnvdbbfdtjMqKspKUufOnffMmTNnXVJS0h6/36+pU6fGVdXf6/W6XnnllfW333773v6tWrXytWzZ0ufz+TRy5Mj2fr9fjz/++KYXXnhhS/fu3Xe7XC65XC717t275OOPP15/yimn7CooKHA/9thjLcvH/eqrr5pJ0oABA/IefvjhbS1bttz7XLxVq1a+Cy64IO/999/fcMQRR+ypq/sqKCgw48aNayNJZ599dvbbb7+9sX379qWSFBMT47///vu3P/jgg79J0pw5c+K++uorT01y7PV6zVNPPZUsSeedd97ON998c3Pr1q1LJSkhIcH39NNPb7355psz8/Pz3TUZL5gLL7wwr2XLlnsk6dVXX00M1ubFF19MlMpmil1zzTWHZK3gsCg4WWs3WGtNLY4HgoxhrbXvWWvPs9a2s9aGW2sjrLXtrbUXWWvn1CCOfGvtWGvtUdbaKGttjLX2WGvt09baP0wrBAAAAAAAqE8U7ACgcevbt2/BOeeck1/588jISPvXv/41T5KWL19eZWGlS5cuxVdccUVusGtz586N3rhxY3hsbGzpyJEjq9wvaOjQoTslaf78+THln8XGxvokKTs7O+RA9kw6kPuaNWtWTG5urluSHnnkkaDL7d11113bk5KS9kjSlClT9rsXlFQ2y6t83P/3//7f1mBtHnroocyqZmvVhNvt1qWXXpolSXPnzo3Lzc39XW2mtLRU77//foIkDR48OLt58+Y1Xg5w0qRJCcH25WoIh0XBCQAAAABQf1gSzhnyBzQN7EHkDPk79KSlpSUbY1Jqclx++eUdKve//PLLO9S0f1paWnLl/qecckqXmvZ/6qmn/jCjpGfPnj2qGrsx6du3b2FV11q3br1bknJycqqceXPccccVVHWtfJZSQUGBu2XLlr0TExODHnfccccRkrR169a9S+oNGjQoPzw83K5cudJz3HHHHTlhwoTEVatWhVXxVXVyXz/88EMzSWrVqtXuo48+uiRY35CQEA0YMCBfkpYsWdKsJrFUHLdXr15Bx01ISPD17NmzyphrYvjw4VnGGBUVFblef/313xXD/v3vfzffsWNHqCTdcMMNQYt/3377bWRaWlry8uXLq1xCsaFRcAIAAAAAAAAAoBGKjo6ucqZLSEiIJKm0tLTK5/zls32CycjICAv0Nzt37gyp6sjLy3NLUnFx8d7v6dmzZ8mECRM2eDwe/5IlS5qlpaV16NGjx1Hx8fG9Bw8e3Gnq1Kmxfn/Vk3QO5L62b98eIknlS9NVpU2bNrslaefOnSHVtavtuK1bt672+v786U9/2p2ampovSW+99dbviqCTJ09OlKSOHTsWn3baaUELWz/++KNnwoQJrVetWkXBCQAAAADQNDEjxxny5wz5c4b8AUDT5nZXve2Qz1e27dLRRx9daK1Nr8lRsf/NN9+cvX79+mXjxo3bOHjw4JxWrVrtzsnJCfn444/jhg4d2jk1NbV7dnY2NYgKhg0bliVJixcvbrZs2bJwScrIyAj54osvmkvSlVdeWeXShoeCGlX4AAAAAACoCkvCOUP+gKaBJeGcIX+HnvHjx2eMHz8+6D46NTF9+vSN06dP33ig/f/73/+uPdC+krRixYqVTvo3Ba1atSqV9s10OhAtW7b0jRo1KmvUqFFZkrRixYrw559/PvGFF15olZ6eHjV69OjkV1999be6iLdFixalkpSZmVltvFu2bAmTpISEhBptLlU+7rZt20Kra7d169Zqr9fEsGHDcu666672+fn57hdffDHx+eef3/LKK6/El5aWGrfbbW+88cadwfqlpaUlT5gwobUkXXzxxV3LPx85cuTWI444okQqKyDeeeedradNm5aYnZ0d2qVLl6Knnnpq86BBg6pcVrGuUV0EAAAAAAAAAOAwc8IJJxRIUlZWVuiXX37pqYsxe/bsWfLcc89tOeecc7Il6csvv4ypi3El6bjjjiuUygpD5bODKistLdWCBQuiJalPnz412nOpfNzMzMywFStWBB03Ozvb9fPPPzvOkcfjsUOGDMmWpPfeey+htLRU06ZNS5Skk08+Obddu3ZBi2SXXnppzuWXX54lScOHD9/23HPP/frcc8/9eumll+aUtxkzZkzbefPmxd50003b0tLSMrZs2RJ+ySWXdMnKyqp6mlsdo+AEAAAAAHCEGTnOkD9nyB8AAAfm7LPPzmvfvn2JJI0cObJdcXFxtXMNt23btrdwUVRUVG3byMhIvySZOpy+OGTIkLzY2NhSSRozZkxysDZPPfVU0o4dO0IlaejQodk1HTcmJsYnSffff3/rYG0eeOCBVhX3sHJi+PDhWZK0Y8eO0NGjRyevWbMmUpKuueaaKpfT69evX1H//v0LJOnUU0/Nu+WWW7JvueWW7H79+hVVbLdo0aKVY8eO3f7YY49l/utf/9pQUFDgfu211+LrIu6aoOAEAAAAAHCEJeGcIX9oSPx9A4DDV2hoqCZNmrTR7XbbRYsWRfXr16/7rFmzoktKSvZWiX7++eewcePGJfXq1avH008/3aL882uuuab9WWed1emNN96I3bJly96te3Jzc13jxo1L+uCDDxIk6bTTTsutq3ijoqLsqFGjMiRp9uzZ8VdccUX7zZs3h0hSfn6+6+GHH25x3333tZOkwYMH55xwwgnemo6blpaWIUkffPBBwrXXXtsuMzPTLZXNbBo1alTrZ599tnV0dLSvLu7jL3/5i/fII48skqRnnnmmtSQlJSXtueSSSxzl6rrrrtsRGrpv1b8zzzwzX5LWrl0bdNZWfWAPJwAAAAAAAAAADkNDhgzJnzx58vqbb76547Jly5qdd9553UJCQmxUVJTP6/W6d+/evbf4NHjw4L3Lt+3Zs8fMnTs3bu7cuXGS5PF4/G632+bn5++dBdW3b9+CRx99dGtdxnvPPffsWL9+ffhrr73Wcvr06UkzZsxIio6O9hUWFrp8Pp+RpH79+uW/9dZbG2oz7r333rt9yZIlnpkzZyZMnjy5xZtvvtkiKirKV1hY6Pb5fDr77LOzw8LCbHkhzamhQ4fuGDNmTHu/3y9Juvjii3eGhDgr13Tq1Kmk4nlSUpJPknJycg5aHYgZTgAAAAAAR5gh4Qz5c4b8obGow1WjDkvkD2g4Q4cO3bV69eqfRo4cufWoo44q9Hg8/vz8/JCwsDB/9+7diy699NKsKVOmrHvwwQe3lfd56KGHtj788MObTzvttF0dO3Ysdrvd1uv1uuLj40uPP/74vIkTJ25YuHDh6piYGH9dx/vqq6/+9n//93+/nHHGGTkJCQl7vF6vq1mzZv5+/frlT5w4ccPXX3/9S1xcXK2+1+1268MPP9zw7LPP/tq7d+/C8PBwv8/nMz169PCOGzdu46xZs36ty3u44YYbssPDw/f+FHPTTTdVuZxeTbndwbdqsgfxhyVmOAEAAAAA6hQFAGfIHw4m/r4BwMEzfvz4jPHjx2fUpO3333+/2sl4NelfUZs2bUoDY9Uovp49e5b07Nlz+5gxY7bX5nuc3le5c845J/+cc87Jr813v//++xskbaiuzd///vfsv//970H3fqpJ/5pKSkryFRcXL6pNn7rcD6u+MMMJAAAAAOAID6ydIX8AAADYn/I9pHbu3NloJxI12sAAAAAAAIcGCibOkD9nyB8ai0PgF88bNfIHANU7/vjjvS6XSxMnTmwVWEbQ16dPn6KGjqsiZjgBAAAAAAAcpijY1R0KJs6QPwCoXrdu3XY//fTTG4qKilyjRo1qP3z48E7Tp0+Pb+i4KmKGEwAAAADAkcoPrHmAXTvkDwAAADUxYsSInSNGjNhZ+fPbb7/9D59JkrU2vf6j2ocZTgAAAAAARyiQOEP+nCF/AAAAjQMFJwAAAAAAgMMUBTsAAFBXKDgBAAAAABxhSThnyJ8z5A+NBXsQOUP+AODQR8EJAAAAQFDGmL8ZY2wNjlP3M05nY8xLxphfjTHFxpgdxph5xpgLD9a9AAAAAADqV0hDBwAAAACg0fNL2lHN9ZKqLhhjzpL0b0mewEd5kuIlnS7pdGPMZEnXWcuchEMZf3rOkD9nyB8AAEDjwAwnAAAAAPuz2Vrbqprjq2CdjDEdJb2rsmLTN5K6W2ubS2ou6aFAs2skjToYN4H6w5JmzpA/Z8gfAABA40DBCQAAAEB9eUhSM0mZks621v4iSdbaAmvtWEkvB9qNMcbENVCMAHBYo0AHAADKOV14goITAAAAgDpnjGkmqXyPphestbuCNHss8Boj6byDEhjqBQ+snSF/zpA/NBbGNHQEhzby12jskWT9fj9/IsBhyFprJFlJuw+kPwUnAAAAAPXhL5IiA+/nBmtgrd0gaWXg9PSDEBPqCUuaOUP+nCF/zpAvAJVstdaWeL3eyP03BdDUeL3eSGtticpWqag1Ck4AAAAA9ifJGJNujCkwxhQZY9YbY6YaY06qpk+vCu+XV9Ou/FpPx1ECAADAqfk+ny8vOzs7zunSWgAOLdZaZWdnx/l8vjxJXxzIGBScAAAAAOyPR1JflS2r4JLUUdKVkr4wxrxujAkJ0ic58JpjrS2qZuwtldrjEMTzKGfInzPkD40FS8I5Q/4ajY9LS0u35+XlhW7evLlNQUGBx+/3G4pPQNNkrZXf7zcFBQWezZs3t8nLywstLS3dLunjAxkv2P8YAgAAAIAkZUh6UNIHklZba0uMMW5J/QKfnyrpGkmFkm6r1Dc68Ordz3eUX4+utlWAMSa9Bs2OrMlYqD88k3KG/DlD/mqHfAGoKCUlZW16enpaSUnJ+JycnBZ5eXktjTHhkigJAk2XtdaW+Hy+vNLS0k2S0lJSUtYdyEAUnAAAAIAmwhjzN0mTHQwxyFr7SfmJtfZTSZ9WbGCt9Un61hhzhsoKUUMk3WKMmWStXePgu3EI44G1M+TPGfIHAHUrJSXlm/T09CtKS0vPKi0tPVlSK0lhDR0XgHqzW2V7Nn0h6eMDLTZJFJwAAAAAHABrrd8Yc6fKCk4uSedIGl+hSX7g1bOfocqv51fbat/3puyvTWAWVN+ajIe6wQN/Z8ifM+QPjQVLwjlD/hqXwAPnfwUOAKgRCk4AAABA0zFd0mwH/XNr09hau9YYkyUpUVKnSpczAq9xxpjIavZxalOpPQDgIKJgBwAA6goFJwAAAKCJsNaWSCpp6DgClld430vSD1W06xV4XVG/4aA+VX5gzQPs2iF/zpA/NBbM0HGG/AHAoc/V0AEAAAAAODQZYzqrbHaTJP1a6fLXkspnNZ1ZRf8OknoETj8N1gYAAAAAcGig4AQAAADgD4yp/veMA9efDJz6VWkpP2ttoaT3A6c3G2OaBxnmrsBrvqSZBx4tGhozSpwhf86QPwAAgMaBghMAAACAYDoYY743xgw3xnQqL0AZY1zGmP6S5ko6P9D2JWvt6iBj3C+pUFJrSR8ZY7oGxmhmjLlf0k2Bdg9ba3Pq9W5Qr1jSzBny5wz5Q2PBknDOkD8AOPSxhxMAAACAqhwXOCSpxBiTLylaUniFNpMl3R6ss7X2V2PMJZL+LekESb8YY3IlRUlyV+j/ZLD+AID6R4EOAADUFQpOAAAAAILZJuk2SQMkHSMpSVKcpGKV7df0raTXrbXfVDeItfZjY8zRKls+7zSVzXbKkbRYZTOj3q+uPw4NPLB2hvw5Q/4AAAAaBwpOAAAAAP7AWlsk6dnA4XSsdZJudBwUGi2WNHOG/DlD/pwhXwAAoK6whxMAAAAAAAAAAAAcoeAEAAAAAHCEGRLOkD9nyB8aC2MaOoJDG/kDgEMfBScAAAAAQJ2iGOXQGQAAIABJREFUAOAM+XOG/NUO+QIAAHWFghOA/8/efYdJUWX/H38fQJKYwIAJcw6ouIZ1XbOrggHDmnPOa3bNroquOey65hwRxexP1oyiq4tpUcQIqBgwgOQ05/fHrf529zChezpUVffn9Tz9zK2eruozxxrpqVP3XBERERGRkuiCdWmUv9IofyIiIiLJoIKTiIiIiIiIlEQX/Euj/JVG+ZOkUEu40ih/IiLpp4KTiIiIiIiIlJUKAKVR/kqj/BVH+RIREZFyUcFJRERERERESqIL1qVR/kqj/ImIiIgkgwpOIiIiIiIiUhJd8C+N8lca5U+SQi3hSqP8iYiknwpOIiIiIiIiIiIiIiIiUhIVnERERERERKQkjWeYaMZJcZS/0ih/khSaoVMc/e6KiNQeFZxEREREREREROqULvJLXHTuiYjUHhWcREREREREpCS6aFga5a80yp+IiIhIMqjgJCIiIiIiIiVRW6TSKH+lUf5E0km/uyIitUcFJxERERERERERERERESmJCk4iIiIiIiJSEt2VXhrlrzTKX2mUv/IxizuCdNG5JyJSe1RwEhERERERkZKoLVJplL/SKH+lUb4kLvrdFRGpPXVVcDKzHmZ2sJndZ2Yfm9kUM5thZt+Y2eNm1r+Ffb2Ix8tN7H9BgfuuWNksiIiIiIiIiIiIiIiIlFeHuAOosu/J/5mnA7OAJaPHzmb2HLC7u09ttO8PrRx7HqB7NH6nhdfNAn5p4fuzW3kfERERERGRRNFd6aVR/kqj/ElSqKVecfS7KyJSe+pqhhOh2PQ2cAywgrt3cfduwHLA7dFrtgdubryju/ds6QEMyHn57Y33zzGslWONLstPKiIiIiIiEhNdRCyN8lca5a84ypfERS31RERqT73NcNrS3edqdxcVeQ4zs9nAkcB+ZnaWu39dxLEPjb6+7u6jSg9VREREREQkHXSRsDTKX2mUPxEREZFkqKsZTk0VmxrJnZm0fqHHNbPfA6tFm7cVG5eIiIiIiEia6YJ/aZS/0ih/khRqqVcc/e6KiNSeuio4FWB6zrh9EftlZjdNBB4pXzgiIiIiIiIiIiIiIiLJp4JTvs1zxv8rZAcz6wb8Odp80N2ntrLLGmY2wsymmtlkMxtlZrea2bptiFdERERERCR2WoejNMpfaZQ/SQrNcCqOfndFRGpPva3h1CwzWxD4a7Q5tIh1mPYCukXjQtrpLQx0ByYA8wMrR49DzWyAu59TYLzDC3jZqoUcS0RERERERETqky7yS1x07omI1B7NcALMrB1wL7A4oa3ecUXsflj09QN3b6kI9BlwOrAK0NndewDzAn8ChgMGnG1mpxQZvoiIiIiISKx00bA0yl9plD8RERGRZNAMp+A6oF80PtbdPyxkJzNbA9gw2mxxdpO739/EczOBIWb2GvAa8DvgAjO7zd0ntnK8PgXENxxYr7XXiYiIiIiIlEJtkUqj/JVG+RNJJ/3uiojUnrqf4WRmV5Kd0XSSu99RxO6Z2U3TgfvaGoO7TwfOija7AVu19VgiIiIiIiIiIiIiIiLVVtcFJzO7HMi0sDvV3a8tYt+OwH7R5qPuPqHEcN7MGS9f4rFERERERESqRnell0b5K43yVxrlr3zM4o4gXXTuiYjUnrptqWdmVwCnRpunu/tVRR5iZ2DhaNxiOz0REREREZFaprZIpVH+SqP8lUb5krjod1dEpPbUZcEpaqOXmdl0urtf0YbDZNrpfQ68WoawNsoZf1WG44mIiIiIiIiIiIiIiFRFVQtOZtYV6AJMc/ep1XzvnBhyi02ntmFmE2bWC9g62rzDveV7MMzMWnqNmXUCLok2pwAvFhuTiIiIiIhIXHRXemmUv9Iof5IUaqlXHP3uiojUnoqt4WRma5vZaWY2yMw+NbNpwCTgR2CSmU0zs1Fm9oiZnWpma1UqlpyYctdsOrktxabIIYTczQbuKuD1fzSzF8xsfzNbKieeecxsK2AosGH09N/KsB6UiIiIiIhIbHQRsTTKX2mUv+IoXxIXtdQTEak9ZZ3hFBVTjgD2A5Zp/O1G252AFaPHrsDfzWw0cC9wm7t/U+bYegGnRZsNwBlmdkYLu1zp7lc2cZx2wMHR5rPu/l0hbw9sFT2Iim9TgAWAeXJiuszdLy/geCIiIiIiIomhi4SlUf5Ko/yJiIiIJENZCk5mtgpwPrA70J65i0vTgF+Bn4HfCIWW7tGjc87rlgPOBc4ys0cIs31GlSNG8mdztQMWa+X13Zp5fmugVzS+rcD3/h9wKrAxsBawMLAgMBX4mDDD6RZ3/1+BxxMREREREUkMXfAvjfJXGuVPkkIt9Yqj310RkdpTUsHJzBYGLgUOIhRxMv+0vg+8DLwF/Mfdx7ZwjGUI7eQ2BLYA1oni2gv4s5ndCZzl7j+VEqu7j2buQlhbjjOk2OO4+89AW9v3iYiIiIjEwswOAu4s4KXbuPsLTex/F3BgAfvP4+6zi4tOkkwXEUuj/JVG+RNJJ/3uioikX6kznD4lzFYyYAxwP3C/u48s9ADuPibadyCAma1KaMm3D7AscCiwG9CjxFhFRERERKRtGoDxLXx/Riv7TwcmtvB9XWJKOV0kLI3yVxrlTySd9LsrIlJ7Si04LUgoOl0MPODuDaUG5O6fAOeY2XmEotM5wEqlHldERERERNrsa3dftoT9H3b3g8oUiySQLhqWRvkrjfJXGuWvfNRSrzg690REak+pBaf9gQfLUWhqLDrmfWb2ALB3uY8vIiIiIiIiIiIiIiIi5VFSwcnd7y9XIC28RwOhVZ+IiIiIiIgkUOO71HXXenGUv9Iof5IUmuFUHP3uiojUnnZxByAiIiIiIiIiIiIiIiLplsiCk5n1jDsGERERERH5P4uY2XAzm2xm08zsSzO7z8w2L3D/rczsUzObbma/mdn/zOxaM9NarTVCd6WXRvkrjfJXGuVP4qJzT0Sk9iSm4GRmHcxsVzN7ChgTdzwiIiIiIvJ/ugLrATMJf0MsB+wLvGxmd5hZa626lwKWB6ZGx1oTOBEYYWZHVyxqqRq1RSqN8lca5U8knfS7KyJSe2IvOJlZbzO7FhgHPAL0pcS1pUREREREpCzGARcCvYHO7t6dUDDaBHghes3BwDXN7P8ucBywLNAp2n9+YDfgC6AjcKOZ7VZoQNFMqxYfwKrfffcdZlbQ44gjjpjrfY444oiC97/gggvm2n/HHXcseP9bbrllrv379OlT8P5PPfXUXPsvscQSBe8/fPjwpvJc8GPcuHGN9h7HXnsVvn9jw4cPL3jfJZZYYq79n3rqqYL379Onz1z733LLLQXvv+OOO861/wUXXFDSuQdHsOGGOvfaeu6BscgiOvfaeu6Bzr1Szr2vvtK5V8q598QTOvcKPWdERJIqloKTmXU3s+PN7F3CH6HHAwsDmf+D/hZHXCIiIiIiaWZmB5mZl/DYLvd47j7E3S9w9w/dfUb03Bx3Hwb8CXgieukx1kR7PHe/3t3/6e5j3H1O9NxUd38M2BD4KnrpVaarKak2alTcEaSXu/JXitmz4fPP444ivSZOhO++izuK9Bo9Ou4I0k3/7xMRqT1Vm0kU/QG5PeEOyB2BecgWmABmA0OAe8n+4SoiIiIiIgnk7g1mdiqwM+FGth2Bq4vY/2czGwDcCiwDrEu4Ga21/ea+NbsRC7Oc1is0FinN8OHwr3/FHUV6DRwI/+//xR1Fel15JXz8cdxRpNfpp8OMGXFHkU7ucPjhcUeRXjNmQJOTnUREJNXMK9wg1cxWJhSZ9gcWzzwdfXXgM+BG4EF3H1/RYOqMmQ1fb7311mtquq6IiIhISmkWTAvMrBMwXwmHmOjus4p8z/GEbgX/dPfjitx3DWBEtLmHuw8qZv8WjqvPwVUyfTqsuy588kn+8w8+CHvtFU9MaTJ+PKy+Ovz0U/7zb70FG24YT0xpMnIkrLMOzJyZ//yPP8Iii8QTU5q8+CJsvXX+c/POC5MnxxNP2tx229wFp7XWgg8/jCeetDn7bBgwIP+5nXaCJ3QLenP0GVhEUqEiM5zMrBuwF6HQtFHut6Kv3wJLRuMH3P36SsQhIiIiIlJPorZ3ulddqubCC+cuNknhjj9+7mKTFGbOHDjkkLmLTVKYyZPhsMPijiK9vvkGTjkl7ijSa/hw+Pvf445CREQqoawFJzPbglBk2hXoknk6+joFGAzcA7xEaKEnIiIiIlITohbSawBrE1rELUT4TDwN+AUYA3wIfOyVbjNQJWa2AmF2E2TXYypG7s1pbdlfYvTf/8IVVzT9vdo4wytr8GB4+OGmv6f8te6668JMMIB55oFZOXMzlb/W/fWv2fWHOnbMFu6Uu9a5w5FHwm9NrD6u/LVu5sxQLJ4zZ+7vKX8iIunXrtQDmNkyZna+mX0JvADsC3QlFJoceBE4EFjM3Q9w9xfcvaHU9xURERERiZuZzWtmB5rZY8AE4APCmqQXA6cAx0RfLwHuIxScfjWzR81sfzObN6bQWxUV0Fr7fqbc0AA8XeT+3YGzos2vgffaFqnEYdas/AuGm28Of/5zrCGlyoQJcMwx2e2DDoINNogtnNT54ovQjivj3HPVQq8Yr78O//hHdvt69Zwpyv33w7PPhrEZ3HhjvPGkzd//nm072KULXHVVvPGIiEh5lVxwAr4EzgOWJRSZDPgIOBPo5e7buPu97j61DO8lIiIiIhI7M1vVzG4CfgDuAHYmrJ1kBTzmB3YB7gJ+MLN/mdmq1f4ZCrCMmb1tZkea2fKZApKZtTOzjYDngP7Ra29291GN9t/PzB4zs93MbNHMk2bWxcx2Ad4Elo+ePk03paXLtdfC//4Xxl27hrVM2pXjr8s6cdZZ8P33Ybz44nD11eHCtbTOHY49NqwfBmENpzPPjDemNJk1C446Krvdrx/su2988aTNL7/AySdnt48/Hv7wh/jiSZvPP4dLLsluDxgAK64YXzwiIlJ+5Wipl5nJ5MD9wNXu/n4ZjisiIiIikihmtjxwEfBnws1bmUvEDowE/hN9/RX4GfgNWADoHj1WAzYEVon27QocARxuZg8B57n7l9X6eQrwu+gBMMPMJhEKa51yXnMncEIT+7YnFKT6A5jZFGA6sGD0PQjrTZ3s7s00FpMkGjsWLrggu33hhbDCCvmvUVuk5r39Ntx0U3b7hhtgoYXyX6P8NW/QIHj++TA2g1tvDS31cil/zbvmGvjoozCed94wOye32Kncteyss2D8+DBeaqlQPPkqpyGs8te8TLF4RrTS5Prrh4LdM8/kv0ZERNKtrGs4Ef7wnt/M7gaedvdZre0gIiIiIpIGZnYJcDLQkVAsmg48Rbjp6hV3b2I1h2aPNT+wObAPsCNhrae9gd3M7Cp3P6e80bfJD8DxwMbAOsAihHWpphPWWxoG3OHubzSz/8vA2dH+qwE9CMW334DPCeu63uzuWrspZU48EaZG/SvWXDNsS2HmzIGjj85eVN1+e9h113hjSpPffoO//CW7fcwx4aI1aIZYIcaMCQXijAsvhKWXhilT4ospTf7zH7jlluz29ddDt2469wr1yCMwZEgYt2sXCu/t27e8j4iIpE85Ck53AnsA3Qh/fO8YPSaY2UDgXncfVob3ERERERGJ01+jr58ClwOPuPukthwoKk49CTxpZvMRPk+fRpj59Fcg9oKTu08D/hE92rL/GGBAWYOS2D39NDz+eHb7ppuys0t00bV1N94I774bxp07h3V0MnlT/lp3wQUwblwYL7YYXHxxrOGkTm6xeK214IRobqrOvdbNnp1fLO7bF3bZJd6Y0qSpYnGfPmGs809EpLaU3GXb3Q8FegIHA69GTxvh7scjgKFm9rmZnW9mKzRzGBERERGRpPsU2B9Y3d3vaGuxqTF3n+TudwBrAAdE7yOSOFOnhvZHGYccAptsEl88afPdd3BOTin57LNh+eWbf73k++CDMKMk4+qrYcEF44snbZ56Cp54Irv9r3/N3YpQmnfjjfDee2HcpUtohalCSeHOOy/8PxCgZ08Vi0VEallZlnV196nufre7bwGsCFwMjCW7MPJywHnAp2b2upkd1fzRREREREQSaXV3v9/dGypxcHdvcPf7CIUnkcQZMABGjw7jHj3g739v/rVah2Nup54a7vIHWGUVOO205l+r/OVzDzMi5swJ21ttBXvvnf8arUPUvGnT8ovFhx3WfLFYuZvb99/nF4vPPReWWy67rXOvZR98EAp0GddcAwss0PRrlT8RkfQrS8Epl7t/5e7nEYpM2wAPEPq8Z4pPGwP/zNllWTPrNNeBREREREQSpFKFprjeR6QYo0fDlVdmty+/HBZeOP81utu/ecOGwQMPZLdvvBE6NforWPlr3oMPhhwCdOwY8qd8Fe7qq8P6TRCKxZddlv995bJlZ58Nk6I5zauuCqecEm88aeIeWuk1RJ9stt4a9twz/zU6/0REakvZC04ZHrzo7vsBiwNHA2+TLTxl7ls4EPjezG4zs80rFY+IiIiISKnMrGfcMYjE4fTTYcaMMP7d7+Cgg2INJ1UaGvLXLtljD9hyy/jiSZupU+GMM7LbJ50EK68cXzxpM24cXHppdvuSS0LRSQrz7rtw553Z7euvD0VPKczjj8Mrr4Rx+/YhfyowiYjUtooVnHK5+2/ufrO7b0RoEXIV8CPZ4tMChDWgXjSzMWZ2afNHExERERGJzVgze9LM+ptZh7iDEamGoUPhkUey29deC+1a+UtSbZGy7r8f3nknjDt1CrPDWqP8ZV1xBXzzTRgvuiicdVbTr1Nbs6addRZMmRLGa60Fhx7a8uuVu6zM7JxMTvr1g222mft1OveaNmNGaCWaccwxsNpqLe+j/ImIpF9VCk653H2ku58GLAXsBAwGZpEtPi0NnF7tuERERERECtAB6AsMAsaZ2TVm1jvmmEQqpvHsnL32gt//Pr540mbyZDjzzOz2KafAssvGFk7qfP11/lphl1wC888fXzxp8847cPfd2e1rr4UOulWiYIMGhYI7hLzlthWV1l13HXz5ZRgvtBBccEGs4YiISJVUveCU4e5z3P1pd98NWBI4GfgwrnhERERERAowieyNUj2AE4B3zexdMzvOzLrHGp1Imd19d2gpBdC5c/7F/8bUJmlul18eWpoB9OyZX3xqTPmb21//CtOmhfE668DBB8cbT5pkZudk7Lxz860cde7Nbfp0OO207Pbxx8Mqq8QXT9r88ANcfHF2+8ILoXszn5B0/omI1JbYCk653P0nd7/W3dcB1gf+GXdMIiIiIiJN6ElYg/SlaDtTfOoNXEeY9TTQzHYws0R81hZpq0mT8tuXnXYa9OpV2L5qiwRjx4Z2cBmXXgrzzVfYvsofvPVWaEeYcc01YQ2Y5qitWb6BA2HYsDCeZ57CZ+cod8E118CYMWHcowece27zr9W5N7dzzw3/hkBoo3fUUYXtp/yJiKRf4v4Idvd33f2EuOMQEREREWnM3ae5+73uvjWwLHA+8AXZwlNHYDfgKeBrMxtgZlreXlLpmmvg++/DeIkl4HQ1Pi/KeeeFWRIAffrAAQfEG0+auOefb7vuCptvHls4qTNzZn6x+MQTYcUV44snbX76CS67LLv9t7+FlnBSmI8/httvz25ffXUoeoqISH2oWsHJzBY1s75mdriZnRR97Wtmi1YrBhERERGRcnH3r939IndfCfgjcCf5Lfd6AmcAI83sDTM71MwKnN8gEq/x4/Nn51x8MXTr1vI+aouUNWIE3HNPdvuqq6BdK399K39Zzz2Xv3ZOS60cZW633ppdO6d7dzj77JZfr3Mv36WXwm+/hfEqq8ARR8QbT9qcc05Y/w9g221hu+1afr3OPxGR2lLx5SLNrD9wKrBRC695E7jS3R+vdDwiIiIiIuXm7q8Dr5vZccAehLZ7mxMKTxA+C28EXGdmjwJ3ufvLccQqUogBA2Dy5DBeffXiZ+fUe1uks8/O5mD77WGzzYrbv57z19AQ1m7KOOKIwmbnqK1ZMHlymJGTcdZZsOCChe9fz7mD0ArznzmLPAwYEIqeLdG5l/XWWzB4cHb70kuL27/e8yciUgsqNsPJzDqa2UBgEOGPa2vhsTHwqJk9bGYdKxWTiIiIiEglRS337nH3rYDlgAvIb7nXFdgPeMHMvjSz88xsmdgCFmnCmDFw443Z7QEDWl47R/INGwZPPpndHjAgvljS6KGH4MMPw7hr15bXzpG5XXst/PhjGC+1FBx7bLzxpM2FF8KMGWG8wQbQv3+88aSJO5x5ZnZ7zz1hvfXii0dEROJRyRlOjwI7kL2r82PC4sqfA1OAeYEVgS2ANaLX7A50AXaqYFwiIiIiIhXn7mOBvwF/M7NNgUMI6ztlGpMtS1gD6lxAqxtIYpx/flgDBmDjjWGnAv86U1ukuS+47rMPrLNOYfsqf+G8yy0wnXQS9OwZXzxp89NPcPnl2e0LL4TOnVvfT+de8PHHcNdd2e3LLlNuivH88/Dqq2HcoUNoxVoI5VhEpLZUpOBkZnsBfQEHxgGHuvvzLbx+W+B2YEmgr5nt6e4PVyI2EREREZFqc/ehwFAzO5bQcm8AYY0no4rrqoq0pvHaQ2294FqvbZEarz2U29qsGPWav8ZrD512WtuOU6/5u/RSmDQpjFddtfhWmFC/uYO51x7aYovij1Gv+WvcCvOwwwprhdlYveZPRKSWVOqP20Ojr1OAzVoqNgG4+xBCj/uoSziHVSguEREREZFYmFkv4GTgbEKxSSRxzj03e8Fvhx3gj3+MN540aWgI6+VkHHkkrLBCfPGkzZQpcNFF2e2zzoIFFih8/3qfJfH118WvPSRZb7/d9rWH6v3cA3jkEXj//TDu0gXOOy/eeEREJD6V+vjRmzC76XZ3/6KQHdz9CzO7HTgRKLDpgIiIiIhIcplZV0IbvYOAzci2m858nQwMrH5kInN77z14/PEwNit+7aF6v+j6+OPwwQdh3LVrmC1RjHrP3003wQ8/hPFSS8Exx8QbT9pcdln+2kO77FL4vvV+7gFccEF2rLWHijNnTmjfmPGXv8Diixe+v84/EZHaUqmCU6Yv/TtF7pd5fdcyxiIiIiIiUlVm9kdCkWl3wtqlkC0yOfAqcCcwyN2nVj1AkSbkXjDcfXfo3Tu+WNKmoSG/fd5xx2ntoWJMnZq/9tDZZ4dZElKYb76B227Lbl90kS7iF+Ptt0M7TAh5yy0+SesGDYKRI8N4vvng1FPjjUdEROJVqYLTOGA5oH2R+2VeP6684YiIiIiIVJaZLQscCBwALJt5OuclY4G7gbvc/atqxibSmvffhyeeyG6fe25px6u3dTieeCJ/dlOpF1zrLX833QQ//hjGSy8NBx9c/DFyCyz1lr/LLoOZM8N4441hm23afqx6yx3kF9v33jusf1WMej73GhfbTzghrL/WVvWWPxGRWlSpgtNLhHWcNgXuLWK/TQl3fL5UiaBERERERMopapn3Z0KhaVPmbpk3DRhMmM30krsupUgy5V4w3G03WGut4o9RrzMq3PPzd+yxsMgixR+nXvPXeHbTX/8KnTrFF0/afPst3Hprdvv884s/l+r13AN45x149tkwNiu+FWa9GzQIPv44jLt1g5NOKv4Y9Xz+iYjUokoVnK4H9gcOMLNb3b3V1npmtj7hD/UZ0f4iIiIiIolkZlsQPrvuytwt8wDeBu4AHnL336ocnkhRPvgABg/Obmux9+I8+WSYIQblmd1Ub265JX/tpkMOiTeetPn737OzmzbcELbdNt540ia3WLznnrDaavHFkjZNzW7q0SO+eEREJBnaVeKg7j4COJzwR/e/zewwM2uyuGVm7c3sUODfhNlNh7n7R5WIS0RERESkFGZ2oZl9BbxAuMGqG+EzrwE/AFcCa7j7Ru5+i4pNkga5Fwx33RXWXrv0Y9bLXD73/HZcRx8Niy5anuPWg2nTQsEk48wz2z67qR7bmo0bFwp2GW2Z3dRYveQOYPhwePrpMDZreyvRejz3AB57DD6Krt516wYnn1z6MespfyIitaoiM5zMLHNP3L+BHYCbgcvMbCjwOTAV6AqsCPwByHR4fRZYMWf/ubj735r7noiIiIhIhZ1LuEkqc3lpFvA0oWXec+4+J67ARNriww/DRcMMzW4qztNPw3vvhXGXLnDaafHGkza33grffx/GSy4Jhx4abzxpc/nlMGNGGG+wAWy3XbzxpE1usf3Pf4bVV48vlrRpPLvpuOM0u0lERIJKtdS7gPCHODlfuwM7NfFay3nNDtGjJSo4iYiIiEicDPiQUGS6391/ijkekTa77LLseJddoHfvth+r3tbhcIcBA7LbRx8Niy3W9uPVW/5mzoQrrshun3kmdO4cXzxpM358+WY31du5BzBiRGiHCaXNbqpXzzwD//tfGM87L5xyStuPVY/nn4hILatUwQnye9i39FxLzzemybUiIiIiEqd/AHe6+3txByJSqq++goEDs9tnn12+Y9dDW6TXX4e33grjjh3Lu3ZTPeTvoYfgm2/CeLHF4LDDSjtevbU1++c/Q0tCgHXXhe23L89x6yF3kF/s7N8f1lij7ceqt3MPwuy6jKOOgoUXLs9x6yV/IiK1rFIFpy0qdFwRERERkdi4+wlxxyBSLldfDXOiJpBbbQXrrx9vPGmTu/bQgQfC4ovHF0vaNDTkX7A+8UTNbirGlClwww3Z7TPO0CyRYowdCw88kN0+/fT4YkmjYcNCwR1gnnngL3+JNx4REUmWihSc3P3VShxXRERERERESvfTT3D77dntclxwracL3iNGhJZSEH7ucsxuqqf8PfssfPRRGHfrFmZISOFuvx1++SWMl1sOdtuttOPV07kHcM01MHt2GG+2GWy4YbzxpE1usX3ffWGppUo7Xr2dfyIita6SLfVEREREROqKmc0DbACsDiwEFHTPvrtrnVKpqn/8I9uOa511YJttynv8Wm+4s3ZCAAAgAElEQVSL1Lgd18orl/f4tZ6/3NlNRx4JCy1U+jHrpa3ZrFlw1VXZ7VNPhQ5lvLJTy7mDUKi79dbs9hlnlH7Mejn3AEaOzK59BeWfHVbr+RMRqQcqOImIiIiIlMjMOgFnA8cCC7bhECo4SdVMmRIKThmnn647zIuhdlylefNNGDo0jNWOq3gDB4ZzEMK6OQcdFGs4qXPjjeH/gQBrrQXbbRdvPGmTW2zfaSdYbbX4YhERkWRSwUlEREREpARm1hF4HtgUaMtle93PK1V1xx3w889hvOyysMce5TluvRStKtWOq17yV+52XPXEPX922AknQNeupR+3Xs69adPg+uuz2yq2F+ebb+C++7Lb5Sq267+BiEhtKangZGaLu/t35Qom7vcREREREWmDk4A/RuNpwH3A68APwIy4ghJpyuzZ+e24TjmlvO24at2vv+a349LspuJ88gk88UR2+7TT4osljZ5/Hj78MIy7doVjjok3nrS56y4YPz6Me/WCPfeMNZzUue660NIRYJNNwkNERKSxUv+0+MLMbgb+7u7flyOgXGbWEzgLOBSYt9zHFxEREREpg32jrz8Bm7j7Z3EGI9KSJ56AMWPCuEcPOOSQyrxPra7Dcdtt2XZca64J229fmfep1fzlzi7p1w9WX718x66HdXSuvTY7Puyw8DsshWloCAWTjJNOCi0dy6Eezr3Jk6tTbK/V/ImI1JN2Je7fGTiBUHj6h5mVpZmAmW1kZv8CviD0wS9osWURERERkRisQGiLd72KTZJ0uRdcjzqqPO24Mmq9LdLs2flrX510Unl/5lrP34QJcPfd2e2TT44vljT65JMwwwnCuXLiieU7dq2fewD//jeMGhXG888Phx4abzxpc++9MHFiGK+0UigYl0s9nH8iIvWk1ILTrsBYoAtwNDDMzD41swvMbDMzK2hWkpl1M7PNo/0+Bd4AjoiOOzp6HxERERGRJIrmO/BJrFGItOK992Do0DDu0EHtuIr15JMwdmwYL7ww7LNPvPGkze23w9SpYbz22rD55rGGkzo33JAd77QTLL98fLGkUW6x/ZBDYL754oslbRoa8mcnHn88tCv1aqKIiNSsklrqufvjZvYcYRbSGcAiwIrAudGjwcxGAqOAX6LHJGB+oHv0WAVYlWzxK3Nvw4/AZcC/3F2970VEREQkqT4DekQPkcTKvWC4xx6wxBKVe69abIuUe8H6iCOgcwX7cNRa/ubMyZ8ddsIJ5Z/VUMttzRrPDjvhhMq+n3ttzToZNQqeey6MzeC448p7/Fo+9yDMDvskuqVmvvngwAMr9161mD8RkXpT8vKwUTHoajO7ETgQOAroHX27PbBG9GhJ7keZ94EbgXvLWWgysx7ATsBWwHrAMoSffzzwX+Budx/czL7F/JP3irtv0cxxFgNOB/oBvQiLSn8E3A3c7q5/WkVERERS6B5gY6AvcHPMsVSMmc1P6GqwM7AS4Say8YSC26vAte4+oZl95wNOAXYDlgPmAJ8CDwE3uPvMiv8Ade7HH+GBB7Lblb5gXWvefx9eey2M27fX7LBiPfUUjB4dxj16aHZYse64I3/tsC2avOIgzcktdvbrByusEF8saZR7s8Ihh4SWhCIiIs0pueCU4e7TCX9g32xmawK7ANsAfYCWOoNPAYYD/wYed/ePyhVTI9+T//NOB2YBS0aPnaPZWru7+9RG+/7QyrHnIczWAninqReYWR/gebJ3vk4G5gP+ED12N7Od9Me2iIiISOrcBRwG9DWzPd394ZjjKTsz2wJ4EFgsemomMJXsZ+nNgccJN4813ncZ4BVg2eipqUAnYP3osa+ZbeXuv1bsBxBuuQVmRn9pbLABbLRR+d+jlmZENJZ7wXX33WHJJcv/HrWcv8azw7p0iS+WtJkzJ7+dXiVmh9WyiRPhrruy2+Vc+6oefPopPPtsGFdidljmuCIiUjsq0nXV3Ue4+8XuvhnhzseVCcWnPYEDoq/bEO6MXMDdN3f3SypYbIJQbHobOAZYwd27uHs3wh2Wt0ev2Z4m7kp1954tPYABOS+/vfH+ZrYA8DSh2PQJ8Dt3nw+YFziOUPj6E3BtuX5YEREREamOaFZ+P0Kx5T4zu8HMVos5rLIxs02AZwjFpseA3wGd3X0hwufZDYBLgIlN7NsBeIpQbPoO2Mbd5yXckLYXod32usB9Ff9B6tjMmXDjjdntasxuqqXeDePH588Oq8YF61rK34cfwiuvhHH79nD00ZV5n1pta/b009nZYd27w777Vv49ayl/d94JkyeH8RprwJZblv89avXcg/zZYX37woorVvb9ai1/IiL1qGwznJrj7g3A59EjTlu6+8uNn3T30cBhZjYbOBLYz8zOcvevizj2odHX1919VBPfPxXoSWiht4O7fxW990zgn1F7kgHAEWZ2rbt/WsR7i4iIiEjM3P0HM/sD8BrhBqdjzGwKYQ3ThtZ390Q2+DGzroSWgV0Ire/yShVRZ4B3aGaWP6Hl9lrReDd3fzParwF42MzaAQ8AO0SznF6swI9R9wYNgu++C+PFFw/rN0nhbrkFZkTN3tdfvzKzw2pZ7uyw3XaDpZeOL5Y0yp0ddvjh0LWl/jGSR7PDSjNxYijYZagVq4iIFKIiM5ySqKliUyO5M5PWL/S4ZvZ7IHMH623NvOyA6OtDmWJTIzcQWuy1B6pwv5KIiIiIlJOZ9QY+JKwVCmGN0m6EdTuXLeCRVPsDyxPaU5/ehv0zS4u/nCk2NfIQkPl8fEAT35cy+Oc/s+Ojj4aOHSvzPrV4IXf2bLjppuz2iSdW7uesxfz9+mv1Z4fVkpEj4eXoSkal1w6rxfPv+efhyy/DeKGFYL/94o0nbe69Nzs7bLXVYOutK/M+tXjuiYjUs4rPcEqR6Tnj9kXsl5ndNBF4pPE3zWwVwoUGgOeaOoC7TzazoYSWftsC5xfx/iIiIiISo2iNopeABQmFJggtk38GZsQVV5lkikCPRGu2FiyaHbVJtNnc52A3s/8HHE34HCxlNmIEDBsWxh06hPVzqqFW2iI99xx8800YL7JI9WaH1Ur+7r0Xpk0L43XWgY03rtx71WJbs5tzGv7vtBP06tX8a8upFvN3yCGVmx1Wi+eee37+jj22OoWhWsmfiEg9U8Epa/Oc8f8K2cHMugF/jjYfjFqKNLZmznhEC4cbQSg4rV7Ie4uIiIhIYpwFLAQ48DxwIfCOu8+JNaoSmVknsjP/h5tZL+AcwmfWxYBfCWuk3uTuzzRxiNXIdlRo7XMwQE8z6+7uv5QcvPyfW27Jjvv3h8UWiy+WNMq94HrwwdCpU3yxpE3jC9ZHHaWZDMWYNg3uvju7fdRR8cWSRt98E9a/yqhWsb1WvPlmuGEBQqFOs8NERKRQddNSryVmtiDw12hzaDPrMDVlL0KrFGi+nd4SOeNvWzhW5nvzR4UsEREREUmHrQjFpjfcfXt3fyvtxabIskCm+dryhMLQ4cCiwJToaz/gaTO71WyuS8nFfg5uvI+UaOpUuOee7PaRR1b2/WqtmDB2bJjhlHH44ZV9v1rL3xtvwMcfh3G3brDPPvHGkzaPPAITJoTx8stXrp1ZRq2df7ffDg3RCopbbAErrxxvPGmTWyzee29YYIHKvVetnXsiIvWu7mc4RQsV3wssTmird1wRux8Wff3A3Yc385r5csZNzYBq6nvzEdZ0apaZNfd+uVYt4DUl04cDERERyajTVihLRl/vjTWK8lsoZ3wOMAHYA3jC3WdFM56ujJ47DBgJXJ2zT1s/B7coSZ+Dk27gwLDoO8CKK4aLrtVSC/8vuO227AXrrbcOOayWWshf7gXrffaB+Vr97S5NrbU1y83f4YdDuyreLpz2/M2eHX5/M6pZbE977iCsvTZwYHa70vnLVQv5ExGpd5rhBNcR7swEONbdPyxkJzNbA9gw2mxudpOIiIiI1L7x0dcJsUYBmNlBZuYlPLbLOVy7RuND3X2Qu88CcPexhBn/H0SvOcvM6v6GtiTJvWB9xBHVvWCddrNnhxkSGdW84FoLfv45zNDJUP6K03jttYMPjjeetGm89lr//vHGkzb33APTo1Ub110X1l+/5deLiIjkqus/CM3sSrIzmk5y9zuK2D0zu2k6cF8Lr5uUM+4K/NbM63KXr5zUzGv+j7v3ae010d2f67X2OhEREREpyTuEWU611rAn9zPpZ+7+eOMXuHtD9Jn6XqAH0Af4TxP7t7RUuz4HV8CHH8Jbb4Vxx45w0EGVf89a6nzw9NMwblwYL7YY7Lxz5d+zlvJ3zz0wY0YYr78+rFfXv43Fyy0WV2vttVo6/xqvvdaxY/OvlXyN11478sjKnxu1dO6JiEgdF5zM7HLglGjzVHe/toh9OwKZJRMfdfeW7mYdlzNekuYLTplWLL+5e4vt9JJGU55FRESkzt0I9AcOMrMr3H1mjLE8CDzd6quaNzFnnLu20ict7PNxzngZsgWnxp+Dm+sksGTOeFwzr5Ei5V4w3HXXcJe/FC43f4ccAvPME18sadPUBWsp3NSpcG9Og1blrzjVXnut1rz+OowcGcZae01ERNqiLgtOZnYFcGq0ebq7X1XkIXYGFo7GrbXTG5EzXpPQ274pa0ZfP27m+yIiIiKSQO7+YvT58jRgoJnt7+6tztSpUCwzgBllOtYvZvYt+QWhpuTem5x7K9JIoIHQjm9N4Dmalvkc/L27/9KWWCXflClwX04PhjguWKf5prTRo+H558PYLJ4L1mnO32uvwahRYTzffLDXXtV531pZR+fhh+Nbey0jzfmLY+21Wjn3oPprrzWW9vyJiEgdFpyilh+ZmU2nu/sVbThMpp3e58Crrbz2U2As0AvYDnik8QvMbF5g02hzSBviEREREZGYmNkfgWeA5YDdgU/N7F7CTJ+fCUWXFrn7axUNsu2GAAcDq7XwmtVzxl9lBu4+1czeIHzO3Q6Y63O3mRnwp5z3kjIYNAh+i/oqrLIKbLZZdd63Vtoi3Xln9qLnttvCcstV531rJX+5a1/tt1+YJSGFy81fNddeq4Xzb86c8PubodlhxZkwIfz7kVGt/NXCuSciIll1VXBqVGw6tQ0zmzCzXsDW0eYd7i3ff+Hubmb3AOcAe5nZRe4+utHLjgW6AXOA+4uNSURERERi9QrZmT0OLEb2M2chnOR+Lr+TUHBa0cx2abyOk5m1I9s54Fvg3Ub7300oOG1hZhu6+38afX8PYPlofE9ZI69jd92VHR96qC7mFaOhAe6+O7t92GHNv1bm9ttv+Reslb/ifPYZvPFGGHfoAAceGG88afPSS/DNN2G88MKw007xxpM2Dz+cXXtt3XW19pqIiLRNle6VCaKZPLFotGbTyW0pNkUOIeRtNnBXgftcCXxPWBD5GTPrE8XU0cyOBi6KXneLu3/axrhEREREJD6W82i8Xcgjkdx9KJC5fHybme1mZh3g/27EehBYO/r+2e7eeDbX3cD/CD/jo2a2VbRvOzPbA7g1et1z7v5iBX+UuvHVV/DKK2Hcvn2YYRKHtLZFevVVGDMmjLt3hx13jCeOtOZv0CCYNi2M1147XLSullpoa5Zb7OzbFxZdNJ440pq/3GL7fvtBx47Ved9aOPcgP38HHxxPDGnOn4iIBNW+k3KimX0BfAC8n/nq7t+2vFtpoj+GT4s2G4AzzOyMFna50t2vbOI47Qh3eAI86+7fFfL+7j7RzPoBzxNajvzXzCYBnYHM8rNDgJMKOZ6IiIiIJMqFcQdQYQcBiwJ/JBSfZpjZVGChnNdc6O53N97R3Web2U7Ay8CywAvRvu0In4UB3gP2rVj0deaenHli220Hiy8eXyxplHvBdZ99oFOn2EJJpdz8HXSQZtcVY86c/ILTQQfFFkoqTZwIjz2W3Vb+ivPJJ/DWW2E8zzyw997xxiMiIulV7YLTDGCl6LFb5kkz+5lQfMoUot4HRrr7nDK9b7tG48VaeX1zXaa3JqzFBHBbMQG4+3AzWwM4A+gHLA1MAUYQ7vy8o4k7QkVEREQk4dy9pgtO7j7FzLYgzPTfH1gTmI/QQm8ocIO7D2th/9Fmtjah9d6uhLWuZgEfEWZI3eDuMyv7U9SHhoa5L/hXU9qLC5Mm5beDU/6K8/nnMHRoGHfoAPuqjFyUl1/Obwe3ww7Vff+0n38PPwzTp4fxOutA797xxpM2ucXOHXcM52C1pP3cExGRfNUuOHUDVgbWyXn0BnoCW0WPzATamWb2MdkC1PtRS4+iRWsmlfxPmLsPKeU47v4DcHL0EBERERFJhejGqNso8qarnP0nAedHD6mQ116D0aPDeKGF4msHB+lsizRoEEydGsZrrhnv+iVpzF/uBesddqh+O7i0tzXLLRbvu2/12sE1Je35i7NYnMbczZmTPzs2ztlhacyfiIjkq2rByd0dGBU9Hs48b2aLAOuSX4RaOec5SPZiyiIiIiIiIrFSO7jSqB1c2zU0qB1cKdQOrjSjRsGbb4Zxhw7h/39SuBdegHHjwnjRRUM7VhERkbZKRAHH3ccT1jAaknnOzDoD+wFnEfq9i4iIiIiISBMmT463HRyku0DzxRdhhhhA+/bxtINLc/5efhm+/jqMe/SAvn3jjSdtHnkEpk0L4969Q0u4akvz+Zdb7OzXDxZZJL5Y0ii32L7ffmENp2pK87knIiJzS0TBKcPM2gGbATsDOxIKTUaY3fTf+CITERERkXpnZou7+3e18j5SWwYNgilTwniNNaBPn3jjSVtbpNx2UttvDz17xhcLpC9/SWgHl+a2ZnG2g2tKmvLXuB3cwQdXP4Y0n3sTJsDgwdntAw+MLxZIX/5ERGRu7eIOwMy6mdkeZnYfMB54ATgBWBx4DjgKWMrdN4wxTBERERGRL8zsGjOryKVoM+tpZtcDn1fi+FLb1A6u7dQOrjSTJsGjj2a3lb/ifPYZvPFGGKsdXPFefBG+/TaMF1kkFIylcA8/DDNmhPF668Haa8cbT9p8+inMnh13FCIiyRLLDCczWxLYKXpsDnQkzGQaD9wNPAkMcfepccQnIiIiItKEzoQbo44wszuBe939P6Ue1Mw2Ag4EDojeQ6QoX38Nr74axu3axdMODtJb5Bo2DMaMCeOFFgotueKQ1vwNHpxtB7fWWvG0g0uzBx7IjnfYIayhE4e0nn/3358d77tv9dvBpV1u/uKa3ZTWc2/OHNh8c5g1C/bYAwYMgAUXjDsqEZH4VbXgZGbnEopM6xEKTACfEApMTwJvumsCrYiIiIgk0q7ANcAywNHA0Wb2BfAA8DLwX3ef0tpBzKwbsD7hxqt9gBUy3wK+Ak4ue+RS0x5+ODveaitYfPH4YslI0191Dz6YHe+xB3TqFF8sGWnN3777xnfxOI1tzdznzl8SpCV/06blt4NLQrE9LbmDcLPC0KFh3K4d7LlnvPFAuvL32mvwXdQA+dFH4frr441HRCQpqj3D6ULCekyfALcBT7m7WoaIiIiISOK5++Nm9hxwLHAGsAiwInBu9Ggws5HAKOCX6DEJmB/oHj1WAVYl29o6c5nqR+Ay4F/uPqMqP5DUjNwZEmrHVZxZs2DgwOy28lec8ePh3//Obu+1V3yxpNF778GoUWHcrVt8s+vS6plnQktHgJVWin/turR56KHseOutYbHF4osljRrfrNAhlh5SIiLJE9f/DlcFTgf+ZGbvAR8A7wOjNMNJRERERJIqKgZdbWY3EtrgHQX0jr7dHlgjerQk9/7/94EbCe35VGiSon3ySbhoDWFmTv/+8cWSxrZIL7wAP/0UxksuCZtuGl8saczfI4+EtlIAm2wCyywTbzxpk1ss7t8funaNL5Y0nn+5F/z33judP0OccvMXZ7E9jf/dZs6EQYOy23vvHV8sIiJJU+2C09WEP8h7A4sB20aPTJFpmpmNIFuAeh/4QGs5iYiIiEiSuPt04GbgZjNbE9gF2AboA7R0yXAKMBz4N/C4u39U6ViltuVeMOzbFxZYIL5Y0ig3f3vtFdpKSeE0u67tGhryZ5jognVxJk4MM5wylL/iJOlmhTQaMgR+/TWMe/WCjTeONx4RkSSpasHJ3U/NjM1sCWCdnEdvQv/6DaJHpgjlUW/899xdE/RFREREJFHcfQQwArjYzNoByxPWeeoOdAJmENrrjQa+cveGmEKVGtN4/ZckXXBNQ9+KqVPz139JUsEkDfkbMwbeeCOM27cPLaXilLZ1dIYOhW+/DeOFFw4tzZIiDfkbPBhmRPOC110XVl01vljSdu5B/r8d/frB/PPHF0uuNOZPNyuIiOSrasHJzPq4+3AAdx8HjAOezfn+vMDaZAtQ6wBrAisR+uOr4CQiIiIiiRUVkz6PHiIVNXw4fPZZGM83X5jhJIV75hmYPDmMV145XLSWwuXOztlmG1hkkfhiSaPG67/MM098saSRZte1nXt+/pJ0s0IaTJ0KTzyR3Vb+RETyVbul3jtm9iZwAzDI3WfnftPdpwBvRg8AzMwIiyv3RkRERERERID8C9b9+0OXLvHFAulbh6PxBeu444/7/YuV1Nl1aTBzZlj/KiMJBZM0nX8//AAvvpjd3nPP+GJJo+HD4fPotpj554cddog3njSdewBPPQVTpoTxqqtCb12tFBHJU+1Jn98AGwP3A2PN7DwzW6ylHTz4xN0frkqEIiIiIiIiCTdnTrLXf0l6W6QJE+DZZ7Pbyl9xPv4YPvggjDt3hl12iTceSFdbsyFD4JdfwnjppeH3v483nsaSnr+BA8MaWACbbhpyGKc0nXuQX2xPws0KudKQv8bF9rQVzEREKq3aBadlgd2Al4GewPnAGDO7z8w2qnIsIiIiIiIiqTR0KIwbF8aLLAJbbRVvPGnz2GNhlglAnz6hpZ4ULqnrv6RF4wvWWv+lOLn5S8LssDSZMwcezrmdW/krzoQJ8Nxz2e2k3awgIpIEVf1Y4+4N7j7Y3bcGVgNuBKYD+wBvmNnbZra/mXWsZlwiIiIiIiJpknvBMCnrv6TpLu/c/CXlgmFa8ueezPylxbRpyVz/JS3n39ix8Ga0CEOHDrD77vHGkzZvvJF/s8KWW8YbD6Tn3IPwu5t7s8JKK8Ubj4hIEsV2H427j3L344ElgWOBkcD6wF3A12Z2kZktGVd8IiIiIiIiSTRnDgwenN1O4volSW6L9Msv8NJL2e099ogvluYkOX8jRsBnn4Vxt26w/fbxxpORlrZmQ4Zk139ZeeVkrv+S5Pw99lh2vNVWsPDC8cWSkZZzD+DRR7Pj3XcPRbskSXr+Bg3KjpP4b6+ISBLEPnHb3ae4+7/cfU1gS+AxYCHgbOArM3vYzDaNNUgREREREZGEeOMN+OGHMF50Udhkk3jjSZsnn4TZs8N4gw2gV69440mb3Auuffsma/2XNMjN3267pWt2RxI0zp8UrqEhv+Ck/BXnt99CwThD+RMRaVrsBadc7v6Ku+9BWOvpIuAnYHfgFTN7L87YREREREREkiD3gmH//tC+fXyx5ErLhfOkXnBV/mrfzJnw1FPZ7STlLw3n37hxMGxYGLdrB7vsEm88afP22/Dtt2Hcowdstlm88WSk4dwDePrpbDu9ddaB5ZePNx4RkaSKbfKsmXUG5gcWiL7mjhcAZgIDgb2ARYG144lUREREREQkGRrfoZ7U9UuS2hYpLXeoJzV/n3wCH30Uxl26JKedHqSjrdmLL8LEiWG87LKw3nqxhtOspOZv8OBsbJttFtYgSoI0nHuQPztsl12S104Pkp2/NPzbKyKSBFX958XMviBbXGruvVNyb4OIiIiIiEh15d6h3r17cu5QT4vGd6ivsEK88aRN7gXX7bYLazhJ4dROrzSaXdd27spfKaZMgeeey24rfyIizav2/QzLAQ7MAJ4htMz7LXpMyhk395yIiIiIiEjdyr1guMsuMM888cXSWBounif5DnXlr7bNng1PPJHdTlr+kn7+jR8Pr74axmahnagU7r33YPToMF5gAdhqq1jDyZP0cw9CsWnatDBeYw1YddV44xERSbJqF5wGAbsAnYGNgJuBm9z9hyrHISIiIiJSNDPr6e7fxx2H1Cf3uWdIJFUS2yKl6Q71JObvyy/DRWuAjh2hX79442ks6W3NXn0Vfv45jJdcEjbYIN54WpLE/D3+eGgpCvD738MSS8QbT66kn3uQ/2/HTjuF3+EkSkP+kvxvh4hIErSr5pu5+5+BZYEB0XufD4wxs3vMbP1qxiIiIiIi0gZjzexJM+tvZglc/UBqWZLvUE8D3aFemtzZTdtuC/PPH18sadT4gnW7ql6NST/Nrmu7xjcrKH/FmTYNnnkmu638iYi0rOofcdx9nLufA/QCDgQ+BPYD/mNmw8xsLzNrX+24REREREQK0AHoS5i5P87MrjGz3jHHJHUi94LhjjtCp07xxdKUpLdFSvr6JUnPn+7wb7s5c2Dw4Ox2EvOX5PPv11/hxRez27vuGl8saTRiBHz2WRh36xYKxkmS5HMPYMgQmDw5jFdaCdZcM954RESSLrZ7atx9prvf6+4bABsDDwLrAfcT7hw9x8wWiSs+EREREZEmTAIsevQATgDeNbN3zew4M+sea3RSs9LUTi+Jpk+Hp5/Obit/xRk7Ft5+O4w7dAgtuaRww4bBD9FCAosuCptsEm88afPkk2ENLIDf/Q569Yo3nrTJLbb37QudO8cXSxo1vlkh6QUyEZG4JWISt7v/x933I8x6uiB6+m+EwtNdZtYntuBERERERLJ6EmbpvxRtZ4pPvYHrCLOeBprZDmaWiM/aUhtGjszeoT7vvPCnP8UbT2uStg7Hiy9m71BfcUVYa61442lN0vL3xBPZ8RZbQPcEltaTvI5O7uym/v2hfcJ7uiQ5f0ksFif53IPk5y9X0vI3axY89VR2O+n5ExFJgkT9EezuP7r7RYTC017AO8ABwNtm9nqswYmIiIhI3XP3adEs/a0Ja5OeD3xBtvDUEQhEd8YAACAASURBVNgNeAr42swGmNnKccUrtePJJ7Pj7beHLl3iiyWNcvO36666Q71YjfMnhXNX/koxbVpoaZah/BVn9Gj48MMw7tQp/PshhXv9dZgwIYyXXhr66HZ4EZFWVXWhYzPrBszf6DFfC89NAH4EFiW03RMRERERSQR3/xq4CLjIzP4AHAzsTvgsC2E21BnAGWb2FnAHMNDdJ8URr6Rb7gXrHXeML46WJLWI09CQf4e68leciRPhlVey2/36xRZKKo0cCV98EcbdusFmm8UbT3OSev69+GIoOgGsskpYQ0cKl/v/vi23DOdg0iT13IO5/+1NcqwiIklR1YITMLGV7+t/3SIiIiKSOu7+OvC6mR0H7EFou7c52c+3G0WP68zsUeAud385jlglfX78Ed56K4zbtYMddog3nkIkqS3S8OHw3Xdh3KMHbJyCWxmTlL/nn8+un7PeerDUUvHG05yktjXLvWC93XZhlknSJSl/uQWTpK4dltRzD/LPv6TmL1eS8ueejvNPRCRpql1wmkaYtTQxeuSOC9kWEREREUksd58G3APcY2a9gIOA/YEVopd0BfYD9jOzMcBdwN3uPqb60UpaPPNM9iLcJpvAwgvHG0/a5F4w7Ncv+evnJE3aLlgnjS5Yt13j2YnKX3EmToRXX81ua3ZicRrPTtx881jDERFJjaoWnNw9gZN3RURERETKz93HAn8D/mZmmwKHENZ3ynwmXpawBtS5wDxxxCjpkJYL/kltNaT8td2sWaHgmZHk/CXRjz/Cm2+GcdJnJybx/Evj7MQkef758DsMYe2hNMxOTJI0zk4UEUmCdnEHICIiIiJS69x9qLsfTFjX6WDgO8AJLff0mVyaNW0aDBmS3U7LBf+ktEUaMwY++CCMO3aEbbeNN55CJSV/b7wBEyaE8VJLwTrrxBtPS5LY1qzx7MQePeKNp1BJyV/uBf++fZM7OzGJ5x6kY+2/xpQ/EZH0q3ZLPRERERGRuhS12DsgevSMORxJiZdegqlTw3iVVWDlleONJ21y23FtuWVoiySFa9zOLKkzEZIqLbPrkkrt9NpOsxNLk8a1E0VEkqLqBSczWwr40d1nVvu9RURERESqycy6EtroHQRsRpjRRM7XycDA6kcmafH/2bvzaDmu+tD3358Ga7Bk2ZJlGxtL8oA8S7Y8YWQTG4MZE5IQuCRMBpxkJSF5D0IgN+GtQO5Kcm+ABwnJyoOACYTESSBcuDhxMAZDDDLYluVBtiXLgzzIM5ZkyZql/f6oOulS+5yj7lPdXV3d389avc6urqH3+XWd7jp71/7tOjVY92NnhPGbuJTgm99sLPd7/PrNjh31Gp3Yb+dfXUcn9ou6jk7sF86dKEkT19P0HRExA1gJbI6Ic5rWvSUiroiIcyLCzKiSJEmqrYh4eURcCTwB/B1wMdm190izyg/IOqGOSildUUEV2xYRh0TEhyNiRUQ8HRE7I+LRiLg+Ij4aEYeOss/lEZFaeLyyit+p3+3bB1df3ViuU0qffkiL9Nxz8P3vN5aNX3vWrIH778/Ks2bBxRdXWp0D6re0ZnUendgP8WsenTh7dnV1OZB+O/egvqMT+yV+dbpZQZL6Ta9HOL0ZmA/8ZUrplqZ1ryVLLwKwNyLuBW7LH99IKd3Xu2pKkiRJ7YmIRcC7yK5pF408XdjkYeBLwN+llB7sZd3KiohLgKuAI/OndgHbgGPyx8XAN8iu3UezD3h6nJfY2ZGKDphbb4XHHsvK8+bBBRdUW5+6+fa3s7RSAGedld3lr9YVG6xf/WqY5m2hbXH+l3KK55/xa0/z6ETj157m0YnGT5La0+sOp58l+2fzf46xPoDVwMnAqfnjl4E3Ahf1ooKSJElSq/KUeW8h62i6iBemzNsO/G/gi8D3UuqXe3dbFxHLgX8DZgBfB/4MWJlSSvnvfxrZ9frmcQ7zSEppUbfrOmiKDdavfz1M6fMZePvtDvq63aFu/AZHSvWbf6ifzr/nnoPrr28s2+DfnubRiZdcUm19DqSfzj3Yf3Ti4sXZCEVJUut6/S/L2cCqlNITY6xPKaUlETGVrLNpKXAFsDwizkoprepVRSVJkqSx5CN+3gX8InDwyNOFTW4CrgT+KaX0XI+r1zF5h9KXyTqbPpNS+p3i+pTSNuDm/KEOK074boNre/buhWuuaSwbv/b89Kdw441ZedIkeN3rqq1PK/qp0fq22xqjE+fOdXRiu667rjE68cwz4dhjq63PgfTTuQf7f3dcdpmjE9vld68kldPrDqcjgeZUei+QUtoN3A7cHhH3AT8k+2feDidJkiRVJiI+RpYyb8HIU4XVTwJ/D3wxpXRPr+vWJe8Ajiebi+pDFddlqDzxRJZSD7KRTZddVm192lX1WL5bbsk6TQCOOgqWLau2Pu2qOn7f+U42hxjA+efD4YdXW592VR2/Ymfna17T/6MTm/VT/F7/+urqMRFVxw6MX9nXr3P8JKkf9PqyJ9j/n/KijaM9mVJaERHrgeXdqpQkSZLUov8HSDSuaXcDV5OlzLsmpbS3qop1ycgcq19NKe2otCZDpjh/xPLlcMgh1dWljv7jPxrl17ym/0Yg9Lti/F772urqUVfGb+JSMn5lbN0KN9zQWH7Na6qrSx2tWwcP5rNszpqVff9Kktozqcev9yTZHZIvkFL6ADBnjP3uIJvXSZIkSapakF2fvh84JqX0ppTS1YPW2RQR04Bz8sWVEbEgIj4XEY9ExK6IeDIivhURrdz/Oz8iVkbE1ojYHhEPRMRXIuLi7v0G9dY8QqIO+qlTx/hN3L59L+ywU+s2bYIVKxrLdRmd2C/n3113waOPZuVDD81G2Kl13/teIx3hkiVw9NHV1qcV/XLuwf7fHZdeCgcdVF1dJKmuet3hdDNwZkQsGm1lSmnrGPs9BxzWpTpJkiRJrfor4OyU0pkppb9IKT1TdYW6aBEw0tRyPLAa+FXgCOD5/OcbgKsj4m8jxm0ymgksA3aR/Q9yHPA24PqIuDIiapZwqrv27t1/hFMdG/yrTIv005/CTTdl5UmT4FWvqq4uE1Vl/G6/HZ58MisffjicfXZ1dWlH8ROoyvh997vZ3zBksTviiOrqMlFVxq/Y2fmqV9UjHWG/nHtQ/87ifoqfo+skaWJ63eH0D2R3hH6yzf3mAgN1x6gkSZLqJ6X0OymlYZlXtHjD10fI0ge+GZiVUjoMWAh8NV9/BdmIr2aPAR8DlgLTU0pzyTqflgPX5du8G/hUq5XKR0qN+6Dm2RFuvhmefTYrH3UULF1abX3q5tprG42W558Pc+dWW5+6Kd7h/+pXZ512al0xfjZYt6+OoxP7RfP8Q55/7dm+Hb7//cay558kTUyvLx3/D/Bj4Ocj4uOt7JCn8rgAeKibFZMkSZLqLiIuj4hU4lFsXpnUVH5vSulrKaXdACmlh4G3Arfn2/xB80illNK1KaWPppTuSCntzJ/bm1JaAbwa+Ga+6W9GxEu6EJJaquv8Q/1Sz7reod4v8bPBf+Ka5x+qU/z64fzbssX5h8q4915Yvz4rz5oFL3tZpdVpWT+ce5B1Nu3IZ6s85RRYuLDS6khSbfW0wymllIBfAR4HPhAR346Ikw6w2x8BhwLXHmA7SZIkSZ2zpVBel1L6RvMGKaV9wCfyxXlAy8m38n0/mC9OAn62xf3OPtADWNNqPfpRXTtMiqpKi7RvH3z7243lujZYVxW/TZvgxhuzckQ2wqku+iGt2V13wYYNWbnO8w9VFb/rr6/f/EPQH+ce7P/d8cpX1nP+oX6JX12/OySpH/Q8G25KaX1EvJwshcargLsi4nrg34FbgKeABCwG3gO8EdgGfLrXdZUkSZJq5irg6hL7by6UNxTK43Xg3F0oLwR+0uqLpZTui4hngMPJ5okaes88s//8Q698ZbX1qZvbbqvn/EP94rrr9p9/aP78autTN8XRYXWZf6ifmA6uHEcnluP5J0mdUcnlT0rpgYhYAvwx8D7gUuAVo2wawHbgbSklU+pJkiRJ48jT1u3s0LGejYgNwDEH2LSYDKfi6b7r7zvfadzh/dKX1mv+oX5Ii1S8Q71u8w/1W/xscG1fneNX9flX53SE/WD7dvjBDxrLdYpf1ecewP33w7p1WXnmTLjoomrrI0l1Vtnld0ppa0rpA8AJwIeBG4Fn8tVBlnbvSuCslNL/qaaWkiRJ0lAbSWt9yjjbnFooP9jOwSPiBLLRTW3vO6gG5Q71qtIiDcod6lXEr+4N/lWnNWuef6hO6QibVRG/tWsb8w/Nnl2f+Yeg+nMPBmf+oariV/zsu+QSmD69mnpI0iCo/H6vlNIjKaWPp5QuTCkdCUwHDkopvTildEVK6d6q6yhJkiQNqS/mP0+MiJ9vXhkRk2jMw7QBuLWwbtx7lvP1H88X91EuFeBAaJ5/qM4dJlVonn/ossuqrU/drF7dmH/osMPgvPOqrU/dFOcfWrq0PvMP9Ytig/+ll9Zz/qEq1Xl0XT+oc2e7JPWb0h1OEbExIq6PiE9GxNsj4tQD/XM5npTS7pTSnrL1kiRJklROSukG4Gv54ucj4k0RMQUgIhaQzRm1JF//hymlfYXdF0bETRHx6xFx/Mj/CBExKSJeClwD/EK+7WdTSmu7/gv1uVWr4KmnsvL8+bBsWbX1aVfVaZGK8w+dc0795h+qOn7OP1RO3Ucn9tP5Z4dJ++p8/lV97u3cCd/7XmPZ80+SyunEJeQc4OX5Y8T2iLiT7A7HW4FVwJ0ppd0deD1JkiRJvXM5cATZ9f7XgJ0RsQ04rLDNx1JKXxpl33PzB/l+W4DZwLTCNl8EfqfTla6j73ynUb7ssnrNP9SsirRIxfjVrcG1mfFrX9Vpzeoev6Jex2/HDvjP/2ws1y1+VZ97Dz3UmH9oxox6zz9URfxWrIBt27LyiSfCCSf0vg6SNEg60eGU2H+iYICZwHn5Y8SeiLib/TuhbkspbetAHSRJkiR1QUrp+Yi4BHgP8A7gdLJOow3ADcBnUkorRtn1SeC3gQuAM4H5ZJ1UO8jma1oBXJlS+lHXf4ma+O53G+VXvrK6etSV8Zu4HTvghz9sLBu/9qxfD/ffn5VnzIALLqi0OrVz442N+Yde8hJYsKDa+tRN8bPvooucf6hdfndIUmd1osNpNrAUWAaclf88DZjatN1UsnQbS8jukgTYFxHryDqf/qsjKqW0qQP1kiRJktQBeaq8z+ePVvfZDvxV/tABNDf4X3ppdXWZqCrTIhUb/GfOhJe+tLq6TFSV8VuxotHgv3gxHHtsdXWpo2KD9ctfDtOmjb1tv6ry/LvuukbZBv/21T1+VafUq3v8JKnflO5wykco3Zg/AIiIqWR3Po50QJ1F1tF0cNPuk4GT8sdbC/uvTyl1dBBrRMwDfg64NK/TQrLf/2ngFuBLKaX/3cJxDgF+A3gj8BLgkPwY64AfAJ9u7jCLiMtpTLg8nlellK478GaSJEmSBkmxwf+kk2zwb1dzg/9BB1VXlzoahDv8q2y0HoT4Vanu8avy3Eup/vGr0ubNcPPNWTkCLrmk2vpI0iDoyjSg+VxNq/LHlQD5JMEnsX8n1Fnsn/t9xKIuVOsJ9v99dwC7gWPyxxsj4hrgl8ZK85enErkKODJ/ahewrXCMi4FvALeNUYd9ZJ1TY9nZyi8iSZIkabAU77Cu4+imZr2eh2PQ7lCvMn6ef+2/VrHB3/i1Z9Om/Rv8L764d6/dDb3+2129Gp56KivPmwdLl/b29Tut1/H7/vdh376svGwZzJ3b29eXpEHUlQ6n0aSUErAmf1w18nxELGT/dHxnAUd1oQpTgJuAvwO+nVJ6IH/9RcBHgPcCrwU+S5abfj8RsRz4N2AG8HXgz4CVKaUUETPJ0gi+Edg8Th0eSSkt6shvI0mSJGlgeIf6xO3bN3gN/r20aRPccktW9g7/9g1ag3+v/eAHjQb/s8+2wb9dxc++V7wCJk2qri515HevJHVezzqcxpJSegh4CPivdHYRcUQXXuoVKaXrR3n99cAVEbEH+HXg7RHxBymlRwr1mQl8mayz6TMppd9pOsY24Ob8IUmSJEkt27ix0eA/aVJ97/CvKq3U6tXwdJ5H4vDDYcmSaupRVlXxK97hf/bZcNhoOUhqoKr4FUeH1bnBvx/iV9fO4n6Z/8r4tW8Q4idJ/aYvL4VSSk914Zgv6Gxq8oVC+Zymde8AjidLy/ehTtZLkiRJ0nAblAb/ol6mRRqUBv+iquI3KHf4G79yjN/E9TJ2u3dnI8RGGL/2bNgA99yTladNgwsv7N1rS9IgG4BL8Y7ZUShPblr3zvznV1NKO5AkSZKkDjEdXDmmRCrH82/imhv8jV97NmyANWuy8rRpsHx5tfWpm5tugq1bs/LChXD88dXWp26+971G+WUvgxkzqquLJA0SO5waLi6U7xwpRMQ0GiOeVkbEgoj4XEQ8EhG7IuLJiPhWRLy+hdeYHxErI2JrRGyPiAci4isRcfEB95QkSZI0kAblDv8q0iLt2jU4Df5VxM8G/3J+8hN4/vmsvGhRvRv8qzj/ip2dy5fb4N+u5u+OKlPTldEP6Rzr/N0rSf2m8jmc+kFEHAr893zxhpTS2sLqRcBBefl44DPAbGAX8DxwBPAG4A0R8Xng11IacxDwTGAZsBE4GDguf7wtIr6Y77unxTqvbGGzk1s5liRJkqRqPPoorM3/+5g+fXAa/HuVFummmxoN/scdV+8G/6Jexa/Y4H/hhfVu8C82WlcRvzo3+DerKn51VcW5B4MTv6JexS+lwYyfJPWDoR/hFBGTgL8HXkSWVu99TZsUM6h/BNgNvBmYlVI6DFgIfDVffwXw/lFe5jHgY8BSYHpKaS5Z59NyYOSeincDnyr7+0iSJEmqj+Y7/KdPr64udeSE7+UYv3KM38SlZPzK2LoVbryxsfyKV1RXlzpauzYb4QkwZ042f6IkqTMc4QR/QTZCCeC3Ukp3NK2f1FR+b0rpGyNPpJQejoi3AovJOpT+ICL+sjhSKaV0LXBt8aAppb3Aioh4NfB14I3Ab+b7rjtQpVNKB/w6zEdBLTvQdpIkSZKqMUh3WFedksv4tcc7/MvZuhV+/OPGct0b/Ht9/q1dC489lpVt8G/fDTfAnrzVackSOOKIautTRtXfHZdcApObZ3KXJE3YUI9wiohP0BjR9P6U0pWjbLalUF5X7GwakVLaB3wiX5wHtHyplO/7wXxxEvCzre4rSZIkqb6aG/wH6Q7/XqRFGrQG/6JexK/Y4H/oobCs5rcq9jqt2SA1+DfrRfwGqcG/6nSOfne0b1DjJ0n9YGg7nCLiz4HfzRc/mFL69BibbiiU14xzyLsL5YXt1CWldB/wTL44IFnHJUmSJI3nvvsaDf6HHFL/Bv9eW7Gi0eB/xhkwf3619amb73+/Uf6Zn6l3g38VivEbpM7OXjF+5Ri/idu3D37wg8ay8ZOkzhrKDqeI+Djwe/nih1JKnxxr25TSs+zf6TTmYYu7laieJEmSpCFQbPC66KL6N/j3Oi1SMX4/8zO9fe1uMH71Mmjx6+X5lxL85382lgchfr20eTOsWpWVI+DCC6utT1m9/uy76y549tmsPH8+nHJKb19fkgbd0HU45Wn0RlLYfSil9PEWdhuZf2m8r6FTC+UH26zTCcDhE9lXkiRJUj0NWoN1US/SIhm/cscftPj1Mq3Z1q1wyy2N5Ysu6u7r9Vq347dmDTz1VFaeOxdOP727r9dtvU6p96MfZaN0AM48M0uJOSh6/d3x8pdXM4eUJA2yoepwyjubimn0WulsAvhi/vPEiPj5UY47iUYn1gbg1sK6cb+68vUj9dgHXN1inSRJkiTV1CA2+PfStm1w002N5Ze/vLq61NF998Hjj2flOXNg6dJq61M3K1bA3r1Z+YwzYN68autTN82jOycNVctUeX53lGP8JKm7huZrvWnOpg+Ml0avWUrpBuBr+eLnI+JNETElP+4C4CpgSb7+D1NK+wq7L4yImyLi1yPi+JEOqIiYFBEvBa4BfiHf9rMppbUT+gUlSZIk1cb69fDII1l51iznb2rXj38Mu3dn5VNOgSOOqLY+dVNscL3wwvqnc+w1G6zLMX7lGL+JM52jJHXflKor0At5p9DInE37gA9HxIfH2eUTKaVPND13OXAE8HKyzqedEbENOKywzcdSSl8a5Xjn5g/y/bYAs4FphW2+CPxOC7+OJEmSpJorNhguXw5TBuA/s16mJRrEBlfjV47xK6dX8RvE0Z29PPcGMZ1jL+M3aOkcJakfDcC/NS2Z1FQ+8gDbz2p+IqX0fERcArwHeAdwOlmn0QbgBuAzKaUVoxzrSeC3gQuAM4H5ZJ1UO8jma1oBXJlS+lE7v5AkSZKk+hq0Btdm3Z6Hw/iVO7bxm7hhSOfYzfgNejrHbn/2DXo6x15+d5jOUZK6Yyg6nFJK64HS90zkqfI+nz9a3Wc78Ff5Q5IkSZIGvsG/m3bsyFLqjTB+7TGdYzmmcyzHdI7l+N1RjvGTpO6zL1+SJEmSeuiRR+DBB7PyjBlwzjnV1qdTepUW6aabYOfOrPySl8CLXtSb1+22XsVvENM5QjXxG6QGa+M3caZzLKeqdI6DODpRkvqBHU6SJEmS1EPFBq+XvQwOOqi6unRLN9MiDWKDazPjV47xK6db8TOdYzmmcyynmM7xkEPgzDO791qSNMzscJIkSZKkHhr0BtduM37lGL+JM51jOaZzLMd0juWYzlGSesMOJ0mSJEnqoUFt8O9FWqRdu2DFisay8WvPoKZz7JVBTecIvTn/BjWdY6/43VHOoMZPkvqNHU6SJEmS1COPPw7r1mXladPgvPOqrU+3dCst0i23wPbtWfm44+DYY7vzOlXrVvwGOZ1jsdG6F/Eb5AZr49eeXpx7MLjxKzKdoyTVnx1OkiRJktQjxQavl74Upk+vri51ZINhOcavHONXjvGbONM5llNM53jwwaZzlKRussNJkiRJknrkhhsa5UFrMOxFWiTjV84gx6/bdu+GG29sLA9a/Lp9/m3YYDrHMm65xXSOZRQ/+5Yvh6lTu/+akjSs7HCSJEmSpB750Y8a5QsvrK4e3daNtEj79u3f4G/82vPMM7B2bVaeOhXOPbfzr1Glbqc1u/122LYtKy9YMLjpHKE78St+9p1/vukc2+V3RznDEj9J6gd2OEmSJElSDzz3HNx5Z1aeNClLqafW3XMPbNqUlY84Ak44odr61E2xs+7ss7NRJmrdihWN8vLl1dWjroxfOcavHOMnSb1jh5MkSZIk9cBPfpKN0gFYsgRmz662Pp3W7bRIxTvUly/vTRqmXup1/NSeQY+f51//SmmwO0y6fe5t2gR33ZWVJ0+G887r7utJ0rCzw0mSJEmSeqDY4Pqyl1VXj17odkou49e+QY9fN9OapTT48SvqdPyefx5WrWosD9rozm6n1Lv33iwlJsDcubB4cedfo190I3433tg47tKlMGtW519DktRgh5MkSZIk9YB3+Jdj/CZu1y64+ebGsvFrz8MPw4YNWXnWLDjjjGrrUzc33wx792bl006Dww6rtj5109zZOcmWvLYM8ugwSepHfk1JkiRJUpft3Qs//nFj2Uav9jz5JNx/f1aeNg2WLau2PnVz662wc2dWPuEEOPLIautTN8UG65e+FKZMqa4udWRncTl2mJTj+SdJvWWHkyRJkiR12Z13wtatWfnoo2HBgmrr0w3dnIej2OB6zjlZp9Og6VX8BjUdXDfjNwzp9Dz/Jq6X818Zv/bs2ZPNnzjCDidJ6j47nCRJkiSpy5rvsO52A2XVOj0Px7DdoW78yjF+5XQyfvv2OUKnjJ/+FNasycpTp8K551Zbn27r9N/u7bfDtm1Z+dhj4cUv7uzxJUkvZIeTJEmSpFFFRGrjcf04xzkyIj4ZEWsjYntEPBsRN0TEFRGD3vWSscG1HOM3cSkNX4dJJ23ZAnfckZUjspR6at0998CmTVn5iCOylI5q3Y03NsrLlsGMGdXVpY787JOk3jPzsCRJkqSxPHmA9VOBuXn55tE2iIizgW8D8/KntgKzgQvzxy9FxM+llHaVr27/GvSUSNC9UVs7dsDKlY3lCy7ozutUrVvxe/DBbA4sgDlz4NRTu/M6VetW/H7yk2yUDsAZZ8Ahh3TndarWrfg1p9MbjlsMOsfvjnK8WUGSes8RTpIkSZJGlVI6arwH8KeFzb/QvH9EzAGuJutsWgOcm1KaDRwMvA/YDbwa+HTXf5kKbdgADz2UlWfOhDPPrLY+vdDJtEi33AK78u7IxYth/vzOHbtfdTJ+xQbrCy6ASUPQCtCt+A1Lg7XxK8f4TZzpMCWp/obgUlOSJElSl7w3//nDlNLaUdZ/EDgK2A68LqV0C0BKaVdK6a+BP8q3+7WIWNz12lak2OB13nnZPBxqnQ2G5Ri/coxfOcZv4nbtgpsLY4eNX3sefhgefTQrz5qVjVCUJHWfHU6SJEmS2hYRLwNOyRc/P8Zm78x//lNK6cFR1n+GLMXeZOBtna1h/xiWlD69SMll/No3LPHrhr174cc/biwPcvy6cf499RTcd19WnjYtm4NIrVu1KkspCnD88XDUUdXWp1t68dl3/vkwxUlFJKkn7HCSJEmSNBEjo5s2A19tXhkRJwEL8sVrRjtASmkrcEO+eFmnK9gvhmEOjmadSouU0gvngBkGnYrfpk2wenVWnjw5G2E3qIqN1p2K3+rVsGVLVn7Ri2Dhws4ct991Kn7Fv91zzsk6nQZVN84/vzvKcXSdJFXDDidJkiRJbYmIWcBb8sWrUkrbRtns9EJ59TiHG1l3aifq1m+efz67S33EBRdUV5c6uvdeeOaZrDx3Lpx0UrX1qZsf/7jRgHvmmXDwwdXWp26aG6y7NRJjUNngX47xK8f4SVI17HCSJEmS1K63ArPy8ljp9I4ulDeMc6yRdYfkHVkDZeXKLC0XwKmnGmUgTwAAIABJREFUwmGHVVufbupGY3wxndkFF8CkAf4PttvxG5YREp00TPHz/Os/wxK/bpx727bBHXc0jn/++Z1/DUnS6MxgKkmSJKldV+Q/b08prRxjm9mF8mgjoEZbN5tsTqcxRcRYr1d0cgvb9MRPftIoD1ODV6fSIhm/coYpft1IaTZM8SvqRPx278463EcMevwiGnHrRPwefRQeeywrH3wwnHZa+WPWQaf+dos3e5xyCsyZ05njSpIObIDvD5MkSZKGS0RcHhGpxOM1LbzGacBI0+FYo5uUu+mmRnnQG1y7wfhNXErGr4yNG7OUjgBTpsBZZ1Vbn7q56y7Yvj0rL1gARx1VbX3qpvi3e8452Rxsap2ffZJUHUc4SZIkSWrHyOimHcBXxtluS6E8E3hujO1mjrHPqFJKZx9om3wU1LIDbdcLwzpCohO2b4fbb28sn3dedXWpo/vvh2efzcrz5sEJJ1Rbn7q5+eZGeelSmDGjurrUkZ995Ri/coyfJFXHDidJkiRpcFwFXF1i/83jrYyIg4C354v/mlLaNM7mjxXKxzB2h9Mx+c/nUkrjptOrm8cfh0ceycozZsDpp1dbn27rdEqzVatgz56sfNJJcOih5Y/Zzzodv2KD63nndWeelH7SzfgNQ4O18SvH+E2c6TAlabDY4SRJkiQNiJTSTmBnF1/ijcDheflA6fRWF8qnA/eMsd1IN8zdJerVl4opfc4+O0vLpdY1d5ioPcavHONXjvGbuL174ZZbGsvGrz1PPAEPP5yVh+FmD0nqN87hJEmSJKlVI+n07gN+cIBt7wXyJh9GnRsqIg4GLsoXry1duz7jHdblOAdHOcZv4pz/qpznnoN78lsMJk/OOtzVurvvhuefz8pHHw0vfnG19akbb/aQpGrZ4SRJkiTpgCJiAfDKfPHKlMZPfJOv/3K++NaIWDTKZr8FzAL2Av/QmZr2j2HrcOp0yjbjN3E7d2YpCUcMwwiJTsZv/Xp4+umsPGcOLF7cuWP3q07G75ZbGqnRzjgDZs4cf/tB0Mn4+dlXzrDFT5L6jR1OkiRJklrxHrL/H/YAf9fiPp8AngBmAv8WEWdDNhdURPwG8D/y7T6XUrq3s9Wt1r59cPPNjeVhaPAvKjsPx9NPw4MPZuVp02DJkvJ1qpOy8bv9dti1KyufcALMm1e+TnVSNn7FButzz4VJQ9Zy0sn4DdtnH5SPX3GEzrDFrxvz10mSesuBpZIkSZLGFRGTgHfni/+eUnq8lf1SSpsj4g3At4FTgVsiYgswHZiab3Yt8P4OV7lya9bAli1Z+cgjYcGCautTN8UGw7POgoMOqq4udeQd/uUYv3KMXznGb+Kab/YwfpLUe0N2n44kSZKkCXglMNJl8vl2dkwprQROAz4FrCPraHoe+CHwq8BrU0o7O1fV/tDcYNjplEH9qJO/4zDOn2P8yjF+5XQqfikNZ4dJp+K3dSusXt045jnndOa4/ayTf7tr12ZziIE3e0hSVRzhJEmSJGlcKaVrgQk3CaWUngQ+kD+GwjCnRAJTcpVl/MopE7/du+HWWxvLxq89jz4KTzyRlWfNgpNP7kyd6qRM/G69NRulA3DqqTB7dmfqVBed/uwbhps9JKnfOMJJkiRJkjpsGO/w75R9+4ZzhEmnPPssrFuXladOhTPPrLY+dXPHHbBjR1ZeuDAbJaHWNc9/NXlydXWpI787yjF+klQ9O5wkSZIkqYO2bcsarUece251demlTt1Jft99sGlTVp43D44/vjPH7Xedil9x/pIzz4Tp0ztz3GExrJ2dnTr/hjV+nTKMHSamw5SkwWKHkyRJkiR10KpVsHdvVj75ZJgzp9r6VKFMWiRTInU2fsOieJ4Yv3KMX/s6df6ZjnXi+27fvv/NHsMw/5Uk9SM7nCRJkiSpg4bxDvVOMn7lGL9yjN/E7dkDt9zSWDZ+7Xn8cXjkkaw8cyacfnq19ambW2/NzkHIbvY49NBq6yNJw8oOJ0mSJEnqoGFN6WNKrnI6Eb+Uhjd+nbB5M6xZk5UnT4Zly6qtTy914vy7++4spSjAi18MRx9d/pjDpPi3e/bZMGVKdXXpJb87JGmw2OEkSZIkSR1UnENnWOZvajbRtEi7dsHttzeWjV97HnoInnkmK8+ZAyee2Lk69btOpDRbubJRPv30bJTJMJpo/Ib5s68T598wx29EmZR6xk+S+oMdTpIkSZLUIRs3wgMPZOWpU+GMM6qtT92sXp11OgEsWgTz5lVandopdpicfTZM8j/+thTj5/wv7TN+5Ri/coyfJPUHLz8lSZIkqUNuvbVRPuMMmDaturrUUXOHidpj/MoxfuUYv4lLyfiV8dxzcO+9WXnyZFiypNr6SNIws8NJkiRJkjpkmBsMOzEPh/Erx/iVY/wmbvfu/dNhGr/2PPooPP10Vp49e3jTYU7UqlWN8mmnwYwZ5Y8pSZoYO5wkSZIkqUOGucG6qBNz6Bi/9vcxfpmJxG/zZrjvvqw8Zcpwj5CYSPzuvht27szKCxbA4Yd3tk51MpH4Ff92ly0b3nSYfndIUv0N6VeYJEmSJHWejV4Tt2sX3HFHY9n4tefhh+GnP83Kc+bACSdUW5+6KabDPO00mD69urrUkZ995Ri/coyfJPUPO5wkSZIkqQM2bYL778/KU6dmczgNk7Jpke66K+t0Ali4EObNK1+nOikbv+YREp1IU1UnnYzfMDZYG79yjN/EmQ5TkgaLHU6SJEmS1AHFERKnnw7TplVXl6qVTSk17A2Gxq8c41eO8Sun3fiZDrNhIufeli1w771ZefJkWLq0s3WSJLXHDidJkiRJ6gAbDMsxfuUYv3KM38Tt2QO3395YNn7t2bABnnoqK8+eDS95SbX1qZtVqxodVaeeCjNmVFsfSRp2djhJkiRJUgcMe4O1KaXKKRM/R0iUi9/mzbBuXVaePBmWLOlMneqkTPzuvht27MjKxx4L8+d3pk51UiZ+xb/ds86CSUPWUud3hyQNliH7GpMkSZKk7rDRq6HdtEi7d8MddzSWjV972z/yCDzzTFY+5BA44YTO16lO2o3fqlWN8mmnOUKi3fj52bc/4zdxpnOUpPqzw0mSJEmSStq8Ge67LytPmQJnnFFtferm7rth586svGABHH54tfWpm+L8YcuWDd8IibKK8bPBun3Grxw7TMrx/JOk/uJlqCRJkiSVVGzwOv10mD69urpUpVMppYa1wdD4Vcf4ef5VxXSY5c69rVthzZqsPGkSLF3amTpJkiZuaDqcImJeRLw7Ir4SEXdHxPMRsTMiHo2Ib0TEL7R4nEMi4sMRsSIini4c4/qI+GhEHDrOvrPzbe6MiK0RsTkibo6I342Igzr320qSJEnqpWFvMGxmSqlyjF/7io3Wxq+cduK3Zw/cdltjeVjjN9Hz77HH4Mkns/KsWbB4cWfrVTft/u3edltjn1NPhZkzO18nSVJ7plRdgR56gv1/3x3AbuCY/PHGiLgG+KWU0rbRDhARlwBXAUfmT+0CthWOcTHwDeC2UfZdCHwfWJQ/tQ2YBpyTP94WEZemlDZO9BeUJEmSVA0brMsxfhPnCIlytmyBe+/NypMnO0KiXWvWwPbtWfnFL4Yjjqi2PnVT/Ns96yzTYbbLzz5J6j/D9FU2BbgJ+E3ghJTSjJTSLOA44Av5Nq8FPjvazhGxHPg3ss6mrwPnAtNTSocBBwPnAX8CbB5l3ynAt8g6mx4HXpVSOhiYCbwV2AKcBXylE7+oJEmSpN6y0Wvi9uyB229vLBu/9mzYAE89lZVnz4YTT6y2PnWzatX+IyRmzKi2PnXjZ185xq8c4ydJ/WeYRji9IqV0ffOTKaX1wBURsQf4deDtEfEHKaVHRraJiJnAl4EZwGdSSr/TdIxtwM35YzTvAkamDX5TSunGfL99wD9HxCTgH4HX5aOcvlvi95QkSZLUQ5s3w7p1WXnyZDjjjPG3H1QTTSl1992wY0dWPvZYmD+/s/Wqi4nGzxESmU7Eb5gbrDsRv2XLOlefuvH8m7hOpcMc5vNPkvrJ0FyKjtbZ1OQLhfI5TeveARxPlpbvQxN4+XflP68f6Wxq8k/Ag3n5nRM4viRJkqSKrFrVKJ92miMk2mWDaznGrxzjV47xK8f4Tdzzz2cpHSHraD/zzGrrI0nKDE2HUwt2FMqTm9aNdAJ9NaW0gzbko6OW54vXjLZNSikB/5EvXtbO8SVJkiRVq9jhZINh+4xfOcavHOM3cXv3mg6zjCeeyB4ABx8MixdXW5+6ueMO2LcvK598chZDSVL17HBquLhQvnOkEBHTaIx4WhkRCyLicxHxSETsiognI+JbEfH6MY57Co04rx7n9UfWHRURcydQf0mSJEkVuO22RnmY77AupkVqh/HLGL9yJhK/7dsbIyQiYMmSztapTiYSv/vvz0aZABx5JBx1VGfrVCcTiV/xb3fJkiwl6zDys0+SBsswzeE0pog4FPjv+eINKaW1hdWLgIPy8vHAZ4DZwC7geeAI4A3AGyLi88Cv5SOWRhxdKG8YpxrFdUcDzx6gzivHW587uYVtJEmSJJVQvMPfRq9Mq/NwpGT8RtNq/H76U3j00aw8bRqcdFL36lQnrcbvrrsaIyRe8hJHSIxoNX7+7Y7O+E1cO3M4GT9J6k9DP8IpIiYBfw+8iCyt3vuaNjmsUP4IsBt4MzArpXQYsBD4ar7+CuD9TfvPLpS3jVOV4rrZY24lSZIkqW/s2gV3391YHuYREhOxfj0891xWnjsXjjmm0urUTrHB9fTTYYq3lLalOEJi6dLq6lFXxq8c41eO8ZOk/uTlKPwF2QglgN9KKd3RtH5SU/m9KaVvjDyRUno4It4KLAaWAn8QEX+ZUtrTzUqnlA6YHTkfBbWsm/WQJEmShtk998Du3Vl50SI49NBKq1OpiaRFar5DfaKplQZBJ+I3zIxfOcavHOM3cROJ3d69cOedjWU7nCSpfwz1CKeI+ASNEU3vTyldOcpmWwrldcXOphEppX3AJ/LFeUCxM6i4/8xxqlNct2XMrSRJkiT1jWKDoQ1eDa2mRfIO9dEZv3KMXznGr5xW4rd9O6zNJ3OIyEYoqvVz7777YFueJ+ioo7I5xCRJ/WFoO5wi4s+B380XP5hS+vQYmxbnVlozziELiTRYWCg/ViiPlyCiuO6xMbeSJEmS1DectLwc7/Avx/hN3L59xq+MZ56BDXlryfTpsHhxtfWpm9WrG/OHLV7s/GHt8m9XkvrXUHY4RcTHgd/LFz+UUvrkWNumlJ5l/06nMQ9b3K1QvgfILyMY756VkXVP5K8pSZIkqc85wqlhImmRHCHR0G78nD9sf+3Gb/162JLnFpk3D44+uuNVqpV24+f8YftrN35+9jX43SFJg2XoOpzyNHofzBc/lFL6eAu7XZv/PGWcbU4tlB8cKaSUtgE/yhdfM0adAnh102tJkiRJ6mMpOcJpLK2kRdq0KWv0B5g6FU4Z77+tIdNK/Irzhx13HMyZ09061Ukr8XP+sLFNJH5qMH4T12pKPeMnSf1rqDqc8s6mYhq9VjqbAL6Y/zwxIn5+lONOotGJtQG4tWmTL+U/L4mI80c5/puB4/Pyl1uskyRJkqQKbdgAz+a5CQ45BBYtqrQ6tXPHHY3yqafCQQdVV5c68g7/coxfOcavHONXjvGTpP41NB1OTXM2fWC8NHrNUko3AF/LFz8fEW+KiCn5cRcAVwEjCQz+MKW0r+kQXwLuJEu7968RcWm+76SIeDPwt/l216SUvtvmryZJkiSpAs0NXsM+QqJMSinvUDd+veYIif15/vXOvn37d7gPe/zaPfeefhoey2c+nzHD+cMkqd8MRYdT3ik0MmfTPuDDEfHEOI8PjnKYy4H/BOaRdT5tjYhngYeAt+TbfCyl9KXmHVNKe4CfA9YDxwDXRcTzwPPAvwCHAKuAt3XmN5YkSZLKi4jUxuP6Ufb/aIv7nljF71eW8zeNzZRS5Ri/9hUbrVuJnx0mYztQ/HbuzFI6jhj2+cOgvfPvwQcb84fNnw8velH36lU37X72nXEGTJ7cvfpIkto3LNM6TmoqH3mA7Wc1P5FSej4iLgHeA7wDOB2YTZZC7wbgMymlFWMdMKW0PiKWkKXe+0XgOGA3cBfZCKnPpJR2tfwbSZIkSd335AHWTwXm5uWbx9luN/DsOOv3tFOpfmGDdTmmRJq45vnDjF97Nm2Chx7KygcdBCefXG196ubuu2FP/ql9/PFZSlG1rvlmhWEfHdsuP/skqb8NRYdTSmk9WTq7ssfZB3w+f0xk/y3AH+UPSZIkqa+llI4ab31E/C7wiXzxC+NsuiKldHGn6tUvHOE0cbt3w113NZaNX3sefRQ2bszKc+bAwoXV1qduin+7p50GU6dWV5c6cnRdOd6sUI7nnyT1t6FIqSdJkiSpK96b//xhSmltpTXpsa1b4b77svLkyVmj9bBrJ6XU2rVZWi6AY4+FuXPH334YtBM/5w97oXbiZ2fxC5U5/+T5V0aZdJjGT5L6jx1OkiRJktoWES8DTskXJ5QBoM7uvLPRMHbSSdnE5Wqdd6iXY/zKcYRJOZ5/5Xj+TdyOHbBmTWPZ+cMkqf/Y4SRJkiRpIkZGN20GvlplRapgg2E53qFejvErxxEmE+f8YeVs3AgPP5yVDzoou2FBrSvOH3bCCTB7drX1kSS9kB1OkiRJktoSEbOAt+SLV6WUth1gl9MiYnVEbIuIrRGxNiL+NiLO6nJVu8Y7/F+onbRuxu+FjF85rcZv925YvbqxbIdJptX4PfIIbNqUlQ89FBYs6F6d6qTV+BX/dk8/3fnDwM8+SRo0U6qugCRJkqTaeSswKy+3kk7vcGAusAk4BFicP94bEX+aUvpIV2rZRd7hP75//Ef4znfGXj9yhz8Yv9H8r/8Fn/vc2OsfeCD7OXkynHpqb+pUJ+97H/z+74++bs8e2LUrKy9YAIcd1rt61cUb3wjTp4++bseORtn5w0a3bFn2tzmaLVsaZT/7Xui557KRS2PZuLFRNn6S1J/scJIkSZLUrivyn7enlFaOs9064EPAN4EHU0q7I+Ig4GLgT4GzgT+MiI0ppU+28sIRMd7rjTi5lWNN1N692RxOI2z0ykyb1ihv2bJ/w+pYZs2C44/vXp3qpBi/jRv3b1gdyymnjN0xMGyK8XvqqexxII6QaCjG77HHWtvH+DUU4/fQQ63tY/wyU6ZkHZcj8yKOdKgfiPGTpP5kSj1JkiRpQETE5RGRSjxe08JrnAacny+OO7oppfQPKaWPp5TuTSntzp/blVK6FrgQuDnf9KMRMafEr95Tjz7aaBg76ig48shq69MvfvZn20uvFQG/93swyf9KAfhv/w0OP7z17adMgQ98oHv1qZt3vjPrwGzVjBnw27/dvfrUza/+ajanUKsOPRR+7de6V5+6+Y3faO+z7Nhj4Vd+pXv1qZODD4b3vKe9fc48Ey67rDv1kSSVE2nkPyUNnIhYuWzZsmUrV7ZyE6gkSVItmLxnHBFxOfDFEod4bUrpPw7wGp8C/m9gB/CilNKmib5YRLwSGEm89qaU0tcneqym43b9OnjvXli3Dp54Ai6+uGsvUzt798L69a1te8ghMH9+V6tTOzt3Zh2arZg713RwzbZuhSefbG3bI49sr4NqGGzcCM8+29q2L37x/qN6BE8/naWEa8XChVmnsRoeewy2bz/wdpMnZ/EbwnSOw/cbS6olv94kSZKkwXEVcHWJ/TePtzJPh/f2fPFfy3Q25W4slGuVWG3yZDj55OyhhsmTx59/Q+ObNs34lTFrlp1IZRx2mJ2YZcyfbyd6GUcfXXUNJEmdYIeTJEmSNCBSSjuBnV18iTcCI0m/xk2nJ0mSJEkaLmbLliRJktSqK/Kf9wE/6MDxXlooP9iB40mSJEmSKmKHkyRJkqQDiogFwCvzxSvTASaDjRh/doWImAb8Sb74PPDd0pWUJEmSJFXGDidJkiRJrXgP2f8Pe4C/a2H7l0fEdRHxjoh48ciTETE1Ii4FbgDOz5/+4w7MByVJkiRJqpBzOEmSJEkaV0RMAt6dL/57SunxVnYDLs0fRMR2spFMc4Cp+Tb7gP+ZUvrzztZYkiRJktRrdjhJkiRJOpBXAgvy8udb3OdO4IPABcAZwOHAocA24G6yEU6fSynd2dmqSpIkSZKqYIeTJEmSpHGllK4lG7HUzj4/BT7ZnRpJkiRJkvqNczhJkiRJkiRJkiSpFDucJEmSJEmSJEmSVIodTpIkSZIkSZIkSSrFDidJkiRJkiRJkiSVYoeTJEmSJEmSJEmSSrHDSZIkSZIkSZIkSaXY4SRJkiRJkiRJkqRS7HCSJEmSJEmSJElSKXY4SZIkSZIkSZIkqRQ7nCRJkiRJkiRJklSKHU6SJEmSJEmSJEkqxQ4nSZIkSZIkSZIklWKHkyRJkiRJkiRJkkqxw0mSJEmSJEmSJEml2OEkSZIkSZIkSZKkUuxwkiRJkiRJkiRJUil2OEmSJEmSJEmSJKkUO5wkSZIkSZIkSZJUih1OkiRJkiRJkiRJKsUOJ0mSJEmSJEmSJJVih5MkSZIkSZIkSZJKscNJkiRJkiRJkiRJpdjhJEmSJEmSJEmSpFLscJIkSZIkSZIkSVIpdjhJkiRJkiRJkiSpFDucJEmSJEmSJEmSVIodTpIkSZIkSZIkSSrFDidJkiRJkiRJkiSVYoeTJEmSJEmSJEmSSrHDSZIkSZIkSZIkSaXY4SRJkiRJkiRJkqRS7HCSJEmSJEmSJElSKXY4SZIkSZIkSZIkqRQ7nCRJkiRJkiRJklSKHU6SJEmSxhURr4qIf4mIhyJiR0Rsj4gHIuIfIuJnWth/dkR8NCLujIitEbE5Im6OiN+NiIN68TtIkiRJkrprStUVkCRJktSfIiKAvwF+vfD09vzncfnjVyLiUymlD4xxjIXA94FF+VPbgGnAOfnjbRFxaUppY8d/AUmSJElSzzjCSZIkSdJYLqfR2fQ1YHFKaWZKaSZwMvDNfN37I+IXmneOiCnAt8g6mx4HXpVSOhiYCbwV2AKcBXyli7+DJEmSJKkH7HCSJEmSNJZ35j/vA345pbRuZEVKaS3wZuCB/Km3jLL/u4Az8vKbUkrX5fvuSyn9M43OrNdFxKWdrrwkSZIkqXfscJIkSZI0lhflP29PKe1pXplS2g3cli/OGmX/d+U/r08p3TjK+n8CHszL7xxlvSRJkiSpJuxwkiRJkjSWkdFLS/P0ePuJiKnAmfniLU3rZgLL88VrRjt4SikB/5EvXla6tpIkSZKkytjhJEmSJGksf5P/PBG4KiJOHFkREScB/wIcD9wPfKpp31No/L+xepzXGFl3VETMLV1jSZIkSVIl7HCSJEmSNKqU0reA9wO7gF8C1kXEtojYBqwBLibrlDovpfRc0+5HF8obxnmZ4rqjx9xKkiRJktTXXpAWQwNl0T333MPZZ59ddT0kSZI64tZbb/2HlNLbqq7HMEkpfToi1gFXAkcAMwqrDyKbu2kO8GzTrrML5W3jvERx3ewxt8pFxMoDbQMs9TpYkiQNCq+BJdWFHU6D7bnt27dz6623ru/y65yc/1zT5ddR+3xv+pfvTf/yvelfvjf9y/emT0TE5cAXSxzitSmlkTmVRuZh+iLwFrI5mt4OrMpXnwX8KfAO4LURcWlK6Y4Sr91Je7dv377Z6+Ch5nvTv3xv+pfvTf/yvelfvjeSVGCH0wBLKR3Xi9cZucs0peQtpH3G96Z/+d70L9+b/uV70798bwbax8k6m9YCF6WUdhTWfScifgjcBiwG/hq4qLB+S6E8c5zXKK7bMuZWuX46zzz3+5fvTf/yvelfvjf9y/emf/neSNL+7HCSJEmSBsdVwNUl9t88UoiI2cCv5Yt/3dTZBEBKaXtE/BXwl8CFEXFESumpfPVjhU2PAcYa/XRMofzYGNtIkiRJkvqcHU6SJEnSgEgp7QR2duhwi2n8v3D/ONutK5SPA0Y6nO4B9gGTgNOBa8bY//T85xMppeZ5oCRJkiRJNTGp6gpIkiRJ6kv7CuWF42x3ZKH8XynxUkrbgB/li68ZbceICODV+eK1E6ijJEmSJKlP2OEkSZIkaTRrgO15+YqIeEF2hIiYTCPt3kayuZ6KvpT/vCQizh/lNd4MHJ+Xv1yuupIkSZKkKtnhJEmSJOkFUkrbgc/ni8uAb0XEGRExKX8sAf4deFm+zadTSnubDvMl4E4ggH+NiEsB8v3fDPxtvt01KaXvdvP3kSRJkiR1l3M4SZIkSRrLh4GXkKXEG3mMzBE1rbDdVcCfNO+cUtoTET8HXA8sAq6LiG1kN75NzzdbBbytG5WXJEmSJPWOI5wkSZIkjSof5fQ6stR33wQeJRutBPAI8K/AG1JKvzLK6KaRY6wHlgB/DKwGErAbWAl8EHhpSmljF38NSZIkSVIPOMJJkiRJ0phSSgn4Wv6Y6DG2AH+UPyRJkiRJAyiy/x8lSZIkSZIkSZKkiTGlniRJkiRJkiRJkkqxw0mSJEmSJEmSJEml2OEkSZIkSZIkSZKkUuxwkiRJkiRJkiRJUil2OEmSJEmSJEmSJKkUO5wkSZIkSZIkSZJUih1OkiRJkiRJkiRJKsUOJ01YRMyOiI9GxJ0RsTUiNkfEzRHxuxFxUNX1G0QRMS8i3h0RX4mIuyPi+YjYGRGPRsQ3IuIXWjiG71uPRMTvR0QaeRxgW9+XHoiIQyLiwxGxIiKeLvz9XJ/H/9Ax9vP96aKIeFVE/EtEPBQROyJie0Q8EBH/EBE/c4B9fW8mICJmRsRrI+IjEfH1PPYjn1cfbfEYR0bEJyNibf6ePRsRN0TEFRERLex/QkR8NiIezN/3pyPi2xHxptK/oNRFfu5Uw+vgevE6uP94HdyfvA7uPa+DJam7IqVxr/2kUUXEQuD7wKL8qW3AZGBavrwKuDSltLHnlRtgEbEbmFJ4agewFziZeLZdAAAVJUlEQVS48Nw1wC+llLaNsr/vW49ExEnAbcD0kedSSqNeePq+9EZEXAJcBRyZP7WLLNbFf67PSind1rSf70+X5P+M/Q3w64Wnt+c/ZxSe+1RK6QOj7O97M0ERcTFw/RirP5ZS+ugB9j8b+DYwL39qK9nn3ch31LeBn0sp7Rpj/9cBXwVm5k89B8yicTPUF4H3Ji9U1Wf83KmO18H14XVw//E6uP94HVwdr4Mlqbsc4aS2RcQU4FtkFzaPA69KKR1M9mX5VmALcBbwlarqOMCmADcBvwmckFKakVKaBRwHfCHf5rXAZ5t39H3rnYiYBFxJdtF54wG29X3pgYhYDvwb2T/ZXwfOBaanlA4ja6g6D/gTYHPTfr4/3XU5jX+yvwYsTinNTCnNBE4Gvpmve3/zneu+Nx2xEfgu8HHgl4EnWtkpIuYAV5P9k70GODelNJvsb+l9wG7g1cCnx9j/OOBfyN6rHwEnpZTmAHOAP843ezfwexP6raQu8XOncl4H14DXwf3H6+C+dTleB1fJ62BJ6paUkg8fbT2A9wIpf1wwyvpfLqy/tOr6DtIDuOQA6/+/QuyP9X2r7H36v/I4fgX46Ehcx9jW96X778dM4P48hn/Z5r6+P919b67PY7cOmDLK+qmF9+4q35uOxn7yKM+tz+P10QPs+z/y7bYBx42y/r/n6/eQNZ40r//7fP3jwKGjrP9svn4zcFjVsfLhY+Th507l8fc6uAYPr4P76+F1cP8+vA6uNPZeB/vw4cNHFx+OcNJEvCv/eX1KabS71v4JeDAvv7M3VRoOKaWxhn2P+EKhfE7TOt+3HsjvWPoT4KfA+1vYxfel+94BHE9219qH2tzX96e7XpT/vD2ltKd5ZUppN1lKHsjSTBT53pSQUtpbYveReP5TSunBUdZ/hiy1yGTgbcUVEXEwMJKb/m9SSptG2f/P8p+HAD9fop5Sp/m5UyGvg/uf18F9yevg/uV1cEW8Dpak7rLDSW2JiJnA8nzxmtG2SSkl4D/yxct6US/9lx2F8uSRgu9bT/0t2XD6D6SUnh5vQ9+Xnhn5p+CrKaUd425Z4PvTEw/kP5fmqUH2ExFTgTPzxVsKz/veVCSfl2NBvjhW7LcCN+SLzbG/kMa8BGPtvx64Z4z9pUr4uVMLXgdXz+vg/uN1cP/yOrhmvA6WpNbY4aR2nULjvFk9znYj646KiLndrZIKLi6U7yyUfd96ICJ+FbgUuC6l9OUWdvF96bKImEbjLueVEbEgIj4XEY9ExK6IeDIivhURrx9ld9+f7vub/OeJwFURceLIivwfun8huyv3fuBThf18b6pzeqHcSuxPLbn/aS3WS+o2P3f638WFstfBPeZ1cP/xOrjveR1cP14HS1IL7HBSu44ulDeMs11x3dFjbqWOiYhDyfIFA9yQUlpbWO371mURcQzZhKPbaUz+eiC+L923CDgoLx9PdvH+q8ARwPP5zzcAV0fE30ZEFPb1/emylNK3yFLu7AJ+CVgXEdsiYhvZJLwXk/0zfl5K6bnCrr431Wk39odERDENzMj+G1NK21vY3/dN/cLPnT7mdXC1vA7uW4vwOrhveR1cS14HS1IL7HBSu2YXytvG2a64bvaYW6kjImIS2eSTLyJLJ/K+pk1837rvs8AcsklGHzjQxjnfl+47rFD+CLAbeDMwK6V0GLAQ+Gq+/gr2n2/A96cHUkqfBn4ReCp/agaNVBMHkeWsn9O0m+9NdcrGfvYo68fb3/dN/cLPnT7ldXBf8Dq4P3kd3Oe8Dq4dr4MlqQV2OEmD4S/I7k4D+K2U0h1VVmbYRMTbgdeTTer6/1ZcHe1vUlP5vSmlr+WT8JJSehh4K3B7vs0fjJZDXd0RETMj4p+Bq4GHyfKUz88flwF3k012fVNELKmsopKkfuZ1cIW8Du5rXgf3Ma+DJUmDyg4ntWtLoTxznO2K67aMuZVKi4hP0LiT8/3p/2/v3oMsqeoDjn9/LA9ZFlZAIQ+RRdFEBCrUIkISCCIBQRJWolSKgJAYSBGJMRUFSSIupkxRgKVFwEJjiUtBCFJEkCoUUF4BIhYYIYK8DMuahRBe4i4Li7K//NHnZpq799559H3NzPdT1dV9uk93n3tOzczvzOl7OvMrHbLZbgMSETsCnwdeAU7MzF9M43TbZfDq9fVwZl7VniEzNwDnluT2wNIO59o+g3EOcDTwILB/Zt6QmU+X5QbgAOAh4HXABbXzbJvRaVr3azoc73W+7aZx4e+dMWQcPFrGwWPPOHi8GQfPPsbBkjQFDjhpuh6vbf9qj3z1Y493zaVGIuJs4K9L8mPlK/md2G6DcxZV5+xLwAMRsai+MDFvOrX9rX22y+DV59Z+oEe++2vbO5e17TNAEbE1cFJJXpCZL7XnKXObn1+Svx0RO5Rt22Z0plv3P8vMtR3O3zYitqS71vm2m8aFv3fGjHHwWDAOHm/GwWPKOHjWMg6WpClwwEnT9SNgQ9nevUe+1rH/ycxnB1uk+SkizgE+XpKnZuZne2S33QZnl7I+meoJpPbl9Fre1r6zS9p2GbBSX71e6NpSf0lylrXtM1hvBVrTtvy4R76Ha9utnzfbZnR+WNueSt3f37Z/uuffN8VySYPm750xYhw8NoyDx5hx8FgzDp6djIMlaQoccNK0ZOY64PaSfE+nPBERwKElef0wyjXflOlDPlaSp2bmOb3y227jyXYZmla9va1Hnt1q24+C7TMEG2rbO3fNBTvWtteAbTNiD1G9ZwC61/1WwP4l2V73twEvTnL+zkz8vNp2Ggv+3hkfxsFzg+0yNMbB48k4eHYyDpakKXDASTOxoqzfFRHv7HD8A8CbyvbFwynS/FE62fXpQ3p2smtstwHIzAMzM7otwJm1vK39H61dwnYZvIvKeteIWNZ+MCI2YeIfV6uB79cO2z6D8wATHa4/7fSS6ohYwMR0I89RzXHfYtuMQGYmE/X5hxGxpEO2DwOLqN7pcWnb+S8AV5bkyRGxuMP5p5X1GmCj901II+TvnREzDh4vxsGzgnHweDIOnoWMgyVpijLTxWVaC9VXv++l+rr9fwPvLvs3oQpsni/Hrh11WefaQjUFRZblr2y38V+A5a02s11G2g5XlHp8GvgDYNOy/43A5bWfq+Ntn6G2y3m1uv8msEep202APYHrasfPsG36Xv/bUr2IurWsKnV2dtv+RW3nLQaeKHnvA5aW/ZtTTau0vhz7Qpf77gKsLXluBd5S9m8FnEH11G9SfXNh5PXk4tJa/L0z8vo3Dp5lC8bBY7FgHDyWC8bBo65/42AXFxeXAS2R2ZqiV5q68iTHTcCSsmsdVXDzmpL+D6qg57lhl22uiog3Ao+V5AbgqUlOOTczz227xhJst6GKiOXAp6B6srNLniXYLgNVpja4Fjig7FpPVc/b1rKdmZnLO5y7BNtnIMrLcv+VV08psb6st6jtuww4LjNfaTt/CbbNjEXESnpP49KyIjNPaDt3KdU/QrYvu9ZQ1ftmJX098PuZuZ4OIuJwqn+ALSy7nqd6GnRBSV8EfCgNVDVm/L0zGsbBs5Nx8HgwDh5PxsGjZRwsSYPjlHqakcxcSfXUzaepXnyYwM+Bu6m+kr+vgU3fbdK2veMky6L2C9hu48l2Gbyspi94F3Ai1ZNkL1D9jKwG/gX4rU6d7HLuSmyfgcjMF4HDqZ7EvJrqCc3WP6R+QjXlxBGZeUx7J7ucvxLbZiQy827g7cDnqF5ovRnVz9VtVD9nh3XrZJfzr6Vqu38CVlJ10p8DbgDen5l/Yidb48jfOyNjHDxH2S6DZxw8noyDZy/jYEnqzW84SZIkSZIkSZIkqRG/4SRJkiRJkiRJkqRGHHCSJEmSJEmSJElSIw44SZIkSZIkSZIkqREHnCRJkiRJkiRJktSIA06SJEmSJEmSJElqxAEnSZIkSZIkSZIkNeKAkyRJkiRJkiRJkhpxwEmSJEmSJEmSJEmNOOAkSZIkSZIkSZKkRhxwkiRJkiRJkiRJUiMOOEmSJEmSJEmSJKkRB5wkSZIkSZIkSZLUiANOkjQkEXFzRGRE5KjLMi4iYmlEvFLqZe9Rl6cfIuLL5fPcEREx6vJIkiSNkjHwxoyBJUnSXOWAkyR1ERFLWp3jPiwnjPrzjKnzqf4WXZOZd426MH3yGeAXwH7AsSMuiyRJ0rQYAw+FMbAkSZqTHHCSJI1ERBwF7FuSy0dYlL7KzEeBi0vy7yNi81GWR5IkSePDGFiSJM1lkem32iWpk4hYCBzSI8tBwF+U7ZuA83rk/X5mrupX2eaCiPhPYHfgW5l52KjL008RsSvwcEmenJkXjrI8kiRJU2UMPFjGwJIkaS7bdNQFkKRxlZnrgKu6HY+I19aSqzKza169WkQcStXRhoknIeeMzHwkIu4AfhP4aER8MX3CQ5IkzQLGwINjDCxJkuY6p9STJI3CyWW9Brh6lAUZoEvL+teAd4+yIJIkSRoLxsCSJGlOc8BJkoYkIm5uvUC5y/ET2l+wHBF7R8SKiHg0Il6MiMci4rKI2L3t3AURcUxE3BgRT0TESxHxUEScFRHbTLF8m0fEhyLiGxHxk3KNn0bEvRHx2YhY0rAKWvfZHji8JK8qT9F2yzuyOomIIyPiaxHxXxGxrpy/OiLuiYgrIuLPy2fp5nKqFycDHDfZ/SRJkuYiY+D/v48xsCRJmvOcUk+SxlREnAJ8jlf/rn5jWd4XEUdm5nURsTVVx659Dvi3AKcBR0bEAZn5VI977Q18Ddil7dAWwB5lOSUiPpKZX2zyuag62puV7Zumc+Iw6iQitgSuAN7boQi/UpY9gfcDmwOf71TWzHwmqjn69wKOiIhNMnPD1D+tJEnS/GMM3LGcxsCSJGlWcMBJksbTEcBRwFPAl4EfAluWfe+l6gRfHhG7ACuoOpW3U3USnwB2Bj5c1r9O1UE9ttONImI/4NvAQiCB64DrgdXlnvtRPZ24ELgwItZn5lcbfLbfrW1/bxrnDatO/oGJjvYTwCXAfcBaYBGwK1WdHDCFMn+XqrO9HfAO4M5pfF5JkqT5xhh4Y8bAkiRp1gjf3yhJM1Omt7ioJFdk5gmT5L8Z+B2AzIxJrgdVR/Q9mflcW74vASeW5N3AUuD0zDyrLd8OwA+AXwZeAXbKzCfa8mxN1ZHcCfgpsCwzb+lQtl2B71A9RfkCsCQzn+71ebuJiAeBt1LNXf/aXk88DrtOImIB8AywGHgM2Ccz/7dL2V4PbJ+ZD/Qo//HAV0vyLzPzvG55JUmSZgNjYGNgjIElSVIXvsNJksbTy8DR7Z3K4kyqpzCh6lR+s71TCVA6ieeX5ALg4A7XOpGqow3wwU4d7XKtR4A/LsmtgJOm8iHaRcQWVFN6ADw8zek1hlEnr6fqaANc3a2jXa71VK+OdvGj2vaek+SVJEma74yBN2YMLEmSZg0HnCRpPF2TmY91OpCZq4GVtV0X9LjObbXt3Tocb73I96HMvKZXgTLzRuDxkjykV94edgJaT7Y+O81zh1EnL/Y4NhP1fwzs3IfrSZIkzWXGwBszBpYkSbOG73CSpPE02TznTzLxcuNec8A/Wdvetn4gIhYz8cThkxGxbArlWlvWb5tC3k62q21Pt7M98DrJzOcj4nvAPsDBEfF14B+Bf8vMn0+zvFBNTdLxXpIkSdqIMfDGjIElSdKs4YCTJI2nZyY5vn6Keev5XtN2bCcmvum6f1mmaqYdxy1q22umee4w6gSqlyp/B9gGWFaWFyLiTqonQ78N3D7FqVB+Vtvecgr5JUmS5jNj4I0ZA0uSpFnDKfUkaTxNeV73ac4BX7d48ixdbTbD8+od3W2mee4w6oTMvAv4DeBiJqYX2Qo4CDgDuBX4cUT80RQuV6/jF7vmkiRJEhgDd2IMLEmSZg0HnCRp/lpb2744M2M6ywzvWZ9CZLuuuUYsMx/NzOOpyngQ8HfAt5joMC8BLomIv5nkUk2mT5EkSVL/GQN3YQwsSZKacsBJkuav1bXtNwzpnquYeEpzbDvbLZn5UmbelJmfyczDgB2A04AsWc6IiO17XKL+GTu+7FmSJElDZQw8CWNgSZI0Uw44SdI8lZlPA/eX5L4RMd3pPWZyz5eBh0ty14iYVX+HMnNtZp4NXFl2bQG8o8cp9RdL3zuwgkmSJGlKjIGnzxhYkiRN1awKciRJfbeirBcCnxjSPe8s662B3YZ0z35bWdvetEe+d9a27+yaS5IkScNkDDwzK2vbxsCSJGkjDjhJ0vx2ARPTXHwiIj7e64nLiFgcER+JiIMb3POG2vY+Da7TdxGxV0R8MiJ27JHndcAHSjLp/dRmq7P9DHBXf0opSZKkhoyBa4yBJUlSv/R6IkWSNMdl5gsRsQy4BdgGOBv4s4i4kmqqkbVl/5uoOsYHApsDxzW47bXAy+U6BwJfaXCtflsMfBr4VETcDtwBPASsoZqLfg/gGCbmpb80M1d1ulCZ136PkrwmMzd0yidJkqThMgbeiDGwJEnqCwecJGmey8wfRMQ+wGXAXsCbgVN7nLIeeLrB/Z6NiGuBZcD7ImJhZq6b6fX6rPUi5AXAAWXp5nLgpB7Hj2bi7+wlzYsmSZKkfjEGfhVjYEmS1BcOOEmSyMwHI2Ip8HvAUcB+wC8BW1E92fgYcA9wI/CNzHyu4S2/QNXZXlTW/9zwen2RmbdExB7AoVR18HbgDVTz+68DVgHfBVZk5q2TXO7Ysn6Qqt4kSZI0RoyBK8bAkiSpXyIzJ88lSVKfRcQ9wJ7A9Zl56KjL008R8WbgkZI8OTMvHGV5JEmSNB6MgSVJ0lzW9aWYkiQN2PKyPqQ8WTqXnF7WjzFe8/NLkiRptJaXtTGwJEmacxxwkiSNRGZ+Hfj3klw+wqL0VUTsAnywJD+ZmS+PsjySJEkaH8bAkiRpLnPASZI0SqcAG4AjImLvURemT/4W2IzqHwm+KFmSJEntjIElSdKc5DucJEmSJEmSJEmS1IjfcJIkSZIkSZIkSVIjDjhJkiRJkiRJkiSpEQecJEmSJEmSJEmS1IgDTpIkSZIkSZIkSWrEASdJkiRJkiRJkiQ14oCTJEmSJEmSJEmSGnHASZIkSZIkSZIkSY044CRJkiRJkiRJkqRGHHCSJEmSJEmSJElSIw44SZIkSZIkSZIkqREHnCRJkiRJkiRJktSIA06SJEmSJEmSJElqxAEnSZIkSZIkSZIkNeKAkyRJkiRJkiRJkhpxwEmSJEmSJEmSJEmN/B9Q9IeoXAVISQAAAABJRU5ErkJggg==\n",
                "text/plain": "<Figure size 864x288 with 2 Axes>"
              }
            ],
            "_view_module": "@jupyter-widgets/output",
            "_model_module_version": "1.0.0",
            "_view_count": null,
            "_view_module_version": "1.0.0",
            "layout": "IPY_MODEL_1af419c176bb4703ae39c422768f0ce2",
            "_model_module": "@jupyter-widgets/output"
          }
        },
        "217ac8ce29d34bec9fc6f3bfc08ee791": {
          "model_module": "@jupyter-widgets/controls",
          "model_name": "SliderStyleModel",
          "state": {
            "_view_name": "StyleView",
            "handle_color": null,
            "_model_name": "SliderStyleModel",
            "description_width": "",
            "_view_module": "@jupyter-widgets/base",
            "_model_module_version": "1.5.0",
            "_view_count": null,
            "_view_module_version": "1.2.0",
            "_model_module": "@jupyter-widgets/controls"
          }
        },
        "13abe086e77b4afd81ec3e1ed707dbc3": {
          "model_module": "@jupyter-widgets/controls",
          "model_name": "SliderStyleModel",
          "state": {
            "_view_name": "StyleView",
            "handle_color": null,
            "_model_name": "SliderStyleModel",
            "description_width": "",
            "_view_module": "@jupyter-widgets/base",
            "_model_module_version": "1.5.0",
            "_view_count": null,
            "_view_module_version": "1.2.0",
            "_model_module": "@jupyter-widgets/controls"
          }
        },
        "1af419c176bb4703ae39c422768f0ce2": {
          "model_module": "@jupyter-widgets/base",
          "model_name": "LayoutModel",
          "state": {
            "_view_name": "LayoutView",
            "grid_template_rows": null,
            "right": null,
            "justify_content": null,
            "_view_module": "@jupyter-widgets/base",
            "overflow": null,
            "_model_module_version": "1.2.0",
            "_view_count": null,
            "flex_flow": null,
            "width": null,
            "min_width": null,
            "border": null,
            "align_items": null,
            "bottom": null,
            "_model_module": "@jupyter-widgets/base",
            "top": null,
            "grid_column": null,
            "overflow_y": null,
            "overflow_x": null,
            "grid_auto_flow": null,
            "grid_area": null,
            "grid_template_columns": null,
            "flex": null,
            "_model_name": "LayoutModel",
            "justify_items": null,
            "grid_row": null,
            "max_height": null,
            "align_content": null,
            "visibility": null,
            "align_self": null,
            "height": null,
            "min_height": null,
            "padding": null,
            "grid_auto_rows": null,
            "grid_gap": null,
            "max_width": null,
            "order": null,
            "_view_module_version": "1.2.0",
            "grid_template_areas": null,
            "object_position": null,
            "object_fit": null,
            "grid_auto_columns": null,
            "margin": null,
            "display": null,
            "left": null
          }
        },
        "5b5fbff089ce40bebc7226e774aae68e": {
          "model_module": "@jupyter-widgets/controls",
          "model_name": "VBoxModel",
          "state": {
            "_view_name": "VBoxView",
            "_dom_classes": [
              "widget-interact"
            ],
            "_model_name": "VBoxModel",
            "_view_module": "@jupyter-widgets/controls",
            "_model_module_version": "1.5.0",
            "_view_count": null,
            "_view_module_version": "1.5.0",
            "box_style": "",
            "layout": "IPY_MODEL_e76057d05f3842be80be2fcf362dc496",
            "_model_module": "@jupyter-widgets/controls",
            "children": [
              "IPY_MODEL_e24d2dcd2d6640bd91be05f98fb38a21",
              "IPY_MODEL_1adb759c89264807b0724f5cd455e948"
            ]
          }
        },
        "e76057d05f3842be80be2fcf362dc496": {
          "model_module": "@jupyter-widgets/base",
          "model_name": "LayoutModel",
          "state": {
            "_view_name": "LayoutView",
            "grid_template_rows": null,
            "right": null,
            "justify_content": null,
            "_view_module": "@jupyter-widgets/base",
            "overflow": null,
            "_model_module_version": "1.2.0",
            "_view_count": null,
            "flex_flow": null,
            "width": null,
            "min_width": null,
            "border": null,
            "align_items": null,
            "bottom": null,
            "_model_module": "@jupyter-widgets/base",
            "top": null,
            "grid_column": null,
            "overflow_y": null,
            "overflow_x": null,
            "grid_auto_flow": null,
            "grid_area": null,
            "grid_template_columns": null,
            "flex": null,
            "_model_name": "LayoutModel",
            "justify_items": null,
            "grid_row": null,
            "max_height": null,
            "align_content": null,
            "visibility": null,
            "align_self": null,
            "height": null,
            "min_height": null,
            "padding": null,
            "grid_auto_rows": null,
            "grid_gap": null,
            "max_width": null,
            "order": null,
            "_view_module_version": "1.2.0",
            "grid_template_areas": null,
            "object_position": null,
            "object_fit": null,
            "grid_auto_columns": null,
            "margin": null,
            "display": null,
            "left": null
          }
        },
        "e24d2dcd2d6640bd91be05f98fb38a21": {
          "model_module": "@jupyter-widgets/controls",
          "model_name": "FloatSliderModel",
          "state": {
            "_view_name": "FloatSliderView",
            "style": "IPY_MODEL_3686cd6713f94e3682c444a1f75f7495",
            "_dom_classes": [],
            "description": "sig_gwn",
            "step": 0.5,
            "_model_name": "FloatSliderModel",
            "orientation": "horizontal",
            "max": 6,
            "_view_module": "@jupyter-widgets/controls",
            "_model_module_version": "1.5.0",
            "value": 5.5,
            "_view_count": null,
            "disabled": false,
            "_view_module_version": "1.5.0",
            "min": 0,
            "continuous_update": true,
            "readout_format": ".2f",
            "description_tooltip": null,
            "readout": true,
            "_model_module": "@jupyter-widgets/controls",
            "layout": "IPY_MODEL_80968f57f2504fc8b93ea6d7f01aa7fb"
          }
        },
        "1adb759c89264807b0724f5cd455e948": {
          "model_module": "@jupyter-widgets/output",
          "model_name": "OutputModel",
          "state": {
            "_view_name": "OutputView",
            "msg_id": "",
            "_dom_classes": [],
            "_model_name": "OutputModel",
            "outputs": [
              {
                "output_type": "display_data",
                "metadata": {
                  "tags": [],
                  "image/png": {
                    "width": 557,
                    "height": 414
                  },
                  "needs_background": "light"
                },
                "image/png": "iVBORw0KGgoAAAANSUhEUgAABFoAAAM8CAYAAABnNMRaAAAABHNCSVQICAgIfAhkiAAAAAlwSFlzAAAWJQAAFiUBSVIk8AAAADh0RVh0U29mdHdhcmUAbWF0cGxvdGxpYiB2ZXJzaW9uMy4yLjIsIGh0dHA6Ly9tYXRwbG90bGliLm9yZy+WH4yJAAAgAElEQVR4nOzdd1yV9f//8efFBlFQcY+gLMWUFE3NVBw4cJRajk82HLkqtbL6lZWpZdky0z6ZNrT6qJHmNlRcqJWWe+TMkQM1EREUZJzr9wdyvp4EZRw4CI/77cZNeF/v8ToUCk/e1/syTNMUAAAAAAAA8s7J0QUAAAAAAAAUFQQtAAAAAAAAdkLQAgAAAAAAYCcELQAAAAAAAHZC0AIAAAAAAGAnBC0AAAAAAAB2QtACAAAAAABgJwQtAAAAAAAAdkLQAgAAAAAAYCcELQAAAAAAAHZC0AIAAAAAAGAnBC0AAAAAAAB2QtBShBiGMcswjFmOrgMAAAAAgOLKxdEFwK5qBQcHB0t6zNGFAAAAAABQSBn5OTk7WgAAAAAAAOyEoAUAAAAAAMBOCFoAAAAAAADshKAFAAAAAADATghaAAAAAAAA7ISgBQAAAAAAwE4IWgAAAAAAAOyEoAUAAAAAAMBOCFoAAAAAAADshKAFAAAAAADATghaAAAAAAAA7MTF0QWgcEhKStKlS5cUHx+vlJQUmabp6JIASDIMQ66uripZsqRKlSolDw8PR5cEAAAA4CYIWqCEhASdPHmScAUohEzTVHJysmJiYnThwgVVrVpV3t7eji4LAAAAQBYIWoq5pKQka8hSqlQplS5dWh4eHnJy4q4yoDCwWCxKSkpSbGysLl26pJMnTyogIEDu7u6OLg0AAABAJghairlLly5ZQ5bKlSvLMAxHlwTgOk5OTvLy8pKnp6ek9K/ZuLg4lS9f3sGVAQAAAMgM2xaKufj4eElS6dKlCVmAQswwDJUuXVrS/33dAgAAACh8CFqKuZSUFEnigE3gNpDxdZrxdQsAAACg8CFoKeYyDsDlTBag8MvYdcbB1QAAAEDhxU/XAHCb4PY+AAAAoPAjaAEAAAAAALATghYAAAAAAAA7IWgBAAAAAACwE4IWAAAAAAAAOyFoAXDbmTlzpgzDuOXbqlWrHDZ/fHy8xowZo7p168rb21s+Pj66//779fHHHys5OTm3Lx0AAABAIefi6AIAILecnJxUrly5LK+7u7s7ZP7jx4+rZcuWOnbsmCTJy8tLV69e1ZYtW7RlyxbNmjVLq1evVunSpfNUHwAAAIDCh6AFwG2rWrVq1jCjsMyfmpqqLl266NixY6pUqZK+++47hYaGymKxaO7cuRo4cKC2b9+uxx9/XMuWLcufwgEAAAA4DLcOAYAdffvtt9q9e7ck6aefflJoaKik9N0xvXr10rRp0yRJP//8s1avXu2wOgEAAADkD4IWIB8sXbpUPXr0kL+/v7y8vG56zsdXX33l6HJhR99++60kqVWrVnrggQduuN67d28FBARIkr777rsCrQ0AAABA/iNoAewoMTFRDz/8sLp06aJ58+bp77//lru7u1xcsr5Lr169egVYIfLTlStX9Msvv0iSwsLCMu1jGIY6dOggSVq5cmWB1QYAAACgYBC0AHb02GOPafHixXJ2dtabb76pM2fOKDY2VvHx8frkk0+s/Ro3bqwZM2ZoxowZqlu3rgMrvr39888/atCggby9veXp6ak777xTjz/+uNatW+eQ+fft2yeLxSJJqlOnTpbzZlw7c+aMLly4YJdaAQAAABQOBC2AnXz//fdauHChJGnatGkaN26cypcvL0ny8PDQ888/r169ekmSDh8+rL59+6pv3755fjJOYZLdxyJn9ZbTgOTKlSvatm2b3NzcZLFYdPToUc2aNUutWrVS//79lZqamqfXk9P5T58+bX2/SpUqWc57/bXrxwAAAAC3k7i4OEVFRemTTz7R/v37HV1OocFThwA7ME1Tb7/9tiSpa9euGjBgQKb9unTpovDwcMXExCg6OlqVKlUqyDLznaenpypUqJDr8W5ubtnqV7lyZb311lvq3r27atasKXd3d6WlpWnz5s166623tGrVKs2YMUMlSpTQlClTclxHbuePj4+3vu/l5ZXl/Ndfu34MAAAAUFidP39e27dv17Zt26xvhw8ftl53cXFRrVq1HFhhIWKaJm9F5E3S1uDgYDMn/vzzT/PPP/+8ZT9JRerN3n755Rfr3Bs3bsyyX0REhLXf8ePHba7Fx8ebH3zwgfnAAw+YpUuXNl1cXEw/Pz+zVatW5sSJE82LFy9a+y5ZssSUZH700Uc3rDFp0iRTktmyZcsbrh0+fNiUZA4YMMA0TdNcu3attZ6ffvrphv4Z16dOnZrtz4WjpaWlmQ8//LApyXRycjIPHjxYYPPPmjXL+vk8dOhQlnOsXLnS2u/XX3/N0frZ/ZoFAAAAcuv06dPm0qVLzXHjxpldu3Y1q1evfsufsfr27evosnMiX38259YhwA4yHtNbsWLFTJ80k+HcuXOS0h/1W7FiRWv7/v37FRQUpP/3//6ffH19NWrUKE2fPl2vvvqqfH199eqrr6pjx47W/s2aNZOTk5PWr19/wxpRUVFycXHR5s2blZycfMM1SWrZsuUN4958803r+SK3MycnJ3300UeSJIvFoiVLlhTY/CVLlrS+f+XKlSznuP7a9WMAAACAgmSapo4dO6b58+frjTfeUKdOnVSpUiVVrlxZnTt31ujRo7Vw4UL9/fffmY53cXHRfffdp379+lkf+ABuHQLsYvfu3ZKkRo0ayckp6/wyI+gICgqy3iZz+fJlde7cWdHR0Vq+fLnatWtnM2bkyJE6ffq0ZsyYYW3z9fXVfffdpw0bNsg0TRmGYb22ceNGPf7445o5c6Z+//13NWvWzHotI5gJCQmxWaNBgwbaunWr/ve//+nJJ5/MzaegUKlRo4b8/Px0/vx5HTlypMDmr1y5svX9U6dOKSgoKNPxp06dynQMAAAAkF8sFosOHz5sc+vPtm3bFBsbm63x7u7uCgoKUnBwsPWtTp068vDwyOfKbz8ELcgWM/3WJGQh4wdnPz+/LPukpaVp8eLFkmSzO2X69On666+/NHbs2BtClgyVK1fW66+/btMWEhKi7du3a/fu3dYf6P/880/9888/6t+/v5YvX67169ffELQEBASoWrVqNnP17dtXcXFxGjNmjP7zn//I1dU1B6/+/4SHh2vEiBG5GitJ8+fPV9OmTXM93tECAwPl5OQki8WiPXv2ZPmI5z179khK3wFVpkyZgiwRAAAAxUBqaqr2799vE6hs375dCQkJ2RpfokQJ1a9fX8HBwdY/AwMDc/1zQnFD0ALYgYtL+pdSTExMln2mTZum8+fPy9nZWQMHDrS2L1iwQFJ62JETISEhmjRpkqKioqxBS1RUlNzd3dWoUSM1b95cUVFRGjVqlCTp5MmTOnr0aKbruLi4aOzYserTp4++/PJLPfPMMzmqJUNiYqLOnj2bq7GSbrjVKbf++usvnT9/XpIUEBBglzmzM7+Xl5cefPBBbdiwQcuXL9fLL798w1jTNLVixQpJyjJYAwAAAHIiPj5eP/74o7Zu3apt27Zp586dSkpKytZYX19fm10qwcHBqlGjhpydnfO56qKLoAWwg1q1amn9+vVau3atLl68KF9fX5vr+/fv1yuvvCJJGj58uPz9/a3X9u7dKx8fH1WvXt1mTHJysi5dumTTVqZMGeutSc2bN5dhGIqKitKwYcMkpe9YadSokdzd3dW8eXONGjVKqampcnFxsd629O/bhjL07t1bEyZM0DvvvKN+/frJ09Mzx5+HjEdW56d/3yqV2fWMgMPJyUmdO3cu0PmfeuopbdiwQWvXrtXmzZvVuHFjm+tz58613m5UFG7TAgAAgGMdPXpUrVu31rFjx27Zt1y5cmrQoIFNqOLv73/T73+RcxyGC9hBnz59JEmXLl1Sjx49rIdFJSUl6fvvv1fz5s11+fJlPfjggxo/frzN2EuXLmV6IOr8+fNVrlw5m7frD6EqW7as6tSpow0bNljbNmzYoBYtWkhKD2ISEhK0bds2SVmfz5LByclJb7/9tqKjo3P1SOSCcvz4cTVq1EjTpk3TkSNHrLe1WSwWbdq0SWFhYdZdQoMHD1bNmjVvmGPmzJkyDEOGYWjdunV2nf+pp55S3bp1ZZqmHnnkEetByRaLRXPnzrXuZgoLC1ObNm3s94kBAABAsXP48GGFhIRkGrJUq1ZNDz30kMaMGaPFixfr5MmTOnv2rCIiIjR+/Hg98sgjCggIIGTJB+xoAeygRYsWeu655/TZZ59p1apVuuOOO+Tr66uEhASlpqZKkrp166aZM2fesFOkVKlSio+Pv2HOVq1aKTIyUpL09ddf64cffrihT0hIiD777DPt27dPbm5uOnXqlJo3by4p/cBdHx8fRUVFqVGjRlq/fr2qVat201tpHn74YTVu3Fjvv/++hgwZkuvPR377448/9Mcff0hKP5SrZMmSio+P19WrV619+vXrp8mTJxf4/C4uLlq8eLFatWqlY8eOKTQ0VF5eXrJYLNbtm/Xr19esWbNyVRsAAAAgpe+ab926taKjoyVJHh4eeu2119SkSRPVr19f5cqVc3CFxRc7WgA7mTJlimbNmqWQkBD5+vrqypUrqlixonr27KkVK1Zo/vz5KlWq1A3jateurbi4OB0/ftymvUKFCgoNDVVoaKjuuOOOTNfM2J0SFRWlqKgoOTs768EHH5SUvkOladOmioqK0rlz57R///4sd7Ncb/z48bpw4YI+/vjjnH4KCkSFChU0ZcoUPfbYY6pdu7ZKlSqlixcvytXVVbVq1VL//v21ceNGffPNN9azcwp6fn9/f+3atUujR49WnTp1ZBiGXF1d1aBBA3300UfatGmTSpcunddPBQAAAIqpPXv2qGXLltaQxdPTU0uXLtXo0aPVrl07QhYHY0cLYEePPfaYHnvssRyN6datmzZu3Khvv/1Wo0ePztHYjNuE1q9fLzc3N9WvX1/e3t7W682bN9cHH3xgvT0mO0FLmzZt1Lp1a33yySeqW7dujuopCJ6ennruuef03HPP5XqOm50lY4/5JalkyZIaO3asxo4dm6d5AAAAgOvt3LlToaGh1oczlChRQsuWLcvW9/ooGOxoARxs0KBBCggI0HvvvaeVK1dm2ierx2uXL19egYGBioqK0vr16623DWVo3ry5Ll68aD1zJbt/+b777ruKj4/XhAkTcvBKAAAAAOSnrVu3qlWrVtaQpWTJklqxYgUhSyHDjhbAwby9vbV06VJ17NhRHTp0UIcOHdSmTRuVKVNG58+f1++//65FixbJz89PJUqUuGF8SEiIvvjiC0n/t8Mlw/333y93d3dt3LhRlSpV0t13352tmho3bqyHHnpIixcvzvsLBAAAAJBnmzdvVvv27RUXFydJ8vHx0cqVK9WoUSMHV4Z/Y0cLUAjUrl1bu3bt0nvvvafY2Fi9/fbbGjRokD744APFxMTo/fff16FDhzK91zIjvTYM44YdLe7u7ta/eHOacr/zzjvWR0kDAAAAcJxffvlFbdu2tYYsZcqU0Zo1awhZCikjq1sScPsxDGNrcHBw8NatW7M9Zt++fZKkwMDA/CoLgB3xNQsAAFC8rFu3Tp07d9bly5clSX5+flq1apXuu+8+B1d2W8vXZ1rz62oAAAAAAAqhVatWqWPHjtaQpUKFClq3bh0hSyFH0AIAAAAAQCGzfPlyde7cWYmJiZKkypUrKyoqSvfee6+DK8OtELQAAAAAAFCILFmyRA8//LCuXr0qSapWrZqioqJUs2ZNu6+VlpamTZs2KSIiwu5zF1c8dQgAAAAAgELip59+Uu/evZWamipJ8vf315o1axQQEGD3tf766y8tX75c//zzjySpbt26qlq1qt3XKW7Y0QIAAAAAQCHwww8/qFevXtaQ5a677lJUVJTdQ5bY2Fj98MMP+v77760hiyRFRESIB+bkHTtaAAAAAABwsO+//159+/aVxWKRJNWsWVOrV69WlSpV7LZGcnKyNm7cqF9//dUa5lzv1KlT2rlzp+rVq2e3NYsjghYAAAAAABzom2++0dNPP23dTVK7dm2tXr1aFStWtMv8pmlq7969WrlypS5dunTTvqtWrVKtWrXk4eFhl7WLI4IWAAAAAAAc5IsvvtDQoUOtHwcFBWnVqlUqV66cXeY/c+aMIiIidPz48Wz1T0hI0Pr169WuXTu7rF8cEbQAAAAAAOAAkydP1ogRI6wfBwcHa+XKlSpbtmye575y5YrWrl2rLVu25PjclU2bNik4OFh+fn55rqM4ImgBAAAAAKCAffTRR3r55ZetHzdq1EgrVqyQr69vnua1WCzasmWL1q5dq8TExByPd3V1VfPmzeXj45OnOoozghYAAAAAAArQu+++q9dff936cdOmTRUREaFSpUrlee7Tp0/r559/ztXYOnXqqG3btoQseUTQAgAAAABAATBNU2PHjtXYsWOtbS1atNCyZcvk7e1tlzWqVq2qOnXqaM+ePdkeU6FCBYWFhcnf398uNRR3BC0AAAAAAOQz0zT1+uuv67333rO2tWnTRosWLVKJEiXsulbbtm114MABpaSk3LSfp6enWrdurQYNGsjJycmuNRRnBC0AAAAAAOQj0zT18ssv6+OPP7a2dejQQfPnz5enp6fd1/Px8VHz5s21Zs2aTK8bhqGGDRuqVatW8vLysvv6xR1BCwAAAAAA+cQ0TY0YMUJTpkyxtnXp0kVz586Vu7t7vq3btGlTbd++XbGxsTbtd9xxh8LCwlSxYsV8W7u4Y28QUEz5+/vLMAzNnDnT0aUAAAAARZLFYtHQoUNtQpbu3btr3rx5+RqySJKLi4vat29v/bhUqVJ69NFH1bdvX0KWfMaOFsAOxowZY3OglZS+Hc/b21ulSpVS9erVVb9+fbVq1UoPPfSQ3Nzcsj33rl27NGvWLK1du1bHjx9XbGysPD09VaVKFd1///3q3r27OnbsKFdXV3u/rNvSjh07tHDhQvn6+ur55593dDkAAAAoptLS0jRw4EDNmDHD2tarVy99//33Bfa9e82aNVWzZk1VqFBBzZo1y9HPIcg9ghbAzipUqGB9PzExUadPn9apU6f022+/6fPPP1fZsmX1zjvvaMiQITedJz4+XkOGDNGcOXNkmqak9PDGx8dHiYmJ2rdvn/bt26fvvvtOd911l2bNmqXGjRtnu8677rpLHh4eRe7RbTt27NDYsWN1xx13ELQAAADAIVJTU9W3b1/NmjXL2vbEE0/om2++kYtLwf0YbhiGevfuLcMwCmxNcOsQYHdnzpyxvsXFxSklJUW7du3Sxx9/rICAAMXExGjo0KHq06ePNUD5t9jYWD3wwAOaPXu2JKl3796KiopSUlKSYmNjlZSUpFOnTumrr75SUFCQ/vrrL/322285qnP16tXav3+/unXrlufXDAAAACBdSkqKHn/8cZuQpX///poxY0a2Q5b4+HgtX778lk8Nyg5CloJH0ALkM2dnZ9WtW1cvvvii9uzZo969e0uSZs+erQkTJmQ6pk+fPtq7d69cXFwUHh6uOXPmqEWLFjZb/SpXrqwBAwZox44d+vzzz+Xh4VEgrwcAAABA5pKTk9WrVy+Fh4db2wYPHqwvv/xSzs7OtxyfmpqqjRs3asqUKdq0aZN+/fXX/CwX+YSgBShAXl5e+vbbb1W/fn1J0oQJE3ThwgWbPhEREYqIiJAkjR49Wj169LjpnIZhaOjQoRo0aFCOarnZYbiGYcgwDK1bt07x8fF64403VKtWLXl6eqps2bLq3LmzNm/enOm8x44ds44/duyYDh06pL59+6pq1apyd3dX9erVNWTIEJ0+fTrT8TNnzpRhGPL398+y9n+vcX3d/fr1kyQdP37c2ifjbcyYMdn99AAAAAA5Eh8fr0ceeUQLFiywtg0bNkxTp06Vk9Otf/Q+ePCgPv/8c61atUrJycmSpA0bNujixYv5VjPyB2e0INvy+kPq7T7eXtzc3DRq1Cj16NFDly5d0sKFC9W/f3/r9c8++0yS5OPjoxdffDHb82bnL++cio6OVnBwsA4fPiwPDw85OTnpwoULWrZsmSIjI7VkyRK1a9cuy/GbN2/WwIEDFR8fL29vbzk7O+vEiROaNm2a5s6dq8jISAUHB9ut3goVKigxMVGXLl2Sk5OTypUrZ3Pd29vbbmsBAAAAUvqThWbNmqVXXnlFZ86csbaPHDlSH3744S1v3YmJidHy5ct16NChG66lpqYqMjLylr98ReHCjhbAATp06GDdOhgVFWVtT01N1fr16yVJbdu2VYkSJRxSX4Znn31Wbm5uWrNmjS5fvqyEhAT9/vvvqlmzppKTkzVo0CBZLJYsxw8ePFgBAQHavHmz4uPjdfnyZa1YsULVq1fXhQsX1K1bN8XHx9ut3jNnzujTTz+VJFWrVs3mvJwzZ87opZdesttaAAAAwJYtW9SsWTM9+eSTNiHLa6+9dsuQ5erVq4qMjNTnn3+eaciSYe/evTp69Khd60b+ImgBHMDb21t33nmnJOmvv/6yth8/flwJCQmSZL29yJFcXFy0du1atWrVSk5OTjIMQ/fff7/mzp0rKb3emx3C6+LiosjISDVq1EhS+q097dq10/Lly+Xm5qa///5bX3zxRYG8FgAAAMBezp07p6efflqNGjWy+X64UqVKmjVrlsaPH59lyGKapnbu3KkpU6bol19+UVpa2i3XW758+U1/wYnChaAFcJAyZcpIks0ZLTExMTdcd6RBgwapfPnyN7TXrVtXAQEBkqRdu3ZlOX7IkCGZjg8MDNSjjz4qSfrhhx/sVC0AAACQv1JSUjRp0iTdc889+vrrr61PEXVzc9Orr76qAwcO6LHHHssyZDl9+rS+/vprLViwwPoL1uw4e/astmzZYpfXgPzHGS0AstS4ceMsr1WuXFlHjx694TDf67Vu3fqm12bPnq1du3YpJSVFrq6ueaoVAAAAyE+rVq3S8OHDtW/fPpv2zp07a+LEibr77ruzHHv58mWtXr1a27dvt4YzOVGmTJlC8YtYZA9BC+AgGQFF2bJlrW3Xv3+zAKOglCxZMstrLi7pf32kpKRk2adKlSq3vJaamqoLFy6oQoUKuawSAAAAyD9Hjx7VyJEjbZ4mJEl33323Jk2apI4dO950vGmamjFjhs6fP5/jtd3c3NSiRQs1adLE+v03Cj9uHQIcICEhQUeOHJEk3XXXXdb2O+64w/pknO3btzukNgAAAADpu1DefPNNBQYG2oQs3t7e+uCDD7Rnz55bhixS+jmFzZs3z/H6QUFBGjZsmJo1a0bIcpshaAEcYPny5dZDr1q2bGltd3FxUYsWLSRJkZGRunz5siPKs5tTp07d8pqLi4vNNsiMf0SSkpKyHBsXF2enCgEAAABbpmkqPDxctWrV0jvvvKOrV69arz311FM6ePCgXn75Zbm5uWV7zqCgIFWtWjVbfStVqqT+/fure/fuN91hjsKLWAzZNmbMmGK9vr0kJyfr3XfflST5+Pioa9euNtefffZZ/fzzz4qLi9PEiRP15ptvZmtei8UiJ6fClZ2uXbs2y3Na1q5dKyn9H53rz2cpXbq0pPST3K9evSp3d/cbxm7evDnLNTM+B7m59xUAAADF286dOzV8+HCtX7/epr1hw4aaMmWKmjRpkqt5DcNQWFiYvvrqqyy/T/Xy8lJoaKjq1atX6L6vR87wXw8oQImJierbt6/1tqDXXntNvr6+Nn06duyodu3aSZLGjRunefPm3XLe6dOn68svv7R/wXn0xRdfZHov6oEDB6yvq1evXjbX7rvvPknpQcm/74OV0j+Hn3zySZZrlipVSpJ08eLFXNcNAACA4iUmJkbPPvusgoODbUKWcuXK6euvv9bmzZtzHbJkqFKliurXr39Du5OTk5o0aaJhw4YpODiYkKUI4L8gkM8sFov27NmjiRMn6t5779WcOXMkSU888YReeeWVTMfMnj1bgYGBSk1NVc+ePdWnTx9t2LDB5uDZ6Ohoffvtt2rQoIEGDx6sxMTEAnk9OZGSkqK2bdvqjz/+kJQenqxatUrt27fX1atXVa1aNQ0ZMsRmTNWqVdWsWTNJ0osvvqhVq1ZZb7PaunWrQkNDde7cuSzXrFOnjiTp0qVL+vHHH/PjZQEAAKCISEtL09SpU3XPPffo888/l8VikZR+O/sLL7yggwcPqn///nYLP9q0aWOzY/vOO+/UkCFD1KFDB3l6etplDTgetw4BdlaxYkXr+1evXtWlS5esf2FLkp+fn9555x0NHjw4yznKli2rTZs2aeDAgZo7d65mz56t2bNnyzAM+fr6KjEx0eYMk8DAwFwdsJXfpk2bpoEDB6pRo0by9vaWxWLRlStXJEm+vr6aP3++dQfK9aZMmaKQkBBFR0erbdu28vDwkLOzsy5fvqwKFSro+++/V6dOnTJds0aNGmrTpo1Wr16tXr166emnn7aeAfP888/r+eefz78XDAAAgNvG+vXrNXz4cO3cudOmvW3btpo0aZJq165t9zVLlCihVq1aadOmTWrfvr1q1aolwzDsvg4cix0tgJ2dPXtWZ8+e1blz55SamqqKFSuqSZMmGjp0qObNm6dTp07dNGTJUKpUKYWHh2v79u166aWX1LBhQ/n5+Sk+Pl6urq4KDAzUU089paVLl2r37t1q0KBBAby6nGncuLG2bNmiJ598Uj4+PkpNTVWVKlU0cOBA7d69Ww0bNsx0XL169bR582b17t1b5cuXl8VikZ+fn5599lnt2LHjlv/ozZs3Ty+88ILuuecepaSk6Pjx4zp+/Di3EwEAAEAnTpzQf/7zH4WEhNiELAEBAVq4cKFWrFiRLyFLhvvvv1/PPvusAgMDCVmKKIMDI4sOwzC2BgcHB2/dujXbY/bt2ycpfUcEYA/Hjh1TQECAJOno0aPy9/d3bEFFDF+zAAAAuZOUlKSPPvpI7733nnWXtZR+CO2oUaM0cuRIeXh4ZDn+2LFj8vDwsNnBjttWviZc3DoEAAAAACiyTNPUokWL9NliaMoAACAASURBVOKLL+ro0aM213r37q0PPvhA1apVy3J8XFycIiMjtWfPHlWtWlUDBgxgJwpuiqAFAAAAAFAk7du3TyNGjFBkZKRN+3333afJkyerRYsWWY5NTU3Vr7/+avNQipMnT2rXrl3WJ2UCmSmyZ7QYhuFlGEaYYRhvGIYx3zCM44ZhmNfexmRzjgqGYXxsGMYBwzASDcO4YBjGBsMwnjayEWEahnGXYRjTDMM4ahhGkmEY/xiGscIwjEfy/AIBAAAAAJmKi4vTiy++qKCgIJuQpUyZMpo6daq2bt2aZchimqb279+v//73v1qzZo3Nkz8lKTIyUlevXs3X+nF7K8o7WhpJ+jm3gw3DaCBphaSy15oSJJWU1Oza26OGYTxkmmZyFuM7Sporyeta0yVJZSS1k9TOMIwZkgaYHJIDAAAAAHZhsVg0c+ZMvfbaazp37py13cnJSUOHDtW4ceOsT6TMzD///KOIiAgdOXIkyz4JCQlav3692rZta9faUXQU2R0t18RKWi3pQ0n/kXQmO4MMw/CRtFTpIct+SfebpllSUglJz0lKkdRe0qQsxgdI+lHpIcsvkmqapukjyUfSuGvd+kl6OVevCijE/P39ZZqmTNPkIFwAAAAUmN9++02NGzfWgAEDbEKWkJAQbd++XZ999lmWIUtSUpKWL1+uqVOn3jRkybBp0ybFxMTYrXYULUU5aNlgmmYZ0zRDTdN8xTTNHyRld3/XS5IqSkqU1NE0zS2SZJpmsmma/5X01rV+gwzDuCeT8eOUHsqckdTZNM2D18YnmKb5lqTp1/q9bhhG6Vy9OgAAAACAoqOj9dRTT6lp06basmWLtb1atWoKDw/X2rVrFRQUlOlY0zS1bds2TZkyRZs2bZLFYsnWmmlpaVqxYoVd6kfRU2SDFtM00/Iw/Mlrf/5gmubRTK5PUfqtRM6S+lx/wTCMEpIyzmCZaprmxUzGv3ftz1KSuuahTgAAAAAolpKTk/Xhhx/qnnvu0XfffWdtd3d315tvvql9+/apZ8+eWT4h6MSJE/ryyy+1ePFiXb58OcfrOzk53XB+CyAV7TNacsUwjJqSql/7MCKzPqZpJhiGsUFSmNLPXHnrusvNJHneYvwxwzD2SQq8Nn6GHUoHAAAAgGLh559/1gsvvKCDBw/atHfr1k0ff/yxAgICbjr+jz/+0LJly3K1tp+fnzp06KAaNWrkajyKPoKWG9W57v09N+m3R+lBS+08jA+UdG+OqgNQbHF2NgAAKO4OHTqkF1544YaQpHbt2vr0008VGhqarXnuvvtuubq65mhHiru7u1q2bKlGjRrJ2dk5R3WjeCFouVHl694/dZN+GddKGYbhbZpmwr/Gx5qmmZiN8ZVv0iffGYYh0zRlsVjk5FRk7yQDioSMoCUbT5cHAAAoUuLj4zV+/HhNnDjRJhzx8fHR2LFj9cwzz8jV1TXb8/n6+qpZs2Zau3ZttvrXr19fbdq0kbe3d45rR/FD0HKjkte9f+Um/a6/VlLpZ7ZcP/5mY6+/XvKmva4xDGNrNrrVys5c13N1dVVycrKSkpLk5eV16wEAHCYpKUmScvRNBAAAwO3MNE3NmjVLr7zyiqKjo63thmFowIABGj9+vMqXL5+ruZs2bart27fr4sXMjtVMV7VqVYWFhalKlSq5WgPFE0FLMVeyZEnFxMQoNjZWnp6e/KYcKKRM01RsbKyk9K9bAACAom7r1q0aNmyYfvvtN5v2Bx54QFOmTFGDBg3yNL+rq6vatWunH3/88YZr3t7eatu2rYKCgvgZCTlG0HKj+Ove95J0KYt+12//iM/k/VttD8m4Hn/TXteYpnnLv0Wu7XoJzs58GUqVKqULFy7o0qX0l1m6dGl5eHjIMAz+QgEczDRNmaappKQkxcbG6tKlSzIMQz4+Po4uDQAAIN+cO3dOr7/+ur7++mubM+oqVaqkDz74QH369LHbzyqBgYEKCAjQ0aPpD5t1dnZWkyZN1KJFC7m7u9tlDRQ/BC03On3d+1WUddCSsXfs0nXns1w/vrRhGJ43Oaelyr/6O4SHh4eqVq2qkydP6tKlS9bABUDhYxiGqlatyj/6AACgSEpJSdHnn3+ut956S3FxcdZ2V1dXvfjii3r99dftvrPXMAyFhYXpiy++0J133qkOHTrIz8/Prmug+CFoudH1TwqqI2lfFv0yni705y3G/3GL8XtzVF0+8Pb2VkBAgOLi4hQfH6+UlBSebgIUEoZhyNXVVSVLlpSPjw8hCwAAKJJWrVqlESNG6M8/bX+86tSpkz755BPdfffd+bZ2+fLlNXToUPn5+bGrH3ZB0HKjg5L+llRdUgdJc//dwTCMEpKaX/tw5b8ub5SUKMnz2vgbghbDMO5Q+qOdMxvvEO7u7ipfvnyuD5ICAAAAgJw6duyYRo4cqfnz59u033333Zo0aZI6duxYIHWUK1euQNZB8cDzfP/FTN/K8d21D3sbhuGfSbdnJXlLSpM061/jL0v66dqHQw3DyOwwhf937c94SQvzWDIAAAAA3FauXLmit956S4GBgTYhi7e3tz744APt2bPnliFLYmKidu7cmd+lAjlWpHe0GIZRWpLzdU0ZwZKXYRjX33iX9K9zVj6S9LSkipKWGYbxpGmaWw3DcJM0QNLb1/pNN03zYCZLj5bUTVIlSUsMwxhgmuahazthRkoacq3fO6ZpxublNQIAAADA7cI0Tc2dO1cvvfSSTpw4YXPtySef1IQJE1SpUqVbzhMdHa3w8HBdvHhR7u7uqlWrVn6VDOSYUZTP4jAM45ikO7LR9VvTNPv+a2wDSSsklb3WFC/JQ5LrtY9XSnrINM2rWazdUem3HWU8XShO6btgMoKfGZIGmHb8D2AYxtbg4ODgrVu32mtKAAAAALCLXbt2afjw4YqKirJpb9CggaZMmaIHHnggW/Ns375dy5YtU2pqqqT0YxAGDRqksmXL3mIkYJWvh/Fw61AWTNPcKuleSZ9IOqT0gOWy0s9gGSgpLKuQ5dr4nyUFSfpS0jGlhzSxkiIlPWqaZn97hiwAAAAAUBhduHBBzz33nOrXr28TspQrV05fffWVfv/992yFLKmpqVqyZIkWLVpkDVkk6erVqwoPD1dycnK+1A/kVJHe0VLcsKMFAAAAQGGRlpam6dOn64033tCFCxes7S4uLho2bJhGjx4tX1/fbM118eJF/fjjjzp9+nSWferWravu3bvz5CBkR77+T1Kkz2gBAAAAABSM1NRUHThwQNu2bdO2bdu0cuXKGx7XHBoaqk8//VS1a9fO9rx//fWXfvrpJ125cuWm/Xbv3q2qVauqcePGuaofsBeCFgAAAABAjiQnJ2vv3r3WUGXbtm3auXOnEhMTM+3v7++vTz75RA8//HC2d5yYpqmNGzdqzZo1yu6dGCtXrlStWrXk45PZw1+BgkHQAgAAAADI0pUrV7Rr1y5t377dGqrs3r1bKSkptxzr6empUaNGaeTIkfL09Mz2mklJSVqwYIEOHDiQ7THu7u7q1q0bIQscjqAFAAAAACBJunTpknbs2GGzU2Xfvn2yWCzZGl+lShUFBwdb3x588MEcPw3o7NmzCg8PtznX5VbKly+vXr168eQhFAoELQAAAABQDMXExNjsUtm2bZsOHTqU7fF33nmn6tevbw1V6tevrwoVKuSppl27dmnJkiXZ2i2ToW7duurSpYvc3NzytDZgLwQtAAAAAFDEnTlzxiZQ2bZtm44fP56tsYZhqGbNmjY7VerVq6fSpUvbtcbk5GStWrUq2yGLk5OT2rdvr0aNGvGkIRQqBC0AAAAAUASlpaVpzJgx+vrrrxUdHZ2tMc7Ozrr33nttQpX77rtP3t7e+Vyt5Obmpp49e2rGjBlKS0u7ad+SJUuqR48eql69er7XBeQUQQsAAAAAFDGpqal66qmnNHv27Cz7uLu7KygoyOb2n7p168rDw6MAK7VVtWpVdejQQcuWLcuyzx133KEePXoUSPgD5AZBCwAAAAAUISkpKerTp4/mzp1rbStRooTq1atns1MlMDBQrq6uDqw0cw0bNtTJkye1c+fOG6498MADCg0NlbOzswMqA7KHoAUAAAAAioirV6+qV69eWrRokbVt6NChmjJlym0TThiGoc6dO+vs2bM6c+aMpPTbih5++GHde++9Dq4OuDUnRxcAAAAAAMi7pKQkPfLIIzYhy4gRI/Tf//73tglZMri6uqpnz57y8PCQn5+fBg4cSMiC2wY7WgAAAADgNnflyhV169ZNK1eutLa9/PLLev/992/bJ/KUKVNGTzzxhPz8/OTu7u7ocoBsI2gBAAAAgNvY5cuX1aVLF61du9ba9sYbb2jcuHG3bciSoUqVKo4uAcgxghYAAAAAuE3Fx8erU6dO2rBhg7Vt3LhxevPNNx1YFVC8EbQAAAAAwG0oLi5OYWFh+u2336xt7733nl599VUHVgWAw3ABAAAA4DYTGxur0NBQm5Bl4sSJhSJkMU1Tmzdv1urVqx1dCuAQ7GgBAAAAgNvI+fPn1bZtW+3YscPa9tlnn+nZZ591YFXpkpOTtWTJEu3evVuSVKlSJdWuXdvBVQEFi6AFAAAAAG4T586dU2hoqDXIkKRp06Zp0KBBDqwqXUxMjMLDw3Xu3Dlr28KFC1W+fHn5+fk5sDKgYHHrEAAAAADcBqKjo9WyZUtryGIYhr755ptCEbLs379f06dPtwlZpPQdLuHh4bp69aqDKgMKHkELAAAAABRyJ0+eVEhIiPbt2ydJcnJy0vfff69+/fo5tC6LxaLVq1frhx9+yDJM+eeff7R48WKZplnA1QGOwa1DAAAAAFCIHT9+XK1bt9aRI0ckSc7Ozpo9e7Z69uzp0LouX76sn376yVrXzezdu1dVq1bVAw88UACVAY7FjhYAAAAAKKSOHDmikJAQa5jh6uqquXPnOjxkOXXqlKZPn56tkCXD3r17ZbFY8rEqoHBgRwsAAAAAFEKHDh1S69atdfLkSUmSm5ubfvrpJ3Xu3NlhNZmmqa1btyoiIkJpaWnZHtegQQOFhYXJyYnf9aPoI2gBAAAAgEJm3759atOmjaKjoyVJHh4eWrhwodq3b++wmlJSUrRs2TKbx0rfiouLizp27Kjg4OB8rAwoXAhaAAAAAKAQ2bNnj9q0aWN9go+np6eWLFmiNm3aOKymuLg4zZkzR2fOnMn2GF9fX/Xs2VOVK1fOx8qAwoegBQAAAAAKiR07dig0NFQxMTGSpBIlSujnn39WixYtHFqXq6urkpKSst2/Ro0a6t69u7y8vPKxKqBw4gY5AAAAACgEtmzZotatW1tDlpIlS2rlypUOD1kkycvLSz179pSLy61/Vx8SEqLHHnuMkAXFFkELAAAAADjYpk2b1KZNG8XGxkpKv+1m1apVatq0qYMr+z+VK1dWx44ds7zu4eGhxx57TK1ateLQWxRr3DoEAAAAAA60ceNGhYWFKSEhQZJUpkwZRUZGFsoDZIODg3Xy5Elt27bNpr1ixYrq2bOnypQp46DKgMKDoAUAAAAAHGTdunXq1KmTrly5Ikny8/PT6tWrFRQU5ODKstaxY0edOXNGp0+fliTdd9996ty5s1xdXR1cGVA4sJ8LAAAAABwgMjJSHTt2tIYsFSpU0Lp16wp1yCKlP7K5Z8+e8vb2VqdOndS1a1dCFuA67GgBAAAAgAL2888/q3v37rp69aqk9PNP1qxZo5o1azq4suzx9fXV8OHD5ebm5uhSgEKHHS0AAAAAUIAWLVqkrl27WkOWatWqKSoq6rYJWTIQsgCZI2gBAAAAgALy008/6dFHH1VKSookyd/fX+vXr1eNGjUcXBkAeyFoAQAAAIACMGfOHPXq1UupqamSpLvuukvr16+Xv79/gdaRlJSktLS0Al0TKE4IWgAAAAAgn3333Xd6/PHHrQFHzZo1FRUVpWrVqhVoHWfPntX06dMVGRlZoOsCxQmH4QIAAABAPvr66681cOBAmaYpSapdu7ZWr16tihUrFmgdu3fv1uLFi5WSkqJNmzapatWqqlOnToHWABQHBC0AAAAAkE+mTp2qZ555xvpxUFCQVq1apXLlyhVYDWlpaVq5cqU2b95s07548WKVL19e5cuXL7BagOKAW4cAAAAAIB98+umnNiFLcHCw1qxZU6AhS3x8vGbOnHlDyCJJycnJCg8Ptz79CIB9ELQAAAAAgJ19+OGHev75560fN2rUSKtXr1bZsmULrIZjx45p2rRpOnHiRJZ9YmJitHDhQuttTQDyjqAFAAAAAOxo/PjxeuWVV6wfN23aVJGRkfL19S2Q9ZOSkrR8+XJ99913SkhIuGX/ffv26ddffy2AyoDigTNaAAAAAMAOTNPUmDFjNG7cOGtbSEiIli5dKm9v73xf32KxaMeOHVq9erUuX76c7XFubm7y8fHJx8qA4oWgBQAAAADyyDRNjRo1ShMmTLC2hYaGatGiRfLy8sr39U+cOKGIiAidPn06R+PKli2rXr16cSAuYEcELQAAAACQB6Zp6qWXXtLEiROtbR06dND8+fPl6emZ7+v/+uuvWrlyZY7HBQYGqmvXrnJ3d8+HqoDii6AFAAAAAHLJYrFoxIgR+uyzz6xtXbp00dy5cwsswLjrrrvk5OQki8WSrf6GYSg0NFRNmzaVYRj5XB1Q/HAYLgAAAADkgsVi0dChQ21Clu7du2vevHkFukukQoUKuv/++7PVt0SJEnryySf14IMPErIA+YSgBQAAAAByKC0tTQMGDND06dOtbb169dIPP/wgNze3Aq+nZcuWtzwLpnr16ho8eLACAgIKqCqgeCJoAQAAAIAcSE1N1VNPPaWZM2da25544gn973//k6urq0Nq8vT0VJs2bTK95u3tra5du6pfv34qVapUAVcGFD+c0QIAAAAA2ZSSkqLHH39cP/74o7Wtf//+mj59upydnR1YmVS/fn1t2bJF0dHRkiQnJyc1adJEISEhHHgLFCB2tAAAAABANiQnJ6tXr142IcuQIUP05ZdfOjxkkdKDlbCwMElSjRo19Mwzz6hdu3aELEABY0cLAAAAANxCUlKSHn30US1btszaNnz4cE2aNKlQHSpbvXp1DRo0SJUqVSpUdQHFCTtaAAAAAOAmEhMT1bVrV5uQZeTIkXYNWdLS0nT27Fm7zFW5cmVCFsCB2NECAAAAAFm4fPmyHnroIa1Zs8baNmrUKL3zzjt2CzOOHDmiiIgIXb58WcOGDZOnp6dd5gXgGAQtAAAAAJCJ+Ph4derUSRs2bLC2jRkzRqNHj7ZLyBIbG6uVK1dq37591rZ169ZZz1kBcHsiaAEAAACAf4mLi1NYWJh+++03a9v48eM1atSoPM+dkpKijRs36pdfflFqaqrNtT/++EPBwcGqUKFCntcB4BgELQAAAABwndjYWLVv315//PGHte2jjz7SyJEj8zSvaZrau3evIiMjFRcXl2kfi8Wi5cuX68knn+ScFeA2RdACAAAAANfExMSobdu22r59u7Vt8uTJGjZsWJ7mPXPmjCIiInT8+PFb9j169Kj27dun2rVr52lNAI5B0AIAAAAAks6dO6fQ0FDt3r3b2vbFF19o8ODBuZ4zMTFRa9as0ZYtW2SaZrbHrVixQnfffbdcXV1zvTYAxyBoAQAAAFDsRUdHq02bNtaDaQ3D0FdffaX+/fvnes6///5bc+fOVXx8fI7HXr58WadOnZK/v3+u1wfgGAQtAAAAAIq1U6dOqXXr1jp48KAkycnJSd9++60ef/zxXM1nmqZ+//13rVixQhaLJcfj7733XrVt21a+vr65Wh+AYxG0AAAAACi2jh8/rtatW+vIkSOSJGdnZ82aNUu9evXK9Zx//fWXIiIicjyufPnyCgsLU0BAQK7XBuB4BC0AAAAAiqWjR4+qVatW1gNqXVxcFB4eru7du+dp3rvuuktBQUHatWtXtvp7enqqVatWatiwoZycnPK0NgDHI2gBAAAAUOwcOnRIrVu31smTJyVJbm5umjdvnrp06ZLnuQ3DUOfOnXX27FmdPXv2pv0aNGig1q1by8vLK8/rAigciEsBAAAAFCv79+9XSEiINWRxd3fXokWL7BKyZHBzc1PPnj3l7u6e6fXq1atr0KBB6ty5MyELUMQQtAAAAAAoNvbs2aOQkBBFR0dLSr9tZ+nSperQoYPd1ypbtqy6detm0+bl5aVHHnlE/fr1U6VKley+JgDHI2gBAAAAUCzs2LFDLVu21Llz5yRJJUqUUEREhEJDQ/NtzVq1aql58+aSpMqVK2vQoEGqW7euDMPItzUBOBZntAAAAAAo0pKTk/Xpp59q3LhxSkhIkCSVLFlSERERevDBB/N9/VatWqlEiRJq2LChXFz4EQwo6vgqBwAAAFBkRURE6Pnnn9fBgwetbT4+PlqxYoUaN25cIDU4OTmpSZMmBbIWAMfj1iEAAAAARc7hw4fVpUsXdezY0SZkCQwM1Nq1awssZAFQ/BC0AAAAACgyEhIS9Nprr+nee+/V0qVLre0+Pj6aNGmSdu7cqfr16zuwQgBFHUELAAAAgNueaZr63//+p5o1a2rChAlKTk6WJBmGoaeffloHDx7UiBEj5OrqmqM5169fr5iYmPwqG0ARxBktAAAAAG5rW7du1fDhw/Xrr7/atDdp0kRTpkxRw4YNczxnYmKi5s+fr0OHDmnPnj16+umn5ebmZq+SARRh7GgBAAAAcFv6559/NGjQIN1///02IUvFihX13Xff6ZdffslVyBIdHa1p06bp0KFDkqRz585pyZIlMk3TbrUDKLrY0QIAAADgtpKSkqKpU6dq9OjRiouLs7a7urrqhRde0BtvvKGSJUvmau7t27dr2bJlSk1NtWnfvXu3qlatyiG6AG6JoAUAAADAbWP16tUaMWKE9u7da9PesWNHffLJJ7rnnntyNW9qaqoiIiK0devWLPusWLFClSpVUvXq1XO1BoDigVuHAAAAABR6x44d0yOPPKLQ0FCbkKVGjRpaunSpli1bluuQJS4uTjNmzLhpyCJJFotFc+fOVUJCQq7WAVA8ELQAAAAAKLSuXLmit956S4GBgZo/f7613dvbW++//7727NmjTp065Xr+I0eOaNq0aTp16lS2+sfHx+u3337L9XoAij5uHQIAAABQ6JimqXnz5mnkyJE6ceKEzbUnnnhCEyZMUOXKlfM0/8aNG7VmzZocHXLbrFkztW7dOtfrAij6CFoAAAAAFCq7d+/W8OHDtW7dOpv2Bg0aaPLkyWratGme5k9KStKCBQt04MCBbI9xd3dXt27dVKtWrTytDaDoI2gBAAAAUChcuHBBo0eP1tSpU2WxWKztfn5+eu+999SvXz85OzvnaY2zZ88qPDxcFy5cyPaY8uXLq1evXipbtmye1gZQPBC0AAAAAHCotLQ0ffnll3rjjTcUExNjbXd2dtawYcP01ltvydfX1y5rnThxIkchS926ddWlSxe5ubnZZX0ARR9BCwAAAACH2bBhg4YPH64dO3bYtLdp00aTJ09W7dq17bpegwYNdPLkyRvW+zcnJye1b99ejRo1kmEYdq0BQNFG0AIAAACgwJ08eVKvvPKK5syZY9Pu7++viRMnqmvXrvkScBiGoU6dOunMmTM6c+ZMpn1KliypHj16qHr16nZfH0DRx+OdAQAAABSYpKQkvfvuu6pZs6ZNyOLp6alx48bpzz//VLdu3fJ1F4mrq6t69eolDw+PG67dcccdGjx4MCELgFxjRwsAAACAfGeappYsWaIXXnhBR44csbnWs2dPffjhhwUabpQuXVrdu3fX7NmzrW0PPPCAQkND83zgLoDijR0tAAAAAPLV/v37FRYWpocfftgmZKlbt67WrVun8PBwh+wgueeeexQSEiI3Nzf16NFD7du3J2QBkGfsaAEAAACQL+Li4jRu3DhNnjxZqamp1vbSpUvr7bff1uDBg+Xi4tgfSUJCQlSvXj2VLl3aoXUAKDoIWgAAAADYlcVi0bfffqtXX31V586ds7Y7OTlp8ODBevvtt1W2bFkHVvh/nJycCFkA2BVBCwAAAAC72bx5s4YNG6Y//vjDpr158+aaPHmy6tWr56DKAKBgcEYLAAAAgDw7c+aM+vXrpyZNmtiELFWqVNGcOXMUFRVl95DFYrHYdT4AsAeCFgAAAAC5lpycrI8//lj33HOPZs6caW13d3fXG2+8oQMHDqh37952f1zziRMn9Pnnn+uff/6x67wAkFcELQAAAAByZfny5QoKCtJLL72k+Ph4a3vXrl31559/6u2331aJEiXsuqZpmvr99981Y8YMnT9/XuHh4bp69apd1wCAvCBoAQAAAJAjhw8f1kMPPaSwsDAdOHDA2l6rVi2tWLFCCxYs0J133mn3dZOTk7VgwQL9/PPP1tuGzp8/r0WLFsk0TbuvBwC5QdACAAAAIFsSEhI0atQo3XvvvVqyZIm1vVSpUpo4caJ27dqldu3a5cvaMTEx+uqrr7Rr164brv3555/atGlTvqwLADnFU4cAAAAA3JRpmpozZ45efvllnT592tpuGIb69eund999VxUqVMi39ffv368FCxbc9BahyMhIVapUSf7+/vlWBwBkBztaAAAAAGRp+/btat68ufr06WMTsjRu3FibN2/+/+zdaXhURd7+8buSEAKBAILI4oYoogOKjaKi7KKACJKFXQOIOvoo6gMzo46jzsxfx20cF54BEYSwQ0IAQREEQQUXIIggyCIYVhFkDTvp1P9FN20CZOV0Tif5fq6rr9Ndp+qcX3xB2jt1qjRq1KighSxZWVlasGCBJk+enO86LFlZWUpOTtahQ4eCUgsAFBQzWgAAAACcZc+ePXruuef0/vvv51j/5KKLLtJrr72mvn37KiwseH+3PXr0qFJSUrR58+YCj8nKytKBAwcUExMTtLoAID8ELQAAAAACqbpykgAAIABJREFUMjMzNWzYMD3//PM6cOBAoL1cuXJ68skn9dxzzwU9yNixY4emTp2qgwcPFnhMnTp11L17d1WtWjWIlQFA/ghaAAAAAEiSPvvsMz3xxBP64YcfcrR36NBBb731lq6++uqg3t9aqxUrVujjjz+W1+st8DiPx6NOnTopIoL/vQHgPv4lAgAAAMq4LVu2aMiQIUpJScnRXr9+fb311lu6++67ZYwJeh0ff/yxli1bVuD+ERER6tSpkzweTxCrAoDCYTHcfBhj2htjphpjthhjjhtjjhljNhtjJhhjWuUztrIx5kVjzGpjzGFjzEFjzDJjzGBjTGRx/QwAAADAuRw9elQvvviiGjZsmCNkiY6O1r/+9S+tWbNGnTt3LpaQRZJq165d4L5Vq1bVgAEDCFkAhBxmtOTC+H6bDJP0cLbmY/5jPf+rtzHmP9ba/z3H+MskLZJ0ub/pqKTykm70v/oYY9pZa/cH5QcAAAAA8jBjxgw98cQT2rp1a472vn376pVXXlHdunWLvSaPx6Pt27drxYoVefa78sorFRsbq4oVKxZTZQBQcMxoyV0//R6ypEhqYK2taK2tKKmhpJn+c08ZY7plH2iMiZA0S76Q5RdJ7a210ZIqSuopKUPSDZLGB/lnAAAAAM7y+uuvq1u3bjlCFo/Ho8WLF2vcuHGuhCynderUSXXq1Mn1fKtWrdS7d29CFgAhi6Ald/f7jz9J6mWt3Xj6hLV2vaQESaf3mut+xthESY397+OstfP947KstVP0e4DTyRjTLhjFAwAAAOfy0ksv6c9//nPgc40aNTRixAgtXbpUt912m4uV+URERKh79+6qUKFCjvaoqCj17t1bbdq0Ceq20gBwvvgXKnenHxD93lqbeeZJa+0pSSv9HyudcTrRf1xorf36HNeeLOln//v7z3EeAAAAcJS1Vi+88IKee+65QFvLli21YcMGPfjggwoPD3exupyqVq2quLi4wNowtWrV0kMPPaQGDRq4XBkA5I81WnK3WdLVkq43xkScGbYYY8pJauL/uDxbe0VJp/8UMOdcF7bWWmPMJ5IekXSn04UDAAAA2Vlr9eyzz+qVV14JtLVr104zZ85UdHS0i5Xl7sorr1SbNm20d+9ede7cWeXKlXO7JAAoEIKW3A2T1FHSlZImGWOesdb+JEnGmKslvSLpCkmbJP0n27hr9PtMoR/yuP7pc7WMMRdYa/c5WTwAAAAg+UKWIUOG6M033wy0dejQQampqWc9nhNqWrRoIUnFtusRADiBR4dyYa2dJekpSSclxUvaaIw5aow5KmmdpNbyhTHNrLWHsg3NvnLXjjxukf1c7qt9AQAAAEWUlZWlQYMG5QhZ7rnnHs2YMSPkQxbJF7AQsgAoaZjRkgdr7VvGmI2SPpBUU1L230aR8q3NUkVS9tkolbO9P5rH5bOfq5xrLz9jTFq+Bft2QwIAAACUlZWlRx55RCNGjAi0xcbGatKkSYqMjAzqvb1erw4cOKDq1asH9T4AEIqY0ZILY0xFY8wUSbMlbZVvLZUL/a87Ja2VdJ+kpcaY61wrFAAAADiD1+vVAw88kCNk6dGjhyZPnhz0kGXz5s0aPny4xo4dq1OnTgX1XgAQipjRkrvX5du2eb2kFtba49nOfWqMWSzfrkMNJP2fpBb+cxnZ+lXM4/rZz2Xk2svPWts0vz7+WS+e/PoBAACg9MrMzFS/fv00YcKEQNt9992nDz74QBERwfv6f+DAAc2dO1c//vhjoG3JkiVq3bp10O4JAKGIGS3nYIypLOkh/8f/OyNkkSRZa49JGur/eLsxpqb//c5s3ermcZvs53bm2gsAAAAooFOnTqlPnz45QpYBAwZo9OjRQQtZTp06pYULF2ro0KE5QhZJWrx4sQ4cOBCU+wJAqCJoObcG+n22z6Y8+m3M9r6e//ijpCz/+0Z5jD19bhc7DgEAAOB8nTx5Uj169NDUqVMDbQ8//LDef/99hYeHO34/a63WrFmjoUOH6vPPP1dmZuZZfTIzMzVv3jzH7w0AoYyg5dyysr2/LI9+F2V7nyFJ1tqjkpb42zqca5DxLZ1+l/8jv3kAAABwXo4fP664uDhNnz490Pb4449r2LBhCgtz/iv/r7/+qqSkJCUnJ+vgwYN59l27dq1+/vlnx2sAgFBF0HJu6yQd878faIw5a56lMSZcvz9etF++tVxOS/If2xhjbj7H9RMkXeF/P/b8ywUAAEBZdezYMd17772aPXt2oG3w4MF6++23Hd8a+dixY/r44481fPhwpaenF3jcnDlzlJWVlX9HACgFCFrOwb/+ykj/R4+kWcaYxsaYMP/rOkkfS2ru7/OWtdab7RJJklZLMpKmGWPaSZJ/bIKk9/395lhrFwT75wEAAEDpdOTIEXXu3Flz584NtD3zzDN6/fXXHQ1ZsrKytGzZMr3zzjtaunSprLWFGr9v3z7t3MmyhADKBnYdyt1fJF0l3+M/p18n/OfKZ+s3SdJL2QdaazONMV0kLZR0uaT5xpij8gVbUf5u30nqE6ziAQAAULplZGSoc+fO+uKLLwJtL774op5//nlHQ5a9e/cqOTlZu3btKtL4a6+9VnfeeaeqVq3qWE0AEMoIWnJhrT1mjOkkKU5SX0lNJdWUZCVtk7RU0mhr7Ue5jE/3z3wZIilWvsVyT0laI18486619mTQfxAAAACUOgcPHlTHjh319ddfB9peeuklPfvss47fq1KlSjpy5Eihx9WsWVMdO3ZUvXr18u8MAKWIKey0P4QuY0yax+PxpKWluV0KAAAAgmT//v3q0KGDli5dGmh74403NHjw4KDdc9WqVUpNTS1Q36ioKLVt21Y33nhjUBbiBQAHOLuA1RmY0QIAAACUEHv37lX79u313XffBdreeecdPf7440G9b+PGjbVs2TJt27Yt1z7GGDVt2lRt27ZVxYoVg1oPAIQyImYAAACgBNi9e7fatGmTI2QZNmxY0EMWyReidOzYMde1Xy699FI99NBD6ty5MyELgDKPGS0AAABAiNu1a5fatWuntWvXSvIFHyNHjtSAAQOKrYY6derI4/Eo+2PqMTExat++vRo1auT4VtIAUFIRtAAAAAAhbMeOHWrbtq02bNggSQoLC1NSUpL69u1b7LW0bdtWa9as0alTp9S8eXO1aNFCkZGRxV4HAIQyghYAAAAgRG3dulVt27bVpk2bJEnh4eEaP368evbs6Uo90dHRio2NVY0aNXTBBRe4UgMAhDqCFgAAACAE/fzzz2rbtq3S09MlSREREZo8ebLi4uJcratBgwau3h8AQh2L4QIAAAAh5qefflKrVq0CIUtkZKRSU1OLHLJ4vV6tWrVK1loHqwQAnAszWgAAAIAQsm7dOrVt21a//PKLJKl8+fKaMWOGOnToUKTrZWRkaOrUqdq2bZtOnDihm266yclyAQBnIGgBAAAAQsSaNWvUrl07/frrr5KkChUq6MMPP9Qdd9xRpOulp6crJSVFhw8fliR98sknql27ti6++GLHagYA5MSjQwAAAEAI+P7779W6detAyBIdHa05c+YUKWSx1uqrr77S2LFjAyGL5HuEaOrUqTpy5IhjdQMAciJoAQAAAFyWlpamNm3a6LfffpMkVa5cWXPnzlWrVq0Kfa0TJ04oOTlZ8+bNU1ZW1lnnDx06pJSUlHOeAwCcP4IWAAAAwEXffvut2rVrp/3790uSqlSpok8//VS33XZboa+1Z88evf/++1q7dm2e/X7++WctWLCgSPUCAPJG0AIAAAC4ZN68eWrfvr0OHjwoSapWrZoWLFigm2++udDXWrt2rd5///3ArJj8LFmyRFu3bi30fQAAeWMxXAAAAKCYpaena8iQIZo2bVqgrUaNGpo/f76uv/76Ql0rKytL8+fP11dffVXgMcYY3XHHHbrkkksKdS8AQP4IWgAAAIBicvToUb322mt69dVXdfz48UD7RRddpAULFugPf/hDoa53+PBhpaSkKD09vcBjoqOjFR8fr3r16hXqXgCAgiFoAQAAAILMWqtp06Zp8ODBZz2u07dvX7366quqU6dOoa65bds2TZ06VRkZGQUec/HFF6t79+6KiYkp1L0AAAVH0AIAAAAE0erVq/XEE09o4cKFOdo9Ho/eeeedIi16a63VnDlzChWyNGvWTHfddZfCw8MLfT8AQMGxGC4AAAAQBPv27dPjjz+uG264IUfIUqNGDb3//vtaunRpkUIWybfGSnx8vKKiovLtW65cOXXr1k2dOnUiZAGAYkDQAgAAADjI6/XqvffeU4MGDTR06FB5vV5JUnh4uJ544glt2LBBAwcOPO/Q44ILLlC3bt3y7TNw4MBCL7ALACg6Hh0CAAAAHLJ48WI9/vjjWrlyZY72du3a6e233y70Yrf5ufrqq9WiRQt9+eWX5zzXrVu3As16AQA4hxktAAAAwHnavn27evfurRYtWuQIWS6//HJNmzZNn376qeMhy2lt2rTRFVdcEfhsjFHbtm3Vs2dPQhYAcAFBCwAAAFBEx48f18svv6yrr75akyZNCrRXqFBB//jHP7R27VrFxsbKGBO0GsLCwhQfH68qVaqoQoUK6tu3r1q2bBnUewIAcsejQwAAAEAhWWs1a9YsPfXUU9q8eXOOc927d9frr7+uSy+9tNjqqVixonr16qWoqChVrVq12O4LADgbQQsAAABQCOvWrdOTTz6puXPn5mhv3Lix3nnnHbVu3dqVumrVquXKfQEAOfHoEAAAAFAABw8e1ODBg9W4ceMcIUu1atU0dOhQrVixwrWQBQAQOpjRAgAAAOQhKytLSUlJevrpp7V79+5Ae1hYmB5++GH985//VPXq1V2sEAAQSpjRAgAAAOTi22+/1a233qoBAwbkCFlatGihtLQ0/fe//z3vkGXjxo366KOPZK0933IBACGAGS0AAADAGXbt2qVnnnlGY8aMydFet25dvfHGG+rRo8d57+pjrdXnn3+uzz//XNZa1ahRQzfffPN5XRMA4D6CFgAAAMDv5MmTevfdd/X3v/9dGRkZgfby5cvrT3/6k55++mlFR0ef932OHTum1NRUbdy4MdA2d+5c1a5du1h3KwIAOI9HhwAAAABJn3zyia677joNGTIkR8hy7733au3atfrnP//pSMjyyy+/aMSIETlCFsm3FkxycrIOHz583vcAALiHoAUAAABl2p49e3TvvfeqY8eOWr9+faC9YcOGmjt3rqZPn64rrrjCkXutXLlSo0aN0v79+895PiMjQ8nJyfJ6vY7cDwBQ/AhaAAAAUGYtXbpUHo9HM2fODLTFxMTozTff1KpVq3TnnXc6cp/MzEzNnj1bM2bMUGZmZp59t2zZovnz5ztyXwBA8SNoAQAAQJljrdXw4cPVokULbd++PdA+YMAAbdiwQU899ZTKlSvnyL0OHjyo0aNHa/ny5QUes2bNGh0/ftyR+wMAiheL4QIAAKBMOXbsmB555BElJSUF2qpVq6YJEyaoY8eOjt5r8+bNSklJ0dGjRws8pl69eoqPj1dUVJSjtQAAigdBCwAAAMqMzZs3Ky4uTitXrgy0NWnSRNOmTXNsHRbJN2NmyZIlWrBggay1BR532223qV27dgoLY+I5AJRUBC0AAAAoEz7++GP16dNHBw4cCLQlJiZq2LBhqlChgmP3OXHihKZPn65169YVeEz58uV177336pprrnGsDgCAO4jKAQAAUKp5vV698MILuvvuuwMhS2RkpIYPH67Ro0c7GrJIUlhYWI4wJz8XXnihHnzwQUIWACglCFoAAABQau3bt0+dO3fWP/7xj0DbJZdcoi+//FIPP/ywjDGO37NcuXLq0aNHgdZYadSokR588EHVqFHD8ToAAO4gaAEAAECptGLFCjVt2lSffPJJoK1du3ZKS0tTs2bNgnrvatWqKS4uLtfzYWFh6tChg+Li4hQZGRnUWgAAxYugBQAAAKXO6NGj1bx5c6WnpwfannnmGc2dO1cXXnhhsdRw1VVXqXXr1me1V6pUSYmJibrllluCMqMGAOAuFsMFAABAqXH8+HENGjRI77//fqAtJiZGY8eOVdeuXYu9nlatWmnHjh3auHGjJOnSSy9VQkKCKleuXOy1AACKB0ELAAAASoUtW7YoPj5ey5cvD7Q1atRIqampuuqqq1ypyRij2NhYjRgxQg0bNtQdd9yh8PBwV2oBABQPghYAAACUeJ9++ql69eqlvXv3Btp69+6tESNGKDo62sXKpAoVKujhhx8u0OK4AICSjzVaAAAAUGJlZWXp5Zdf1l133RUIWSIiIvTOO+9o/PjxrocspxGyAEDZwYwWAAAAlEgHDhzQ/fffr1mzZgXaateureTkZN12220uVgYAKMsIWgAAAFDirFq1SrGxsdq0aVOgrWXLlpoyZYpq1arl2H2ysrLk9XpVrlw5x64JACjdeHQIAAAAJcr48eN1yy235AhZBg8erPnz5zsashw+fFhjx47V9OnTZa117LoAgNKNGS0AAAAoEU6ePKnBgwdr6NChgbbo6GiNHj1aCQkJjt5r27Ztmjp1qjIyMiRJX3/9tZo3b+7oPQAApRNBCwAAAELejh07lJCQoK+//jrQ1rBhQ6Wmpuqaa65x7D7WWi1btkxz586V1+sNtM+fP1916tTR5Zdf7ti9AAClE48OAQAAIKQtWrRIHo8nR8gSHx+vpUuXOhqynDx5UtOnT9fHH3+cI2SRfGu1JCcn69ChQ47dDwBQOhG0AAAAICRZa/XGG2/ojjvu0O7duyVJ4eHheuONNzR16lRVrlzZsXvt27dPo0aN0qpVq3Ltc+TIESUnJ58VwgAAkB2PDgEAACDkZGRkaMCAAUpJSQm01axZU1OmTFHr1q0dvdf69es1ffp0HT9+PN++27Zt07x589SxY0dHawAAlB4ELQAAAAgpP/74o2JjY7Vu3bpA26233qrk5GTVrVvXsftYa/X5559r0aJFBR5jjFF0dLSstTLGOFYLAKD0cPTRIWPMZmPMJmPMHYUc1/L0WCfrAQAAQMmSnJysZs2a5QhZHnvsMS1atMjxkGXevHmFClkqVKigPn36qGXLloQsAIBcOT2j5XJJVlLFQo6rkG0sAAAAypCsrCx99tlneu+993I8KlShQgWNGDFCffv2dfR+1lrNmTNHS5cuLfCY2rVrq0ePHqpataqjtQAASh8eHQIAAIArtm/frjFjxmjUqFFKT0/Pca5+/fpKTU3Vdddd5+g9rbWaPXu20tLSCjzG4/GoU6dOiojgqzMAIH+h8tuigv94wtUqAAAAEFSnTp3S7NmzNWrUKM2ZM0dZWVln9enWrZs++OCDoMwe2blzp1asWFGgvhEREerUqZM8Ho/jdQAASq9QCVpu8R/3uFoFAAAAgmLDhg0aNWqUkpKS9Ouvv551vlq1arrvvvv0wAMPOD6LJbu6desqNjZWqampsjb3p9arVKmiHj16qE6dOkGrBQBQOhU5aDHGXCepSS6n2xpj8vsThJEULckjqa9867MsL2o9AAAACC1Hjx7VtGnTNHLkSH3xxRfn7NOuXTs98MAD6tatm6KiooqlrsaNG8vr9WrmzJnnDFsuv/xyde/eXRUrFnbZQQAAzm9GSzdJz5+j3Uh6vJDXMvIFLcPPox4AAACEgO+++04jR47UhAkTdPDgwbPO16lTR/3799eAAQN0xRVXuFCh1KRJE3m9Xs2aNStHe/369dWzZ0+VK1fOlboAACXf+T46lNu+doXd7263pL9Zaz89z3oAAADgggMHDmjixIkaNWrUOddACQ8PV+fOnTVw4EB16NAhJBaWbdq0qbxerz7++GNJUoMGDdS9e/eQqA0AUHKdz2+RGZLSz2gbLd/MlKGS8ltlLEvSYUk/S1ptrfWeRy0AAAAoZtZaffnllxo5cqSSk5N1/Pjxs/rUr19fAwcOVGJiomrXru1ClXlr1qyZvF6vtm7dqvj4eIWHh7tdEgCghDN5LQJW6IsZkyVf0NLNWvuhYxdGgRhj0jwej6cw2xUCAAAU1q+//qqkpCSNGjVKGzZsOOt8VFSU4uPj9cADD6hVq1YyprCTnYuftbZE1AkAcERQ/8F3el5kf/+xYHvmAQAAoETwer2aO3euRo4cqVmzZikzM/OsPtdff70efPBB9e7dW9WqVXOhyqIjZAEAOMXRoMVam+Tk9QAAAOCu9PR0ffDBBxo9erS2b99+1vmYmBj17t1bAwcOlMfjIbAAAJR5rPQFAACAHE6cOKGZM2dq5MiRmj9//jm3QL799ts1cOBAxcfHKzo62oUqAQAITUENWowxdSVdK6mapKiCjLHWjg1mTQAAAMjdJ598ov79+2vXrl1nnbvwwgvVr18/DRgwQA0bNnShOgAAQl9QghZjTD9JQyRdU8ihVhJBCwAAQDHLysrSSy+9pBdeeCHHDBZjjDp06KCBAweqc+fOioyMdLHKsx05ckTHjh1TjRo13C4FAABJQQhajDEfSEo8/dHp6wMAAMBZ+/fv13333aePPvoo0HbRRRfp0UcfVb9+/XTppZe6WF3uMjIyNHbsWB0/flz9+vVT9erV3S4JAABngxZjTE9J/bI1LZH0maQdkk44eS8AAACcv5UrVyouLk6bN28OtLVp00aTJ09WzZo1Xawsb4cOHVJSUpL27t0rSUpKSlL//v1L3G5HAIDSx+kZLQP9x5OSelprZzh8fQAAADhk7Nixevjhh3X8+PFA25///Ge99NJLiogI3T0TDhw4oKSkJO3fvz/Qdjp46devn6pWrepidQCAsi7M4es1kW+dldGELAAAAKHpxIkTevTRR5WYmBgIWSpXrqyUlBS9+uqrIR2y7N+/X2PGjMkRspx2OoA5dOiQC5UBAODjdNBS0X/8wuHrAgAAwAHbtm1Ty5YtNWzYsEDbtddeq2XLlikuLs7FyvK3d+9ejR49WgcOHMi1z/79+5WUlKSMjIxirAwAgN85HbTs9B9ZBBcAACDELFiwQB6PR0uXLg209ejRQ99++62uvvpqFyvL32+//aYxY8YUaLbK3r17lZ6eHvyiAAA4B6eDlgX+YxOHrwsAAIAistbq1Vdf1Z133qnffvtNkhQeHq7//Oc/mjRpkipVquRyhXnbvXu3Ro8eXaBZKsYYdenSRY0bNy6GygAAOJvTQctb8i2EO8AYw/56AAAALjt48KDi4uL09NNPKysrS5JUq1YtLVy4UE8++aSMCe2JyLt27dKYMWN05MiRfPsaY3TvvffK4/EUQ2UAAJybo0GLtfZHSY9IqipprjHmcievDwAAgIL74YcfdNNNN2n69OmBtttvv10rVqxQixYtXKysYHbu3KmkpCQdPXo0375hYWGKjY3V9ddfXwyVAQCQO0eXlDfG3C8pS1KKpO6S1hljZkv6RtJv/nN5staOdbImAACAsmjSpEkaOHBgjpDiySef1GuvvaZy5cq5WFnBbN++XePHj8+x9XRuwsLCFB8fr2uvvbYYKgMAIG9O7903Rr7tneU/Rkrq5n8VhJVE0AIAAFBEp06d0p/+9Ce9/fbbgbaKFStq1KhR6tmzp4uVFdy+ffs0btw4nThxIt++4eHhSkhIUMOGDYuhMgAA8ud00CKdveNQaD/4CwAAUEr88ssv6t69uxYvXhxoa9CggVJTU/WHP/zBxcoKp1q1arr++utz7I50LhEREerRo4euuuqqYqoMAID8OR209Hf4egAAACiAL7/8Ut27d9euXbsCbffee6/GjBmjKlWquFhZ4Rlj1LFjR3m9XqWlpZ2zT0REhHr16qX69esXc3UAAOTN0aDFWpvk5PUAAACQN2ut3n77bQ0ZMkRer1eSb82Sl19+WX/+859Dfleh3Bhj1LlzZ3m9Xq1cuTLHuXLlyql3796qV6+eS9UBAJC7YDw6BAAAgGJw+PBhDRw4UFOmTAm01ahRQ5MnT1a7du1crMwZxhh16dJFXq9Xq1evliRFRkaqT58+uuyyy1yuDgCAcyNoAQAAKIHWr1+v2NhYrV27NtDWrFkzpaSk6JJLLnGxMmeFhYWpW7du8nq92rRpk+677z5dfPHFbpcFAECuCFoAAABKmNTUVPXr108ZGRmBtkceeUT/+c9/VL58eRcrC46wsDDFxcVp//79qlGjhtvlAACQJ0eDFmPMped7DWvtVidqAQAAKG0yMzP117/+Va+99lqgLSoqSsOHD1diYqKLlQVfeHg4IQsAoERwekZLuiR7HuOtmGUDAABwlt27d6tnz55auHBhoK1evXpKTU1VkyZNXKwMAABkFxaEa5rzfAEAACCbb775Rh6PJ0fIcvfddystLY2QBQCAEOP07JGCbO8cJqmGpBslXSjfLJbPJG13uBYAAIASzVqrYcOG6cknn9SpU6ck+Xbi+fvf/66//vWvCgsLxt/MnHf48GFVqlTJ7TIAACgWjgYt1tr+Be1rjAmT1EvSO5IaSXrWWrvMyXoAAABKqqNHj+qPf/yjxo0bF2irVq2aJk6cqA4dOrhYWeGsWbNGM2fOVKdOnZh9AwAoE1xbD8VamyVpgjFmvaSvJKUaY5pYa/e6VRMAAEAo2LRpk2JjY7Vq1apAm8fjUUpKiurVq+diZQXn9Xo1f/58ff3115Kk2bNnq1atWqpVq5bLlQEAEFyuzze11i6XNFlSHUmDXC4HAADAVbNmzVLTpk1zhCwDBgzQkiVLSkzIcvjwYY0dOzYQski+HZOmTJmiY8eOuVgZAADB53rQ4rdQvoVwY90uBAAAwA1er1d/+9vf1KVLFx08eFCSFBkZqREjRmjUqFGKiopyucKC2bp1q9577z1t2bLlrHP79+9XamqqrD2fTSoBAAhtobKV8mH/8TJXqwAAAHDB3r171bt3b82bNy/Qdskll2jatGm66aabXKys4Ky1Wrp0qebOnausrKxc+23cuFFffPGFWrVqVYy3E74lAAAgAElEQVTVAQBQfEIlaLnWf+TPGwAAoExZvny54uPjc8wAad++vSZOnKgaNWq4WFnBnTx5UrNmzdLq1asL1H/RokWqU6eOrrrqqiBXBgBA8XP90SFjzKWSHpUvZNnocjkAAADFZuTIkbrttttyhCx//etfNWfOnBITsuzdu1cjR44scMgi+XZPiomJCWJVAAC4x9EZLf7QpCAi5Vv8tq2k/5FUXb6gZYqT9QAAAISi48eP67HHHtOoUaMCbTExMRo3bpy6dOniYmWFs27dOk2fPl0nTpwo8Jirr75a3bp1KzFrzgAAUFhOPzqUrqI//rNS0jvOlQIAABB60tPTFR8fr7S0tEBb48aNNW3atBLzKE1WVpY+++wzLV68uMBjjDFq27atbr/9dhljglgdAADuCsYaLYX9zemVNFHSk9bagv85BAAAoISZO3euevfurX379gXa+vTpo/fee0/R0dEuVlY4H330UY6gKD8VK1ZUXFyc6tevH8SqAAAIDU4HLUkF7HdC0gFJayV9aq39xeE6AAAAQkZWVpZefvllPf/884GtjSMiIvTWW2/p0UcfLXEzPG6++WatWrVKp06dyrdvnTp11KNHD1WpUqUYKgMAwH2OBi3W2v5OXg8AAKCkO3DggO677z7Nnj070FanTh0lJyerefPmLlZWdDVr1lTXrl2VkpKSZ7+mTZuqY8eOiogIlY0uAQAIPtd3HSoJjDExxpi/GGO+MsbsMcacMMZsN8YsNMa8aIypmsu4yv7zq40xh40xB40xy4wxg40xkcX9cwAAgOL1/fff68Ybb8wRsrRq1UorVqwosSHLaY0aNdItt9xyznMRERHq2rWr7rnnHkIWAECZw2++fBhj2kiaJOkif9NJSUcl1fW/WkuaId9ivtnHXSZpkaTL/U1HJZWXdKP/1ccY085auz+oPwAAAHDFuHHj9PDDD+vYsWOBtiFDhuhf//pXqQkf2rdvr507d2rr1q2BtqpVq6pHjx6qXbu2i5UBAOCeYpnRYoypZIy50hhzg/9YqTjue76MMbdJ+ki+kCVV0k2Soqy11SRFS2om6SVJB88YFyFplnwhyy+S2ltroyVVlNRTUoakGySNL5YfBAAAFJuTJ0/qf/7nf3T//fcHQpZKlSopOTlZr7/+eqkJWSQpPDxcCQkJqlTJ99Xuyiuv1EMPPUTIAgAo04L2m94Yc5Gk/5EUK6mhcu5GZI0x6ySlSBpmrf01WHUUlTGmoqSxkipIetdaOyj7eWvtUUnL/K8zJUpq7H8fZ6392j8mS9IUY0yYfDstdfLPalkQpB8DAAAUo+3btyshIUHffPNNoO2aa65RamqqGjZs6GJlwVO5cmUlJCTo559/VsuWLRUWxpPpAICyLSi/CY0xvSStl/RXSdf472OyvcL87X+TtN4Y0zMYdZyn+yRdIWmXpD8Xcmyi/7jwdMhyhsmSfva/v79o5QEAgFCycOFCeTyeHCFLQkKCvv3221Ibspx22WWXqXXr1oQsAAAoCEGLMeY+SeMkVdbvs1h+lDRT0gT/ca0k6z8fI2mCMaaP07Wcp9MBSLK19nhBB/lnwtzm/zjnXH2sb1/HT/wf7yxyhQAAwHXWWr322mu64447tGfPHkm+R2r+/e9/a8qUKapcubLLFQIAgOLk6KNDxphakv4rX4CT5X//mrV22zn6XizfTJFH/f2HG2MWWGt3OVlTURhjTi9aK0lpxphLJT0nqaN867Xsl7RU0nBr7UdnDD89g0eSfsjjNqfP1TLGXGCt3edI8QAAoNgcOnRI/fv3V2pqaqDtoosu0tSpU9WyZUsXKwMAAG5xeo2W/5FvkVgraYC1dmxuHa212yUNMsYsk5Qk30Kxj0p63uGaiuJySae3X75C0rvyzdA5KemIpJqSOkvqbIwZKekh/ywVSaqT7To78rhH9nN1JOUZtBhj0gpQd+melwwAQAhZs2aNYmNjtWHDhkBb8+bNlZycrDp16uQxMrRYa2WMyb8jAAAoEKcfHeogX8gyJ6+QJTtr7Tj5dvYx8s0YCQXVsr1/TtIpSQmSKvl3HLpMUrL//EBJT2Xrn31+8NE87pH9HHOKAQAoQaZMmaKbb745R8gyaNAgLVy4sESFLHv27NGYMWOUkZHhdikAAJQaTgct9fzHDws57nT/enn2Kj5hZ7x/wFqbYq09JUnW2q3ybdP8vb/Ps/4tnYPGWts0v5ekdcGsAQCAsu7UqVN66qmn1LNnTx05ckSSVLFiRU2cOFFvv/22IiMj87lC6Ni9e7fGjBmjLVu2KCkpSYcPH3a7JAAASgWng5ZK/uP+Qo47cMZ4t2X/s85Ga+2MMzv4t2p+w/+xuqSm5xhbMY97ZD/Hn5EAAAhxv/zyi9q2bau33nor0HbVVVfp22+/Va9evVysrPB27dqlMWPGBMKi3377TWPHjg18BgAARed00LLXf7yykONO99+bZ6/ik339lLxmiazN9v4y/3Fntra6eYzNfm5nrr0AAIDrFi9eLI/Ho8WLFwfaunbtqmXLlqlRo0YuVlZ4O3fuVFJSko4ezfmE8+7duzVu3DgdO3bMpcoAACgdnA5aVsq31ko/Y0y5ggzw90uUb22XlQ7XUyT+HYDyWsj2tOwrx51eDPdH+XZckqS8vnmdPreLHYcAAAhN1lq9/fbbatOmjXbt8m2MGBYWpn/9619KTU1VlSpVXK6wcLZv366kpKRcw5Rdu3Zp3LhxOn78eDFXBgBA6eF00DLdf7xS0jj/Nsm5MsZEShojqYG/aZrD9ZyPef7jNXn0uTbb+58lyVp7VNISf1uHcw0yvqX97zrjPgAAIIQcPnxYvXr10pNPPqnMzExJUo0aNTRv3jw9/fTTCgtz+mtUcG3dulVjx47ViRMn8uy3c+dOTZo0Sb9vqAgAAArD6W8IoyWdXn4/QdJaY8wTxphrTy8Wa4yJMMZcY4wZJGmNfIvKWknr5dvmOVSM9h+vNMbce+ZJY0yYpCH+jzskrch2+vTP0cYYc/M5rp0g37bRklSg3ZkAAEDxWb9+vW6++WZNmTIl0NasWTOtWLFC7dq1c7GyoklPT9e4ceN08uTJfPtGRETo9ttvZ8tnAACKyNGgxVrrldRFvrVWjKTLJb0pabWkE8aYE5JOSPpB0n/kCxuMpN8kdfGPDwnW2i8lpfg/jjTGxGULiy6VNEnSdf7zf/Uvjntaknw/s5E0zRjTzj8uzBiTIOl9f7851toFQf5RAABAIUyfPl033XST1q79fSm2hx9+WF988YUuueQSFysrmk2bNmnChAk6depUvn3LlSun3r1766qrriqGygAAKJ0cn/Nqrd0g6QZJc+ULGrK/yp2jbY4kj7X2J6drcUA/SV/It6tQiqTDxph9krZI6u7v83drbY6ZONbaTPkCp3T5Fr2db4w5IumIpKmSYiR9J6lP8H8EAABQEJmZmXr66acVGxurjAzfhoBRUVEaPXq0hg8frvLl83wiOiRt3LhRkyZNKlDIEhkZqT59+uiKK67Ity8AAMhdRDAuaq3dIamjMaaxpFhJzSTVllRZvq2Mf5G0VFKqtXZ1MGpwgrX2iDGmjaQBku6TbwHbyvI9KvSlpHettV/lMjbdGHOdfI8XxUqqJ+mUfI9LTfKPzX/+LgAACLrdu3erZ8+eWrhwYaCtXr16Sk1NVZMmTVysrOjWrVun5ORkeb35TxguX768+vTpo0svvbQYKgMAoHQzLHRWehhj0jwejyctLc3tUgAAKDG++eYbxcfHa8eO3zcc7NSpk8aPH69q1aq5WFnRrV27VikpKcrKysq3b1RUlPr27auLL764GCoDACAkBHUhspK1XD4AAIBDrLUaNmyYWrZsGQhZjDH6+9//rlmzZpXYkEXyzWYpSMhSoUIF3X///YQsAAA4KCiPDgEAAISyo0eP6pFHHtHYsb9v/letWjVNmDBBHTt2dLEyZ3Tt2lWZmZk5FvQ9U8WKFXX//ferVq1axVgZAACln6NBizGmsqS35JuGM8Za+0UBxrSUb9FZr6RB1tpjTtYEAACQ3aZNmxQbG6tVq1YF2m644QZNmzZN9erVc7Ey54SHhysuLk5er1fr168/63x0dLQSExNVs2ZNF6oDAKB0c/rRoZ6S+kvqIen7Ao75Xr4dfAZISnC4HgAAgIDZs2eradOmOUKW/v37a8mSJaUmZDktPDxcCQkJZ23VXLlyZfXv35+QBQCAIHE6aOngP8611h4syAB/vznyzYK52+F6AAAA5PV69fzzz+uee+7RwYO+ryiRkZF67733NGrUKFWoUMHlCoMjIiJC3bt3D2zZHBMTo379+qlGjRouVwYAQOnl9BotTSRZSefc8jgPX0uKk3SDw/UAAIAybu/everTp4/mzp0baLvkkks0bdo03XTTTS5WVjzKlSunXr16afbs2WrdunWJXuQXAICSwOmgpbb/uK2Q407vp1jHwVoAAEAZl5aWpri4OG3ZsiXQdscdd2jSpEllalZHuXLl1K1bN7fLAACgTAjW9s6F3ZP6dB3sggQAABzxwQcf6LbbbssRsjz77LP65JNPylTIAgAAipfTwcZvkupKurKQ4+r7j/ucLQcAAJQ1x48f16BBg/T+++8H2mJiYjR27Fh17drVxcoAAEBZ4PSMlu/lm80SV8hx8fKt7fKDw/UAAIAyZMuWLbr99ttzhCyNGjXS8uXLCVkAAECxcDpo+dh/vM4Y81hBBhhjHpd0nf/jRw7XAwAAyoh58+bJ4/EoLS0t0Na7d2998803Z21xDAAAECxOBy1jJP3qf/8fY8w/jTHR5+pojIk2xvw/SW/KN5vlN0kjHa4HAACUcllZWXrppZfUoUMH7dvnewo5IiJC7777rsaPH6/o6HN+FSkxrLVavny5vF6v26UAAIACcHSNFmvtMWNMf0mz5AtxnpX0uDFmoaQfJR2WVEnSNZLaSKos36NGXkn9rbVHnKwHAACUbgcOHND999+vWbNmBdrq1Kmj5ORkNW/e3MXKnJGVlaUPP/xQK1eu1KZNmxQfH6/w8HC3ywIAAHkw1lrnL2pMd0mjJJ3+E9K5bnJ6Z6LDkh6w1iY7XkgZY4xJ83g8nuxTpgEAKK1WrVql2NhYbdq0KdDWqlUrTZ48WbVq1XKxMmdkZWVpxowZWrVqVaCtUaNGio2NVVhYsDaOBACgTCjsTsmFEpTf0tbaqfKtuzJS0iH5fogzX4ckvSfpOkIWAABQGOPHj9ctt9ySI2QZMmSI5s+fXypCFq/Xq2nTpuUIWSTphx9+0MyZM5WVleVSZQAAID9Ob+8cYK39WdJDxpg/yhe6XCwpRr6AZbukVdZaviUAAIACO3nypP73f/9X//d//xdoq1SpkkaPHq34+HgXK3OO1+tVSkqKfvzxx3Oe//777xUWFqYuXbrImKD+QQ4AABRB0IKW0/xhykr/CwAAoEi2b9+uhIQEffPNN4G2hg0bKjU1Vddcc42LlTknMzNTU6dO1YYNG/Ls99133yk8PFx33303YQsAACGGB3wBAEDIW7RokZo2bZojZImPj9fSpUtLTchy6tQpTZ48Od+Q5bTDhw/zCBEAACGIoAUAAIQsa61ef/11tWvXTrt375YkhYeH64033tDUqVNVuXJllyt0xsmTJzVx4kT99NNPBer/hz/8QQkJCexABABACAr6o0MAAABFcejQIfXv31+pqamBtpo1a2rKlClq3bq1e4U57MSJE5o4caK2bNlSoP6NGzdWt27d2HkIAIAQRdACAABCztq1axUbG6v169cH2m699VYlJyerbt26LlbmrOPHj2vChAnatm1bgfo3adJEXbp0IWQBACCE8VsaAACElKlTp6pZs2Y5QpbHH39cixYtKlUhy7FjxzRu3LgChywej0ddu3YlZAEAIMTxmxoAAISEU6dOafDgwerRo4eOHDkiSapQoYLGjx+vd955R5GRkS5X6Kw5c+Zox44dBep700036Z577mGHIQAASgAeHQIAAK7btWuXevTooS+++CLQduWVV2ratGm67rrrXKwseO68807t3LlTv/32W579brnlFt11112ELAAAlBDMaAEAAK5asmSJPB5PjpClS5cuWrZsWakNWSSpUqVKSkxM1AUXXJBrn9tvv52QBQCAEoagBQAAuMJaq3feeUetW7fWL7/8IkkKCwvTyy+/rOnTp6tq1aouVxh8lStXVmJioqpVq3bWuVatWqldu3aELAAAlDAELQAAoNgdOXJEffr00RNPPKHMzExJUvXq1fXJJ5/omWeeKVMLvlapUkWJiYmqUqVKoK1t27Zq06YNIQsAACVQ2fkWAwAAQsKGDRt0yy23aNKkSYG2G2+8UStWrFD79u1drMw9VatWVWJiomJiYtS+fXu1bNnS7ZIAAEARBW0xXGNMuKQESXdKukZSNUnlrLX1z+jXSFKMpIPW2jXBqgcAALhvxowZSkxM1KFDhwJtDz30kN5++21FRUW5WJn7LrjgAj366KNl/r8DAAAlXVCCFmNMa0lJki7O3izJnqP7vZL+LinDGFPbWnssGDUBAAD3ZGZm6m9/+5teeeWVQFv58uU1bNgw9e/f38XKQgshCwAAJZ/jjw4ZY+6R9Kl8IYuR5JV0MI8h70nKklRZ0t1O1wMAANy1Z88edejQIUfIcvnll+urr74iZAEAAKWOo0GLMaaGpPGSwiUdkvSApKqScv0WZa3dI2mJ/+MdTtYDAADctXTpUnk8Hi1YsCDQ1qFDB6Wlpcnj8bhYGQAAQHA4PaPlcflmppyU1N5aO9pae7QA476Rb/bLDQ7XAwAAXGCt1fDhw9WiRQtt375dkmSM0QsvvKCPPvpIF1xwgcsVAgAABIfTa7R0lG8dlqnW2uWFGLfBf7zC4XoAAEAxO3bsmB555BElJSUF2qpWraoJEyaoU6dOLlYWXBkZGapcubLbZQAAAJc5PaPl9I5CCws57vQaLjEO1gIAAIrZ5s2b1bx58xwhS5MmTZSWllaqQ5atW7dq6NCh+uqrr9wuBQAAuMzpoCXafzyUZ6+zVfAfjztYCwAAKEYff/yxbrzxRq1cuTLQlpiYqK+++kpXXFF6J62mp6dr/PjxOnHihObNm6dvv/3W7ZIAAICLnA5a9vqPFxVy3FX+4x4HawEAAMUgKytLL774ojp37qz9+/dLkiIjIzV8+HCNHj1aFSpUyOcKJdfmzZs1YcIEnTx5MtA2Z84cLV9emCeoAQBAaeL0Gi1rJNWS1FrSfwsxrot8a7ssc7geAAAQRPv27VPfvn01Z86cQNsll1yilJQUNWvWzMXKgu+nn37S5MmTlZmZeda52bNnKzw8XDfcwDr/AACUNU7PaPlIvt2Duhhjri3IAGPMfZKu93/80OF6AABAkHz33Xdq2rRpjpClXbt2SktLK/Uhy/r16zVp0qRzhiynffjhh1q1alUxVgUAAEKB00HLSEm7JZWT9JExpnFenY0xAyW9J99sls2SpjhcDwAACILRo0erefPmSk9PD7Q988wzmjt3ri688EL3CisGP/74o6ZMmSKv15tnP2ut5syZo+PHWYIOAICyxNFHh6y1R4wx/eWbmXKppDRjzAJJGaf7GGNekHSxpHaSLpNvBswJSX2stVlO1gMAAJx14sQJDRo0SCNGjAi0xcTEaOzYseratauLlRWPH374QampqcrKyv8rS1RUlPr27auoqKhiqAwAAIQKp9dokbV2jjGmp6RR8m3XfOfpU/7j89m6G0kHJPW01i51uhYAAOCcrVu3Kj4+XsuW/b6kWqNGjZSamqqrrroqj5Glw6pVqzR9+nRZa/PtW7FiRd13332qXbt2MVQGAABCidOPDkmSrLXTJDWSNFTSfvkClTNfGZKGSWpsrZ0XjDoAAIAz5s+fL4/HkyNk6d27t7755psyEbJ89913BQ5ZoqOjlZiYSMgCAEAZ5fiMltOstdslDZI0yBjzB0mXS6oi6bCkHZK+41EhAABCW1ZWll555RX97W9/CzwuExERoTfffFOPPfaYjDEuVxh8y5cv1+zZswvUt1KlSkpMTCz169QAAIDcORq0GGOusdb+eGa7tXaNfFs/5zf+T9ba152sCQAAFM2BAweUmJioDz/8fVPA2rVrKzk5WbfddpuLlRWfwoQsMTExSkxMVPXq1YNcFQAACGVOPzo01xhTtygDjTF/lvSKw/UAAIAiWL16tW666aYcIUvLli21YsWKMhOySNJFF12kyMjIfPtVqVJF/fr1I2QBAACOBy0XS5pnjLmgMIOMMUNEyAIAQEiYMGGCbr75Zv3000+BtsGDB2v+/PmqVauWi5UVv0suuUR9+vRRuXLlcu1TrVo19e/fXxdcUKivPwAAoJRyOmjxSmoo6SNjTMWCDPCHLK/6P+50uB4AAFBAJ0+e1OOPP66+ffvq2LFjknwLu06dOlVvvPFGnmFDaXbZZZepV69eiog4+4nr6tWrq3///qpataoLlQEAgFDkdNDyiHw7CjWTNM0Yk+caMMaYwfKFLEa+kKWtw/UAAIAC2LFjh1q3bq2hQ4cG2q6++motXbpUCQkJLlYWGq644gr17NlT4eHhgbYaNWqoX79+iomJcbEyAAAQahwNWqy1IyU9J19wcqekpNz6+kOW15QtZLHWbnSyHgAAkL9FixbJ4/Ho66+/DrTFxcVp6dKluvbaa12sLLRceeWV6tGjh8LDw1WzZk3169dPlStXdrssAAAQYhzf3tla+7Ix5iJJj0vqaYz5zVr7RPY+xpj/1e8hyy/yhSwbnK4FAADkzlqrN998U3/5y1/k9XolSWFhYXr11Vc1ePDgMrF1c2E1aNBAvXv3Vu3atVWxYoGekgYAAGWM40GLJFlrnzDGXCipp6TH/GHLP6VAyPK6CFkAAHBNRkaGBgwYoJSUlEBbzZo1NXnyZLVp08bFykJf/fr13S4BAACEsKAELX73S6ouqb2kF40xv0qqJOkN//ldktpZa9cHsQYAAHCGH3/8UbGxsVq3bl2g7dZbb1VycrLq1q3rYmUAAAAln9OL4QZYazMldZO0TL7ZK/+VbyaL5AtZ2lpr1+UyHAAABEFycrKaNWuWI2R57LHHtGjRIkIWAAAABwQtaJEka+1RSXdL2uC/l5G0W76ZLIQsAAAUk8zMTA0ZMkTdu3fX4cOHJUkVKlTQuHHj9O677yoyMtLlCgEAAEqHIj06ZIy5tJBDHpT0oaRwSf0kHcntGtbarUWpCQAAnNuuXbvUs2dPff7554G2+vXrKzU1Vdddd52LlQEAAJQ+RV2jJV2SLeLYj/I4ZxXcdWMAAChTlixZooSEBP3yyy+BtnvuuUdjx45V1apVXawMAACgdDqfR4dMkF4AAOA8WWv17rvvqnXr1oGQxRijl156STNmzCizIUtmZqbmzp2rY8eOuV0KAAAopYo6eyTJ0SoAAIBjjhw5ooceekgTJ04MtFWvXl0TJ07UnXfe6WJl7rLWaubMmVq9erU2bNigPn366IILLnC7LAAAUMoUKWix1vZ3uhAAAHD+Nm7cqNjYWP3www+BthtvvFEpKSm67LLLXKzMfZ9//rlWr14tSdq7d69Gjhypnj176tJLC7v0HAAAQO6CuusQAAAoPjNnztSNN96YI2R58MEH9eWXX5b5kGXVqlVatGhRjrajR48qKSlJq1atcqcoAABQKhG0AABQwnm9Xj377LO69957dejQIUlS+fLlNXLkSI0YMUJRUVEuV+iuLVu2aObMmec85/V6lZqaqkWLFsnaoq7zDwAA8Dt2+AEAoATbs2ePevfurfnz5wfaLrvsMk2bNk1NmzZ1sbLQsG/fPk2ZMkVerzfPfosWLVLt2rV19dVXF1NlAACgtGJGCwAAJdTSpUvVtGnTHCHLXXfdpbS0NEIWSceOHdOECRN09OjRfPt6PB41aNCgGKoCAAClXZFmtBhjPvO/tdbadudoL6oc1wMAAGez1mrEiBEaNGiQTp48GWh//vnn9fzzzys8PNzF6kKD1+vVlClTtHfv3nz71qtXT3fffbeMMcVQGQAAKO2K+uhQa0nnepA5t/aCMOcxFgCAMsHr9eqPf/yjRo4cGWirWrWqxo0bp86dO7tYWeiw1mrWrFlKT0/Pt2+NGjXUvXt3wikAAOCY81mjJbdghD8HAQAQJH/5y19yhCzXX3+9pk2bpvr167tYVWhZvHixVq5cmW+/ihUrqk+fPqpQoUIxVAUAAMqKIgUt1tpzru2SWzsAADh/7733nv79738HPvf5/+zdeXyU1aH/8e/JzhIgQIKAgIhaLCgSVESqlk3EsAlEgmwCAVwu7bVya+ulveKt8GvFttpWWx1k3xSisrggq4qoXEAFEZUKKoIQEpYAIduc3x8JY0KSSUgm88xMPu/Xa14zzznnyXzl3ip8eZ7njByp559/XnXr1nUwVWDZvXu31q9fX+G6iIgIjRgxQnFxcX5IBQAAahN2HQIAIAisXbtWDz74oOd40KBBmjdvHre8FPPdd9/p1VdfrdTawYMHq1WrVjWcCAAA1EZcgQIAQIDbvXu3kpOTPVsUJyYmatGiRZQsF9i2bZvy8/MrXNezZ0917NjRD4kAAEBtRNECAEAAO3LkiPr3769Tp05Jki699FKtWrVK9erVczhZ4Bk8eLCuv/56r2s6deqkW265xU+JAABAbVTjtw4ZYxIk3SCphaT6kk5LOiRpm7X2aE1/PwAAwSo7O1sDBw7UN998I0mqX7++Vq9erRYtWjicLDCFhYUpKSlJTZo00dq1a2VtyWf2t2nTRgMGDGAbZwAAUKNqrGgxxtwlaaqkm7ys2SpplrW2cjdUAwBQS7jdbo0ZM0YfffSRpMISYenSperUqZPDyQKbMUbdunVTXFycVqxYoby8PElSkyZNNHz4cEVE8Hg6AABQs3x+65AxJsoY85Kk5SosWYyXVzdJK4wxy4wxUSZcSWoAACAASURBVL7OAgBAsJo2bZqWL1/uOf7rX/+qpKQkBxMFl/bt22v8+PGKjY1VnTp1dM8997A7EwAA8Iua+GudFZLuVGGRIkl7JG2QtE/SGUn1JF0hqYekDkVrhkmqI2lgDeQBACCozJkzRzNnzvQcT5kyRVOmTHEwUXBq3ry5Jk6cqFOnTqlJkyZOxwEAALWET4sWY0yKpCRJVoXPYZlgrX3Ly/rbJc2W1FJSkjFmuLV2mS8zAQAQTDZs2KBJkyZ5ju+88079+c9/djBRcGvQoIEaNGjgdAwAAFCL+PrWoQlF72ck3eatZJEka+1aST9X4QNyJSnVx3kAAAgae/fu1dChQz1bFHfq1ElLly7luSIAAABBxNdFSycVXs0y21r778qcULRutgpvNbrOx3kAAAgK6enpSkpK0okTJyQV3vayatUqxcbGOpwMAAAAF8PXRUv9ovdtF3ne+fU8pQ4AUOucO3dOd911l77++mtJUt26dbVq1Sq1atXK4WQAAAC4WL4uWg4VvYdf5Hnn1x/yugoAgBBjrdWECRO0ZcsWSYXbEy9evFhdunRxOBkAAACqwtdFy4ai91su8rxbVHjL0YaKFgIAEEoee+wxLV682HM8a9YsDRo0yMFEAAAAqA5fFy3PSMqVNMYYc0NlTjDGXC9prKScovMBAKgVFi5cqMcff9xzPHnyZD300EMOJgo8hw4dUkFBgdMxAAAAKs2nRYu1drekiSp8sO3bxphUY0yZWyUYY8KNMRMkva3Cq1lSrbWf+TIPAACB6t1339WECRM8x7fffrv+9re/yRjjYKrAcvjwYc2dO1cLFixQdna203EAAAAqxVhrfffDjPl90ccbJd2pwgLluKR3Je2TdFaFD7y9QtLPJDUuWv+6KniArrX2cW/zkIwx2xMTExO3b9/udBQAgBf79u1T165dlZmZKUnq0KGDtmzZooYNGzqcLHCcOnVKL7zwgrKysiRJTZo00ciRI9W4ceMKzgQAAKhQjf7Nlq+LFrcKy5USw2WMeRsvk7X2Yh+wW+tQtABA4MvMzFS3bt305ZdfSpISEhL04Ycf6rLLLnM2WADJzc3VnDlzdPjw4RLjderUUUpKitq0aeNQMgAAECJqtGjx9TNapMLAxV9ljXkbL28tAABBLTc3V0OGDPGULDExMVq5ciUlSzFut1srVqwoVbJIUnZ2tubPn69PP/3UgWQAAACVU+bzU6qhh49/HgAAIcFaq0mTJmnz5s2esQULFqhr164Opgo8a9eu1RdffFHufEFBgdLS0pSdnc2vHQAACEg+LVqstZsrXgUAQO0zY8YMzZs3z3M8c+ZMDRs2zMFEgWfbtm364IMPKlwXHR2ttm3b+iERAADAxauJW4cAAEAxy5Yt07Rp0zzH48eP1yOPPOJgosCzb98+vf766xWuCwsL0913362EhAQ/pAIAALh4FC0AANSgrVu3auzYsZ7jHj166LnnnmMb52KOHDmil19+WZV5QP+dd96pdu3a+SEVAABA1fj6GS1eGWOiVbj1cwtJpyXtsdbu92cGAAD85euvv9agQYOUk5MjSWrfvr1WrFihqKgoh5MFjqysLC1evNjza+TNzTffrOuvv94PqQAAAKquWkWLMaaOCncFcltrz1Ww9r8l/VpS/QvG35f0gLV2V3WyAAAQSE6cOKH+/fsrPT1dktS0aVOtXr1acXFxDicLHHl5eVqyZIlOnjxZ4dr27durd+/efkgFAABQPVW+dcgY01RSVtHrXxWsnSPpcUmxKr11c3dJ7xljOlc1CwAAgSQvL0/Dhg3T559/LkmKiorSq6++yi0vxVhrlZaWpkOHDlW4tkWLFhoyZIjCwrjjGQAABL7q/I6ld7Hz/1neImPMMEljiw3lS9oj6WNJBUVjsZLmGmP4HRQAIKhZa/XAAw9o/fr1nrG5c+eqe/fuDqYKPFu3bvUUUd40aNBAI0aM4HYrAAAQNKpTbNxU9H7IWrvVy7ppxT6/J6mttbajtTZR0pWSdhTNdZTUrxp5AABw3KxZs+RyuTzH06dP14gRIxxMFJgSExMrvMInKipK99xzj2JjY/2UCgAAoPqqU7R0kmQlrStvgTHmaknXFq07JWmQtfb78/PW2gOSBkvKLhoaVI08AAA4Ki0trcS2zaNHj9bvfvc7BxMFrpiYGI0cObLch9saY5ScnKxLLrnEz8kAAACqpzpFy/m/htrpZc3Pi31eZK09fuECa+1BSa+q8HktidXIAwCAY7Zt26ZRo0Z5tii+5ZZb9MILL7CNsxdhYWFKSkpS3759S/069evXT1deeaVDyQAAAKquOkVLk6L3H7ysuanY57Ve1p2/9ahNNfIAAOCIb7/9VgMHDlR2duEFmldccYVeeeUVRUdHO5ws8Blj1K1bNw0fPlyRkZGSpK5du+rGG290OBkAAEDVVKdoiSx6t17WFL8e+AMv644UvXMTNgAgqJw6dUpJSUn64YfCv3do3Lix1qxZoyZNmlRwJopr3769xo0bp8TERPXt29fpOAAAAFVWnaLlVNF787ImjTH1Jf1EhUXM99bao5XI4a20AQAgoOTn52v48OHavXu3JCkyMlJpaWm66qqrHE4WnFq0aKGBAweyjTMAAAhq1fmdzIGi95+VM39bsZ/vbVciSYovej9ZjTw1zhjzG2OMPf+qYG2sMeYxY8wuY8xpY8xJY8w2Y8zDxhj2qASAIGet1S9/+Uu9+eabnjGXy6XbbrvNwVQAAABwWnWKlq0qfIDtQGNMWU+rSy32udydiYpcV/R+oBp5apQx5ieS/qeSa9tI+rRofUcV/jpFq/BWqlmSPjDGxNVQVABADXO73Zo2bZqeffZZz9i0adM0ZswYB1MBAAAgEFSnaFlY9B4p6U1jTB9jTLQx5lJjzB/141bN5yQtr+Bn3arC24Z2VyNPjTHGhEl6UVKMKrg6xxgTIWmVpMskHZbUx1pbT1JdSSmSsiR11o+/fgCAIJKZman+/ftrxowZnrHhw4dr+vTpDqYCAABAoIio6onW2g+NMWmShqiwVHizrGWSnitrW+fzjDFdJF1RtPa9quapYVMk3SxpkaR9krp5WTtW0jVFn4daa7dKkrXWLWlZUWmzWNKdxphe1tr1NRcbAOBLO3fu1JAhQ3TgwAHPWJ8+fTR37lyeKwIAAABJ1buiRZLGS/pIhbfGXPiSpA8lTavgZ9xX9G7lfQtoRxhj2kp6QlKGpIcqccrYoveN50uWCyyVtL/oM9eYA0CQmDNnjm6++eYSJctvfvMbvf7664qJiXEuGAAAAAJKtYoWa+0pFT4M91eS/k/SaUnZKrwF6L8l9bTWnivvfGNMgqTbVbi983pr7aHq5KkhL0iqJ+lX1tp0bwuNMXUldS86fKOsNdZaqx+v/rndVyEBADUjJydHkydP1vjx43XuXOF/0mJjY5WWlqaZM2cqIqLKF4eGnIKCAhX+Zw4AAKD2qvbvDq21+ZL+WvS62HOPSmpT3Qw1xRgzUVIvSeustfMrccrV+rG88va8mfNzlxhjGltrM6sREwBQQ7799lsNGzZM27Zt84x16NCBLZzLYK3Va6+9pvDwcPXv31/h4eFORwIAAHAEfw1XDmNMS0lPqvAKncmVPK1Fsc/fe1lXfK6FpAqLFmPM9kp8f/tKrAEAVMK6deuUkpKijIwMz1hKSopeeOEF1a9f38Fkgemdd97Rp59+Kkk6fvy4hg8frjp16jicCgAAwP94cl/5/iWpoaTHrLVfV/Kc2GKfz3pZV3wuttxVAAC/c7vdmjFjhvr27espWSIiIvT0009r8eLFlCxl2LVrlzZu3Og5PnDggFwulzIzuWATAADUPlzRUgZjzChJSZI+lvRnh+NIkqy1XSpaU3TVS6If4gBASDpx4oTGjh2rlStXesYuueQSvfzyy/rZz37mYLLA9e233+rVV18tNZ6RkSGXy6WUlBS1bt3agWQAAADO4IqWCxhjmqnweTMFkiYWPYOmsrKKfa7rZV3xuaxyVwEA/GbXrl264YYbSpQst9xyi3bs2EHJUo7MzEwtXbpUBQUFZc6fPXtW8+bN065du/ycDAAAwDkULaX9P0lNJD0vaa8xpn7xl6So8wuLjZ8fK75rUksv31F8LhB3WgKAWmXx4sXq2rWr9u3b5xl76KGHtH79ejVv3tzBZIErOztbixcv1tmz3u6ULdyJaP/+/X5KBQAA4DyKltLaFr3fr8KrTS58/bbY2vNjfyo6/lySu+hzRy/fcX7uB3YcAgDn5Obm6he/+IVGjhyp7OxsSVK9evW0bNky/fnPf1ZkZKTDCQNTQUGBXnrpJR07dqzCtW3btlVSUpIfUgEAAAQGihYfstaelbSl6PCOstYYY4ykvkWHa/2RCwBQ2qFDh9SjRw/97W9/84z95Cc/0UcffaS7777bwWSBzVqr1atXV+oqlaZNm+ruu+9mq2cAAFCrULRcwFr7c2utKe8laXqxtefH/7PYj5hX9N7DGNO1jK9IlnR50ef5NfNPAQDwZvPmzUpMTNT777/vGRsyZIg++ugj/fSnP3UwWeDbsmWLdu7cWeG6unXr6p577mGLZwAAUOtQtPjePEm7JBlJK4wxvSTJGBNmjEmW9ELRujestesdyggAtZK1Vk899ZR69eqlI0eOSJLCwsL0pz/9ScuXL1eDBg0cThjY9uzZo3Xr1lW4Ljw8XCkpKWrcuLEfUgEAAAQWtnf2MWttvjFmoKSNki6TtM4Yc1aFpVZM0bKdkkY6kxAAaqesrCyNHz9ey5cv94zFx8dr2bJl6tGjh4PJgsPBgweVlpZWqbWDBw9mS2cAAFBrcUVLDbDWHpB0raTHJe2WZCXlSdouaaqkm6y1xx0LCAC1zOeff64bb7yxRMly0003aceOHZQslXDixAktWbJE+fn5Fa7t0aOHrrnmGj+kAgAACEwULRfJWvtYsee1eFuXZa39H2vtNdba+tbaBtba6621T1lrc/2VFwBqu+XLl+vGG2/U3r17PWMPPvigNm/erEsvvdTBZMHjhx9+UE5OToXrOnXqpFtvvdUPiQAAAAIXRQsAICTl5+dr6tSpSk5O1unTpyVJderU0fz58/X3v/9dUVFRDicMHu3bt9ekSZOUkJBQ7po2bdpowIABKtxcDwAAoPaiaAEAhJwjR46od+/eeuqppzxj7dq10wcffKDRo0c7mCx4JSQkaOLEierSpUupucaNG2v48OGKiODRbwAAABQtAICQ8v777ysxMVGbN2/2jA0YMED/93//p2uvvdbBZMEvMjJSAwYMUHJysmJiCp/vXqdOHY0cOVJ169Z1OB0AAEBgoGgBAIQEa63+/ve/67bbbtOhQ4ckScYY/eEPf9Crr76qRo0aOZwwdHTo0EH33Xef2rRpo+HDh6tJkyZORwIAAAgYXOMLAAh6Z86c0eTJk7Vo0SLPWOPGjbVkyRLdfvvtDiYLXY0aNdK9997LM1kAAAAuQNECAAha1lrt2bNHI0aM0K5duzzj119/vZYvX642bdo4mC70UbIAAACURtECAAgK1lrt379fO3bsKPFKT08vsW7ixIl65plnPM8QAQAAAPyJogUAEHAKCgr05ZdfaufOnSVKlZMnT5Z7TnR0tP7xj39owoQJfkwKAAAAlETRAgBwVF5envbs2VOiUPn444919uzZSp0fGxurm2++WU888USZWw8DAAAA/kTRAgDwm3PnzmnXrl0lSpVPP/1Uubm5lTq/SZMmSkxMLPG6/PLLFRbGJnoAAAAIDBQtAIAacfr0aX3yySclSpXPPvtMBQUFlTq/efPmpUqVVq1a8QBWAAAABDSKFgBAtVlrtWXLFn3wwQfasWOHdu7cqS+++ELW2kqd36ZNmxKFSufOndW8efMaTg0AAAD4HkULAKBa3G63Ro0apSVLllRq/VVXXVWiVLnuuuvUpEmTGk6Jsnz++efKzc1Vp06dnI4CAAAQMihaAADV8sgjj5RZsoSFhemnP/1piVKlU6dOatCggQMpcaETJ07otdde07lz5/T1118rKSlJUVFRTscCAAAIehQtAIAqe/755zVr1izPcf/+/XXnnXcqMTFR11xzjerWretgOpSnoKBAK1as0Llz5yRJn3zyiQ4ePKhhw4ZxyxYAAEA1UbQAAKrk7bff1gMPPOA5HjRokFasWKHw8HAHU6EyNm3apO+++67EWEZGhlwul/r06aOuXbvy0GEAAIAqYj9MAMBF++yzzzRs2DDPDkKJiYlatGgRJUsQ+Prrr/Xee++VOVdQUKA333xTS5Ys0dmzZ/2cDAAAIDRQtAAALsqRI0eUlJSkU6dOSZIuvfRSrVq1SvXq1XM4GSpy5swZpaWlVbgb1NGjRxUWxm8RAAAAqoLfRQEAKi07O1uDBg3SN998I0mqX7++Vq9erRYtWjicDBWx1urVV1/V6dOnva4LCwvT0KFDFRMT46dkAAAAoYWiBQBQKW63W2PHjtWHH34oqfAP5EuXLmVr4CCxdetWffXVVxWu69mzp1q1auWHRAAAAKGJogUAUCnTpk3Tyy+/7Dn+61//qqSkJAcTobK+//57rV+/vsJ1l19+ubp37+6HRAAAAKGLogUAUKE5c+Zo5syZnuMpU6ZoypQpDiZCZeXk5Gj58uWeBxeXp169ehoyZAi7DQEAAFQTRQsAwKuNGzdq0qRJnuOkpCT95S9/cTARKstaq9WrV+v48eMVrr3rrrtUv359P6QCAAAIbRQtAIBy7d27V0OGDFF+fr4kqVOnTlqyZAnbOAeJTz75RLt27apwXffu3XXFFVf4IREAAEDoo2gBAJTp2LFjSkpK0okTJyRJzZs31+rVqxUbG+twMlTGsWPHtGbNmgrXtWzZUj179vRDIgAAgNqBogUAUMq5c+c0ePBgff3115KkunXratWqVbr00ksdTobKcrvdatiwodc10dHRGjZsGFcoAQAA+BBFCwCgBGutJkyYoC1btkiSjDFavHixunTp4nAyXIyEhARNmjRJnTt3LnfNgAEDFBcX58dUAAAAoY+iBQBQwvTp07V48WLP8axZszRo0CAHE6GqoqKiNGjQIA0dOlTR0dEl5jp37qyOHTs6lAwAACB0UbQAADwWLlyo6dOne47vu+8+PfTQQw4mgi9cc801mjx5slq2bClJatq0qfr16+dwKgAAgNBkrLVOZ4CPGGO2JyYmJm7fvt3pKACC0LvvvqvevXsrNzdXknT77bdr9erVioyMdDgZfKWgoEAbNmzQtddeq2bNmjkdBwAAwCmmJn94RE3+cABAcNi3b58GDx7sKVk6dOigl156iZIlxISHh6tPnz5OxwAAAAhp3DoEALVcZmamkpKSlJmZKanwIapr1qypcMcaAAAAAKVRtABALZabm6shQ4boyy+/lCTFxMRo5cqVatOmjcPJAAAAgOBE0QIAtZS1VpMmTdLmzZs9YwsWLFDXrl0dTAUAAAAEN4oWAKilZsyYoXnz5nmOZ86cqWHDhjmYCAAAAAh+FC0AUAstW7ZM06ZN8xxPmDBBjzzyiIOJAAAAgNBA0QIAtczWrVs1duxYz3HPnj317LPPypga3eUOAAAAqBUoWgCgFvn66681aNAg5eTkSJLat2+v5cuXKyoqyuFkAAAAQGigaAGAWuLEiRNKSkpSenq6JKlp06Zas2aN4uLiHE6Gi/Hpp59q5cqVys3NdToKAAAAyhDhdAAAQM3Ly8vTsGHDtHfvXklSdHS0XnvtNV1++eUOJ8PFyMjI0OrVq5Wbm6tvv/1WycnJatasmdOxAAAAUAxXtABAiLPW6oEHHtD69es9Y3PmzNHNN9/sYCpcLLfbrRUrVniuZDl27JheeOEFbdu2TdZah9MBAADgPIoWAAhxTz75pFwul+f48ccf14gRIxxMhKr46quvdOjQoRJj+fn5WrNmjV566SVlZ2c7lAwAAADFUbQAQAhLS0srsW3z6NGjS2zrjODxySeflDv3+eef65///KeOHj3qx0QAAAAoC0ULAISobdu2adSoUZ7jW2+9VS+88ALbOAepH374wet8WFiYGjZs6Kc0AAAAKA9FCwCEoG+++UYDBgzw3E5y5ZVXKi0tTdHR0Q4nQ1Xk5eXp+PHjXtf079+f//sCAAAEAIoWAAgxp06dUv/+/XXkyBFJUuPGjbVmzRo1adLE4WSoqoyMDK8PvI2KimIHKQAAgABB0QIAISQ/P1/Dhw/X7t27JUmRkZF65ZVXdOWVVzqcDNWRnp7udb558+bcEgYAABAgKFoAIERYa/WLX/xCb775pmfM5XLp1ltvdTAVfKGih9zGx8f7KQkAAAAqQtECACHAWqtHH31Uzz33nGds2rRpGjNmjIOp4CsVXdFC0QIAABA4IpwOAACoHmutpk6dqj//+c+esZSUFD3++OMOpoIvUbQAAAAED4oWAAhibrdbv/zlL/X3v//dM9a/f3/NnTuXZ3aEiPz8fGVmZnpdQ9ECAAAQOChaACBIud1u3X///Xr++ec9Y0OGDNGSJUsUFRXlYDL4UkU7DtWpU0f169f3YyIAAAB4Q9ECAEGooKBAqampmjt3rmds+PDhWrBggSIjI50LBp+rzG1DXL0EAAAQOHgYLgAEmfz8fI0dO7ZEyTJq1CgtXLiQkiUE8XwWAACA4ELRAgBBJC8vTyNHjtSiRYs8Y+PGjdPcuXMVEcFFiqEoIyPD6zxFCwAAQGDhd+UAECRyc3OVkpKiV155xTM2efJkPfvsswoLozcPVUOHDlWvXr2Unp7ueR09elTHjh1Tbm4uRQsAAECAoWgBgCBw7tw5JScna/Xq1Z6xKVOm6Omnn+b5HCHOGKO4uDjFxcXpqquu8oxba3Xy5EnVq1fPwXQAAAC4EEULAAS47Oxs3XXXXXrrrbc8Yw8//LCefPJJSpZazBijRo0aOR0DAAAAF+BacwAIYGfOnFH//v1LlCy//e1vKVkAAACAAEXRAgABKisrS3feeac2bNjgGXvsscf0xBNPULIAAAAAAYpbhwAgAJ08eVL9+vXT1q1bPWNPPPGEHn30UQdTAQAAAKgIRQsABJjjx4+rb9++2rZtm2fsySef1NSpUx1MBQAAAKAyKFoAIIBkZGSoT58+2rlzp2fs6aef1i9+8QsHUwEAAACoLIoWAAgQR48eVe/evbVr1y7P2HPPPaf77rvPwVQAAAAALgZFCwAEgMOHD6t3797as2ePpMKte10ul8aPH+9wMgAAAAAXg6IFABz2/fffq2fPnvryyy8lSWFhYZo7d65Gjx7tcDIAAAAAF4uiBQAc9O2336pnz57697//LUkKDw/XwoULlZKS4nAyAAAAAFVB0QIADtm/f7969uypAwcOSJIiIiK0dOlSDR061NlgAAAAAKqMogUAHLBv3z716NFDBw8elCRFRUXp5Zdf1sCBAx1OBgAAAKA6KFoAwM/27t2rnj176vDhw5Kk6OhovfLKK+rXr5/DyQAAAABUV5jTAQCgNtm9e7d+/vOfe0qWOnXqaPXq1ZQsKCErK0vHjh2T2+12OgoAAAAuEle0AICffPLJJ+rdu7eOHTsmSapXr57WrFmj2267zeFkCDQ7d+7Uhg0bFB4erqZNmyo+Pr7Eq3HjxgoPD3c6JgAAAMpA0QIAfrB9+3b16dNHx48flyTFxsbqjTfeUPfu3R1OhkCUnp4uSSooKNCRI0d05MiREvN9+vTh/3cAAAACFLcOAUAN+/DDD9WrVy9PydKwYUO9/fbb/EEZ5Tp69KjX+fj4eD8lAQAAwMWiaAGAGrRlyxb16dNHJ0+elCTFxcVp/fr16tq1q8PJEKjcbrcyMjK8rqFoAQAACFwULQBQQzZv3qy+ffsqKytLktS0aVNt3LhRXbp0cTgZAtnx48eVn59f7nxkZKQaNWrkx0QAAAC4GBQtAFAD1q1bp379+unMmTOSpGbNmmnjxo3q1KmTw8kQ6M4/n6U88fHxMsb4KQ0AAAAuFg/DBQAfW7t2rQYOHKicnBxJUvPmzbVhwwa1b9/e4WQIBpUpWgAAABC4uKIFAHxo//79Sk5O9pQsl156qTZv3kzJgkqjaAEAAAhuXNECAD6Sl5enESNG6NSpU5Kk1q1ba9OmTWrbtq3DyRBM2HEIAAAguHFFCwD4yO9+9zt9+OGHkqSIiAgtX76ckgUXxe1269ixY17XULQAAAAENooWAPCBtWvX6o9//KPneObMmbrhhhscTIRgdOLECXYcAgAACHIULQBQTUeOHNGYMWM8x3fccYd+9atfOZgIwaqi57M0bdpUYWH8pxsAACCQ8bs1AKgGt9utMWPG6MiRI5KkSy65RPPmzeMPw6gSHoQLAAAQ/PiTAABUw6xZs7R27VpJkjFGCxYsUEJCgsOpEKwoWgAAAIIfRQsAVNGHH36o//7v//Yc/+Y3v1Hv3r0dTIRgx45DAAAAwY/tnQGgCk6ePKmUlBTPg0tvuukmTZ8+3eFUCHaXX365YmJilJ6ertOnT5eap2gBAAAIfBQtAHCRrLWaPHmyDhw4IElq2LChlixZosjISGeDIej16dPH8zk7O1vp6eme17FjxxQXF+dgOgAAAFQGRQsAXKQXX3xRy5Yt8xy7XC5ddtllzgVCSKpTp45at26t1q1bOx0FAAAAF4FntADARdizZ4+mTJniOZ48ebKGDRvmYCIAAAAAgYSiBQAqKTs7WykpKcrOzpYkdejQQX/5y18cTgUAAAAgkFC0AEAlPfzww9q1a5ckKSYmRsuWLVOdOnUcTgUAAAAgkFC0AEAlpKWl6bnnnvMcP/300+rQoYODiQAAAAAEIooWAKjAN998owkTJniOk5OTNXHiRAcTAQAAAAhUFC0A4EV+fr5GjhypEydOSJLatGmj559/XsYYh5MBAAAACEQULQDgxfTp07VlyxZJUnh4uJYsWaJGjRo5nAoAAABAoKJoAYBy0roKCAAAIABJREFUbNiwQU888YTn+H//93/VrVs3BxMBAAAACHQULQBQhvT0dI0aNUrWWklS79699cgjjzicCgAAAECgo2gBgAu43W7de++9Onz4sCQpPj5e8+fPV1gY/8oEAAAA4B1/agCACzz99NN6/fXXPcfz589X8+bNHUwEAAAAIFhQtJTDGNPEGDPOGLPQGLPHGHPGGJNjjDlojHnVGHNXJX5GrDHmMWPMLmPMaWPMSWPMNmPMw8aYKH/8cwC4ONu3by9xi9DUqVN1xx13OJgIAAAAQDAx558/gJKMMXmSIooNnZNUIKlesbE3JA2z1p4t4/w2kjZJuqxo6KykcEnRRcc7JfWy1h73YebtiYmJidu3b/fVjwRqlaysLCUmJmrfvn2SpBtuuEHvvfeeoqLoRQEAAIAQYmryh3NFS/kiJH0k6QFJ7ay1day19SW1lTS7aE0/Sf+68ERjTISkVSosWQ5L6mOtrSeprqQUSVmSOktaWMP/DAAqyVqr+++/31OyxMbGasmSJZQsqHEffvih1q5dq507d+rgwYPKyclxOhIAAACqIaLiJbVWT2vtxgsHrbUHJKUaY/IlTZY0yhjzqLX2u2LLxkq6pujzUGvt1qJz3ZKWGWPCJC2WdKcxppe1dn1N/oMAqNj8+fO1aNEiz/G//vUvtWvXzsFEqC12796t7777rsRYw4YNFR8fr/j4eN14442Ki4tzKB0AAAAuFle0lKOskuUCs4t9vv6CubFF7xvPlywXWCppf9HnMVWIB8CHvvzySz344IOe4/Hjx2vEiBEOJkJtYa3V0aNHS42fPHlS+/bt09atW5WXl+dAMgAAAFQVRUvVnSv2Ofz8B2NMXUndiw7fKOtEW/hgnDeLDm+vkXQAKiUnJ0fDhw/XmTNnJEnt27fXM88843Aq1BZZWVlebxUKCwtTkyZN/JgIAAAA1UXRUnU/L/Z5V7HPV+vHX9fdXs4/P3eJMaaxD3MBuAi//vWv9fHHH0uSoqOjtXTpUtWrV6+CswDfSE9P9zrfpEkThYeHe10DAACAwELRUgXGmEaSflt0+K619oti0y2Kff7ey48pPtei3FUAaszKlStLXL3y1FNPqVOnTg4mQm1TUdESHx/vpyQAAADwFR6Ge5GKHmS7QFJzFd4+9B8XLIkt9rnUts/lzMWWu+rH763Mns3tK7EGgKSDBw9q3LhxnuPBgwfrgQcecDARaiOKFgAAgNDDFS0X72lJ/Ys+P2it/dTJMAAuXkFBgUaNGqXMzExJUqtWrTR79mwZYxxOhtqGogUAACD0cEXLRTDGzNKPV7A8ZK19sYxlWcU+1/Xy44rPZZW7qoi1tksl8m2XlFjROqC2e+KJJ7R582ZJhQ8bXbRokRo35lFJ8C9rLUULAABACOKKlkoyxvxJ0sNFh1OttX8tZ+mhYp9bevmRxecOlbsKgE+98847mj59uuf4scce0y233OJgItRWp0+fVnZ2drnz7DgEAAAQnChaKsEY86Sk/yo6/LW19ikvyz+X5C763NHLuvNzP1hrM6sZEUAlZGRkaOTIkXK7C/8n+vOf/1yPPvqow6lQW1V0NUvjxo0VEcGFpwAAAMGGoqUCRbcLTS06/LW19klv6621ZyVtKTq8o5yfaST1LTpc64ucALyz1mr8+PE6ePCgpMJtcxcuXMjWuXAMtw0BAACEJooWL4pKluK3C3ktWYqZV/TewxjTtYz5ZEmXF32eX42IACrpH//4h1auXOk5njt3rlq29HZ3H1CzKFoAAABCE0VLOS54JsuvKrhd6ELzJO2SZCStMMb0KvqZYcaYZEkvFK17w1q73leZAZTt448/1sMPP+w5/uUvf6n+/ft7OQOoeRQtAAAAoYmbv8tgjGmtH5/J4pb0iDHmES+nzLLWzjp/YK3NN8YMlLRR0mWS1hljzqqw2IopWrZT0khfZwdQ0pkzZ5SSkqLc3FxJUufOnfXHP/7R4VSo7ay1Onr0qNc1FC0AAADBiaKlbGEXfG5Wwfr6Fw5Yaw8YY65V4fNdhkhqKylP0meSlkj6m7U21zdxAZRnypQp+uKLLyRJ9erV09KlSxUdHe1wKtR2Z86c8brjkDGGHYcAAACCFEVLGay1B1R42091f06WpP8pegHws8WLF2vOnDme42effVZXXXWVg4mAQnXr1tX999+v9PR0z+vo0aPKzMyU2+1WXFycIiMjnY4JAACAKqBoARCSPvvsM913332e49GjR2vMmDEOJgJ+FBYWpmbNmqlZs5IXTBYUFCgjI0Pnzp1zKBkAAACqi6IFQMj59NNP1bt3b2VlZUmSrrjiCv3jH/9wOBVQsfDwcCUkJDgdAwAAANXArkMAQsqOHTvUo0cPz44usbGxeumllxQbG+twMgAAAAC1AUULgJDx0UcfqVevXsrMzJQkNWzYUGvXrlXnzp0dTgYAAACgtuDWIQAhYcuWLerXr5/ndqG4uDi9/fbb6tKli8PJAAAAANQmXNECIOi988476tu3r6dkadq0qTZu3EjJAgAAAMDvKFoABLX169frjjvu0JkzZyRJzZo108aNG9WpUyeHkwEAAACojShaAAStN998U/3791d2drYkqXnz5tq0aZM6duzocDIAAAAAtRVFC4CgtGrVKg0aNEjnzp2TJF166aXavHmz2rdv73AyAAAAALUZRQuAoJOWlqYhQ4YoNzdXktSmTRu98847uvLKKx1OBgAAAKC2o2gBEFSWLVumu+++W/n5+ZKkyy+/XO+8847atm3rcDIAAAAAoGgBEEQWLlyoe+65RwUFBZKkq666Su+8845at27tcDIAAAAAKETRAiAozJkzR2PGjJHb7ZYk/fSnP9WmTZvUsmVLh5MBAAAAwI8oWgAEvH/9618aP368rLWSpGuuuUYbN25U8+bNHU4GAAAAACVRtAAIaH/729903333eY47d+6sjRs3KiEhwcFUQNVkZ2d7CkMAAACEpginAwBAeZ566ilNnTrVc3zDDTforbfeUlxcnIOpgKp79tlnlZeXp/j4+BKvhIQExcbGyhjjdEQAAABUE0ULgIA0c+ZMPfroo57jbt266Y033lDDhg0dTAVUXXZ2trKysiRJ3333nb777rsS89HR0Zo6daoiIyOdiAcAAAAf4dYhAAHFWqvp06eXKFluvfVWvfXWW5QsCGrp6ele52NiYihZAAAAQgBXtAAIGNZaTZs2TTNmzPCM9ezZUytXrlS9evUcTAZUX0VFC88dAgAACA0ULQACgrVWv/71rzVr1izP2O23365XX31VderUcTAZ4BsVFS3x8fF+SgIAAICaRNECwHHWWv3nf/6nnnnmGc9YUlKSli9frpiYGAeTAb5D0QIAAFA7ULQAcJTb7daDDz6of/7zn56xu+66S0uXLlVUVJSDyQDfomgBAACoHShaADimoKBAkyZN0osvvugZu/vuu7Vw4UIeCoqQcu7cOZ06dcrrGooWAACA0MCuQwAckZ+fr3HjxpUoWUaOHKlFixZRsiDkVHQ1S4MGDRQdHe2nNAAAAKhJFC0A/C4vL0+jR4/WggULPGP33nuv5s2bp4gILrRD6OG2IQAAgNqDogWAX+Xm5iolJUVLly71jE2aNEmzZ89WeHi4g8mAmsPWzgAAALUHRQsAv8nJydGwYcOUlpbmGfuP//gP/fOf/1RYGP86QujiihYAAIDagz/ZAPCL7OxsDR48WKtWrfKMPfTQQ3rmmWdkjHEwGVDzKFoAAABqD4oWADXu7NmzGjhwoN58803P2G9+8xs99dRTlCwIeTk5OTp58qTXNRQtAAAAoYOiBUCNOn36tO68806tW7fOM/b73/9eM2bMoGRBrXDs2DGv87GxsYqJifFTGgAAANQ0ihYANeLAgQP6/e9/r/bt22vz5s2e8T/84Q+aPn06JQtqjYKCArVs2VJRUVFlznM1CwAAQGhhH1UAPpOTk6PXXntNLpdL69atk7W2xPyf/vQn/dd//ZdD6QBntG7dWhMnTpS1VqdOndLRo0eVnp7uebVs2dLpiAAAAPAhihYA1fbZZ5/J5XJpwYIFysjIKDUfHx+vGTNmKDU11YF0QGAwxqhhw4Zq2LChrrzySqfjAAAAoIZQtACoktOnT2vZsmVyuVz64IMPSs0bY9S3b1+lpqZqwIAB5d42AQAAAAChhKIFQKVZa/XRRx/J5XJp6dKlOn36dKk1rVu31oQJE3TvvfeqdevWDqQEAAAAAOdQtACoUEZGhhYuXCiXy6Xdu3eXmo+MjNTgwYOVmpqqXr16KTw83IGUAAAAAOA8ihYAZXK73dq4caNcLpfS0tKUm5tbas3VV1+t1NRUjR49mp1TAAAAAEAULQAu8P3332vu3LmaPXu29u/fX2q+bt26Gj58uFJTU9WtWze2aQYAAACAYihaACgvL09r1qyRy+XSG2+8IbfbXWrNDTfcoNTUVKWkpKhBgwYOpAQAAACAwEfRAtRiX331lWbPnq25c+fqyJEjpebj4uI0atQoTZgwQZ06dXIgIQAAAAAEF4oWoJbJzs7WihUr5HK5tHnz5jLX9OzZU6mpqbrrrrsUExPj54QAAAAAELwoWoBaYufOnZo9e7YWLlyokydPlppv3ry5xo0bp/Hjx6tdu3YOJAQAAACA4EfRAoSwkydPavHixXK5XNqxY0ep+fDwcCUlJSk1NVX9+vVTRAT/SgAAAACA6uBPVUCIsdbqvffek8vl0ssvv6zs7OxSa9q1a6cJEyZo7NixatGihQMpAQAAACA0UbQAIeLIkSOaP3++XC6Xvvzyy1Lz0dHRGjp0qFJTU3XbbbcpLCzMgZQAAAAAENooWoAgVlBQoLVr18rlcmnlypXKz88vtebaa6/VxIkTdc8996hx48YOpAQAAACA2oOiBQhCBw4c0Jw5c/Tiiy/q4MGDpeZjY2N1zz33KDU1VV26dJExxoGUQO2Vl5en999/X/Hx8YqPj1fjxo0VHh7udCwAAAD4AUULECRycnL02muvyeVyad26dbLWllrTvXt3paamKjk5WfXq1XMgJQBJysjI0MaNGz3HYWFhatKkieLj45WQkKDmzZvrJz/5iYMJAQAAUFMoWoAA99lnn2n27NmaP3++MjIySs03bdpUY8eO1YQJE3T11Vc7kBDAhdLT00scu91upaenKz09XXv27FGbNm0oWgAAAEIURQsQgE6fPq2XXnpJLpdLW7duLTVvjFHfvn2VmpqqAQMGKCoqyoGUAMpz9OhRr/Px8fF+SgIAAAB/o2gBAoS1Vtu2bZPL5dKSJUt0+vTpUmtat26t8ePHa9y4cWrdurUDKQFUxoVXtFwoISHBT0kAAADgbxQtgMMyMzO1cOFCuVwu7dq1q9R8ZGSkBg0apNTUVPXu3ZsHagJBoKKihStaAAAAQhdFC+AAt9utTZs2yeVyKS0tTTk5OaXWtG/fXqmpqRo9ejR/+w0Ekfz8fGVmZnpdQ9ECAAAQuihaAD/6/vvvNXfuXM2ePVv79+8vNV+3bl0NHz5cqamp6tatG9syA0EoIyOjzF3BzqtTpw67ggEAAIQwihaghuXl5en111+Xy+XS66+/LrfbXWrNDTfcoNTUVKWkpKhBgwYOpATgK5W5bYgSFQAAIHRRtAA15KuvvtKLL76ouXPn6ocffig136hRI40aNUqpqanq1KmTAwkB1AR2HAIAAKjdKFoAH8rOzlZaWppcLpc2bdpU5poePXooNTVVd911l+rUqePfgABqHA/CBQAAqN0oWgAf+Pjjj+VyubRo0SKdOHGi1Hzz5s01btw4jR8/Xu3atXMgIQB/YWtnAACA2o2iBaiikydPasmSJXK5XNq+fXup+fDwcCUlJSk1NVX9+vVTRAT/cwNCHTsOAQAAgD/5ARfBWqstW7bI5XLppZdeUnZ2dqk17dq104QJEzR27Fi1aNHCgZQAnJKZmVnmA6/Pi4mJUf369f2YCAAAAP5G0QJUwtGjRzV//ny5XC598cUXpeajo6M1dOhQpaam6rbbblNYWJgDKQE4jR2HAAAAQNEClKOgoEBvv/22XC6XXnvtNeXn55dac80112jixIkaOXKkGjdu7EBKAIGEHYcAAABA0QJc4JtvvtGLL76oOXPm6Lvvvis1HxsbqxEjRig1NVXXX389fzsNwKNjx45q0KCB0tPTPa9Tp0555ilaAAAAQh9FCyApJydHK1eulMvl0ttvvy1rbak13bt3V2pqqpKTk1WvXj0HUgIIdPHx8aXKlHPnznlKl9atWzuUDAAAAP5C0YJabc+ePZo9e7bmz5+vY8eOlZpv2rSpxo4dqwkTJujqq692ICGAYBcTE6NWrVqpVatWTkcBAACAH1C0oFbJz8/X3r179f7772vevHl6//33S60xxuj2229XamqqBg4cqKioKAeSAgAAAACCEUULQlZOTo4+++wz7dixw/P65JNPdO7cuTLXt2rVSuPHj9e4cePUpk0bP6cFAAAAAIQCihaEhLNnz+rTTz8tUars3r1beXl5Xs+LjIzUoEGDlJqaqt69eys8PNxPiQEAAAAAoYiiBUHn5MmT+vjjj7Vjxw7t3LlTO3bs0Oeffy63212p81u1aqXOnTvrtttu06hRo5SQkFDDiQEAAAAAtQVFCwJaRkZGiatUduzYoX379lX6/Hbt2ikxMdHz6ty5M9urAgAAAABqDEULAsbhw4dLlSrffvttpc41xqh9+/YlSpXrrrtOjRo1quHUAAAAAAD8iKIFjjh27JjefffdEqXKDz/8UKlzIyIi1KFDhxKlyrXXXqv69evXcGoAAAAAALyjaIEjNm3apOTk5ArXRUdH69prry1RqnTs2FExMTF+SAkAAAAAwMWhaIEjEhMTS43Vq1dP1113XYlS5eqrr1ZkZKQDCQEAAAAAuHgULXBE27ZtlZSUVOK5KldeeSXbKwMAAAAAghpFCxxhjNHq1audjgEAAAAAgE+FOR0AAAAAAAAgVFC0AABQDdZapyMAAAAggHDrEAAA1fDFF1/o9ddfV3x8vBISEhQfH+95sUMaAABA7UPRAgBANaSnp+vUqVM6deqU/v3vf5eYi42NVdeuXfWzn/3MoXQAAADwN24dAgCgGo4ePVruXFZWlh+TAAAAIBBQtAAAUA3p6ele5+Pj4/2UBAAAAIGAogUAgCpyu906duyY1zUJCQl+SgMAAIBAQNECAEAVnThxQvn5+eXOR0ZGqmHDhn5MBAAAAKdRtAAAUEUV3TbUtGlThYXxn1oAAIDahN/9AQBQRTyfBQAAABeiaAEAoIq87TgkUbQAAADURhQtAABUEVe0AAAA4EIULQAAVIG1lh2HAAAAUApFCwAAVXDixAnl5eWVOx8REaFGjRr5MREAAAACAUULAABVwI5DAAAAKAu/AwQAoAp4PgsAAADKQtECAEAVULQAAACgLBQtAABUQV5entdbgyhaAAAAaqcIpwMAABCMkpOTVVBQoIyMDKWnp5d4ZWRksOMQAABALUXRAgBAFYWHhyshIaFUqVJQUMCDcAEAAGopihYAAHwsPDzc6QgAAABwCH/dBgAAAAAA4CMULQAAAAAAAD5C0QIAAAAAAOAjFC01zBgTa4x5zBizyxhz2hhz0hizzRjzsDEmyul8AAAAAADAd3gYbg0yxrSRtEnSZUVDZyVFS7q+6DXSGNPLWnvckYAAAAAAAMCnuKKlhhhjIiStUmHJclhSH2ttPUl1JaVIypLUWdJCpzICAAAAAADfomipOWMlXVP0eai1dp0kWWvd1tplkiYXzd1pjOnlREAAAAAAAOBb3DpUc8YWvW+01m4tY36ppCcktZU0RtJ6fwULJMePH1dOTk6Vz2/UqJFiYmL4fr6f7+f7g+77AQAAEJooWmqAMaaupO5Fh2+UtcZaa40xb0q6X9Lt/soWaN566y3t3bu3yuenpKSoffv2fD/fz/fz/UH3/QAAAAhN3DpUM67Wj7+2u72sOz93iTGmcc1GAgAAAAAANY2ipWa0KPb5ey/ris+1KHcVAAAAAAAICtw6VDNii30+62Vd8bnYcldJMsZsr8T3cg07AAAAAAAO4ooWAAAAAAAAH+GKlpqRVexzXS/ris9llbtKkrW2S0VfWnTVS2JF6wAAAAAAQM3gipaacajY55Ze1hWfO1TuKgAAAAAAEBS4oqVmfC7JrcIiq6PK2eK5aE6SfrDWZvojWKBp1KiRmjVrVuXzo6Oj+X6+n+/n+4Py+wEAABCajLXW6QwhyRjzjqRbJG2w1vYqY95I2ifpcknzrbVjffCd2xMTExO3b6/Mc3MBAAAAAKiVTE3+cG4dqjnzit57GGO6ljGfrMKSRZLm+ycSAAAAAACoSRQtNWeepF0qbMpWGGN6SZIxJswYkyzphaJ1b1hr1zuUEQAAAAAA+BDPaKkh1tp8Y8xASRslXSZpnTHmrArLrZiiZTsljXQmIQAAAAAA8DWuaKlB1toDkq6V9Lik3ZKspDxJ2yVNlXSTtfa4YwEBAAAAAIBPcUVLDbPWZkn6n6IXAAAAAAAIYVzRAgAAAAAA4CMULQAAAAAAAD5C0QIAAAAAAOAjFC0AAAAAAAA+QtECAAAAAADgIxQtAAAAAAAAPkLRAgAAAAAA4CMULQAAAAAAAD5C0QIAAAAAAOAjFC0AAAAAAAA+QtECAAAAAADgIxQtAAAAAAAAPkLRAgAAAAAA4CMULQAAAAAAAD5C0QIAAAAAAOAjFC0AAAAAAAA+QtECAAAAAADgIxQtAAAAAAAAPkLRAgAAAAD4/+3dd9wkRZ3H8c+XJS67S5KcFpCgYEAMoKALiIrhDk5FEI5wYMCMKOp5yorhfKGeeJ4BEI6oYCAoekgQEDGAgAEJirAgEiWnJSy/+6NqmNrZnpmeZ/p5nn2e5/t+veo13dNV3dU9NT3dNdVVZtYQV7SYmZmZmZmZmTXEFS1mZmZmZmZmZg1xRYuZmZmZmZmZWUMUEeOdB2uIpLuXW265lZ/1rGeNd1bMzMzMzMzMFktXXHHFtyNiz9FavytaJhFJNwKzgHnjnJW6Nsuv145rLmwycxmz0eYyZqPJ5ctGm8uYjTaXMRttIy1j17qixSYlSZcDRMRW450Xm5xcxmy0uYzZaHL5stHmMmajzWXMRtviWsbcR4uZmZmZmZmZWUNc0WJmZmZmZmZm1hBXtJiZmZmZmZmZNcQVLWZmZmZmZmZmDXFFi5mZmZmZmZlZQ1zRYmZmZmZmZmbWEFe0mJmZmZmZmZk1xBUtZmZmZmZmZmYNUUSMdx7MzMzMzMzMzCYFt2gxMzMzMzMzM2uIK1rMzMzMzMzMzBriihYzMzMzMzMzs4a4osXMzMzMzMzMrCGuaDEzMzMzMzMza4grWszMzMzMzMzMGuKKFjMzMzMzMzOzhriixWqTNF3SzpL+Q9Jpkm6SFDnMrbmO1SV9SdJ1kh6VdI+kiyUdIEk10m8k6UhJN0qaL+kuST+V9Mahd9DG3TBlTNLcIm6v8Mw+63mBpJMk3SLpMUm3STpd0g6N7qyNC0mrSNovf8ZXS3o4f863SDpD0q411jEzl7c/SnpI0v2SLpN0sKSla6Qf6jxoi7dhypikfWuex17ZJw/+rZyk8m/UoZJ+KOlaSXdLeiK/XiLp45JW7rMOX4tZV8OUMV+L2UhJ+mhZRvrEnRjXYRHh4FArAHOA6BLm1ki/FfCPIs2DwBPF/NnA0j3SvxZ4uIh/P7CgmD8W0HgfJ4fxKWPA3BzvceD2HmF2j3Uc0FEm7wOeGqScOyzeoePzDeBR4KGO934CTO+Sfn3gxiLuw8D8Yv4KYKUe2x/qPOiw+Idhyhiwb16+oM95bLse2/dv5SQOwP9UlK8HOt67C9imS3pfizmMWhnD12IOIytzm+Zy9nQZ6xF3wlyHuUWLDepe4HzgC8AepJNlX5JWAM4CVgGuBV4UETOB5YH3kAr4q4EjuqTfAPguMB24BNg0IlYAVgAOy9H2Az48or2yxcmIyljhlxGxRo8wryqRpG2AbwJLAmcA60bEisCqwJE52qGSdhvBPtniY0ngUuBdwEYRsVxEzAA2AI7JcXam/Zk/TdKSwI+A2cBtwE4RsTzpvLQ76cd6S+Ckqg0Pex60CWPEZazwtz7nsYurEvm3ckq4lPT5bUO6mVguImYBM4F9SDfAzwDOyOecp/lazGoacRkr+FrMapG0BKmCdlngV33iTqzrsPGuwXKYOAGYVvHePOq1Nvh0jvcIsEHF8o/l5U8Cm1QsPzEvvw1YsWL5kbT/Welai+mweIchy9jcHO/CEW774pz+D8BSFcvPzstvrMqnw8QIwPZ9ln+T9r8a63Ys279YVvVP3h7F8h0rlg91HnSYGGHIMrZvfn/eCLft38opHoBXFeVrz45lvhZzGO0y5msxh0E/8/fnz/SkovxEl7gT6jrMLVqstohYMETyvfPrKRFxY8Xyr5KaVk8D9iwXSFoeaD33+42IuK8i/X/m11nALkPk08bRkGVsxCRtCGybZ78YEU9URGuVsdnAy8ciX9a8iLigT5RjiukXdizbJ79eEBFV/7qcQrr4g/Y5rzTi86BNHEOWsRHzb6Vlvy6m1+lY5msxa0KvMjZivhabenIruc8CdwMH1Ugyoa7DXNFio07SpsB6efb/quJExEOkWmxINeWlbYHl+qSfB1zTJb1ZPzsV02d3ifMLUpNEcBmbzOYX09NaE5KmAy/Ls93OQ61ne6GjjDRwHrTJo7KMNcC/lQawXTH919aEr8WsQZVlrAG+Fpt6jiY9tvPBiLirV8SJeB3mihYbC1sU01f1iNda9uwh029eM182OW0u6SpJj+SeyK+TdLSkLXukaZWxOyPizqoIubXNta1tNJlhW6zMKab/WEw/i/ZvZp3z0BodozIMex60yWNOMf3HLnFWlXR5Poc9KumGPALHnC7xwb+VU5akZSTNlvQe0uM9ANfHmjhhAAAfeUlEQVST+jJo8bWYjVjNMlbytZj1JOltwI7AeRFxQo0kE+46zBUtNhbWKqb/3iNea9ksSTMq0t8bEY/WSL9Wjzg2+T2DdDJ+FFgG2ITUg/3lkj7TJU2rzPQqn+Vyl7FJSNKKpOdzAS6OiOuKxYOexzrTDHsetEmgTxkrTQdeQBq5YwlSR7p7AhdIOjZ3CNjJv5VTTB5aOUitpG4kNXtfidRR7Y4R8VgR3ddiNrABy1jJ12LWlaS1SYNePAq8o2ayCXcd5ooWGwszi+lHesQrl82smO6Vtlw+s2csm6z+AhxCGiJu2YhYhdQc8dXA5YCAj0s6uCKty9gUl3u9PxFYk3RB+Z6OKE2dx0aa3ia4GmUM4FbgU8DzSOexlUmVLi8Dzstx9gO+XJHW57Gp53bgDtLwpi0XAB+IiJs74vpazEZikDIGvhazeo4kjVY2NyJuqJlmwl2HuaLFzCaFiDg5Ir4QEX9udaAWEY9HxDmkZ8svy1Hn9hiO0KaurwCvz9Pvjog/jGdmbFLqW8Yi4pyImBsRf2j9UxwRCyLil6QblTNz1HdJ2nhMcm2LrYiYHWmo3BnA6sCHgOcDl0o6rHdqs/4GLWO+FrN+JO0FvA74HfBf45ydUeWKFhsLDxbT03vEK5c9WDHdK225/MGesWzKiYj5wL/n2RmkZ0JLLmNTmKQv0m5dcFBEHFsRranz2EjT2wRWs4z1FBFPkW5yIF2/vaEjis9jU1hE3BkRXwJeQxqe9BOSXl9E8bWYDaVGGeuX3tdiU5yk1YEjgAXA2yLiyQGST7jrMFe02Fi4tZheu0e81rIHcq/PnelXkrQc3bXS39ojjk1d5TBwG3Ysa5WZXuWzXO4yNklIOhxoNWH+UEQc0SXqoOexzjTDngdtghqgjPUVEdcD/8iz3c5j/q2cwiLiUtLILABvLxb5Wswa0aOM1eFrsant88AqwFHAtZJmlAFYuhWxeL/13oS7DnNFi42FsmfnLbrGai+7esj0f6qZL7OWVhlbTdKqVREkTQM2y7MuY5OApC8AH86zh+R/6rq5BngqT9c5D90eEfcU7w97HrQJaMAyNiz/VlpLqzPHZxbv+VrMmlRVxobla7HJb4P8eiCptUhn+FgRt/Xe4Xl+wl2HuaLFxsKfgVaHWa+piiBpeWC7PHtOx+JfkHql7pV+fVLv5lXpzQC2LqZv7Fh2bjFdWcZInVG2OsVyGZvg8qMcrccwDomIL/SKHxGPkEZZgO7nIZH60YBFy8iw50GbYAYtYzXXuRFpNA9Y9Dzm30prabUUKJu9+1rMmlRVxurwtZiNyES8DnNFi426iAigNT767pJmV0R7N+l5zQXAyR3pHwZ+kGcP7NJ51kfy64PAGUNm2SaYfGLttXwZ4LN59mHg/HJ57vG81Qz2YElLVazmo/n1JuDnI8+tjbd8A1w+ylH3Bvj4/Lq9pJdULH8z7YvPE8oFw54HbWIZSRmrcR4TaThMSP/qnVUu92/l5CdpWo1ysiPw4jx7Yet9X4tZHcOUMV+LWT8RMSci1C2QRt1rxW29/4FiFRPrOiwiHBxqB2Al0r9prXAzqUOswzven9GRbgXgthz3T8BW+f2lSc3HHsvLvt5luxsAD+U4Pwc2zu8vD3ySdNEZpH8Nx/04OYxtGQNeQRr69F+BdYr3lyJ1tnZpXkfXMgK8FHgyx/kBsHZ+f2Xg60X63cb7GDkMVb4OLz7LgwZMuyTwh5z2FmDH/P4SpB/3+/Oyn3RJP9R50GFihJGWMWB2Ple9g3ShqKJ8bQ2cXazXv5VTMOQy8rvOMpKXrUu6CW19/ncDa3Sk97WYw6iVMXwt5jBkAOa2PuMuyyfUddi4H1CHiRWAecVJrlc4riLtVqRO/FpxHgAeL+Z/CizTY9uvJdWAt+LfV5yMAzi2/EFwmJhhJGUMmNOx7BHgro7ytQD4bJ9tHwA8UaS5l/aFYwBzx/v4OAxVttbrKA+39wkfqljHbFJz59Z6HiY1p2/NXwGs1CMPQ50HHRbvMEwZy2WrPI/Nz+ex+R3vHwss2SMP/q2cpKGijDyWy8hDHe/fAGzZZR2+FnMYlTKGr8Uchi9/c1ufc484s5kg12FLYjZGIuJySZuTmpa+nlQz/jCpc6LjgWMjDV/ZLf1PJD03p98JWJN08r0SODIiftAtrU16fyT1hbAN8BxSi5cVST/yVwMXA0dFxB97rSQiviXpClKT/1cAqwJ3knrJ/2pE/GzU9sDGwhId06v3iT+j842ImJfPQx8C/oX0D+8TpH9GvkMqJ493W+Gw50Fb7A1Txu4A3ks6jz2fdP5ZiVTRciPwS1L5uKRzJSX/Vk5qt5L+tZ0DvARYi/R7t4DU+vP3wJnAtyPi0aoV+FrM+himjPlazEbdRLoOazVLNTMzMzMzMzOzIbkzXDMzMzMzMzOzhriixczMzMzMzMysIa5oMTMzMzMzMzNriCtazMzMzMzMzMwa4ooWMzMzMzMzM7OGuKLFzMzMzMzMzKwhrmgxMzMzMzMzM2uIK1rMzMzMzMzMzBriihYzMzMzMzMzs4a4osXMzMzMzMzMrCGuaDEzMzMzMzMza4grWszMzMzMzMzMGuKKFjMzM0PSbEmRw3FjsL3jiu3NHu3tTXZj/fnZxCZpl1xW5ktae7zzMwhJsyTdk/P/jvHOj5lZFVe0mJnZ0yQdU9ysPSVpg/HOk9l4y5UYc3OYM975sclN0pyivM0ehfUvC3w5zx4VEX9vehs183F+8XvzkKQZddJFxAO08/9ZSSuNXi7NzEbGFS1mZgaApOWB3cq3gH3HJzdmi5XZwKE5zBnXnNhUMId2eZs9Cut/V17vfODzo7D+vnIF0vbFW8sDbx5gFV8B7gVWAQ5pLGNmZg1xRYuZmbW8Cej8R3EfSRqPzNjYioh5EaEc9h2D7e1bbG/eaG/PzEDScsBH8+xxEXHrOGVlH1Jlfmm/uolzq5av5dn3SlqlqYyZmTXBFS1mZtbSush9Ajg5T68P7DA+2TEzs4btDayap08Yjwzkyvt98uxdwI/z9HaSnjnAqlr5Xx5wXy1mtlhxRYuZmSFpQ+DlefZs4L+KxbX/ZTQzs8Xagfn1rxHxq3HKwxyg1f/XKcCxxbJ9664kIv4CXJZn3+nWl2a2OHFFi5mZQbq4bV2knhARVwB/yvP/ImlWZwJJzy06MvxBnY1Iel+R5r094m0j6RuSrpZ0Xx4Z42ZJp0p6XZ9tzCm2MTe/t6mkIyRdI+mBvGzfjnRbSfqEpLPztuZLelTS3ySdIWkvSdNq7ucSkvaTdIGkf0h6RNL1kr4p6dk5ztwin3P6rG+GpA9IOlfSrZIey6NuXCbpMEmr9kpfM899R62RdGErTvHe7jlft+d83ZRHFNqsz/ZqjzrU5P5LeqGk/5b0e0l3S3oir+s3kr4k6SVF3Dl5Xy8oVnFoke+nQ4/trSfps5IulXSXpMfzsTpX0oGSlq6Z7+codVZ9Uy6bt0k6R9Ludfd9UJJWknSIpPOK4/6wpOskfVvSnkodq5Zpao9+VLPMzcvL5+X5ZZXOI7+QdIdSp90XjjR+kW4JSbspnWNuzN/ZByVdq3Quek6ffVnk+yxpa0kn58/sMUl3SjpL0mt6rYPUN0vLBRXlbZH815H34Xl59tsj2J/XSjpT0i15f26R9B1J2wyYlbLy/gTgLFJ/KwB7Sxrk/qTV+nJd3H+SmS1OIsLBwcHBYQoHUqX7TUCQLnaXye9/JL8XwNu7pP19Xj4fWLHGti7N8Z8AVq1YvjzpH87oE84CZnbZxpwi3lxSU/lHKtaxb5Hm0BrbDOC3wFp99nEWcFGPdTwC7JHz1npvTo/17Qzc0SdfDwD/NGQ5mF2s77gucS4s4iwLnN4jT/OBnXts77gi7uzR3v9ctk6u+TmvX1GWeoYu2/xYPg690v4Z2KRP3g8EHu+xjtOATfp9fgOWh32A+2vs+6GDlqMBy9y8vHweqRXEVRV5uHCk8XOajYAr++znAuCwHvsyt4g7B/h4TtNtfZ/qs45e4cJex7VHHj9RrGP7PnE79+drfY7NoTXzMBN4OKe7pnj/G8X6XjXAPj23SHfEsOXewcHBoamwJGZmNtXtAKyXp78XEY/l6ZOAz5EqYvYDjqpIeyLwBWAZ0ogRR3fbiKRNgBfl2bMj4q6O5csA5wFb57f+CpwKXEOqmHkmqdJkE+B1wBmSdoqIp3rs28to3/AcA1xCuvHdFLi9iLcc8CTwqxznetLN+8qkm7W9gLWBrfJ2XxYRT1Tso4AzaD+GdV/e7pXANGBb0g3scaRHtHqS9MZ8DKblY/BDUmXHHaQKne1JI0XNBE7Px+Nn/dbbkGOBXYDLSZVjNwPPAPYEXkoqEydJ2jQi/jGSDTS1/7nVxQW0y9984Lukz/revK4tgNeSylerdddVwK552afze6fm/e2X9y8DH8iz9+U0lwEPAmuSjt32wMbARZK2jIjbK9azG/D14q3/A87M69wM2D/nsTGSDga+WLx1CfAjUoXsNFIFySty/sfqcY1lSBVKmwO/AH4A3Erqb2T1kcaXtBHwa1LZJcc9i/a+bkVq8bcS8AlJT0XE3D55fTupMvXvpO/6n4ClgdcAbyEds09KuqijvJ4C/A7YPceDVDlyVcf6R/R9AnbKr0+RKo3rej+pvP4D+BbwB2A6aX/eSPqNmCvp7oj4nz7rektOC+n3o+UE4J15ej/gnJp5uwp4iNSR+6trpjEzG33jXdPj4ODg4DC+gYX/5d+2Y9l5xbLNKtKuRftf24v6bOewYl1vqVj+5WL54cCSFXGWAo4v4r2zIs4cFv639Tbg2X3y9iJgjR7LlwaOKNa5T5d4+xdxrgfWqYjzAuCejjzOqYi3Lu0WBTcBz+myzReTbroD+Buw1AjLwewiP8d1iXNhR74/A6gjzhIs3NLlkC7rOq6IM3s0959UUdHa1u+A9Xochx3oaJ3VUabm1jiW/1zEPxdYpUu8dxTxTqlYviKps9Ag3RwfUBFnJvDzjs+l8vOrWQ62IVU6BvAoFd/VIu7awEsGLUcDlrl5Hft2UJ911o6fy+rlOd584M1d4q1Ou8XLAmDzijhzO7Z7DrB8RbyDijg/6bK9cl2LnBtG+LlOo92S5Koa8Tv35ypgtYp4u5AqQSOvv+t3K8e/pCjP63Us+0tR7vq2kCzSXVCsc4UmjpeDg4PDsMF9tJiZTWGSVqD9b/iNpIvgUjkqxSKd4kYaGrT1j+x2ktbrjFPYM78+QGqZUOZjTeBdefa0iDgkIp6s2N4TwAHADfmtD/bYXss7IuLqXhEi4rKoaE1QLH8cOJh0jAD+tUvUDxTTe0XELRXruoJ6+f4wqaXFAuCfI+KPXfJ2abG+dUgti8bCzyLiPyIiOvLzFCnvLSP9l7mR/c9l8m159m7S40w3d9toRPwsIu4bYZ5bDsuvfwN2iYi7u2zrSNr/6r9J0rodUfal3dLi+Ij4VsU6HiS1EnhwyDy3fIp0Uw7w/og4tVvEiPh7RPymoe3WcXpEfLnB+LuQKj4BPhwR36uKFBF3kI7xAlLlzPv7bPduUgXVwxXLvkJq/QWwg6Sxal2+Ie2WJNcNmPZJ0v7c2bkgIs4AvpRnp9PubHcRuVXjS/PsRRXfw9Z3YVlSi6C6rmltAujZl46Z2VhxRYuZ2dS2O+mxGYCTOm+aSc3tWzcL/6rqzmBbF8eiXZmyEEkvJV3oA3w/Ih7tiLIbqdUILPzIwiJyZUvr5m9j9e5I9SbSIw9Di4gFQOum8sX5MaGn5UcQtsizv4mIX/dY3cmkm7FKed2tY3l+RPyuT/ZOJd0MAbyqT9ymfKXbgoi4nlTJAPDsQVfc8P6/BZ5+VPqrEXHboPkZhKTnkfqNAPhGl5vt0kn5dRqwY8ey8pGgL9FF3qeTui2vS6lT4dbjJTeQHhNZnHy14fitCtMH6PHYI0BE/JnUxxT0/46dEBH3Vi3IFZEX5dllSP3DjIX1i+l7Bkz704j4U4/lR5AqoaD3Y2xlZf2JFctPJLVMAfi3+tmjPNbrd41lZjaG3EeLmdnUVl7MLnLhGxEPSzqd1EfJmqSOSc/qiHYaqSPD6aSb4/+s2M5exXTVDeF2xfQ6knbpk++ViulnkR4XqPKLisqjSnmki11IfQ5sSXosaibVf0rMJLW2uL9474XF9AW9thURT0i6BPinLlE2J/UPA/BgjeMBqZ+CFUnHYyz0qkiC1D/Fuiz8WdXV5P5vW0z/kNFXluVlauR97WL66bznyqat8uydEdHZT0en8+nRmqCm8lidFb37PxprC0h9KDUZv/VZ3Qa8Rv1HB25VJqwvabmKCuOWOt+NlpF8P0Zi5WJ60IqW83stjIjbJV1DqmjeRNIKEVGeG8mV9Hvn2UeB71es58Z8XtwWeKGkLWqUe1i40nqsjqeZWU+uaDEzm6KUhhl+cZ79dUT8pUvUE2hXlOxHR0VLRDwk6QzgrcDmuVPPK4vtLEVqsQKplcOFFduYXUx/d4DdgN4X1n/vsexpktYhdWK7Vb+4hc6KlrWK6Rvor1ec2cX0G3Ooa6xuNPp1yNnqVHmZEax7djE97P6vU0xfw+ibXUwfOmDaMu8rkEZKgtTfTz914vQz1sdqEHdHxPym4kuaAaySZzcl9Ss0iJVIFQZV6n43ID0mMxbK7+Ggj5nVLX9bkFo2rsHC50ZIjxC2zpFnRsQDXdZzAu0Kv/1Ij2z2U65rua6xzMzGkB8dMjObuvo14245n3aFxRskPaMiTpl+r45lO9O+oTm5SwuTFXpltI+leyzrdiP0tFwR9FPalSz/II2o80FSC503kprD78rCLVU6H6Navph+pN92aT+SVWW0jkdjRrm1Q5P7Pyu/LhjwRn2kmsr7jGJ62PJU16xi+qEG1tekvt/lAeMP8zlB7+/Z4tQSqKWs3JnVNVa1QcvfjIrldX9vvkvqmBhgr5p92JSf5aDlxMxsVLhFi5nZFJQvXssOXb8m6Ws1ki5Fqnzo7J/jXNJwyWsAe0j6cHEjXla8dLvAbt3UBWm0obG8UdmDdj8i5wK7dutXQ1JlHzRZmWZ611hty/dYVt7kHhYRg7aMmOia3P/Wv93TJC07BpUtZd53iIiej5HVXM+w5amusmVA1c1y08bzD7/y+P48Il4xbjkZG+XjQit3jVVt0PK3UCWdpFVY+DHJH9d4TAtgNeB1pOHMexnmsSgzs1HhFi1mZlPTzqQhS0eiavShBcApeXZNcqeekmYBb8jvX9lj9J9WixmxcJ8VY+GVxfRBfTov7dXR4q3F9IZdY9WLUz7ytE7XWJNXk/tfjvw0Fv3XNJX3+2lX3j2zRvw6cfpp4liVLSf6ta6qah03JnIfIq0KganwHZtXTA9a0TJI+QtSpXvprYy8pd0ivzcVyv25aYTbMTNrlFu0mJlNTeXF6/F070y29FZgY+B5nf2wZCfSHt54L1LrkDfR7oOgV3Pxi0j/XEIa0eOYGvlpSlnh9NdukSStBjy/x3p+W0xv32uD+XGll/WIciWpdcEsYEdJSyxmHZOOtib3/2La/6b/U173oMpt9/sr/qJi+lX0LvddRURI+i3wCmA1SZv3Gfmlc8SikfhFMf16SQeN4LiXQ2Ov1TVW8pIB1920nwOvBTaU9Mw8WtbiYJDyVteNpIq75Ul90gxiB6DrMNmS1qBdMffnzo5wWfj35issXEa6eRewKvA6SatVDS1daG07gMph4M3MxporWszMppg8hOvr8+wDwIE9Rs8o091LGsYT0oXzQjesEXGFpKtJj+HsKumdtB8bWgB8p8fqTwE+Q/rX8yOSTqkxLG5Tyv4HNgK63cx+jPToVKWI+Kukq0gdQr5E0tY9hnjek3a/NVXrWiDpZNIoMusDBwBHdd+FyaXh/T8V+Bzps3uvpKNGMMRz+ShEv0d0fksqQ5sDb5H0+T4VJL2cTqpogdRn0P5VkSStTpeh1QcREXdJ+imp49INGcFxj4hHJc0jdQr8IkkzImKR/l5yZeOwoyQN63hSRQvAYaTK5MXBIOWtlvyduhx4ObCZpFk9OqTt9BpJz4qIbh0kv492n1WnlQvycOdb5tm/RMQHqEHSCqSK+yVJvyP/1SXeNNojvl07wD6ZmY0qPzpkZjb17Em7wuC0OpUs2XeAJ/P0WyVVNQVvDd08E3gP7ZvE8yKiszn50yLib8BX8+zGwI/yv6SVJC0h6ZWS/qNm3nu5rJj+dB7muXN7byfdTPRzRDF9kqRFHoOStCVdbho6fI72P7//LWnvXpElrSbpE5KeW2PdE0Ej+5/L1tF5dhXgJ5LW67GeV0hasePtG4vpF/TKR+7s+WN5dqm8vRf1yfuzJX2jYtHxtEew2U/SvhVpZ5AqKgft4LSbubSHMf6KpN26RZS0pqQXVyw6O79OBz5VkW5J4EjGbijybr5P+/u/h6QjupzXAJC0nKR9Je0+yvmqXd4GdG5+XYKFh6PvZ0ng1FxJvxBJbwA+lGcfATrLcdma5eQBtlm2BOv1+NDmtCujfjrA+s3MRpVbtJiZTT11R39YSETcKekc0j/Arc4Nv98R7WTgs6Tm7p+hXaFfZzsfIz2asyPp0ZsbJP0A+BVwF6m1yxrA84Cd8vT5eTvD+F/g30kX67sCV0g6kdRfxerAv5AqjG4nNUvfqce6jiVVZG1Pah1zlaRjgCtIv7nbAvvkuD+k/UjLIo9nRMQt+Ybuh6ShWY+X9ME8/xfS6BorAJsAW5MeRZrGwiMjTVgN7//BwItyeD5wnaRTgV+SOs+cSbph25nUImsDiscbIuJeSVeS/pnfXtI3SWXvwSLO2cX0jyQdBnwSWA/4Tf7unEcqV0H6Dm0OzMnbXEBHC4+IuE/Su0mtcgT8r6Q35WNwP+kRkP3zNk4nld+hRMSvJX0E+CLpsb9TJb0vb/Nm0nd6fWA7Uv9GnwMu7VjNfwP/RvrOflDSZqSWDg+S+vLYO+f9FGC0Ky26ioinJL2RdI5ZG3g/sJuk7wG/Jx3jGaTj+0LSuWl54BOjnLWLgSdIFXUflhTAH2j3f3NPRHQe8zrOAD6dp+cAPxsg3S7AnyQdTToPTie1fHoz7cebPpIrNoGnWy2VLa1OoqaOFpJbSHphRPy2Imr5mOYZdddvZjbqIsLBwcHBYYoE0r+jkcPfgCUGTL97kf7HXeJcUMQJ0s3V9JrrX5rUsuXJjnV0C8dXrGNOsXxuze3+M+nGvdt2biHdpB9XvDe7y7pmkfp+6LauR0kjHX2meG/LHnnbmtR3TJ3j8SDwnBGWjdnFeo7rEufCVpwa6+sZt86xbHL/STfM36u5nvUq0u/cq1x22eYBpJv1Otuc1+MYvIt0490t7fdJLcF6fn4DlocD8vHsl+9Pdkm/P6nyqFu6o0mPJ/Urc/P6HZ9h4uc0a5Iqwep8Tk8CB1SsY24RZ06f7fWNS6rA6paHC4f4XK/M67h+kDwC/9MjP09Rca4lVVK34vxyBHn9aJH+a13i/CYvvwnQsOXewcHBoangR4fMzKaWsjXLd2Lwji7PpD0E7KslVXV22dl65fSIeKQi3iIi4vGIeC+wGfB50kX0XaSbm0dITep/QmqB8tyI2GfA/Hfb7pmkSqjjSBVQTwB3A5eTWiU8LyIu67qChdf1AOnGZH9Sx6j3APNJlQVHAVtFxHdYuI+WrkOSRurnZVNSPwXfJR2Dh0jH5B5SnyBHA28B1oiIidgZZHRd0ND+R8RDEfFmUsuXo4DrSBUJT5I+618Bh5MqvW6uSP9/Oe23cx76PnIXEd8itf44GDiHNDLVYzncTqqQ+wKppUTXUagi4ussXD4fB+4gVQ68NSLeRCqzjcl535DUeuMS2t/Dh4FrSa0TdiN9T6vSHwNsQ/rMbsv5ux34MfD6iHgbFS25xkNE3BYRryR9b48k9bFzH6mi6AHgalKrogOBdfOxGe08/TupQvZs0nF7vKFVfz2/biTppQPk5z2kDst/RCrHj+fXU4GXRcTcimTl703t1iyFk2mXkT0kLVsulLQx0Hp07ciI6HoeMTMba/I5yczMbOzljilfQGrxsNJUu0nInd22Oh9dM3r04WNmzciVFTcBqwFHRcQ7usSbCxyaZ7ePiAvHJIMDyI/nfYJU+bd+RNw9zlkyM3uaW7SYmZmNMUnb0O7k8sKpVsmStVr0BPWGezWzIUXEfNqtkPbu0ipxsSdpFvDuPPtVV7KY2eLGFS1mZmYNkrSFpK5DN0t6NgsPdX3k6Odq8SJpOu0m/9fnmz8zGxvfID3+tiztEbImmvcBK5Me+zt8nPNiZrYIjzpkZmbWrF2Aj0s6nzSqzTxS/xSrAS8njQzTGl77+7nvjylB0q7AWqQRaVbKb3eOXGVmoygi5ucRvE4H3ibp8xHx9/HOV125NctBefbjEXHveObHzKyKK1rMzMyatyyp48jX9YhzKrDvmORm8XFax/xf8b/RZmMuIs6gPSzzhJI7HO/aatDMbHHgihYzM7NmHU0azWYH0pC7zwBWJI1ScxtpBJfjIuLiccvh+JpPGjnnR8B/RoT7ZzEzM7NJxaMOmZmZmZmZmZk1xJ3hmpmZmZmZmZk1xBUtZmZmZmZmZmYNcUWLmZmZmZmZmVlDXNFiZmZmZmZmZtYQV7SYmZmZmZmZmTXEFS1mZmZmZmZmZg1xRYuZmZmZmZmZWUNc0WJmZmZmZmZm1hBXtJiZmZmZmZmZNcQVLWZmZmZmZmZmDXFFi5mZmZmZmZlZQ1zRYmZmZmZmZmbWEFe0mJmZmZmZmZk15P8BPUW9FTHfeiYAAAAASUVORK5CYII=\n",
                "text/plain": "<Figure size 576x432 with 1 Axes>"
              }
            ],
            "_view_module": "@jupyter-widgets/output",
            "_model_module_version": "1.0.0",
            "_view_count": null,
            "_view_module_version": "1.0.0",
            "layout": "IPY_MODEL_7e941c3c6f43458cbaf16c8ea32dc23c",
            "_model_module": "@jupyter-widgets/output"
          }
        },
        "3686cd6713f94e3682c444a1f75f7495": {
          "model_module": "@jupyter-widgets/controls",
          "model_name": "SliderStyleModel",
          "state": {
            "_view_name": "StyleView",
            "handle_color": null,
            "_model_name": "SliderStyleModel",
            "description_width": "",
            "_view_module": "@jupyter-widgets/base",
            "_model_module_version": "1.5.0",
            "_view_count": null,
            "_view_module_version": "1.2.0",
            "_model_module": "@jupyter-widgets/controls"
          }
        },
        "7e941c3c6f43458cbaf16c8ea32dc23c": {
          "model_module": "@jupyter-widgets/base",
          "model_name": "LayoutModel",
          "state": {
            "_view_name": "LayoutView",
            "grid_template_rows": null,
            "right": null,
            "justify_content": null,
            "_view_module": "@jupyter-widgets/base",
            "overflow": null,
            "_model_module_version": "1.2.0",
            "_view_count": null,
            "flex_flow": null,
            "width": null,
            "min_width": null,
            "border": null,
            "align_items": null,
            "bottom": null,
            "_model_module": "@jupyter-widgets/base",
            "top": null,
            "grid_column": null,
            "overflow_y": null,
            "overflow_x": null,
            "grid_auto_flow": null,
            "grid_area": null,
            "grid_template_columns": null,
            "flex": null,
            "_model_name": "LayoutModel",
            "justify_items": null,
            "grid_row": null,
            "max_height": null,
            "align_content": null,
            "visibility": null,
            "align_self": null,
            "height": null,
            "min_height": null,
            "padding": null,
            "grid_auto_rows": null,
            "grid_gap": null,
            "max_width": null,
            "order": null,
            "_view_module_version": "1.2.0",
            "grid_template_areas": null,
            "object_position": null,
            "object_fit": null,
            "grid_auto_columns": null,
            "margin": null,
            "display": null,
            "left": null
          }
        },
        "6bcebe2ec20e4348b335196a97845148": {
          "model_module": "@jupyter-widgets/controls",
          "model_name": "VBoxModel",
          "state": {
            "_view_name": "VBoxView",
            "_dom_classes": [
              "widget-interact"
            ],
            "_model_name": "VBoxModel",
            "_view_module": "@jupyter-widgets/controls",
            "_model_module_version": "1.5.0",
            "_view_count": null,
            "_view_module_version": "1.5.0",
            "box_style": "",
            "layout": "IPY_MODEL_9de8c3a28d724ce19d2e7f104e29fc62",
            "_model_module": "@jupyter-widgets/controls",
            "children": [
              "IPY_MODEL_08a87df0dd9b4963b217d5895a02624d",
              "IPY_MODEL_e38b0c4bfd6a42b193fe6e037ff30ce8"
            ]
          }
        },
        "9de8c3a28d724ce19d2e7f104e29fc62": {
          "model_module": "@jupyter-widgets/base",
          "model_name": "LayoutModel",
          "state": {
            "_view_name": "LayoutView",
            "grid_template_rows": null,
            "right": null,
            "justify_content": null,
            "_view_module": "@jupyter-widgets/base",
            "overflow": null,
            "_model_module_version": "1.2.0",
            "_view_count": null,
            "flex_flow": null,
            "width": null,
            "min_width": null,
            "border": null,
            "align_items": null,
            "bottom": null,
            "_model_module": "@jupyter-widgets/base",
            "top": null,
            "grid_column": null,
            "overflow_y": null,
            "overflow_x": null,
            "grid_auto_flow": null,
            "grid_area": null,
            "grid_template_columns": null,
            "flex": null,
            "_model_name": "LayoutModel",
            "justify_items": null,
            "grid_row": null,
            "max_height": null,
            "align_content": null,
            "visibility": null,
            "align_self": null,
            "height": null,
            "min_height": null,
            "padding": null,
            "grid_auto_rows": null,
            "grid_gap": null,
            "max_width": null,
            "order": null,
            "_view_module_version": "1.2.0",
            "grid_template_areas": null,
            "object_position": null,
            "object_fit": null,
            "grid_auto_columns": null,
            "margin": null,
            "display": null,
            "left": null
          }
        },
        "08a87df0dd9b4963b217d5895a02624d": {
          "model_module": "@jupyter-widgets/controls",
          "model_name": "FloatSliderModel",
          "state": {
            "_view_name": "FloatSliderView",
            "style": "IPY_MODEL_4571ba35dbdc41c4be811ea3ec53ebbd",
            "_dom_classes": [],
            "description": "sig_gwn",
            "step": 0.5,
            "_model_name": "FloatSliderModel",
            "orientation": "horizontal",
            "max": 10,
            "_view_module": "@jupyter-widgets/controls",
            "_model_module_version": "1.5.0",
            "value": 4.5,
            "_view_count": null,
            "disabled": false,
            "_view_module_version": "1.5.0",
            "min": 0,
            "continuous_update": true,
            "readout_format": ".2f",
            "description_tooltip": null,
            "readout": true,
            "_model_module": "@jupyter-widgets/controls",
            "layout": "IPY_MODEL_80968f57f2504fc8b93ea6d7f01aa7fb"
          }
        },
        "e38b0c4bfd6a42b193fe6e037ff30ce8": {
          "model_module": "@jupyter-widgets/output",
          "model_name": "OutputModel",
          "state": {
            "_view_name": "OutputView",
            "msg_id": "",
            "_dom_classes": [],
            "_model_name": "OutputModel",
            "outputs": [
              {
                "output_type": "display_data",
                "metadata": {
                  "tags": [],
                  "image/png": {
                    "width": 557,
                    "height": 413
                  },
                  "needs_background": "light"
                },
                "image/png": "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\n",
                "text/plain": "<Figure size 576x432 with 1 Axes>"
              }
            ],
            "_view_module": "@jupyter-widgets/output",
            "_model_module_version": "1.0.0",
            "_view_count": null,
            "_view_module_version": "1.0.0",
            "layout": "IPY_MODEL_0c2a4faa1ed04e85ab5a66d1c9036fc8",
            "_model_module": "@jupyter-widgets/output"
          }
        },
        "4571ba35dbdc41c4be811ea3ec53ebbd": {
          "model_module": "@jupyter-widgets/controls",
          "model_name": "SliderStyleModel",
          "state": {
            "_view_name": "StyleView",
            "handle_color": null,
            "_model_name": "SliderStyleModel",
            "description_width": "",
            "_view_module": "@jupyter-widgets/base",
            "_model_module_version": "1.5.0",
            "_view_count": null,
            "_view_module_version": "1.2.0",
            "_model_module": "@jupyter-widgets/controls"
          }
        },
        "0c2a4faa1ed04e85ab5a66d1c9036fc8": {
          "model_module": "@jupyter-widgets/base",
          "model_name": "LayoutModel",
          "state": {
            "_view_name": "LayoutView",
            "grid_template_rows": null,
            "right": null,
            "justify_content": null,
            "_view_module": "@jupyter-widgets/base",
            "overflow": null,
            "_model_module_version": "1.2.0",
            "_view_count": null,
            "flex_flow": null,
            "width": null,
            "min_width": null,
            "border": null,
            "align_items": null,
            "bottom": null,
            "_model_module": "@jupyter-widgets/base",
            "top": null,
            "grid_column": null,
            "overflow_y": null,
            "overflow_x": null,
            "grid_auto_flow": null,
            "grid_area": null,
            "grid_template_columns": null,
            "flex": null,
            "_model_name": "LayoutModel",
            "justify_items": null,
            "grid_row": null,
            "max_height": null,
            "align_content": null,
            "visibility": null,
            "align_self": null,
            "height": null,
            "min_height": null,
            "padding": null,
            "grid_auto_rows": null,
            "grid_gap": null,
            "max_width": null,
            "order": null,
            "_view_module_version": "1.2.0",
            "grid_template_areas": null,
            "object_position": null,
            "object_fit": null,
            "grid_auto_columns": null,
            "margin": null,
            "display": null,
            "left": null
          }
        }
      }
    }
  },
  "cells": [
    {
      "cell_type": "markdown",
      "metadata": {
        "id": "view-in-github",
        "colab_type": "text"
      },
      "source": [
        "<a href=\"https://colab.research.google.com/github/darsnack/NMA-Tutorials/blob/main/tutorials/W2D3_BiologicalNeuronModels/student/W2D3_Tutorial1.ipynb\" target=\"_parent\"><img src=\"https://colab.research.google.com/assets/colab-badge.svg\" alt=\"Open In Colab\"/></a>"
      ]
    },
    {
      "cell_type": "markdown",
      "metadata": {
        "execution": {},
        "id": "nPJC3Ad7HNwG"
      },
      "source": [
        "# Tutorial 1: The Leaky Integrate-and-Fire (LIF) Neuron Model\n",
        "**Week 2, Day 3: Biological Neuron Models**\n",
        "\n",
        "**By Neuromatch Academy**\n",
        "\n",
        "__Content creators:__ Qinglong Gu, Songtin Li, John Murray, Richard Naud, Arvind Kumar\n",
        "\n",
        "__Content reviewers:__  Maryam Vaziri-Pashkam, Ella Batty, Lorenzo Fontolan, Richard Gao, Matthew Krause, Spiros Chavlis, Michael Waskom, Ethan Cheng"
      ]
    },
    {
      "cell_type": "markdown",
      "metadata": {
        "execution": {},
        "id": "-_-gLGF0HNwK"
      },
      "source": [
        "**Our 2021 Sponsors, including Presenting Sponsor Facebook Reality Labs**\n",
        "\n",
        "<p align='center'><img src='https://github.com/NeuromatchAcademy/widgets/blob/master/sponsors.png?raw=True'/></p>"
      ]
    },
    {
      "cell_type": "markdown",
      "metadata": {
        "execution": {},
        "id": "KAtCgoNfHNwL"
      },
      "source": [
        "---\n",
        "# Tutorial Objectives\n",
        "\n",
        "*Estimated timing of tutorial: 1 hour, 10 min*\n",
        "\n",
        "This is Tutorial 1 of a series on implementing realistic neuron models. In this tutorial, we will build up a leaky integrate-and-fire (LIF) neuron model and study its dynamics in response to various types of inputs. In particular, we are going to write a few lines of code to:  \n",
        "\n",
        "- simulate the LIF neuron model\n",
        "\n",
        "- drive the LIF neuron with external inputs, such as direct currents, Gaussian white noise, and Poisson spike trains, etc.\n",
        "\n",
        "- study how different inputs affect the  LIF neuron's output (firing rate and spike time irregularity)\n",
        "\n",
        "Here, we will especially emphasize identifying conditions (input statistics) under which a neuron can spike at low firing rates and in an irregular manner. The reason for focusing on this is that in most cases, neocortical neurons spike in an irregular manner."
      ]
    },
    {
      "cell_type": "code",
      "metadata": {
        "cellView": "form",
        "execution": {},
        "id": "4eMu0tHeHNwM"
      },
      "source": [
        "# @title Tutorial slides\n",
        "\n",
        "# @markdown These are the slides for the videos in all tutorials today\n",
        "from IPython.display import IFrame\n",
        "IFrame(src=f\"https://mfr.ca-1.osf.io/render?url=https://osf.io/8djsm/?direct%26mode=render%26action=download%26mode=render\", width=854, height=480)"
      ],
      "execution_count": null,
      "outputs": []
    },
    {
      "cell_type": "markdown",
      "metadata": {
        "execution": {},
        "id": "HT4sB1tbHNwO"
      },
      "source": [
        "---\n",
        "# Setup"
      ]
    },
    {
      "cell_type": "code",
      "metadata": {
        "cellView": "both",
        "execution": {},
        "id": "IGXWq7hdHNwP"
      },
      "source": [
        "# Imports\n",
        "\n",
        "import numpy as np\n",
        "import matplotlib.pyplot as plt"
      ],
      "execution_count": 1,
      "outputs": []
    },
    {
      "cell_type": "code",
      "metadata": {
        "cellView": "form",
        "execution": {},
        "id": "94XDW1smHNwQ"
      },
      "source": [
        "# @title Figure Settings\n",
        "import ipywidgets as widgets  # interactive display\n",
        "%config InlineBackend.figure_format = 'retina'\n",
        "# use NMA plot style\n",
        "plt.style.use(\"https://raw.githubusercontent.com/NeuromatchAcademy/course-content/master/nma.mplstyle\")\n",
        "my_layout = widgets.Layout()"
      ],
      "execution_count": 2,
      "outputs": []
    },
    {
      "cell_type": "code",
      "metadata": {
        "cellView": "form",
        "execution": {},
        "id": "KcU5p0F9HNwR"
      },
      "source": [
        "# @title Plotting Functions\n",
        "\n",
        "def plot_volt_trace(pars, v, sp):\n",
        "  \"\"\"\n",
        "  Plot trajetory of membrane potential for a single neuron\n",
        "\n",
        "  Expects:\n",
        "  pars   : parameter dictionary\n",
        "  v      : volt trajetory\n",
        "  sp     : spike train\n",
        "\n",
        "  Returns:\n",
        "  figure of the membrane potential trajetory for a single neuron\n",
        "  \"\"\"\n",
        "\n",
        "  V_th = pars['V_th']\n",
        "  dt, range_t = pars['dt'], pars['range_t']\n",
        "  if sp.size:\n",
        "    sp_num = (sp / dt).astype(int) - 1\n",
        "    v[sp_num] += 20  # draw nicer spikes\n",
        "\n",
        "  plt.plot(pars['range_t'], v, 'b')\n",
        "  plt.axhline(V_th, 0, 1, color='k', ls='--')\n",
        "  plt.xlabel('Time (ms)')\n",
        "  plt.ylabel('V (mV)')\n",
        "  plt.legend(['Membrane\\npotential', r'Threshold V$_{\\mathrm{th}}$'],\n",
        "             loc=[1.05, 0.75])\n",
        "  plt.ylim([-80, -40])\n",
        "\n",
        "\n",
        "def plot_GWN(pars, I_GWN):\n",
        "  \"\"\"\n",
        "  Args:\n",
        "    pars  : parameter dictionary\n",
        "    I_GWN : Gaussian white noise input\n",
        "\n",
        "  Returns:\n",
        "    figure of the gaussian white noise input\n",
        "  \"\"\"\n",
        "\n",
        "  plt.figure(figsize=(12, 4))\n",
        "  plt.subplot(121)\n",
        "  plt.plot(pars['range_t'][::3], I_GWN[::3], 'b')\n",
        "  plt.xlabel('Time (ms)')\n",
        "  plt.ylabel(r'$I_{GWN}$ (pA)')\n",
        "  plt.subplot(122)\n",
        "  plot_volt_trace(pars, v, sp)\n",
        "  plt.tight_layout()\n",
        "\n",
        "\n",
        "def my_hists(isi1, isi2, cv1, cv2, sigma1, sigma2):\n",
        "  \"\"\"\n",
        "  Args:\n",
        "    isi1 : vector with inter-spike intervals\n",
        "    isi2 : vector with inter-spike intervals\n",
        "    cv1  : coefficient of variation for isi1\n",
        "    cv2  : coefficient of variation for isi2\n",
        "\n",
        "  Returns:\n",
        "    figure with two histograms, isi1, isi2\n",
        "\n",
        "  \"\"\"\n",
        "  plt.figure(figsize=(11, 4))\n",
        "  my_bins = np.linspace(10, 30, 20)\n",
        "  plt.subplot(121)\n",
        "  plt.hist(isi1, bins=my_bins, color='b', alpha=0.5)\n",
        "  plt.xlabel('ISI (ms)')\n",
        "  plt.ylabel('count')\n",
        "  plt.title(r'$\\sigma_{GWN}=$%.1f, CV$_{\\mathrm{isi}}$=%.3f' % (sigma1, cv1))\n",
        "\n",
        "  plt.subplot(122)\n",
        "  plt.hist(isi2, bins=my_bins, color='b', alpha=0.5)\n",
        "  plt.xlabel('ISI (ms)')\n",
        "  plt.ylabel('count')\n",
        "  plt.title(r'$\\sigma_{GWN}=$%.1f, CV$_{\\mathrm{isi}}$=%.3f' % (sigma2, cv2))\n",
        "  plt.tight_layout()\n",
        "  plt.show()"
      ],
      "execution_count": 3,
      "outputs": []
    },
    {
      "cell_type": "markdown",
      "metadata": {
        "execution": {},
        "id": "Vs5lIx_cHNwS"
      },
      "source": [
        "---\n",
        "# Section 1: The Leaky Integrate-and-Fire (LIF) model"
      ]
    },
    {
      "cell_type": "code",
      "metadata": {
        "cellView": "form",
        "execution": {},
        "id": "WdUWtWiNHNwT",
        "outputId": "bd29054a-2d1b-4489-b250-2ee269b1d78c",
        "colab": {
          "base_uri": "https://localhost:8080/",
          "height": 580,
          "referenced_widgets": [
            "2b9e3db694d84a8dab6371c0763ef619",
            "fb2b1368dc514cb4a505b778830dc8af",
            "376587220ad64cbaba739c4ad233114f",
            "bff90c7d78ad470ca25d22267116829c",
            "7558bd01ba4b4185bbb8422e0939ecd3",
            "b42a741160d5405396c297b6c47f0e53"
          ]
        }
      },
      "source": [
        "# @title Video 1: Reduced Neuron Models\n",
        "from ipywidgets import widgets\n",
        "\n",
        "out2 = widgets.Output()\n",
        "with out2:\n",
        "  from IPython.display import IFrame\n",
        "  class BiliVideo(IFrame):\n",
        "      def __init__(self, id, page=1, width=400, height=300, **kwargs):\n",
        "          self.id=id\n",
        "          src = 'https://player.bilibili.com/player.html?bvid={0}&page={1}'.format(id, page)\n",
        "          super(BiliVideo, self).__init__(src, width, height, **kwargs)\n",
        "\n",
        "  video = BiliVideo(id=\"av456396195\", width=854, height=480, fs=1)\n",
        "  print('Video available at https://www.bilibili.com/video/{0}'.format(video.id))\n",
        "  display(video)\n",
        "\n",
        "out1 = widgets.Output()\n",
        "with out1:\n",
        "  from IPython.display import YouTubeVideo\n",
        "  video = YouTubeVideo(id=\"rSExvwCVRYg\", width=854, height=480, fs=1, rel=0)\n",
        "  print('Video available at https://youtube.com/watch?v=' + video.id)\n",
        "  display(video)\n",
        "\n",
        "out = widgets.Tab([out1, out2])\n",
        "out.set_title(0, 'Youtube')\n",
        "out.set_title(1, 'Bilibili')\n",
        "\n",
        "display(out)"
      ],
      "execution_count": 4,
      "outputs": [
        {
          "output_type": "display_data",
          "data": {
            "application/vnd.jupyter.widget-view+json": {
              "model_id": "2b9e3db694d84a8dab6371c0763ef619",
              "version_minor": 0,
              "version_major": 2
            },
            "text/plain": [
              "Tab(children=(Output(), Output()), _titles={'0': 'Youtube', '1': 'Bilibili'})"
            ]
          },
          "metadata": {
            "tags": []
          }
        }
      ]
    },
    {
      "cell_type": "markdown",
      "metadata": {
        "execution": {},
        "id": "gd6MgbmcHNwV"
      },
      "source": [
        "This video introduces the reduction of a biological neuron to a simple leaky-integrate-fire (LIF) neuron model.\n",
        "\n",
        "<details>\n",
        "<summary> <font color='blue'>Click here for text recap of video </font></summary>\n",
        "\n",
        "Now, it's your turn to implement one of the simplest mathematical model of a neuron: the leaky integrate-and-fire (LIF) model. The basic idea of LIF neuron was proposed in 1907 by Louis Édouard Lapicque, long before we understood the electrophysiology of a neuron (see a translation of [Lapicque's paper](https://pubmed.ncbi.nlm.nih.gov/17968583/) ). More details of the model can be found in the book [**Theoretical neuroscience**](http://www.gatsby.ucl.ac.uk/~dayan/book/) by Peter Dayan and Laurence F. Abbott.\n",
        "\n",
        "The subthreshold membrane potential dynamics of a LIF neuron is described by\n",
        "\n",
        "\\begin{eqnarray}\n",
        "C_m\\frac{dV}{dt} = -g_L(V-E_L) + I,\\quad (1)\n",
        "\\end{eqnarray}\n",
        "\n",
        "where $C_m$ is the membrane capacitance, $V$ is the membrane potential, $g_L$ is the leak conductance ($g_L = 1/R$, the inverse of the leak resistance $R$ mentioned in previous tutorials), $E_L$ is the resting potential, and $I$ is the external input current. \n",
        "\n",
        "Dividing both sides of the above equation by $g_L$ gives\n",
        "\n",
        "\\begin{align}\n",
        "\\tau_m\\frac{dV}{dt} = -(V-E_L) + \\frac{I}{g_L}\\,,\\quad (2)\n",
        "\\end{align}\n",
        "\n",
        "where the $\\tau_m$ is membrane time constant and is defined as $\\tau_m=C_m/g_L$. \n",
        "\n",
        "Note that dividing capacitance by conductance gives units of time! \n",
        "\n",
        "Below, we will use Eqn.(2) to simulate LIF neuron dynamics. \n",
        "\n",
        "If $I$ is sufficiently strong such that $V$ reaches a certain threshold value $V_{\\rm th}$, $V$ is reset to a reset potential $V_{\\rm reset}< V_{\\rm th}$, and voltage is clamped to $V_{\\rm reset}$ for $\\tau_{\\rm ref}$ ms, mimicking the refractoriness of the neuron during an action potential:\n",
        "\n",
        "\\begin{eqnarray}\n",
        "\\mathrm{if}\\quad V(t_{\\text{sp}})\\geq V_{\\rm th}&:& V(t)=V_{\\rm reset} \\text{  for } t\\in(t_{\\text{sp}}, t_{\\text{sp}} + \\tau_{\\text{ref}}]\n",
        "\\end{eqnarray}\n",
        "where $t_{\\rm sp}$ is the spike time when $V(t)$ just exceeded $V_{\\rm th}$.\n",
        "\n",
        "(__Note__: in the lecture slides, $\\theta$ corresponds to the threshold voltage $V_{th}$, and $\\Delta$ corresponds to the refractory time $\\tau_{\\rm ref}$.)\n",
        "\n",
        "</details>\n",
        "\n",
        "Note that you have seen the LIF model before if you looked at the pre-reqs Python or Calculus days!\n",
        "\n",
        "The LIF model captures the facts that a neuron:\n",
        "- performs spatial and temporal integration of synaptic inputs \n",
        "- generates a spike when the voltage reaches a certain threshold\n",
        "- goes refractory during the action potential\n",
        "- has a leaky membrane \n",
        "\n",
        "The LIF model assumes that the spatial and temporal integration of inputs is linear. Also, membrane potential dynamics close to the spike threshold are much slower in LIF neurons than in real neurons. \n"
      ]
    },
    {
      "cell_type": "markdown",
      "metadata": {
        "execution": {},
        "id": "DxjTZH7_HNwW"
      },
      "source": [
        "## Coding Exercise 1: Python code to simulate the LIF neuron\n",
        "\n",
        "We now write Python code to calculate our equation for the LIF neuron and simulate the LIF neuron dynamics. We will use the Euler method, which you saw in the linear systems case yesterday  to numerically integrate this equation:\n",
        "\n",
        "\\begin{align*}\n",
        "\\tau_m\\frac{dV}{dt} = -(V-E_L) + \\frac{I}{g_L}\\,\n",
        "\\end{align*}\n",
        "\n",
        "where $V$ is the membrane potential, $g_L$ is the leak conductance, $E_L$ is the resting potential, $I$ is the external input current, and $\\tau_m$ is membrane time constant.\n",
        "\n",
        "The cell below initializes a dictionary that stores parameters of the LIF neuron model and the simulation scheme. You can use `pars=default_pars(T=simulation_time, dt=time_step)` to get the parameters. Note that, `simulation_time` and `time_step` have the unit `ms`. In addition, you can add the value to a new parameter by `pars['New_param'] = value`."
      ]
    },
    {
      "cell_type": "code",
      "metadata": {
        "cellView": "form",
        "execution": {},
        "id": "2CQBTBlfHNwW",
        "outputId": "512c28d4-c711-478e-a0e2-2236b3c0b2ee",
        "colab": {
          "base_uri": "https://localhost:8080/"
        }
      },
      "source": [
        "# @markdown Execute this code to initialize the default parameters\n",
        "\n",
        "\n",
        "def default_pars(**kwargs):\n",
        "  pars = {}\n",
        "\n",
        "  # typical neuron parameters#\n",
        "  pars['V_th'] = -55.     # spike threshold [mV]\n",
        "  pars['V_reset'] = -75.  # reset potential [mV]\n",
        "  pars['tau_m'] = 10.     # membrane time constant [ms]\n",
        "  pars['g_L'] = 10.       # leak conductance [nS]\n",
        "  pars['V_init'] = -75.   # initial potential [mV]\n",
        "  pars['E_L'] = -75.      # leak reversal potential [mV]\n",
        "  pars['tref'] = 2.       # refractory time (ms)\n",
        "\n",
        "  # simulation parameters #\n",
        "  pars['T'] = 400.  # Total duration of simulation [ms]\n",
        "  pars['dt'] = .1   # Simulation time step [ms]\n",
        "\n",
        "  # external parameters if any #\n",
        "  for k in kwargs:\n",
        "    pars[k] = kwargs[k]\n",
        "\n",
        "  pars['range_t'] = np.arange(0, pars['T'], pars['dt'])  # Vector of discretized time points [ms]\n",
        "\n",
        "  return pars\n",
        "\n",
        "\n",
        "pars = default_pars()\n",
        "print(pars)"
      ],
      "execution_count": 6,
      "outputs": [
        {
          "output_type": "stream",
          "text": [
            "{'V_th': -55.0, 'V_reset': -75.0, 'tau_m': 10.0, 'g_L': 10.0, 'V_init': -75.0, 'E_L': -75.0, 'tref': 2.0, 'T': 400.0, 'dt': 0.1, 'range_t': array([0.000e+00, 1.000e-01, 2.000e-01, ..., 3.997e+02, 3.998e+02,\n",
            "       3.999e+02])}\n"
          ],
          "name": "stdout"
        }
      ]
    },
    {
      "cell_type": "markdown",
      "metadata": {
        "execution": {},
        "id": "4av1rYYrHNwX"
      },
      "source": [
        "Complete the function below to simulate the LIF neuron when receiving external current inputs. You can use `v, sp = run_LIF(pars, Iinj)` to get the membrane potential (`v`) and spike train (`sp`) given the dictionary `pars` and input current `Iinj`. "
      ]
    },
    {
      "cell_type": "code",
      "metadata": {
        "cellView": "both",
        "execution": {},
        "id": "4AMkmirIHNwY",
        "outputId": "29fbfbb1-1d5f-4dd3-cd3e-b3a0e903c9eb",
        "colab": {
          "base_uri": "https://localhost:8080/",
          "height": 431
        }
      },
      "source": [
        "def run_LIF(pars, Iinj, stop=False):\n",
        "  \"\"\"\n",
        "  Simulate the LIF dynamics with external input current\n",
        "\n",
        "  Args:\n",
        "    pars       : parameter dictionary\n",
        "    Iinj       : input current [pA]. The injected current here can be a value\n",
        "                 or an array\n",
        "    stop       : boolean. If True, use a current pulse\n",
        "\n",
        "  Returns:\n",
        "    rec_v      : membrane potential\n",
        "    rec_sp     : spike times\n",
        "  \"\"\"\n",
        "\n",
        "  # Set parameters\n",
        "  V_th, V_reset = pars['V_th'], pars['V_reset']\n",
        "  tau_m, g_L = pars['tau_m'], pars['g_L']\n",
        "  V_init, E_L = pars['V_init'], pars['E_L']\n",
        "  dt, range_t = pars['dt'], pars['range_t']\n",
        "  Lt = range_t.size\n",
        "  tref = pars['tref']\n",
        "\n",
        "  # Initialize voltage\n",
        "  v = np.zeros(Lt)\n",
        "  v[0] = V_init\n",
        "\n",
        "  # Set current time course\n",
        "  Iinj = Iinj * np.ones(Lt)\n",
        "\n",
        "  # If current pulse, set beginning and end to 0\n",
        "  if stop:\n",
        "    Iinj[:int(len(Iinj) / 2) - 1000] = 0\n",
        "    Iinj[int(len(Iinj) / 2) + 1000:] = 0\n",
        "\n",
        "  # Loop over time\n",
        "  rec_spikes = []  # record spike times\n",
        "  tr = 0.  # the count for refractory duration\n",
        "\n",
        "  for it in range(Lt - 1):\n",
        "\n",
        "    if tr > 0:  # check if in refractory period\n",
        "      v[it] = V_reset  # set voltage to reset\n",
        "      tr = tr - 1 # reduce running counter of refractory period\n",
        "\n",
        "    elif v[it] >= V_th:  # if voltage over threshold\n",
        "      rec_spikes.append(it)  # record spike event\n",
        "      v[it] = V_reset  # reset voltage\n",
        "      tr = tref / dt  # set refractory time\n",
        "\n",
        "    ########################################################################\n",
        "    ## TODO for students: compute the membrane potential v, spike train sp #\n",
        "    # Fill out function and remove\n",
        "    # raise NotImplementedError('Student Exercise: calculate the dv/dt and the update step!')\n",
        "    ########################################################################\n",
        "\n",
        "    # Calculate the increment of the membrane potential\n",
        "    dv = (-(v[it] - E_L) + Iinj[it] / g_L) / tau_m\n",
        "\n",
        "    # Update the membrane potential\n",
        "    v[it + 1] = v[it] + dv * dt\n",
        "\n",
        "  # Get spike times in ms\n",
        "  rec_spikes = np.array(rec_spikes) * dt\n",
        "\n",
        "  return v, rec_spikes\n",
        "\n",
        "\n",
        "# Get parameters\n",
        "pars = default_pars(T=500)\n",
        "# pars['tau_m'] = 50.0\n",
        "\n",
        "# Simulate LIF model\n",
        "v, sp = run_LIF(pars, Iinj=100, stop=True)\n",
        "\n",
        "# Visualize\n",
        "plot_volt_trace(pars, v, sp)"
      ],
      "execution_count": 20,
      "outputs": [
        {
          "output_type": "display_data",
          "data": {
            "image/png": "[encoded data removed]",
            "text/plain": [
              "<Figure size 576x432 with 1 Axes>"
            ]
          },
          "metadata": {
            "tags": [],
            "image/png": {
              "width": 558,
              "height": 414
            },
            "needs_background": "light"
          }
        }
      ]
    },
    {
      "cell_type": "markdown",
      "metadata": {
        "execution": {},
        "id": "oCCsW4YAHNwa"
      },
      "source": [
        "[*Click for solution*](https://github.com/NeuromatchAcademy/course-content/tree/master//tutorials/W2D3_BiologicalNeuronModels/solutions/W2D3_Tutorial1_Solution_60a1e954.py)\n",
        "\n",
        "*Example output:*\n",
        "\n",
        "<img alt='Solution hint' align='left' width=1106.0 height=828.0 src=https://raw.githubusercontent.com/NeuromatchAcademy/course-content/master/tutorials/W2D3_BiologicalNeuronModels/static/W2D3_Tutorial1_Solution_60a1e954_0.png>\n",
        "\n"
      ]
    },
    {
      "cell_type": "markdown",
      "metadata": {
        "execution": {},
        "id": "ySFl5RD_HNwc"
      },
      "source": [
        "---\n",
        "# Section 2: Response of an LIF model to different types of input currents\n",
        "\n",
        "*Estimated timing to here from start of tutorial: 20 min*\n",
        "\n",
        "In the following section, we will learn how to inject direct current and white noise to study the response of an LIF neuron."
      ]
    },
    {
      "cell_type": "code",
      "metadata": {
        "cellView": "form",
        "execution": {},
        "id": "nmg18S4YHNwd",
        "outputId": "8c1947b5-395a-4188-a931-15e2e9c86e22",
        "colab": {
          "base_uri": "https://localhost:8080/",
          "height": 580,
          "referenced_widgets": [
            "031737be5482478ea77eb8a1747c2c80",
            "72e48494600845d5a82e77a29c12738f",
            "a5d31ad2d99a469ca37f3af5462fcbb6",
            "8de2f9e58e984d4794922193bea7fb50",
            "8321307b592e467e92164a741382918d",
            "084844a1fda242419321a4adc8ac6e62"
          ]
        }
      },
      "source": [
        "# @title Video 2: Response of the LIF neuron to different inputs\n",
        "from ipywidgets import widgets\n",
        "\n",
        "out2 = widgets.Output()\n",
        "with out2:\n",
        "  from IPython.display import IFrame\n",
        "  class BiliVideo(IFrame):\n",
        "      def __init__(self, id, page=1, width=400, height=300, **kwargs):\n",
        "          self.id=id\n",
        "          src = 'https://player.bilibili.com/player.html?bvid={0}&page={1}'.format(id, page)\n",
        "          super(BiliVideo, self).__init__(src, width, height, **kwargs)\n",
        "\n",
        "  video = BiliVideo(id=\"av541417171\", width=854, height=480, fs=1)\n",
        "  print('Video available at https://www.bilibili.com/video/{0}'.format(video.id))\n",
        "  display(video)\n",
        "\n",
        "out1 = widgets.Output()\n",
        "with out1:\n",
        "  from IPython.display import YouTubeVideo\n",
        "  video = YouTubeVideo(id=\"preNGdab7Kk\", width=854, height=480, fs=1, rel=0)\n",
        "  print('Video available at https://youtube.com/watch?v=' + video.id)\n",
        "  display(video)\n",
        "\n",
        "out = widgets.Tab([out1, out2])\n",
        "out.set_title(0, 'Youtube')\n",
        "out.set_title(1, 'Bilibili')\n",
        "\n",
        "display(out)"
      ],
      "execution_count": 15,
      "outputs": [
        {
          "output_type": "display_data",
          "data": {
            "application/vnd.jupyter.widget-view+json": {
              "model_id": "031737be5482478ea77eb8a1747c2c80",
              "version_minor": 0,
              "version_major": 2
            },
            "text/plain": [
              "Tab(children=(Output(), Output()), _titles={'0': 'Youtube', '1': 'Bilibili'})"
            ]
          },
          "metadata": {
            "tags": []
          }
        }
      ]
    },
    {
      "cell_type": "markdown",
      "metadata": {
        "execution": {},
        "id": "916VQsqrHNwd"
      },
      "source": [
        "## Section 2.1: Direct current (DC)\n",
        "\n",
        "*Estimated timing to here from start of tutorial: 30 min*\n"
      ]
    },
    {
      "cell_type": "markdown",
      "metadata": {
        "execution": {},
        "id": "KBFriFkQHNwe"
      },
      "source": [
        "### Interactive Demo 2.1: Parameter exploration of DC input amplitude \n",
        "Here's an interactive demo that shows how the LIF neuron behavior changes for DC input (constant current) with different amplitudes. We plot the membrane potential of an LIF neuron. You may notice that the neuron generates a spike. But this is just a cosmetic spike only for illustration purposes. In an LIF neuron, we only need to keep track of times when the neuron hit the threshold so the postsynaptic neurons can be informed of the spike. \n",
        "\n",
        "How much DC is needed to reach the threshold (rheobase current)? How does the membrane time constant affect the frequency of the neuron?"
      ]
    },
    {
      "cell_type": "code",
      "metadata": {
        "cellView": "form",
        "execution": {},
        "id": "1BdxUHoYHNwe",
        "outputId": "80a3e665-f52c-4bc7-9058-c009796b3d10",
        "colab": {
          "base_uri": "https://localhost:8080/",
          "height": 495,
          "referenced_widgets": [
            "e2b60a426d0e496d8929832830a1455d",
            "1ba77492835747b88c4633a735c0773d",
            "7dff3f3740ea49d9a413e5e9f097ab89",
            "351ecd5b1b38428a86fe912c636c36d7",
            "3f20894a97ba4b459c96cdd5185941ad",
            "336f9053597e499ab27978be027ed6a2",
            "80968f57f2504fc8b93ea6d7f01aa7fb",
            "e877247255bf49358eb8cd8a03491b98",
            "96dc0b29d03a44ae953a0e73a4eda310"
          ]
        }
      },
      "source": [
        "# @title\n",
        "# @markdown Make sure you execute this cell to enable the widget!\n",
        "my_layout.width = '450px'\n",
        "@widgets.interact(\n",
        "    I_dc=widgets.FloatSlider(50., min=0., max=300., step=10.,\n",
        "                               layout=my_layout),\n",
        "    tau_m=widgets.FloatSlider(10., min=2., max=20., step=2.,\n",
        "                                layout=my_layout)\n",
        ")\n",
        "\n",
        "def diff_DC(I_dc=200., tau_m=10.):\n",
        "  pars = default_pars(T=100.)\n",
        "  pars['tau_m'] = tau_m\n",
        "  v, sp = run_LIF(pars, Iinj=I_dc)\n",
        "  plot_volt_trace(pars, v, sp)\n",
        "  plt.show()"
      ],
      "execution_count": 21,
      "outputs": [
        {
          "output_type": "display_data",
          "data": {
            "application/vnd.jupyter.widget-view+json": {
              "model_id": "e2b60a426d0e496d8929832830a1455d",
              "version_minor": 0,
              "version_major": 2
            },
            "text/plain": [
              "interactive(children=(FloatSlider(value=50.0, description='I_dc', layout=Layout(width='450px'), max=300.0, ste…"
            ]
          },
          "metadata": {
            "tags": []
          }
        }
      ]
    },
    {
      "cell_type": "markdown",
      "metadata": {
        "execution": {},
        "id": "MfA9glF9HNwf"
      },
      "source": [
        "[*Click for solution*](https://github.com/NeuromatchAcademy/course-content/tree/master//tutorials/W2D3_BiologicalNeuronModels/solutions/W2D3_Tutorial1_Solution_1058324c.py)\n",
        "\n"
      ]
    },
    {
      "cell_type": "markdown",
      "metadata": {
        "execution": {},
        "id": "vVMD1M41HNwh"
      },
      "source": [
        "## Section 2.2: Gaussian white noise (GWN) current \n",
        "\n",
        "*Estimated timing to here from start of tutorial: 38 min*\n",
        "\n",
        "Given the noisy nature of neuronal activity _in vivo_, neurons usually receive complex, time-varying inputs.\n",
        "\n",
        "To mimic this, we will now investigate the neuronal response when the LIF neuron receives Gaussian white noise $\\xi(t)$ with mean 0 ($\\mu = 0$) and some standard deviation $\\sigma$.\n",
        "\n",
        "Note that the GWN has zero mean, that is, it describes only the fluctuations of the input received by a neuron. We can thus modify our definition of GWN to have a nonzero mean value $\\mu$ that equals the DC input, since this is the average input into the cell. The cell below defines the modified gaussian white noise currents with nonzero mean $\\mu$."
      ]
    },
    {
      "cell_type": "markdown",
      "metadata": {
        "execution": {},
        "id": "rfGT5YjkHNwi"
      },
      "source": [
        "### Interactive Demo 2.2: LIF neuron Explorer for noisy input\n",
        "\n",
        "\n",
        "The mean of the Gaussian white noise (GWN) is the amplitude of DC. Indeed, when $\\sigma = 0$, GWN is just a DC.\n",
        "\n",
        "So the question arises how does $\\sigma$ of the GWN affect the spiking behavior of the neuron. For instance we may want to know\n",
        "1.  how does the minimum input (i.e. $\\mu$) needed to make a neuron spike change with increase in $\\sigma$\n",
        "2.  how does the spike regularity change with increase in $\\sigma$\n",
        "\n",
        "To get an intuition about these questions you can use the following interactive demo that shows how the LIF neuron behavior changes for noisy input with different amplitudes (the mean $\\mu$) and fluctuation sizes ($\\sigma$). We use a helper function to generate this noisy input current: `my_GWN(pars, mu, sig, myseed=False)`.  Note that fixing the value of the random seed (e.g., `myseed=2020`) will allow you to obtain the same result every time you run this. We then use our `run_LIF` function to simulate the LIF model.\n"
      ]
    },
    {
      "cell_type": "code",
      "metadata": {
        "cellView": "form",
        "execution": {},
        "id": "5b6XpuLMHNwi",
        "outputId": "b3330b92-c779-4ad7-c55e-3be5b5a7dd45",
        "colab": {
          "base_uri": "https://localhost:8080/"
        }
      },
      "source": [
        "# @markdown Execute to enable helper function `my_GWN`\n",
        "\n",
        "def my_GWN(pars, mu, sig, myseed=False):\n",
        "  \"\"\"\n",
        "  Function that generates Gaussian white noise input\n",
        "\n",
        "  Args:\n",
        "    pars       : parameter dictionary\n",
        "    mu         : noise baseline (mean)\n",
        "    sig        : noise amplitute (standard deviation)\n",
        "    myseed     : random seed. int or boolean\n",
        "                 the same seed will give the same\n",
        "                 random number sequence\n",
        "\n",
        "  Returns:\n",
        "    I          : Gaussian white noise input\n",
        "  \"\"\"\n",
        "\n",
        "  # Retrieve simulation parameters\n",
        "  dt, range_t = pars['dt'], pars['range_t']\n",
        "  Lt = range_t.size\n",
        "\n",
        "  # Set random seed\n",
        "  if myseed:\n",
        "      np.random.seed(seed=myseed)\n",
        "  else:\n",
        "      np.random.seed()\n",
        "\n",
        "  # Generate GWN\n",
        "  # we divide here by 1000 to convert units to sec.\n",
        "  I_gwn = mu + sig * np.random.randn(Lt) / np.sqrt(dt / 1000.)\n",
        "\n",
        "  return I_gwn\n",
        "\n",
        "help(my_GWN)"
      ],
      "execution_count": 22,
      "outputs": [
        {
          "output_type": "stream",
          "text": [
            "Help on function my_GWN in module __main__:\n",
            "\n",
            "my_GWN(pars, mu, sig, myseed=False)\n",
            "    Function that generates Gaussian white noise input\n",
            "    \n",
            "    Args:\n",
            "      pars       : parameter dictionary\n",
            "      mu         : noise baseline (mean)\n",
            "      sig        : noise amplitute (standard deviation)\n",
            "      myseed     : random seed. int or boolean\n",
            "                   the same seed will give the same\n",
            "                   random number sequence\n",
            "    \n",
            "    Returns:\n",
            "      I          : Gaussian white noise input\n",
            "\n"
          ],
          "name": "stdout"
        }
      ]
    },
    {
      "cell_type": "code",
      "metadata": {
        "cellView": "form",
        "execution": {},
        "id": "deKpOMrlHNwj",
        "outputId": "957dbd47-4e1a-4de6-d276-63fba8e7444c",
        "colab": {
          "base_uri": "https://localhost:8080/",
          "height": 351,
          "referenced_widgets": [
            "32fdfc10acc74f4ab1e3818880d2f71a",
            "fca4e91dfb064866a294d3c2d82a3725",
            "09c5c959e1a841d983c188ddace2e028",
            "608d199718d445f8b217f8ea40c69f30",
            "1a6dd59eb82e4df7bb192d52039492dc",
            "217ac8ce29d34bec9fc6f3bfc08ee791",
            "80968f57f2504fc8b93ea6d7f01aa7fb",
            "13abe086e77b4afd81ec3e1ed707dbc3",
            "1af419c176bb4703ae39c422768f0ce2"
          ]
        }
      },
      "source": [
        "# @title\n",
        "\n",
        "# @markdown Make sure you execute this cell to enable the widget!\n",
        "\n",
        "my_layout.width = '450px'\n",
        "@widgets.interact(\n",
        "    mu_gwn=widgets.FloatSlider(200., min=100., max=300., step=5.,\n",
        "                               layout=my_layout),\n",
        "    sig_gwn=widgets.FloatSlider(2.5, min=0., max=5., step=.5,\n",
        "                                layout=my_layout)\n",
        ")\n",
        "\n",
        "\n",
        "def diff_GWN_to_LIF(mu_gwn, sig_gwn):\n",
        "  pars = default_pars(T=100.)\n",
        "  I_GWN = my_GWN(pars, mu=mu_gwn, sig=sig_gwn)\n",
        "  v, sp = run_LIF(pars, Iinj=I_GWN)\n",
        "  plt.figure(figsize=(12, 4))\n",
        "  plt.subplot(121)\n",
        "  plt.plot(pars['range_t'][::3], I_GWN[::3], 'b')\n",
        "  plt.xlabel('Time (ms)')\n",
        "  plt.ylabel(r'$I_{GWN}$ (pA)')\n",
        "  plt.subplot(122)\n",
        "  plot_volt_trace(pars, v, sp)\n",
        "  plt.tight_layout()\n",
        "  plt.show()"
      ],
      "execution_count": 23,
      "outputs": [
        {
          "output_type": "display_data",
          "data": {
            "application/vnd.jupyter.widget-view+json": {
              "model_id": "32fdfc10acc74f4ab1e3818880d2f71a",
              "version_minor": 0,
              "version_major": 2
            },
            "text/plain": [
              "interactive(children=(FloatSlider(value=200.0, description='mu_gwn', layout=Layout(width='450px'), max=300.0, …"
            ]
          },
          "metadata": {
            "tags": []
          }
        }
      ]
    },
    {
      "cell_type": "markdown",
      "metadata": {
        "execution": {},
        "id": "MrAzXVQhHNwm"
      },
      "source": [
        "[*Click for solution*](https://github.com/NeuromatchAcademy/course-content/tree/master//tutorials/W2D3_BiologicalNeuronModels/solutions/W2D3_Tutorial1_Solution_2de5d8a9.py)\n",
        "\n"
      ]
    },
    {
      "cell_type": "markdown",
      "metadata": {
        "execution": {},
        "id": "TLI4GEQ_HNwn"
      },
      "source": [
        "### Think! 2.2: Analyzing GWN Effects on Spiking\n",
        "- As we increase the input average ($\\mu$) or the input fluctuation ($\\sigma$), the spike count changes. How much can we increase the spike count, and what might be the relationship between GWN mean/std or DC value and spike count? \n",
        "\n",
        "- We have seen above that when we inject DC, the neuron spikes in a regular manner (clock like), and this regularity is reduced when GWN is injected. The question is, how irregular can we make the neurons spiking by changing the parameters of the GWN? \n",
        "\n",
        "We will see the answers to these questions in the next section but discuss first!\n"
      ]
    },
    {
      "cell_type": "markdown",
      "metadata": {
        "execution": {},
        "id": "9e1Z2kIdHNwo"
      },
      "source": [
        "---\n",
        "# Section 3: Firing rate and spike time irregularity\n",
        "\n",
        "*Estimated timing to here from start of tutorial: 48 min*\n",
        "\n",
        "When we plot the output firing rate as a function of GWN mean or DC value, it is called the input-output transfer function of the neuron (so simply F-I curve).\n",
        "\n",
        "Spike regularity can be quantified as the **coefficient of variation (CV) of the inter-spike-interval (ISI)**:\n",
        "\\begin{align}\n",
        "\\text{CV}_{\\text{ISI}} = \\frac{std(\\text{ISI})}{mean(\\text{ISI})}\n",
        "\\end{align}\n",
        "\n",
        "A Poisson train is an example of high irregularity, in which $\\textbf{CV}_{\\textbf{ISI}} \\textbf{= 1}$. And for a clocklike (regular) process we have $\\textbf{CV}_{\\textbf{ISI}} \\textbf{= 0}$ because of **std(ISI)=0**."
      ]
    },
    {
      "cell_type": "markdown",
      "metadata": {
        "execution": {},
        "id": "FwIg6ugTHNwp"
      },
      "source": [
        "## Interactive Demo 3A: F-I Explorer for different `sig_gwn`\n",
        "\n",
        "How does the F-I curve of the LIF neuron change as we increase the $\\sigma$ of the GWN? We can already expect that the F-I curve will be stochastic and the results will vary from one trial to another. But will there be any other change compared to the F-I curved measured using DC?\n",
        "\n",
        "Here's an interactive demo that shows how the F-I curve of a LIF neuron changes for different levels of fluctuation $\\sigma$.\n"
      ]
    },
    {
      "cell_type": "code",
      "metadata": {
        "cellView": "form",
        "execution": {},
        "id": "u952LMFrHNwp",
        "outputId": "6a8409ea-e4d1-45a3-8f1f-c90450aa2468",
        "colab": {
          "base_uri": "https://localhost:8080/",
          "height": 463,
          "referenced_widgets": [
            "5b5fbff089ce40bebc7226e774aae68e",
            "e76057d05f3842be80be2fcf362dc496",
            "e24d2dcd2d6640bd91be05f98fb38a21",
            "1adb759c89264807b0724f5cd455e948",
            "3686cd6713f94e3682c444a1f75f7495",
            "80968f57f2504fc8b93ea6d7f01aa7fb",
            "7e941c3c6f43458cbaf16c8ea32dc23c"
          ]
        }
      },
      "source": [
        "# @title\n",
        "\n",
        "# @markdown Make sure you execute this cell to enable the widget!\n",
        "\n",
        "\n",
        "my_layout.width = '450px'\n",
        "@widgets.interact(\n",
        "    sig_gwn=widgets.FloatSlider(3.0, min=0., max=6., step=0.5,\n",
        "                                layout=my_layout)\n",
        ")\n",
        "\n",
        "\n",
        "def diff_std_affect_fI(sig_gwn):\n",
        "  pars = default_pars(T=1000.)\n",
        "  I_mean = np.arange(100., 400., 10.)\n",
        "  spk_count = np.zeros(len(I_mean))\n",
        "  spk_count_dc = np.zeros(len(I_mean))\n",
        "\n",
        "  for idx in range(len(I_mean)):\n",
        "      I_GWN = my_GWN(pars, mu=I_mean[idx], sig=sig_gwn, myseed=2020)\n",
        "      v, rec_spikes = run_LIF(pars, Iinj=I_GWN)\n",
        "      v_dc, rec_sp_dc = run_LIF(pars, Iinj=I_mean[idx])\n",
        "      spk_count[idx] = len(rec_spikes)\n",
        "      spk_count_dc[idx] = len(rec_sp_dc)\n",
        "\n",
        "  # Plot the F-I curve i.e. Output firing rate as a function of input mean.\n",
        "  plt.figure()\n",
        "  plt.plot(I_mean, spk_count, 'k',\n",
        "           label=r'$\\sigma_{\\mathrm{GWN}}=%.2f$' % sig_gwn)\n",
        "  plt.plot(I_mean, spk_count_dc, 'k--', alpha=0.5, lw=4, dashes=(2, 2),\n",
        "           label='DC input')\n",
        "  plt.ylabel('Spike count')\n",
        "  plt.xlabel('Average injected current (pA)')\n",
        "  plt.legend(loc='best')\n",
        "  plt.show()"
      ],
      "execution_count": 24,
      "outputs": [
        {
          "output_type": "display_data",
          "data": {
            "application/vnd.jupyter.widget-view+json": {
              "model_id": "5b5fbff089ce40bebc7226e774aae68e",
              "version_minor": 0,
              "version_major": 2
            },
            "text/plain": [
              "interactive(children=(FloatSlider(value=3.0, description='sig_gwn', layout=Layout(width='450px'), max=6.0, ste…"
            ]
          },
          "metadata": {
            "tags": []
          }
        }
      ]
    },
    {
      "cell_type": "markdown",
      "metadata": {
        "execution": {},
        "id": "uevCGerQHNwq"
      },
      "source": [
        "[*Click for solution*](https://github.com/NeuromatchAcademy/course-content/tree/master//tutorials/W2D3_BiologicalNeuronModels/solutions/W2D3_Tutorial1_Solution_eba2370f.py)\n",
        "\n"
      ]
    },
    {
      "cell_type": "markdown",
      "metadata": {
        "execution": {},
        "id": "UDePVlVrHNwt"
      },
      "source": [
        "## Coding Exercise 3: Compute $CV_{ISI}$ values\n",
        "\n",
        "As shown above, the F-I curve becomes smoother while increasing the amplitude of the fluctuation ($\\sigma$). In addition, the fluctuation can also change the irregularity of the spikes. Let's investigate the effect of $\\mu=250$ with $\\sigma=0.5$ vs $\\sigma=3$. \n",
        "\n",
        "Fill in the code below to compute ISI, then plot the histogram of the ISI and compute the $CV_{ISI}$. Note that, you can use `np.diff` to calculate ISI."
      ]
    },
    {
      "cell_type": "code",
      "metadata": {
        "execution": {},
        "id": "2ohOBHU2HNwx",
        "outputId": "fa19ba6c-b069-4ad7-974a-80b1cd9e6412",
        "colab": {
          "base_uri": "https://localhost:8080/",
          "height": 286
        }
      },
      "source": [
        "def isi_cv_LIF(spike_times):\n",
        "  \"\"\"\n",
        "  Calculates the inter-spike intervals (isi) and\n",
        "  the coefficient of variation (cv) for a given spike_train\n",
        "\n",
        "  Args:\n",
        "    spike_times : (n, ) vector with the spike times (ndarray)\n",
        "\n",
        "  Returns:\n",
        "    isi         : (n-1,) vector with the inter-spike intervals (ms)\n",
        "    cv          : coefficient of variation of isi (float)\n",
        "\n",
        "  \"\"\"\n",
        "  ########################################################################\n",
        "  ## TODO for students: compute the membrane potential v, spike train sp #\n",
        "  # Fill out function and remove\n",
        "  # raise NotImplementedError('Student Exercise: calculate the isi and the cv!')\n",
        "  ########################################################################\n",
        "  if len(spike_times) >= 2:\n",
        "    # Compute isi\n",
        "    isi = np.diff(spike_times)\n",
        "    # Compute cv\n",
        "    cv = np.std(isi) / np.mean(isi)\n",
        "  else:\n",
        "    isi = np.nan\n",
        "    cv = np.nan\n",
        "\n",
        "  return isi, cv\n",
        "\n",
        "\n",
        "# Set parameters\n",
        "pars = default_pars(T=1000.)\n",
        "mu_gwn = 250\n",
        "sig_gwn1 = 0.5\n",
        "sig_gwn2 = 3.0\n",
        "\n",
        "# Run LIF model for sigma = 0.5\n",
        "I_GWN1 = my_GWN(pars, mu=mu_gwn, sig=sig_gwn1, myseed=2020)\n",
        "_, sp1 = run_LIF(pars, Iinj=I_GWN1)\n",
        "\n",
        "# Run LIF model for sigma = 3\n",
        "I_GWN2 = my_GWN(pars, mu=mu_gwn, sig=sig_gwn2, myseed=2020)\n",
        "_, sp2 = run_LIF(pars, Iinj=I_GWN2)\n",
        "\n",
        "# Compute ISIs/CV\n",
        "isi1, cv1 = isi_cv_LIF(sp1)\n",
        "isi2, cv2 = isi_cv_LIF(sp2)\n",
        "\n",
        "# Visualize\n",
        "my_hists(isi1, isi2, cv1, cv2, sig_gwn1, sig_gwn2)"
      ],
      "execution_count": 26,
      "outputs": [
        {
          "output_type": "display_data",
          "data": {
            "image/png": "[encoded data removed]",
            "text/plain": [
              "<Figure size 792x288 with 2 Axes>"
            ]
          },
          "metadata": {
            "tags": [],
            "image/png": {
              "width": 773,
              "height": 269
            },
            "needs_background": "light"
          }
        }
      ]
    },
    {
      "cell_type": "markdown",
      "metadata": {
        "execution": {},
        "id": "PI_0T2ydHNwz"
      },
      "source": [
        "[*Click for solution*](https://github.com/NeuromatchAcademy/course-content/tree/master//tutorials/W2D3_BiologicalNeuronModels/solutions/W2D3_Tutorial1_Solution_27d69c89.py)\n",
        "\n",
        "*Example output:*\n",
        "\n",
        "<img alt='Solution hint' align='left' width=1552.0 height=544.0 src=https://raw.githubusercontent.com/NeuromatchAcademy/course-content/master/tutorials/W2D3_BiologicalNeuronModels/static/W2D3_Tutorial1_Solution_27d69c89_0.png>\n",
        "\n"
      ]
    },
    {
      "cell_type": "markdown",
      "metadata": {
        "execution": {},
        "id": "TpHS6huQHNw0"
      },
      "source": [
        "## Interactive Demo 3B: Spike irregularity explorer for different `sig_gwn`\n",
        "\n",
        "In the above illustration, we see that the CV of inter-spike-interval (ISI) distribution depends on $\\sigma$ of GWN. What about the mean of GWN, should that also affect the CV$_{\\rm ISI}$? If yes, how? Does the efficacy of $\\sigma$ in increasing the CV$_{\\rm ISI}$ depend on $\\mu$?\n",
        "\n",
        "In the following interactive demo, you will examine how different levels of fluctuation $\\sigma$ affect the CVs for different average injected currents ($\\mu$).\n",
        "\n",
        "1. Does the standard deviation of the injected current affect the F-I curve in any qualitative manner?\n",
        "2. Why does increasing the mean of GWN reduce the $CV_{ISI}$?\n",
        "3.  If you plot spike count (or rate) vs. $CV_{ISI}$, should there be a relationship between the two? Try out yourself."
      ]
    },
    {
      "cell_type": "code",
      "metadata": {
        "cellView": "form",
        "execution": {},
        "id": "ed3JbxaIHNw1",
        "outputId": "c7608897-1db3-455f-8c30-ec98ecc59e90",
        "colab": {
          "base_uri": "https://localhost:8080/",
          "height": 462,
          "referenced_widgets": [
            "6bcebe2ec20e4348b335196a97845148",
            "9de8c3a28d724ce19d2e7f104e29fc62",
            "08a87df0dd9b4963b217d5895a02624d",
            "e38b0c4bfd6a42b193fe6e037ff30ce8",
            "4571ba35dbdc41c4be811ea3ec53ebbd",
            "80968f57f2504fc8b93ea6d7f01aa7fb",
            "0c2a4faa1ed04e85ab5a66d1c9036fc8"
          ]
        }
      },
      "source": [
        "#@title\n",
        "\n",
        "#@markdown Make sure you execute this cell to enable the widget!\n",
        "\n",
        "my_layout.width = '450px'\n",
        "@widgets.interact(\n",
        "    sig_gwn=widgets.FloatSlider(0.0, min=0., max=10.,\n",
        "                                step=0.5, layout=my_layout)\n",
        ")\n",
        "\n",
        "\n",
        "def diff_std_affect_fI(sig_gwn):\n",
        "  pars = default_pars(T=1000.)\n",
        "  I_mean = np.arange(100., 400., 20)\n",
        "  spk_count = np.zeros(len(I_mean))\n",
        "  cv_isi = np.empty(len(I_mean))\n",
        "\n",
        "  for idx in range(len(I_mean)):\n",
        "    I_GWN = my_GWN(pars, mu=I_mean[idx], sig=sig_gwn)\n",
        "    v, rec_spikes = run_LIF(pars, Iinj=I_GWN)\n",
        "    spk_count[idx] = len(rec_spikes)\n",
        "    if len(rec_spikes) > 3:\n",
        "      isi = np.diff(rec_spikes)\n",
        "      cv_isi[idx] = np.std(isi) / np.mean(isi)\n",
        "\n",
        "  # Plot the F-I curve i.e. Output firing rate as a function of input mean.\n",
        "  plt.figure()\n",
        "  plt.plot(I_mean[spk_count > 5], cv_isi[spk_count > 5], 'bo', alpha=0.5)\n",
        "  plt.xlabel('Average injected current (pA)')\n",
        "  plt.ylabel(r'Spike irregularity ($\\mathrm{CV}_\\mathrm{ISI}$)')\n",
        "  plt.ylim(-0.1, 1.5)\n",
        "  plt.grid(True)\n",
        "  plt.show()"
      ],
      "execution_count": 27,
      "outputs": [
        {
          "output_type": "display_data",
          "data": {
            "application/vnd.jupyter.widget-view+json": {
              "model_id": "6bcebe2ec20e4348b335196a97845148",
              "version_minor": 0,
              "version_major": 2
            },
            "text/plain": [
              "interactive(children=(FloatSlider(value=0.0, description='sig_gwn', layout=Layout(width='450px'), max=10.0, st…"
            ]
          },
          "metadata": {
            "tags": []
          }
        }
      ]
    },
    {
      "cell_type": "markdown",
      "metadata": {
        "execution": {},
        "id": "BnmVLHyiHNw2"
      },
      "source": [
        "[*Click for solution*](https://github.com/NeuromatchAcademy/course-content/tree/master//tutorials/W2D3_BiologicalNeuronModels/solutions/W2D3_Tutorial1_Solution_c6f1c4a2.py)\n",
        "\n"
      ]
    },
    {
      "cell_type": "markdown",
      "metadata": {
        "execution": {},
        "id": "ssIMbtTeHNw3"
      },
      "source": [
        "---\n",
        "# Summary\n",
        "\n",
        "*Estimated timing of tutorial: 1 hour, 10 min*\n",
        "\n",
        "Congratulations! You've just built a leaky integrate-and-fire (LIF) neuron model from scratch, and studied its dynamics in response to various types of inputs, having:\n",
        "\n",
        "- simulated the LIF neuron model\n",
        "\n",
        "- driven the LIF neuron with external inputs, such as direct current and Gaussian white noise\n",
        "\n",
        "- studied how different inputs affect the  LIF neuron's output (firing rate and spike time irregularity),\n",
        "\n",
        "with a special focus on low rate and irregular firing regime to mimc real cortical neurons. The next tutorial will look at how spiking statistics may be influenced by a neuron's input statistics.\n",
        "\n",
        "If you have extra time, look at the bonus sections below to explore a different type of noise input and learn about extensions to integrate-and-fire models.\n"
      ]
    },
    {
      "cell_type": "markdown",
      "metadata": {
        "execution": {},
        "id": "r3p5HtF2HNw3"
      },
      "source": [
        "---\n",
        "# Bonus"
      ]
    },
    {
      "cell_type": "markdown",
      "metadata": {
        "execution": {},
        "id": "rX230lDiHNw4"
      },
      "source": [
        "---\n",
        "## Bonus Section 1: Orenstein-Uhlenbeck Process\n",
        "\n",
        "When a neuron receives spiking input, the synaptic current is Shot Noise -- which is a kind of colored noise and the spectrum of the noise determined by the synaptic kernel time constant. That is, a neuron is driven by **colored noise** and not GWN.\n",
        "\n",
        "We can model colored noise using the Ohrenstein-Uhlenbeck process - filtered white noise. "
      ]
    },
    {
      "cell_type": "markdown",
      "metadata": {
        "execution": {},
        "id": "A4w2KELyHNw4"
      },
      "source": [
        "We next study if the input current is temporally correlated and is modeled as an Ornstein-Uhlenbeck process $\\eta(t)$, i.e., low-pass filtered GWN with a time constant $\\tau_{\\eta}$: \n",
        "\n",
        "$$\\tau_\\eta \\frac{d}{dt}\\eta(t) = \\mu-\\eta(t) + \\sigma_\\eta\\sqrt{2\\tau_\\eta}\\xi(t).$$\n",
        "\n",
        "**Hint:** An OU process as defined above has\n",
        "\n",
        "$$E[\\eta(t)]=\\mu$$ \n",
        "\n",
        "and autocovariance \n",
        "\n",
        "$$[\\eta(t)\\eta(t+\\tau)]=\\sigma_\\eta^2e^{-|t-\\tau|/\\tau_\\eta},$$\n",
        "\n",
        "which can be used to check your code. "
      ]
    },
    {
      "cell_type": "code",
      "metadata": {
        "cellView": "form",
        "execution": {},
        "id": "Fimr6pw8HNw5"
      },
      "source": [
        "# @markdown Execute this cell to get helper function `my_OU`\n",
        "\n",
        "\n",
        "def my_OU(pars, mu, sig, myseed=False):\n",
        "  \"\"\"\n",
        "  Function that produces Ornstein-Uhlenbeck input\n",
        "\n",
        "  Args:\n",
        "    pars       : parameter dictionary\n",
        "    sig        : noise amplitute\n",
        "    myseed     : random seed. int or boolean\n",
        "\n",
        "  Returns:\n",
        "    I_ou       : Ornstein-Uhlenbeck input current\n",
        "  \"\"\"\n",
        "\n",
        "  # Retrieve simulation parameters\n",
        "  dt, range_t = pars['dt'], pars['range_t']\n",
        "  Lt = range_t.size\n",
        "  tau_ou = pars['tau_ou']  # [ms]\n",
        "\n",
        "  # set random seed\n",
        "  if myseed:\n",
        "    np.random.seed(seed=myseed)\n",
        "  else:\n",
        "    np.random.seed()\n",
        "\n",
        "  # Initialize\n",
        "  noise = np.random.randn(Lt)\n",
        "  I_ou = np.zeros(Lt)\n",
        "  I_ou[0] = noise[0] * sig\n",
        "\n",
        "  # generate OU\n",
        "  for it in range(Lt-1):\n",
        "    I_ou[it+1] = I_ou[it] + (dt / tau_ou) * (mu - I_ou[it]) + np.sqrt(2 * dt / tau_ou) * sig * noise[it + 1]\n",
        "\n",
        "  return I_ou\n",
        "\n",
        "\n",
        "help(my_OU)"
      ],
      "execution_count": null,
      "outputs": []
    },
    {
      "cell_type": "markdown",
      "metadata": {
        "execution": {},
        "id": "E7HAu2zlHNw6"
      },
      "source": [
        "### Bonus Interactive Demo 1: LIF Explorer with OU input\n",
        "In the following, we will check how a neuron responds to a noisy current that follows the statistics of an OU process.\n",
        "\n",
        "-  How does the OU type input change neuron responsiveness? \n",
        "-  What do you think will happen to the spike pattern and rate if you increased or decreased the time constant of the OU process?"
      ]
    },
    {
      "cell_type": "code",
      "metadata": {
        "cellView": "form",
        "execution": {},
        "id": "7HiDDlv8HNw6"
      },
      "source": [
        "# @title\n",
        "\n",
        "# @markdown Remember to enable the widget by running the cell!\n",
        "\n",
        "my_layout.width = '450px'\n",
        "@widgets.interact(\n",
        "  tau_ou=widgets.FloatSlider(10.0, min=5., max=20.,\n",
        "                             step=2.5, layout=my_layout),\n",
        "  sig_ou=widgets.FloatSlider(10.0, min=5., max=40.,\n",
        "                             step=2.5, layout=my_layout),\n",
        "  mu_ou=widgets.FloatSlider(190.0, min=180., max=220.,\n",
        "                            step=2.5, layout=my_layout)\n",
        ")\n",
        "\n",
        "\n",
        "def LIF_with_OU(tau_ou=10., sig_ou=40., mu_ou=200.):\n",
        "  pars = default_pars(T=1000.)\n",
        "  pars['tau_ou'] = tau_ou  # [ms]\n",
        "\n",
        "  I_ou = my_OU(pars, mu_ou, sig_ou)\n",
        "\n",
        "  v, sp = run_LIF(pars, Iinj=I_ou)\n",
        "\n",
        "  plt.figure(figsize=(12, 4))\n",
        "  plt.subplot(121)\n",
        "  plt.plot(pars['range_t'], I_ou, 'b', lw=1.0)\n",
        "  plt.xlabel('Time (ms)')\n",
        "  plt.ylabel(r'$I_{\\mathrm{OU}}$ (pA)')\n",
        "  plt.subplot(122)\n",
        "  plot_volt_trace(pars, v, sp)\n",
        "  plt.tight_layout()\n",
        "  plt.show()"
      ],
      "execution_count": null,
      "outputs": []
    },
    {
      "cell_type": "markdown",
      "metadata": {
        "execution": {},
        "id": "WWsHLa8RHNw7"
      },
      "source": [
        "[*Click for solution*](https://github.com/NeuromatchAcademy/course-content/tree/master//tutorials/W2D3_BiologicalNeuronModels/solutions/W2D3_Tutorial1_Solution_cf5b6a80.py)\n",
        "\n"
      ]
    },
    {
      "cell_type": "markdown",
      "metadata": {
        "execution": {},
        "id": "gzEDecebHNw7"
      },
      "source": [
        "---\n",
        "## Bonus Section 2: Generalized Integrate-and-Fire models\n",
        "\n",
        "LIF model is not the only abstraction of real neurons. If you want to learn about more realistic types of neuronal models, watch the Bonus Video!"
      ]
    },
    {
      "cell_type": "code",
      "metadata": {
        "cellView": "form",
        "execution": {},
        "id": "8lx8pLAfHNw7"
      },
      "source": [
        "# @title Video 3 (Bonus): Extensions to Integrate-and-Fire models\n",
        "from ipywidgets import widgets\n",
        "\n",
        "out2 = widgets.Output()\n",
        "with out2:\n",
        "  from IPython.display import IFrame\n",
        "  class BiliVideo(IFrame):\n",
        "      def __init__(self, id, page=1, width=400, height=300, **kwargs):\n",
        "          self.id=id\n",
        "          src = 'https://player.bilibili.com/player.html?bvid={0}&page={1}'.format(id, page)\n",
        "          super(BiliVideo, self).__init__(src, width, height, **kwargs)\n",
        "\n",
        "  video = BiliVideo(id=\"\", width=854, height=480, fs=1)\n",
        "  print('Video available at https://www.bilibili.com/video/{0}'.format(video.id))\n",
        "  display(video)\n",
        "\n",
        "out1 = widgets.Output()\n",
        "with out1:\n",
        "  from IPython.display import YouTubeVideo\n",
        "  video = YouTubeVideo(id=\"G0b6wLhuQxE\", width=854, height=480, fs=1, rel=0)\n",
        "  print('Video available at https://youtube.com/watch?v=' + video.id)\n",
        "  display(video)\n",
        "\n",
        "out = widgets.Tab([out1, out2])\n",
        "out.set_title(0, 'Youtube')\n",
        "out.set_title(1, 'Bilibili')\n",
        "\n",
        "display(out)"
      ],
      "execution_count": null,
      "outputs": []
    }
  ]
}