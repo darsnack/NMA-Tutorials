{
  "nbformat": 4,
  "nbformat_minor": 0,
  "metadata": {
    "colab": {
      "name": "W1D5_Tutorial4",
      "provenance": [],
      "collapsed_sections": [],
      "toc_visible": true,
      "include_colab_link": true
    },
    "kernel": {
      "display_name": "Python 3",
      "language": "python",
      "name": "python3"
    },
    "kernelspec": {
      "display_name": "Python 3",
      "language": "python",
      "name": "python3"
    },
    "language_info": {
      "codemirror_mode": {
        "name": "ipython",
        "version": 3
      },
      "file_extension": ".py",
      "mimetype": "text/x-python",
      "name": "python",
      "nbconvert_exporter": "python",
      "pygments_lexer": "ipython3",
      "version": "3.7.10"
    }
  },
  "cells": [
    {
      "cell_type": "markdown",
      "metadata": {
        "id": "view-in-github",
        "colab_type": "text"
      },
      "source": [
        "<a href=\"https://colab.research.google.com/github/darsnack/NMA-Tutorials/blob/main/tutorials/W1D5_DimensionalityReduction/student/W1D5_Tutorial4.ipynb\" target=\"_parent\"><img src=\"https://colab.research.google.com/assets/colab-badge.svg\" alt=\"Open In Colab\"/></a>"
      ]
    },
    {
      "cell_type": "markdown",
      "metadata": {
        "execution": {},
        "id": "o7g1oVqc0Mrk"
      },
      "source": [
        "# Tutorial 4:  Nonlinear Dimensionality Reduction\n",
        "**Week 1, Day 5: Dimensionality Reduction**\n",
        "\n",
        "**By Neuromatch Academy**\n",
        "\n",
        "__Content creators:__ Alex Cayco Gajic, John Murray\n",
        "\n",
        "__Content reviewers:__ Roozbeh Farhoudi, Matt Krause, Spiros Chavlis, Richard Gao, Michael Waskom,  Siddharth Suresh, Natalie Schaworonkow, Ella Batty\n"
      ]
    },
    {
      "cell_type": "markdown",
      "metadata": {
        "execution": {},
        "id": "oT2DIha-0Mrm"
      },
      "source": [
        "**Our 2021 Sponsors, including Presenting Sponsor Facebook Reality Labs**\n",
        "\n",
        "<p align='center'><img src='https://github.com/NeuromatchAcademy/widgets/blob/master/sponsors.png?raw=True'/></p>"
      ]
    },
    {
      "cell_type": "markdown",
      "metadata": {
        "execution": {},
        "id": "WaU7QSIt0Mrm"
      },
      "source": [
        "---\n",
        "# Tutorial Objectives\n",
        "\n",
        "*Estimated timing of tutorial: 35 minutes*\n",
        "\n",
        "In this notebook we'll explore how dimensionality reduction can be useful for visualizing and inferring structure in your data. To do this, we will compare PCA with t-SNE, a nonlinear dimensionality reduction method.\n",
        "\n",
        "Overview:\n",
        "- Visualize MNIST in 2D using PCA.\n",
        "- Visualize MNIST in 2D using t-SNE."
      ]
    },
    {
      "cell_type": "code",
      "metadata": {
        "cellView": "form",
        "execution": {},
        "id": "e0WZd-Fp0Mrm"
      },
      "source": [
        "# @title Tutorial slides\n",
        "\n",
        "# @markdown These are the slides for the videos in all tutorials today\n",
        "from IPython.display import IFrame\n",
        "IFrame(src=f\"https://mfr.ca-1.osf.io/render?url=https://osf.io/kaq2x/?direct%26mode=render%26action=download%26mode=render\", width=854, height=480)"
      ],
      "execution_count": null,
      "outputs": []
    },
    {
      "cell_type": "code",
      "metadata": {
        "cellView": "form",
        "execution": {},
        "id": "TP45w_od0Mrn"
      },
      "source": [
        "# @title Video 1: PCA Applications\n",
        "from ipywidgets import widgets\n",
        "\n",
        "out2 = widgets.Output()\n",
        "with out2:\n",
        "  from IPython.display import IFrame\n",
        "  class BiliVideo(IFrame):\n",
        "      def __init__(self, id, page=1, width=400, height=300, **kwargs):\n",
        "          self.id=id\n",
        "          src = 'https://player.bilibili.com/player.html?bvid={0}&page={1}'.format(id, page)\n",
        "          super(BiliVideo, self).__init__(src, width, height, **kwargs)\n",
        "\n",
        "  video = BiliVideo(id=\"BV1Jf4y1R7UZ\", width=854, height=480, fs=1)\n",
        "  print('Video available at https://www.bilibili.com/video/{0}'.format(video.id))\n",
        "  display(video)\n",
        "\n",
        "out1 = widgets.Output()\n",
        "with out1:\n",
        "  from IPython.display import YouTubeVideo\n",
        "  video = YouTubeVideo(id=\"2Zb93aOWioM\", width=854, height=480, fs=1, rel=0)\n",
        "  print('Video available at https://youtube.com/watch?v=' + video.id)\n",
        "  display(video)\n",
        "\n",
        "out = widgets.Tab([out1, out2])\n",
        "out.set_title(0, 'Youtube')\n",
        "out.set_title(1, 'Bilibili')\n",
        "\n",
        "display(out)"
      ],
      "execution_count": null,
      "outputs": []
    },
    {
      "cell_type": "markdown",
      "metadata": {
        "execution": {},
        "id": "-1Q_goS20Mro"
      },
      "source": [
        "---\n",
        "# Setup\n"
      ]
    },
    {
      "cell_type": "code",
      "metadata": {
        "execution": {},
        "id": "tjJo8jyb0Mro"
      },
      "source": [
        "# Imports\n",
        "\n",
        "import numpy as np\n",
        "import matplotlib.pyplot as plt"
      ],
      "execution_count": null,
      "outputs": []
    },
    {
      "cell_type": "code",
      "metadata": {
        "cellView": "form",
        "execution": {},
        "id": "iQ5V2ygD0Mro"
      },
      "source": [
        "#@title Figure Settings\n",
        "import ipywidgets as widgets       # interactive display\n",
        "%config InlineBackend.figure_format = 'retina'\n",
        "plt.style.use(\"https://raw.githubusercontent.com/NeuromatchAcademy/course-content/master/nma.mplstyle\")"
      ],
      "execution_count": null,
      "outputs": []
    },
    {
      "cell_type": "code",
      "metadata": {
        "cellView": "form",
        "execution": {},
        "id": "L4GJrxTb0Mrp"
      },
      "source": [
        "# @title Plotting Functions\n",
        "\n",
        "def visualize_components(component1, component2, labels, show=True):\n",
        "  \"\"\"\n",
        "  Plots a 2D representation of the data for visualization with categories\n",
        "  labelled as different colors.\n",
        "\n",
        "  Args:\n",
        "    component1 (numpy array of floats) : Vector of component 1 scores\n",
        "    component2 (numpy array of floats) : Vector of component 2 scores\n",
        "    labels (numpy array of floats)     : Vector corresponding to categories of\n",
        "                                         samples\n",
        "\n",
        "  Returns:\n",
        "    Nothing.\n",
        "\n",
        "  \"\"\"\n",
        "\n",
        "  plt.figure()\n",
        "  cmap = plt.cm.get_cmap('tab10')\n",
        "  plt.scatter(x=component1, y=component2, c=labels, cmap=cmap)\n",
        "  plt.xlabel('Component 1')\n",
        "  plt.ylabel('Component 2')\n",
        "  plt.colorbar(ticks=range(10))\n",
        "  plt.clim(-0.5, 9.5)\n",
        "  if show:\n",
        "    plt.show()"
      ],
      "execution_count": null,
      "outputs": []
    },
    {
      "cell_type": "markdown",
      "metadata": {
        "execution": {},
        "id": "LhlCYZOx0Mrp"
      },
      "source": [
        "---\n",
        "# Section 1: Visualize MNIST in 2D using PCA\n",
        "\n",
        "In this exercise, we'll visualize the first few components of the MNIST dataset to look for evidence of structure in the data. But in this tutorial, we will also be interested in the label of each image (i.e., which numeral it is from 0 to 9). Start by running the following cell to reload the MNIST dataset (this takes a few seconds). "
      ]
    },
    {
      "cell_type": "code",
      "metadata": {
        "execution": {},
        "id": "AiDJ67GD0Mrq"
      },
      "source": [
        "from sklearn.datasets import fetch_openml\n",
        "\n",
        "# Get images\n",
        "mnist = fetch_openml(name='mnist_784', as_frame = False)\n",
        "X = mnist.data\n",
        "\n",
        "# Get labels\n",
        "labels = [int(k) for k in mnist.target]\n",
        "labels = np.array(labels)"
      ],
      "execution_count": null,
      "outputs": []
    },
    {
      "cell_type": "markdown",
      "metadata": {
        "execution": {},
        "id": "GDRu6yKC0Mrq"
      },
      "source": [
        "To perform PCA, we now will use the method implemented in sklearn. Run the following cell to set the parameters of PCA - we will only look at the top 2 components because we will be visualizing the data in 2D."
      ]
    },
    {
      "cell_type": "code",
      "metadata": {
        "execution": {},
        "id": "aaQ6RM_r0Mrq"
      },
      "source": [
        "from sklearn.decomposition import PCA\n",
        "\n",
        "# Initializes PCA\n",
        "pca_model = PCA(n_components=2)\n",
        "\n",
        "# Performs PCA\n",
        "pca_model.fit(X)"
      ],
      "execution_count": null,
      "outputs": []
    },
    {
      "cell_type": "markdown",
      "metadata": {
        "execution": {},
        "id": "x8NM8QgJ0Mrr"
      },
      "source": [
        "## Coding Exercise 1: Visualization of MNIST in 2D using PCA\n",
        "\n",
        "Fill in the code below to perform PCA and visualize the top two  components. For better visualization, take only the first 2,000 samples of the data (this will also make t-SNE much faster in the following section of the tutorial so don't skip this step!)\n",
        "\n",
        "**Suggestions:**\n",
        "- Truncate the data matrix at 2,000 samples. You will also need to truncate the array of labels.\n",
        "- Perform PCA on the truncated data.\n",
        "- Use the function `visualize_components` to plot the labelled data."
      ]
    },
    {
      "cell_type": "code",
      "metadata": {
        "execution": {},
        "id": "TIOvPWh80Mrr"
      },
      "source": [
        "help(visualize_components)\n",
        "help(pca_model.transform)"
      ],
      "execution_count": null,
      "outputs": []
    },
    {
      "cell_type": "code",
      "metadata": {
        "execution": {},
        "id": "BrYYtpVm0Mrs"
      },
      "source": [
        "#################################################\n",
        "## TODO for students: take only 2,000 samples and perform PCA\n",
        "# Comment once you've completed the code\n",
        "raise NotImplementedError(\"Student excercise: perform PCA\")\n",
        "#################################################\n",
        "\n",
        "# Take only the first 2000 samples with the corresponding labels\n",
        "X, labels = ...\n",
        "\n",
        "# Perform PCA\n",
        "scores = pca_model.transform(X)\n",
        "\n",
        "# Plot the data and reconstruction\n",
        "visualize_components(...)"
      ],
      "execution_count": null,
      "outputs": []
    },
    {
      "cell_type": "markdown",
      "metadata": {
        "execution": {},
        "id": "x5TLCRCZ0Mrs"
      },
      "source": [
        "[*Click for solution*](https://github.com/NeuromatchAcademy/course-content/tree/master//tutorials/W1D5_DimensionalityReduction/solutions/W1D5_Tutorial4_Solution_b22e79d7.py)\n",
        "\n",
        "*Example output:*\n",
        "\n",
        "<img alt='Solution hint' align='left' width=1048.0 height=832.0 src=https://raw.githubusercontent.com/NeuromatchAcademy/course-content/master/tutorials/W1D5_DimensionalityReduction/static/W1D5_Tutorial4_Solution_b22e79d7_0.png>\n",
        "\n"
      ]
    },
    {
      "cell_type": "markdown",
      "metadata": {
        "execution": {},
        "id": "3ABL8xDn0Mrt"
      },
      "source": [
        "## Think! 1: PCA Visualization\n",
        "\n",
        "1.  What do you see? Are different samples corresponding to the same numeral clustered together? Is there much overlap?\n",
        "2.  Do some pairs of numerals appear to be more distinguishable than others?"
      ]
    },
    {
      "cell_type": "markdown",
      "metadata": {
        "execution": {},
        "id": "llsVeEvS0Mrt"
      },
      "source": [
        "[*Click for solution*](https://github.com/NeuromatchAcademy/course-content/tree/master//tutorials/W1D5_DimensionalityReduction/solutions/W1D5_Tutorial4_Solution_27572ebe.py)\n",
        "\n"
      ]
    },
    {
      "cell_type": "markdown",
      "metadata": {
        "execution": {},
        "id": "_kePWIa00Mrt"
      },
      "source": [
        "---\n",
        "# Section 2: Visualize MNIST in 2D using t-SNE\n",
        "\n",
        "*Estimated timing to here from start of tutorial: 15 min*\n"
      ]
    },
    {
      "cell_type": "code",
      "metadata": {
        "cellView": "form",
        "execution": {},
        "id": "4uTNbyCU0Mru"
      },
      "source": [
        "# @title Video 2: Nonlinear Methods\n",
        "from ipywidgets import widgets\n",
        "\n",
        "out2 = widgets.Output()\n",
        "with out2:\n",
        "  from IPython.display import IFrame\n",
        "  class BiliVideo(IFrame):\n",
        "      def __init__(self, id, page=1, width=400, height=300, **kwargs):\n",
        "          self.id=id\n",
        "          src = 'https://player.bilibili.com/player.html?bvid={0}&page={1}'.format(id, page)\n",
        "          super(BiliVideo, self).__init__(src, width, height, **kwargs)\n",
        "\n",
        "  video = BiliVideo(id=\"BV14Z4y1u7HG\", width=854, height=480, fs=1)\n",
        "  print('Video available at https://www.bilibili.com/video/{0}'.format(video.id))\n",
        "  display(video)\n",
        "\n",
        "out1 = widgets.Output()\n",
        "with out1:\n",
        "  from IPython.display import YouTubeVideo\n",
        "  video = YouTubeVideo(id=\"5Xpb0YaN5Ms\", width=854, height=480, fs=1, rel=0)\n",
        "  print('Video available at https://youtube.com/watch?v=' + video.id)\n",
        "  display(video)\n",
        "\n",
        "out = widgets.Tab([out1, out2])\n",
        "out.set_title(0, 'Youtube')\n",
        "out.set_title(1, 'Bilibili')\n",
        "\n",
        "display(out)"
      ],
      "execution_count": null,
      "outputs": []
    },
    {
      "cell_type": "markdown",
      "metadata": {
        "execution": {},
        "id": "Xo1jwIFv0Mru"
      },
      "source": [
        "Next we will analyze the same data using t-SNE, a nonlinear dimensionality reduction method that is useful for visualizing high dimensional data in 2D or 3D. Run the cell below to get started. "
      ]
    },
    {
      "cell_type": "code",
      "metadata": {
        "execution": {},
        "id": "BvhIECuF0Mru"
      },
      "source": [
        "from sklearn.manifold import TSNE\n",
        "tsne_model = TSNE(n_components=2, perplexity=30, random_state=2020)"
      ],
      "execution_count": null,
      "outputs": []
    },
    {
      "cell_type": "markdown",
      "metadata": {
        "execution": {},
        "id": "n4TQXGEc0Mrv"
      },
      "source": [
        "## Coding Exercise 2.1: Apply t-SNE on MNIST\n",
        "First, we'll run t-SNE on the data to explore whether we can see more structure. The cell above defined the parameters that we will use to find our embedding (i.e, the low-dimensional representation of the data) and stored them in `model`. To run t-SNE on our data, use the function `model.fit_transform`.\n",
        "\n",
        "**Suggestions:**\n",
        "- Run t-SNE using the function `model.fit_transform`.\n",
        "- Plot the result data using `visualize_components`."
      ]
    },
    {
      "cell_type": "code",
      "metadata": {
        "execution": {},
        "id": "iPc65e0S0Mrv"
      },
      "source": [
        "help(tsne_model.fit_transform)"
      ],
      "execution_count": null,
      "outputs": []
    },
    {
      "cell_type": "code",
      "metadata": {
        "execution": {},
        "id": "_ZT7aHJK0Mrv"
      },
      "source": [
        "#################################################\n",
        "## TODO for students\n",
        "# Comment once you've completed the code\n",
        "raise NotImplementedError(\"Student excercise: perform t-SNE\")\n",
        "#################################################\n",
        "\n",
        "# Perform t-SNE\n",
        "embed = ...\n",
        "\n",
        "# Visualize the data\n",
        "visualize_components(..., ..., labels)"
      ],
      "execution_count": null,
      "outputs": []
    },
    {
      "cell_type": "markdown",
      "metadata": {
        "execution": {},
        "id": "M5FCxGBj0Mrw"
      },
      "source": [
        "[*Click for solution*](https://github.com/NeuromatchAcademy/course-content/tree/master//tutorials/W1D5_DimensionalityReduction/solutions/W1D5_Tutorial4_Solution_4e6f6604.py)\n",
        "\n",
        "*Example output:*\n",
        "\n",
        "<img alt='Solution hint' align='left' width=1044.0 height=832.0 src=https://raw.githubusercontent.com/NeuromatchAcademy/course-content/master/tutorials/W1D5_DimensionalityReduction/static/W1D5_Tutorial4_Solution_4e6f6604_0.png>\n",
        "\n"
      ]
    },
    {
      "cell_type": "markdown",
      "metadata": {
        "execution": {},
        "id": "hX1mhe_70Mrw"
      },
      "source": [
        "## Coding Exercise 2.2: Run t-SNE with different perplexities\n",
        "\n",
        "Unlike PCA, t-SNE has a free parameter (the perplexity) that roughly determines how global vs. local information is weighted. Here we'll take a look at how the perplexity affects our interpretation of the results. \n",
        "\n",
        "**Steps:**\n",
        "- Rerun t-SNE (don't forget to re-initialize using the function `TSNE` as above) with a perplexity of 50, 5 and 2."
      ]
    },
    {
      "cell_type": "code",
      "metadata": {
        "execution": {},
        "id": "5DKC8p8x0Mrw"
      },
      "source": [
        "def explore_perplexity(values):\n",
        "  \"\"\"\n",
        "  Plots a 2D representation of the data for visualization with categories\n",
        "  labelled as different colors using different perplexities.\n",
        "\n",
        "  Args:\n",
        "    values (list of floats) : list with perplexities to be visualized\n",
        "\n",
        "  Returns:\n",
        "    Nothing.\n",
        "\n",
        "  \"\"\"\n",
        "  for perp in values:\n",
        "\n",
        "    #################################################\n",
        "    ## TO DO for students: Insert your code here to redefine the t-SNE \"model\"\n",
        "    ## while setting the perplexity perform t-SNE on the data and plot the\n",
        "    ## results for perplexity = 50, 5, and 2 (set random_state to 2020\n",
        "    # Comment these lines when you complete the function\n",
        "    raise NotImplementedError(\"Student Exercise! Explore t-SNE with different perplexity\")\n",
        "    #################################################\n",
        "\n",
        "    # Perform t-SNE\n",
        "    tsne_model = ...\n",
        "\n",
        "    embed = tsne_model.fit_transform(X)\n",
        "    visualize_components(embed[:, 0], embed[:, 1], labels, show=False)\n",
        "    plt.title(f\"perplexity: {perp}\")\n",
        "\n",
        "\n",
        "# Visualize\n",
        "values = [50, 5, 2]\n",
        "explore_perplexity(values)"
      ],
      "execution_count": null,
      "outputs": []
    },
    {
      "cell_type": "markdown",
      "metadata": {
        "execution": {},
        "id": "A6Icqg8r0Mrx"
      },
      "source": [
        "[*Click for solution*](https://github.com/NeuromatchAcademy/course-content/tree/master//tutorials/W1D5_DimensionalityReduction/solutions/W1D5_Tutorial4_Solution_806fc0b8.py)\n",
        "\n",
        "*Example output:*\n",
        "\n",
        "<img alt='Solution hint' align='left' width=1042.0 height=832.0 src=https://raw.githubusercontent.com/NeuromatchAcademy/course-content/master/tutorials/W1D5_DimensionalityReduction/static/W1D5_Tutorial4_Solution_806fc0b8_0.png>\n",
        "\n",
        "<img alt='Solution hint' align='left' width=1042.0 height=832.0 src=https://raw.githubusercontent.com/NeuromatchAcademy/course-content/master/tutorials/W1D5_DimensionalityReduction/static/W1D5_Tutorial4_Solution_806fc0b8_1.png>\n",
        "\n",
        "<img alt='Solution hint' align='left' width=1044.0 height=832.0 src=https://raw.githubusercontent.com/NeuromatchAcademy/course-content/master/tutorials/W1D5_DimensionalityReduction/static/W1D5_Tutorial4_Solution_806fc0b8_2.png>\n",
        "\n"
      ]
    },
    {
      "cell_type": "markdown",
      "metadata": {
        "execution": {},
        "id": "l4pzkOoG0Mry"
      },
      "source": [
        "## Think! 2: t-SNE Visualization\n",
        "\n",
        "1. What changed compared to your previous results using perplexity equal to 50? Do you see any clusters that have a different structure than before? \n",
        "2. What changed in the embedding structure for perplexity equals to 5 or 2?"
      ]
    },
    {
      "cell_type": "markdown",
      "metadata": {
        "execution": {},
        "id": "Qc0YMGon0Mry"
      },
      "source": [
        "---\n",
        "# Summary"
      ]
    },
    {
      "cell_type": "markdown",
      "metadata": {
        "execution": {},
        "id": "ltPRRRaq0Mrz"
      },
      "source": [
        "*Estimated timing of tutorial: 35 minutes*\n",
        "\n",
        "* We learned the difference between linear and nonlinear dimensionality reduction. While nonlinear methods can be more powerful, they can also be senseitive to noise. In contrast, linear methods are useful for their simplicity and robustness.\n",
        "* We compared PCA and t-SNE for data visualization. Using t-SNE, we could visualize clusters in the data corresponding to different digits. While PCA was able to separate some clusters (e.g., 0 vs 1), it performed poorly overall.\n",
        "* However, the results of t-SNE can change depending on the choice of perplexity. To learn more, we recommend this [Distill paper](https://distill.pub/2016/misread-tsne/).\n"
      ]
    }
  ]
}