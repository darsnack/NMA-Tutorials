{
  "nbformat": 4,
  "nbformat_minor": 0,
  "metadata": {
    "colab": {
      "name": "W3D1_Tutorial1",
      "provenance": [],
      "collapsed_sections": [
        "jWmfLbhzBpfz"
      ],
      "toc_visible": true,
      "include_colab_link": true
    },
    "interpreter": {
      "hash": "3e19903e646247cead5404f55ff575624523d45cf244c3f93aaf5fa10367032a"
    },
    "kernel": {
      "display_name": "Python 3",
      "language": "python",
      "name": "python3"
    },
    "kernelspec": {
      "display_name": "Python 3.7.10 64-bit ('nma': conda)",
      "name": "python3"
    },
    "language_info": {
      "codemirror_mode": {
        "name": "ipython",
        "version": 3
      },
      "file_extension": ".py",
      "mimetype": "text/x-python",
      "name": "python",
      "nbconvert_exporter": "python",
      "pygments_lexer": "ipython3",
      "version": "3.7.11"
    },
    "widgets": {
      "application/vnd.jupyter.widget-state+json": {
        "5f9eca8bba9845c08be8f20240523b84": {
          "model_module": "@jupyter-widgets/controls",
          "model_name": "TabModel",
          "state": {
            "_view_name": "TabView",
            "_dom_classes": [],
            "_titles": {
              "0": "Youtube",
              "1": "Bilibili"
            },
            "_model_name": "TabModel",
            "_view_module": "@jupyter-widgets/controls",
            "selected_index": 0,
            "_model_module_version": "1.5.0",
            "_view_count": null,
            "_view_module_version": "1.5.0",
            "box_style": "",
            "layout": "IPY_MODEL_8d646e8ce4ac4ee081bdb9018f30bcad",
            "_model_module": "@jupyter-widgets/controls",
            "children": [
              "IPY_MODEL_eb2cfc0cdf2c49ed877009c8bf1adb42",
              "IPY_MODEL_46cba77604c84d3ea98fa3b363d6ac1d"
            ]
          }
        },
        "8d646e8ce4ac4ee081bdb9018f30bcad": {
          "model_module": "@jupyter-widgets/base",
          "model_name": "LayoutModel",
          "state": {
            "_view_name": "LayoutView",
            "grid_template_rows": null,
            "right": null,
            "justify_content": null,
            "_view_module": "@jupyter-widgets/base",
            "overflow": null,
            "_model_module_version": "1.2.0",
            "_view_count": null,
            "flex_flow": null,
            "width": null,
            "min_width": null,
            "border": null,
            "align_items": null,
            "bottom": null,
            "_model_module": "@jupyter-widgets/base",
            "top": null,
            "grid_column": null,
            "overflow_y": null,
            "overflow_x": null,
            "grid_auto_flow": null,
            "grid_area": null,
            "grid_template_columns": null,
            "flex": null,
            "_model_name": "LayoutModel",
            "justify_items": null,
            "grid_row": null,
            "max_height": null,
            "align_content": null,
            "visibility": null,
            "align_self": null,
            "height": null,
            "min_height": null,
            "padding": null,
            "grid_auto_rows": null,
            "grid_gap": null,
            "max_width": null,
            "order": null,
            "_view_module_version": "1.2.0",
            "grid_template_areas": null,
            "object_position": null,
            "object_fit": null,
            "grid_auto_columns": null,
            "margin": null,
            "display": null,
            "left": null
          }
        },
        "eb2cfc0cdf2c49ed877009c8bf1adb42": {
          "model_module": "@jupyter-widgets/output",
          "model_name": "OutputModel",
          "state": {
            "_view_name": "OutputView",
            "msg_id": "",
            "_dom_classes": [],
            "_model_name": "OutputModel",
            "outputs": [
              {
                "output_type": "stream",
                "metadata": {
                  "tags": []
                },
                "text": "Video available at https://youtube.com/watch?v=Hcx2_JTpf2M\n",
                "stream": "stdout"
              },
              {
                "output_type": "display_data",
                "metadata": {
                  "tags": []
                },
                "text/html": "\n        <iframe\n            width=\"854\"\n            height=\"480\"\n            src=\"https://www.youtube.com/embed/Hcx2_JTpf2M?fs=1&rel=0\"\n            frameborder=\"0\"\n            allowfullscreen\n        ></iframe>\n        ",
                "text/plain": "<IPython.lib.display.YouTubeVideo at 0x7f81000cf6d0>",
                "image/jpeg": "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\n"
              }
            ],
            "_view_module": "@jupyter-widgets/output",
            "_model_module_version": "1.0.0",
            "_view_count": null,
            "_view_module_version": "1.0.0",
            "layout": "IPY_MODEL_91ce515bc186488b8efd19f70442bfa8",
            "_model_module": "@jupyter-widgets/output"
          }
        },
        "46cba77604c84d3ea98fa3b363d6ac1d": {
          "model_module": "@jupyter-widgets/output",
          "model_name": "OutputModel",
          "state": {
            "_view_name": "OutputView",
            "msg_id": "",
            "_dom_classes": [],
            "_model_name": "OutputModel",
            "outputs": [
              {
                "output_type": "stream",
                "metadata": {
                  "tags": []
                },
                "text": "Video available at https://www.bilibili.com/video/BV1Ch41167jN\n",
                "stream": "stdout"
              },
              {
                "output_type": "display_data",
                "metadata": {
                  "tags": []
                },
                "text/html": "\n        <iframe\n            width=\"854\"\n            height=\"480\"\n            src=\"https://player.bilibili.com/player.html?bvid=BV1Ch41167jN&page=1?fs=1\"\n            frameborder=\"0\"\n            allowfullscreen\n        ></iframe>\n        ",
                "text/plain": "<__main__.BiliVideo at 0x7f8102f5f3d0>"
              }
            ],
            "_view_module": "@jupyter-widgets/output",
            "_model_module_version": "1.0.0",
            "_view_count": null,
            "_view_module_version": "1.0.0",
            "layout": "IPY_MODEL_9b7a3e3a68bc459894e2bb44ff9c345a",
            "_model_module": "@jupyter-widgets/output"
          }
        },
        "91ce515bc186488b8efd19f70442bfa8": {
          "model_module": "@jupyter-widgets/base",
          "model_name": "LayoutModel",
          "state": {
            "_view_name": "LayoutView",
            "grid_template_rows": null,
            "right": null,
            "justify_content": null,
            "_view_module": "@jupyter-widgets/base",
            "overflow": null,
            "_model_module_version": "1.2.0",
            "_view_count": null,
            "flex_flow": null,
            "width": null,
            "min_width": null,
            "border": null,
            "align_items": null,
            "bottom": null,
            "_model_module": "@jupyter-widgets/base",
            "top": null,
            "grid_column": null,
            "overflow_y": null,
            "overflow_x": null,
            "grid_auto_flow": null,
            "grid_area": null,
            "grid_template_columns": null,
            "flex": null,
            "_model_name": "LayoutModel",
            "justify_items": null,
            "grid_row": null,
            "max_height": null,
            "align_content": null,
            "visibility": null,
            "align_self": null,
            "height": null,
            "min_height": null,
            "padding": null,
            "grid_auto_rows": null,
            "grid_gap": null,
            "max_width": null,
            "order": null,
            "_view_module_version": "1.2.0",
            "grid_template_areas": null,
            "object_position": null,
            "object_fit": null,
            "grid_auto_columns": null,
            "margin": null,
            "display": null,
            "left": null
          }
        },
        "9b7a3e3a68bc459894e2bb44ff9c345a": {
          "model_module": "@jupyter-widgets/base",
          "model_name": "LayoutModel",
          "state": {
            "_view_name": "LayoutView",
            "grid_template_rows": null,
            "right": null,
            "justify_content": null,
            "_view_module": "@jupyter-widgets/base",
            "overflow": null,
            "_model_module_version": "1.2.0",
            "_view_count": null,
            "flex_flow": null,
            "width": null,
            "min_width": null,
            "border": null,
            "align_items": null,
            "bottom": null,
            "_model_module": "@jupyter-widgets/base",
            "top": null,
            "grid_column": null,
            "overflow_y": null,
            "overflow_x": null,
            "grid_auto_flow": null,
            "grid_area": null,
            "grid_template_columns": null,
            "flex": null,
            "_model_name": "LayoutModel",
            "justify_items": null,
            "grid_row": null,
            "max_height": null,
            "align_content": null,
            "visibility": null,
            "align_self": null,
            "height": null,
            "min_height": null,
            "padding": null,
            "grid_auto_rows": null,
            "grid_gap": null,
            "max_width": null,
            "order": null,
            "_view_module_version": "1.2.0",
            "grid_template_areas": null,
            "object_position": null,
            "object_fit": null,
            "grid_auto_columns": null,
            "margin": null,
            "display": null,
            "left": null
          }
        },
        "c077183e88704146837baebbbf1b5f2d": {
          "model_module": "@jupyter-widgets/controls",
          "model_name": "TabModel",
          "state": {
            "_view_name": "TabView",
            "_dom_classes": [],
            "_titles": {
              "0": "Youtube",
              "1": "Bilibili"
            },
            "_model_name": "TabModel",
            "_view_module": "@jupyter-widgets/controls",
            "selected_index": 0,
            "_model_module_version": "1.5.0",
            "_view_count": null,
            "_view_module_version": "1.5.0",
            "box_style": "",
            "layout": "IPY_MODEL_4a3de428b9a14d96ba689989c3fa57ae",
            "_model_module": "@jupyter-widgets/controls",
            "children": [
              "IPY_MODEL_940e8de89548497fad53e4e503dc4174",
              "IPY_MODEL_6b57e575d9784dec9fb613a834ae056a"
            ]
          }
        },
        "4a3de428b9a14d96ba689989c3fa57ae": {
          "model_module": "@jupyter-widgets/base",
          "model_name": "LayoutModel",
          "state": {
            "_view_name": "LayoutView",
            "grid_template_rows": null,
            "right": null,
            "justify_content": null,
            "_view_module": "@jupyter-widgets/base",
            "overflow": null,
            "_model_module_version": "1.2.0",
            "_view_count": null,
            "flex_flow": null,
            "width": null,
            "min_width": null,
            "border": null,
            "align_items": null,
            "bottom": null,
            "_model_module": "@jupyter-widgets/base",
            "top": null,
            "grid_column": null,
            "overflow_y": null,
            "overflow_x": null,
            "grid_auto_flow": null,
            "grid_area": null,
            "grid_template_columns": null,
            "flex": null,
            "_model_name": "LayoutModel",
            "justify_items": null,
            "grid_row": null,
            "max_height": null,
            "align_content": null,
            "visibility": null,
            "align_self": null,
            "height": null,
            "min_height": null,
            "padding": null,
            "grid_auto_rows": null,
            "grid_gap": null,
            "max_width": null,
            "order": null,
            "_view_module_version": "1.2.0",
            "grid_template_areas": null,
            "object_position": null,
            "object_fit": null,
            "grid_auto_columns": null,
            "margin": null,
            "display": null,
            "left": null
          }
        },
        "940e8de89548497fad53e4e503dc4174": {
          "model_module": "@jupyter-widgets/output",
          "model_name": "OutputModel",
          "state": {
            "_view_name": "OutputView",
            "msg_id": "",
            "_dom_classes": [],
            "_model_name": "OutputModel",
            "outputs": [
              {
                "output_type": "stream",
                "metadata": {
                  "tags": []
                },
                "text": "Video available at https://youtube.com/watch?v=kAdBjWOI_yE\n",
                "stream": "stdout"
              },
              {
                "output_type": "display_data",
                "metadata": {
                  "tags": []
                },
                "text/html": "\n        <iframe\n            width=\"854\"\n            height=\"480\"\n            src=\"https://www.youtube.com/embed/kAdBjWOI_yE?fs=1&rel=0\"\n            frameborder=\"0\"\n            allowfullscreen\n        ></iframe>\n        ",
                "text/plain": "<IPython.lib.display.YouTubeVideo at 0x7f80f660e450>",
                "image/jpeg": "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\n"
              }
            ],
            "_view_module": "@jupyter-widgets/output",
            "_model_module_version": "1.0.0",
            "_view_count": null,
            "_view_module_version": "1.0.0",
            "layout": "IPY_MODEL_55714fb7cd164d8796895d9864810084",
            "_model_module": "@jupyter-widgets/output"
          }
        },
        "6b57e575d9784dec9fb613a834ae056a": {
          "model_module": "@jupyter-widgets/output",
          "model_name": "OutputModel",
          "state": {
            "_view_name": "OutputView",
            "msg_id": "",
            "_dom_classes": [],
            "_model_name": "OutputModel",
            "outputs": [
              {
                "output_type": "stream",
                "metadata": {
                  "tags": []
                },
                "text": "Video available at https://www.bilibili.com/video/BV1TP4y147pJ\n",
                "stream": "stdout"
              },
              {
                "output_type": "display_data",
                "metadata": {
                  "tags": []
                },
                "text/html": "\n        <iframe\n            width=\"854\"\n            height=\"480\"\n            src=\"https://player.bilibili.com/player.html?bvid=BV1TP4y147pJ&page=1?fs=1\"\n            frameborder=\"0\"\n            allowfullscreen\n        ></iframe>\n        ",
                "text/plain": "<__main__.BiliVideo at 0x7f80f66175d0>"
              }
            ],
            "_view_module": "@jupyter-widgets/output",
            "_model_module_version": "1.0.0",
            "_view_count": null,
            "_view_module_version": "1.0.0",
            "layout": "IPY_MODEL_ac01f66451854f8894224d122ea837f7",
            "_model_module": "@jupyter-widgets/output"
          }
        },
        "55714fb7cd164d8796895d9864810084": {
          "model_module": "@jupyter-widgets/base",
          "model_name": "LayoutModel",
          "state": {
            "_view_name": "LayoutView",
            "grid_template_rows": null,
            "right": null,
            "justify_content": null,
            "_view_module": "@jupyter-widgets/base",
            "overflow": null,
            "_model_module_version": "1.2.0",
            "_view_count": null,
            "flex_flow": null,
            "width": null,
            "min_width": null,
            "border": null,
            "align_items": null,
            "bottom": null,
            "_model_module": "@jupyter-widgets/base",
            "top": null,
            "grid_column": null,
            "overflow_y": null,
            "overflow_x": null,
            "grid_auto_flow": null,
            "grid_area": null,
            "grid_template_columns": null,
            "flex": null,
            "_model_name": "LayoutModel",
            "justify_items": null,
            "grid_row": null,
            "max_height": null,
            "align_content": null,
            "visibility": null,
            "align_self": null,
            "height": null,
            "min_height": null,
            "padding": null,
            "grid_auto_rows": null,
            "grid_gap": null,
            "max_width": null,
            "order": null,
            "_view_module_version": "1.2.0",
            "grid_template_areas": null,
            "object_position": null,
            "object_fit": null,
            "grid_auto_columns": null,
            "margin": null,
            "display": null,
            "left": null
          }
        },
        "ac01f66451854f8894224d122ea837f7": {
          "model_module": "@jupyter-widgets/base",
          "model_name": "LayoutModel",
          "state": {
            "_view_name": "LayoutView",
            "grid_template_rows": null,
            "right": null,
            "justify_content": null,
            "_view_module": "@jupyter-widgets/base",
            "overflow": null,
            "_model_module_version": "1.2.0",
            "_view_count": null,
            "flex_flow": null,
            "width": null,
            "min_width": null,
            "border": null,
            "align_items": null,
            "bottom": null,
            "_model_module": "@jupyter-widgets/base",
            "top": null,
            "grid_column": null,
            "overflow_y": null,
            "overflow_x": null,
            "grid_auto_flow": null,
            "grid_area": null,
            "grid_template_columns": null,
            "flex": null,
            "_model_name": "LayoutModel",
            "justify_items": null,
            "grid_row": null,
            "max_height": null,
            "align_content": null,
            "visibility": null,
            "align_self": null,
            "height": null,
            "min_height": null,
            "padding": null,
            "grid_auto_rows": null,
            "grid_gap": null,
            "max_width": null,
            "order": null,
            "_view_module_version": "1.2.0",
            "grid_template_areas": null,
            "object_position": null,
            "object_fit": null,
            "grid_auto_columns": null,
            "margin": null,
            "display": null,
            "left": null
          }
        },
        "1482e785a4a649179ee9023d7fea17fd": {
          "model_module": "@jupyter-widgets/controls",
          "model_name": "TabModel",
          "state": {
            "_view_name": "TabView",
            "_dom_classes": [],
            "_titles": {
              "0": "Youtube",
              "1": "Bilibili"
            },
            "_model_name": "TabModel",
            "_view_module": "@jupyter-widgets/controls",
            "selected_index": 0,
            "_model_module_version": "1.5.0",
            "_view_count": null,
            "_view_module_version": "1.5.0",
            "box_style": "",
            "layout": "IPY_MODEL_fc1eb653df884023a83e989b6f046017",
            "_model_module": "@jupyter-widgets/controls",
            "children": [
              "IPY_MODEL_f2d8203654c3430f86c066e5f6309b15",
              "IPY_MODEL_5cda31f3214345a4818b9b9d79dc4ffb"
            ]
          }
        },
        "fc1eb653df884023a83e989b6f046017": {
          "model_module": "@jupyter-widgets/base",
          "model_name": "LayoutModel",
          "state": {
            "_view_name": "LayoutView",
            "grid_template_rows": null,
            "right": null,
            "justify_content": null,
            "_view_module": "@jupyter-widgets/base",
            "overflow": null,
            "_model_module_version": "1.2.0",
            "_view_count": null,
            "flex_flow": null,
            "width": null,
            "min_width": null,
            "border": null,
            "align_items": null,
            "bottom": null,
            "_model_module": "@jupyter-widgets/base",
            "top": null,
            "grid_column": null,
            "overflow_y": null,
            "overflow_x": null,
            "grid_auto_flow": null,
            "grid_area": null,
            "grid_template_columns": null,
            "flex": null,
            "_model_name": "LayoutModel",
            "justify_items": null,
            "grid_row": null,
            "max_height": null,
            "align_content": null,
            "visibility": null,
            "align_self": null,
            "height": null,
            "min_height": null,
            "padding": null,
            "grid_auto_rows": null,
            "grid_gap": null,
            "max_width": null,
            "order": null,
            "_view_module_version": "1.2.0",
            "grid_template_areas": null,
            "object_position": null,
            "object_fit": null,
            "grid_auto_columns": null,
            "margin": null,
            "display": null,
            "left": null
          }
        },
        "f2d8203654c3430f86c066e5f6309b15": {
          "model_module": "@jupyter-widgets/output",
          "model_name": "OutputModel",
          "state": {
            "_view_name": "OutputView",
            "msg_id": "",
            "_dom_classes": [],
            "_model_name": "OutputModel",
            "outputs": [
              {
                "output_type": "stream",
                "metadata": {
                  "tags": []
                },
                "text": "Video available at https://youtube.com/watch?v=8-5RM0k3IKE\n",
                "stream": "stdout"
              },
              {
                "output_type": "display_data",
                "metadata": {
                  "tags": []
                },
                "text/html": "\n        <iframe\n            width=\"854\"\n            height=\"480\"\n            src=\"https://www.youtube.com/embed/8-5RM0k3IKE?fs=1&rel=0\"\n            frameborder=\"0\"\n            allowfullscreen\n        ></iframe>\n        ",
                "text/plain": "<IPython.lib.display.YouTubeVideo at 0x7f80f2e76f50>",
                "image/jpeg": "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\n"
              }
            ],
            "_view_module": "@jupyter-widgets/output",
            "_model_module_version": "1.0.0",
            "_view_count": null,
            "_view_module_version": "1.0.0",
            "layout": "IPY_MODEL_93c4642044f744ef8f2c3e254f99c8cb",
            "_model_module": "@jupyter-widgets/output"
          }
        },
        "5cda31f3214345a4818b9b9d79dc4ffb": {
          "model_module": "@jupyter-widgets/output",
          "model_name": "OutputModel",
          "state": {
            "_view_name": "OutputView",
            "msg_id": "",
            "_dom_classes": [],
            "_model_name": "OutputModel",
            "outputs": [
              {
                "output_type": "stream",
                "metadata": {
                  "tags": []
                },
                "text": "Video available at https://www.bilibili.com/video/BV1uL411H7ZE\n",
                "stream": "stdout"
              },
              {
                "output_type": "display_data",
                "metadata": {
                  "tags": []
                },
                "text/html": "\n        <iframe\n            width=\"854\"\n            height=\"480\"\n            src=\"https://player.bilibili.com/player.html?bvid=BV1uL411H7ZE&page=1?fs=1\"\n            frameborder=\"0\"\n            allowfullscreen\n        ></iframe>\n        ",
                "text/plain": "<__main__.BiliVideo at 0x7f80f4474450>"
              }
            ],
            "_view_module": "@jupyter-widgets/output",
            "_model_module_version": "1.0.0",
            "_view_count": null,
            "_view_module_version": "1.0.0",
            "layout": "IPY_MODEL_32f79c06faab4e2ba09d27942a7bf278",
            "_model_module": "@jupyter-widgets/output"
          }
        },
        "93c4642044f744ef8f2c3e254f99c8cb": {
          "model_module": "@jupyter-widgets/base",
          "model_name": "LayoutModel",
          "state": {
            "_view_name": "LayoutView",
            "grid_template_rows": null,
            "right": null,
            "justify_content": null,
            "_view_module": "@jupyter-widgets/base",
            "overflow": null,
            "_model_module_version": "1.2.0",
            "_view_count": null,
            "flex_flow": null,
            "width": null,
            "min_width": null,
            "border": null,
            "align_items": null,
            "bottom": null,
            "_model_module": "@jupyter-widgets/base",
            "top": null,
            "grid_column": null,
            "overflow_y": null,
            "overflow_x": null,
            "grid_auto_flow": null,
            "grid_area": null,
            "grid_template_columns": null,
            "flex": null,
            "_model_name": "LayoutModel",
            "justify_items": null,
            "grid_row": null,
            "max_height": null,
            "align_content": null,
            "visibility": null,
            "align_self": null,
            "height": null,
            "min_height": null,
            "padding": null,
            "grid_auto_rows": null,
            "grid_gap": null,
            "max_width": null,
            "order": null,
            "_view_module_version": "1.2.0",
            "grid_template_areas": null,
            "object_position": null,
            "object_fit": null,
            "grid_auto_columns": null,
            "margin": null,
            "display": null,
            "left": null
          }
        },
        "32f79c06faab4e2ba09d27942a7bf278": {
          "model_module": "@jupyter-widgets/base",
          "model_name": "LayoutModel",
          "state": {
            "_view_name": "LayoutView",
            "grid_template_rows": null,
            "right": null,
            "justify_content": null,
            "_view_module": "@jupyter-widgets/base",
            "overflow": null,
            "_model_module_version": "1.2.0",
            "_view_count": null,
            "flex_flow": null,
            "width": null,
            "min_width": null,
            "border": null,
            "align_items": null,
            "bottom": null,
            "_model_module": "@jupyter-widgets/base",
            "top": null,
            "grid_column": null,
            "overflow_y": null,
            "overflow_x": null,
            "grid_auto_flow": null,
            "grid_area": null,
            "grid_template_columns": null,
            "flex": null,
            "_model_name": "LayoutModel",
            "justify_items": null,
            "grid_row": null,
            "max_height": null,
            "align_content": null,
            "visibility": null,
            "align_self": null,
            "height": null,
            "min_height": null,
            "padding": null,
            "grid_auto_rows": null,
            "grid_gap": null,
            "max_width": null,
            "order": null,
            "_view_module_version": "1.2.0",
            "grid_template_areas": null,
            "object_position": null,
            "object_fit": null,
            "grid_auto_columns": null,
            "margin": null,
            "display": null,
            "left": null
          }
        },
        "1652eeb16d7c4d7ba1a9489af2906f10": {
          "model_module": "@jupyter-widgets/controls",
          "model_name": "VBoxModel",
          "state": {
            "_view_name": "VBoxView",
            "_dom_classes": [
              "widget-interact"
            ],
            "_model_name": "VBoxModel",
            "_view_module": "@jupyter-widgets/controls",
            "_model_module_version": "1.5.0",
            "_view_count": null,
            "_view_module_version": "1.5.0",
            "box_style": "",
            "layout": "IPY_MODEL_c35289e03ef942989b11d6bd0604ab1b",
            "_model_module": "@jupyter-widgets/controls",
            "children": [
              "IPY_MODEL_b0d4f454630c46b09bd9b3dd94ed65da",
              "IPY_MODEL_9a2bdd13b54844d5a83944df08164757"
            ]
          }
        },
        "c35289e03ef942989b11d6bd0604ab1b": {
          "model_module": "@jupyter-widgets/base",
          "model_name": "LayoutModel",
          "state": {
            "_view_name": "LayoutView",
            "grid_template_rows": null,
            "right": null,
            "justify_content": null,
            "_view_module": "@jupyter-widgets/base",
            "overflow": null,
            "_model_module_version": "1.2.0",
            "_view_count": null,
            "flex_flow": null,
            "width": null,
            "min_width": null,
            "border": null,
            "align_items": null,
            "bottom": null,
            "_model_module": "@jupyter-widgets/base",
            "top": null,
            "grid_column": null,
            "overflow_y": null,
            "overflow_x": null,
            "grid_auto_flow": null,
            "grid_area": null,
            "grid_template_columns": null,
            "flex": null,
            "_model_name": "LayoutModel",
            "justify_items": null,
            "grid_row": null,
            "max_height": null,
            "align_content": null,
            "visibility": null,
            "align_self": null,
            "height": null,
            "min_height": null,
            "padding": null,
            "grid_auto_rows": null,
            "grid_gap": null,
            "max_width": null,
            "order": null,
            "_view_module_version": "1.2.0",
            "grid_template_areas": null,
            "object_position": null,
            "object_fit": null,
            "grid_auto_columns": null,
            "margin": null,
            "display": null,
            "left": null
          }
        },
        "b0d4f454630c46b09bd9b3dd94ed65da": {
          "model_module": "@jupyter-widgets/controls",
          "model_name": "FloatSliderModel",
          "state": {
            "_view_name": "FloatSliderView",
            "style": "IPY_MODEL_3e5fe41680034e8b9a1cd6504046ecff",
            "_dom_classes": [],
            "description": "p(s = left)",
            "step": 0.01,
            "_model_name": "FloatSliderModel",
            "orientation": "horizontal",
            "max": 1,
            "_view_module": "@jupyter-widgets/controls",
            "_model_module_version": "1.5.0",
            "value": 0.4,
            "_view_count": null,
            "disabled": false,
            "_view_module_version": "1.5.0",
            "min": 0,
            "continuous_update": true,
            "readout_format": ".2f",
            "description_tooltip": null,
            "readout": true,
            "_model_module": "@jupyter-widgets/controls",
            "layout": "IPY_MODEL_3918abdfd059417fac8d85c6a0d0e742"
          }
        },
        "9a2bdd13b54844d5a83944df08164757": {
          "model_module": "@jupyter-widgets/output",
          "model_name": "OutputModel",
          "state": {
            "_view_name": "OutputView",
            "msg_id": "",
            "_dom_classes": [],
            "_model_name": "OutputModel",
            "outputs": [
              {
                "output_type": "display_data",
                "metadata": {
                  "tags": [],
                  "image/png": {
                    "width": 674,
                    "height": 277
                  },
                  "needs_background": "light"
                },
                "image/png": "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\n",
                "text/plain": "<Figure size 1224x216 with 3 Axes>"
              }
            ],
            "_view_module": "@jupyter-widgets/output",
            "_model_module_version": "1.0.0",
            "_view_count": null,
            "_view_module_version": "1.0.0",
            "layout": "IPY_MODEL_e2ed61c9a8184bc3bd388ff06831faef",
            "_model_module": "@jupyter-widgets/output"
          }
        },
        "3e5fe41680034e8b9a1cd6504046ecff": {
          "model_module": "@jupyter-widgets/controls",
          "model_name": "SliderStyleModel",
          "state": {
            "_view_name": "StyleView",
            "handle_color": null,
            "_model_name": "SliderStyleModel",
            "description_width": "",
            "_view_module": "@jupyter-widgets/base",
            "_model_module_version": "1.5.0",
            "_view_count": null,
            "_view_module_version": "1.2.0",
            "_model_module": "@jupyter-widgets/controls"
          }
        },
        "3918abdfd059417fac8d85c6a0d0e742": {
          "model_module": "@jupyter-widgets/base",
          "model_name": "LayoutModel",
          "state": {
            "_view_name": "LayoutView",
            "grid_template_rows": null,
            "right": null,
            "justify_content": null,
            "_view_module": "@jupyter-widgets/base",
            "overflow": null,
            "_model_module_version": "1.2.0",
            "_view_count": null,
            "flex_flow": null,
            "width": null,
            "min_width": null,
            "border": null,
            "align_items": null,
            "bottom": null,
            "_model_module": "@jupyter-widgets/base",
            "top": null,
            "grid_column": null,
            "overflow_y": null,
            "overflow_x": null,
            "grid_auto_flow": null,
            "grid_area": null,
            "grid_template_columns": null,
            "flex": null,
            "_model_name": "LayoutModel",
            "justify_items": null,
            "grid_row": null,
            "max_height": null,
            "align_content": null,
            "visibility": null,
            "align_self": null,
            "height": null,
            "min_height": null,
            "padding": null,
            "grid_auto_rows": null,
            "grid_gap": null,
            "max_width": null,
            "order": null,
            "_view_module_version": "1.2.0",
            "grid_template_areas": null,
            "object_position": null,
            "object_fit": null,
            "grid_auto_columns": null,
            "margin": null,
            "display": null,
            "left": null
          }
        },
        "e2ed61c9a8184bc3bd388ff06831faef": {
          "model_module": "@jupyter-widgets/base",
          "model_name": "LayoutModel",
          "state": {
            "_view_name": "LayoutView",
            "grid_template_rows": null,
            "right": null,
            "justify_content": null,
            "_view_module": "@jupyter-widgets/base",
            "overflow": null,
            "_model_module_version": "1.2.0",
            "_view_count": null,
            "flex_flow": null,
            "width": null,
            "min_width": null,
            "border": null,
            "align_items": null,
            "bottom": null,
            "_model_module": "@jupyter-widgets/base",
            "top": null,
            "grid_column": null,
            "overflow_y": null,
            "overflow_x": null,
            "grid_auto_flow": null,
            "grid_area": null,
            "grid_template_columns": null,
            "flex": null,
            "_model_name": "LayoutModel",
            "justify_items": null,
            "grid_row": null,
            "max_height": null,
            "align_content": null,
            "visibility": null,
            "align_self": null,
            "height": null,
            "min_height": null,
            "padding": null,
            "grid_auto_rows": null,
            "grid_gap": null,
            "max_width": null,
            "order": null,
            "_view_module_version": "1.2.0",
            "grid_template_areas": null,
            "object_position": null,
            "object_fit": null,
            "grid_auto_columns": null,
            "margin": null,
            "display": null,
            "left": null
          }
        },
        "c1921cd0ee3e446697dad46bb741cf6d": {
          "model_module": "@jupyter-widgets/controls",
          "model_name": "TabModel",
          "state": {
            "_view_name": "TabView",
            "_dom_classes": [],
            "_titles": {
              "0": "Youtube",
              "1": "Bilibili"
            },
            "_model_name": "TabModel",
            "_view_module": "@jupyter-widgets/controls",
            "selected_index": 0,
            "_model_module_version": "1.5.0",
            "_view_count": null,
            "_view_module_version": "1.5.0",
            "box_style": "",
            "layout": "IPY_MODEL_fd7897dc7a9b4f0bae5071fdacdfd503",
            "_model_module": "@jupyter-widgets/controls",
            "children": [
              "IPY_MODEL_054c05b84b4c4fc084242bfba7db5e7a",
              "IPY_MODEL_6f1f7b6598fe44c8bcfa3396a2f1e75f"
            ]
          }
        },
        "fd7897dc7a9b4f0bae5071fdacdfd503": {
          "model_module": "@jupyter-widgets/base",
          "model_name": "LayoutModel",
          "state": {
            "_view_name": "LayoutView",
            "grid_template_rows": null,
            "right": null,
            "justify_content": null,
            "_view_module": "@jupyter-widgets/base",
            "overflow": null,
            "_model_module_version": "1.2.0",
            "_view_count": null,
            "flex_flow": null,
            "width": null,
            "min_width": null,
            "border": null,
            "align_items": null,
            "bottom": null,
            "_model_module": "@jupyter-widgets/base",
            "top": null,
            "grid_column": null,
            "overflow_y": null,
            "overflow_x": null,
            "grid_auto_flow": null,
            "grid_area": null,
            "grid_template_columns": null,
            "flex": null,
            "_model_name": "LayoutModel",
            "justify_items": null,
            "grid_row": null,
            "max_height": null,
            "align_content": null,
            "visibility": null,
            "align_self": null,
            "height": null,
            "min_height": null,
            "padding": null,
            "grid_auto_rows": null,
            "grid_gap": null,
            "max_width": null,
            "order": null,
            "_view_module_version": "1.2.0",
            "grid_template_areas": null,
            "object_position": null,
            "object_fit": null,
            "grid_auto_columns": null,
            "margin": null,
            "display": null,
            "left": null
          }
        },
        "054c05b84b4c4fc084242bfba7db5e7a": {
          "model_module": "@jupyter-widgets/output",
          "model_name": "OutputModel",
          "state": {
            "_view_name": "OutputView",
            "msg_id": "",
            "_dom_classes": [],
            "_model_name": "OutputModel",
            "outputs": [
              {
                "output_type": "stream",
                "metadata": {
                  "tags": []
                },
                "text": "Video available at https://youtube.com/watch?v=GHQbmsEyQjE\n",
                "stream": "stdout"
              },
              {
                "output_type": "display_data",
                "metadata": {
                  "tags": []
                },
                "text/html": "\n        <iframe\n            width=\"854\"\n            height=\"480\"\n            src=\"https://www.youtube.com/embed/GHQbmsEyQjE?fs=1&rel=0\"\n            frameborder=\"0\"\n            allowfullscreen\n        ></iframe>\n        ",
                "text/plain": "<IPython.lib.display.YouTubeVideo at 0x7f80f2e76f50>",
                "image/jpeg": "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\n"
              }
            ],
            "_view_module": "@jupyter-widgets/output",
            "_model_module_version": "1.0.0",
            "_view_count": null,
            "_view_module_version": "1.0.0",
            "layout": "IPY_MODEL_20364254d86e4f82884c5410d97a5c83",
            "_model_module": "@jupyter-widgets/output"
          }
        },
        "6f1f7b6598fe44c8bcfa3396a2f1e75f": {
          "model_module": "@jupyter-widgets/output",
          "model_name": "OutputModel",
          "state": {
            "_view_name": "OutputView",
            "msg_id": "",
            "_dom_classes": [],
            "_model_name": "OutputModel",
            "outputs": [
              {
                "output_type": "stream",
                "metadata": {
                  "tags": []
                },
                "text": "Video available at https://www.bilibili.com/video/BV1po4y1D7Fu\n",
                "stream": "stdout"
              },
              {
                "output_type": "display_data",
                "metadata": {
                  "tags": []
                },
                "text/html": "\n        <iframe\n            width=\"854\"\n            height=\"480\"\n            src=\"https://player.bilibili.com/player.html?bvid=BV1po4y1D7Fu&page=1?fs=1\"\n            frameborder=\"0\"\n            allowfullscreen\n        ></iframe>\n        ",
                "text/plain": "<__main__.BiliVideo at 0x7f80f26a3c10>"
              }
            ],
            "_view_module": "@jupyter-widgets/output",
            "_model_module_version": "1.0.0",
            "_view_count": null,
            "_view_module_version": "1.0.0",
            "layout": "IPY_MODEL_9d18d05cda474f4abf521729f8b8858d",
            "_model_module": "@jupyter-widgets/output"
          }
        },
        "20364254d86e4f82884c5410d97a5c83": {
          "model_module": "@jupyter-widgets/base",
          "model_name": "LayoutModel",
          "state": {
            "_view_name": "LayoutView",
            "grid_template_rows": null,
            "right": null,
            "justify_content": null,
            "_view_module": "@jupyter-widgets/base",
            "overflow": null,
            "_model_module_version": "1.2.0",
            "_view_count": null,
            "flex_flow": null,
            "width": null,
            "min_width": null,
            "border": null,
            "align_items": null,
            "bottom": null,
            "_model_module": "@jupyter-widgets/base",
            "top": null,
            "grid_column": null,
            "overflow_y": null,
            "overflow_x": null,
            "grid_auto_flow": null,
            "grid_area": null,
            "grid_template_columns": null,
            "flex": null,
            "_model_name": "LayoutModel",
            "justify_items": null,
            "grid_row": null,
            "max_height": null,
            "align_content": null,
            "visibility": null,
            "align_self": null,
            "height": null,
            "min_height": null,
            "padding": null,
            "grid_auto_rows": null,
            "grid_gap": null,
            "max_width": null,
            "order": null,
            "_view_module_version": "1.2.0",
            "grid_template_areas": null,
            "object_position": null,
            "object_fit": null,
            "grid_auto_columns": null,
            "margin": null,
            "display": null,
            "left": null
          }
        },
        "9d18d05cda474f4abf521729f8b8858d": {
          "model_module": "@jupyter-widgets/base",
          "model_name": "LayoutModel",
          "state": {
            "_view_name": "LayoutView",
            "grid_template_rows": null,
            "right": null,
            "justify_content": null,
            "_view_module": "@jupyter-widgets/base",
            "overflow": null,
            "_model_module_version": "1.2.0",
            "_view_count": null,
            "flex_flow": null,
            "width": null,
            "min_width": null,
            "border": null,
            "align_items": null,
            "bottom": null,
            "_model_module": "@jupyter-widgets/base",
            "top": null,
            "grid_column": null,
            "overflow_y": null,
            "overflow_x": null,
            "grid_auto_flow": null,
            "grid_area": null,
            "grid_template_columns": null,
            "flex": null,
            "_model_name": "LayoutModel",
            "justify_items": null,
            "grid_row": null,
            "max_height": null,
            "align_content": null,
            "visibility": null,
            "align_self": null,
            "height": null,
            "min_height": null,
            "padding": null,
            "grid_auto_rows": null,
            "grid_gap": null,
            "max_width": null,
            "order": null,
            "_view_module_version": "1.2.0",
            "grid_template_areas": null,
            "object_position": null,
            "object_fit": null,
            "grid_auto_columns": null,
            "margin": null,
            "display": null,
            "left": null
          }
        },
        "dfb5363ebf84437491693291f03de1f8": {
          "model_module": "@jupyter-widgets/controls",
          "model_name": "TabModel",
          "state": {
            "_view_name": "TabView",
            "_dom_classes": [],
            "_titles": {
              "0": "Youtube",
              "1": "Bilibili"
            },
            "_model_name": "TabModel",
            "_view_module": "@jupyter-widgets/controls",
            "selected_index": 0,
            "_model_module_version": "1.5.0",
            "_view_count": null,
            "_view_module_version": "1.5.0",
            "box_style": "",
            "layout": "IPY_MODEL_adf33e75e3b8468ab3c809655b780d93",
            "_model_module": "@jupyter-widgets/controls",
            "children": [
              "IPY_MODEL_44e0025ad04f403db8c18ec706da1c10",
              "IPY_MODEL_b536e618188247a2ad1b0570b2420bbd"
            ]
          }
        },
        "adf33e75e3b8468ab3c809655b780d93": {
          "model_module": "@jupyter-widgets/base",
          "model_name": "LayoutModel",
          "state": {
            "_view_name": "LayoutView",
            "grid_template_rows": null,
            "right": null,
            "justify_content": null,
            "_view_module": "@jupyter-widgets/base",
            "overflow": null,
            "_model_module_version": "1.2.0",
            "_view_count": null,
            "flex_flow": null,
            "width": null,
            "min_width": null,
            "border": null,
            "align_items": null,
            "bottom": null,
            "_model_module": "@jupyter-widgets/base",
            "top": null,
            "grid_column": null,
            "overflow_y": null,
            "overflow_x": null,
            "grid_auto_flow": null,
            "grid_area": null,
            "grid_template_columns": null,
            "flex": null,
            "_model_name": "LayoutModel",
            "justify_items": null,
            "grid_row": null,
            "max_height": null,
            "align_content": null,
            "visibility": null,
            "align_self": null,
            "height": null,
            "min_height": null,
            "padding": null,
            "grid_auto_rows": null,
            "grid_gap": null,
            "max_width": null,
            "order": null,
            "_view_module_version": "1.2.0",
            "grid_template_areas": null,
            "object_position": null,
            "object_fit": null,
            "grid_auto_columns": null,
            "margin": null,
            "display": null,
            "left": null
          }
        },
        "44e0025ad04f403db8c18ec706da1c10": {
          "model_module": "@jupyter-widgets/output",
          "model_name": "OutputModel",
          "state": {
            "_view_name": "OutputView",
            "msg_id": "",
            "_dom_classes": [],
            "_model_name": "OutputModel",
            "outputs": [
              {
                "output_type": "stream",
                "metadata": {
                  "tags": []
                },
                "text": "Video available at https://youtube.com/watch?v=Yv8MDjdm1l4\n",
                "stream": "stdout"
              },
              {
                "output_type": "display_data",
                "metadata": {
                  "tags": []
                },
                "text/html": "\n        <iframe\n            width=\"854\"\n            height=\"480\"\n            src=\"https://www.youtube.com/embed/Yv8MDjdm1l4?fs=1&rel=0\"\n            frameborder=\"0\"\n            allowfullscreen\n        ></iframe>\n        ",
                "text/plain": "<IPython.lib.display.YouTubeVideo at 0x7f80f2154290>",
                "image/jpeg": "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\n"
              }
            ],
            "_view_module": "@jupyter-widgets/output",
            "_model_module_version": "1.0.0",
            "_view_count": null,
            "_view_module_version": "1.0.0",
            "layout": "IPY_MODEL_f6ead1e4ec384a588697640b7c0f5c04",
            "_model_module": "@jupyter-widgets/output"
          }
        },
        "b536e618188247a2ad1b0570b2420bbd": {
          "model_module": "@jupyter-widgets/output",
          "model_name": "OutputModel",
          "state": {
            "_view_name": "OutputView",
            "msg_id": "",
            "_dom_classes": [],
            "_model_name": "OutputModel",
            "outputs": [
              {
                "output_type": "stream",
                "metadata": {
                  "tags": []
                },
                "text": "Video available at https://www.bilibili.com/video/BV1EK4y1u7AV\n",
                "stream": "stdout"
              },
              {
                "output_type": "display_data",
                "metadata": {
                  "tags": []
                },
                "text/html": "\n        <iframe\n            width=\"854\"\n            height=\"480\"\n            src=\"https://player.bilibili.com/player.html?bvid=BV1EK4y1u7AV&page=1?fs=1\"\n            frameborder=\"0\"\n            allowfullscreen\n        ></iframe>\n        ",
                "text/plain": "<__main__.BiliVideo at 0x7f80f28cff10>"
              }
            ],
            "_view_module": "@jupyter-widgets/output",
            "_model_module_version": "1.0.0",
            "_view_count": null,
            "_view_module_version": "1.0.0",
            "layout": "IPY_MODEL_cf47a7fb5aeb49c08aa783d54a62019c",
            "_model_module": "@jupyter-widgets/output"
          }
        },
        "f6ead1e4ec384a588697640b7c0f5c04": {
          "model_module": "@jupyter-widgets/base",
          "model_name": "LayoutModel",
          "state": {
            "_view_name": "LayoutView",
            "grid_template_rows": null,
            "right": null,
            "justify_content": null,
            "_view_module": "@jupyter-widgets/base",
            "overflow": null,
            "_model_module_version": "1.2.0",
            "_view_count": null,
            "flex_flow": null,
            "width": null,
            "min_width": null,
            "border": null,
            "align_items": null,
            "bottom": null,
            "_model_module": "@jupyter-widgets/base",
            "top": null,
            "grid_column": null,
            "overflow_y": null,
            "overflow_x": null,
            "grid_auto_flow": null,
            "grid_area": null,
            "grid_template_columns": null,
            "flex": null,
            "_model_name": "LayoutModel",
            "justify_items": null,
            "grid_row": null,
            "max_height": null,
            "align_content": null,
            "visibility": null,
            "align_self": null,
            "height": null,
            "min_height": null,
            "padding": null,
            "grid_auto_rows": null,
            "grid_gap": null,
            "max_width": null,
            "order": null,
            "_view_module_version": "1.2.0",
            "grid_template_areas": null,
            "object_position": null,
            "object_fit": null,
            "grid_auto_columns": null,
            "margin": null,
            "display": null,
            "left": null
          }
        },
        "cf47a7fb5aeb49c08aa783d54a62019c": {
          "model_module": "@jupyter-widgets/base",
          "model_name": "LayoutModel",
          "state": {
            "_view_name": "LayoutView",
            "grid_template_rows": null,
            "right": null,
            "justify_content": null,
            "_view_module": "@jupyter-widgets/base",
            "overflow": null,
            "_model_module_version": "1.2.0",
            "_view_count": null,
            "flex_flow": null,
            "width": null,
            "min_width": null,
            "border": null,
            "align_items": null,
            "bottom": null,
            "_model_module": "@jupyter-widgets/base",
            "top": null,
            "grid_column": null,
            "overflow_y": null,
            "overflow_x": null,
            "grid_auto_flow": null,
            "grid_area": null,
            "grid_template_columns": null,
            "flex": null,
            "_model_name": "LayoutModel",
            "justify_items": null,
            "grid_row": null,
            "max_height": null,
            "align_content": null,
            "visibility": null,
            "align_self": null,
            "height": null,
            "min_height": null,
            "padding": null,
            "grid_auto_rows": null,
            "grid_gap": null,
            "max_width": null,
            "order": null,
            "_view_module_version": "1.2.0",
            "grid_template_areas": null,
            "object_position": null,
            "object_fit": null,
            "grid_auto_columns": null,
            "margin": null,
            "display": null,
            "left": null
          }
        },
        "1ade6a16eaad4db9bccb3db7cb0dc1c8": {
          "model_module": "@jupyter-widgets/controls",
          "model_name": "TabModel",
          "state": {
            "_view_name": "TabView",
            "_dom_classes": [],
            "_titles": {
              "0": "Youtube",
              "1": "Bilibili"
            },
            "_model_name": "TabModel",
            "_view_module": "@jupyter-widgets/controls",
            "selected_index": 0,
            "_model_module_version": "1.5.0",
            "_view_count": null,
            "_view_module_version": "1.5.0",
            "box_style": "",
            "layout": "IPY_MODEL_f897a8b397fa4391a7baa158e00d8526",
            "_model_module": "@jupyter-widgets/controls",
            "children": [
              "IPY_MODEL_bfe3c92a1dae403d8e0bd01e63f27429",
              "IPY_MODEL_87483729609043b4bd05535819b07a66"
            ]
          }
        },
        "f897a8b397fa4391a7baa158e00d8526": {
          "model_module": "@jupyter-widgets/base",
          "model_name": "LayoutModel",
          "state": {
            "_view_name": "LayoutView",
            "grid_template_rows": null,
            "right": null,
            "justify_content": null,
            "_view_module": "@jupyter-widgets/base",
            "overflow": null,
            "_model_module_version": "1.2.0",
            "_view_count": null,
            "flex_flow": null,
            "width": null,
            "min_width": null,
            "border": null,
            "align_items": null,
            "bottom": null,
            "_model_module": "@jupyter-widgets/base",
            "top": null,
            "grid_column": null,
            "overflow_y": null,
            "overflow_x": null,
            "grid_auto_flow": null,
            "grid_area": null,
            "grid_template_columns": null,
            "flex": null,
            "_model_name": "LayoutModel",
            "justify_items": null,
            "grid_row": null,
            "max_height": null,
            "align_content": null,
            "visibility": null,
            "align_self": null,
            "height": null,
            "min_height": null,
            "padding": null,
            "grid_auto_rows": null,
            "grid_gap": null,
            "max_width": null,
            "order": null,
            "_view_module_version": "1.2.0",
            "grid_template_areas": null,
            "object_position": null,
            "object_fit": null,
            "grid_auto_columns": null,
            "margin": null,
            "display": null,
            "left": null
          }
        },
        "bfe3c92a1dae403d8e0bd01e63f27429": {
          "model_module": "@jupyter-widgets/output",
          "model_name": "OutputModel",
          "state": {
            "_view_name": "OutputView",
            "msg_id": "",
            "_dom_classes": [],
            "_model_name": "OutputModel",
            "outputs": [
              {
                "output_type": "stream",
                "metadata": {
                  "tags": []
                },
                "text": "Video available at https://youtube.com/watch?v=iprFMHch2_g\n",
                "stream": "stdout"
              },
              {
                "output_type": "display_data",
                "metadata": {
                  "tags": []
                },
                "text/html": "\n        <iframe\n            width=\"854\"\n            height=\"480\"\n            src=\"https://www.youtube.com/embed/iprFMHch2_g?fs=1&rel=0\"\n            frameborder=\"0\"\n            allowfullscreen\n        ></iframe>\n        ",
                "text/plain": "<IPython.lib.display.YouTubeVideo at 0x7f80f2154290>",
                "image/jpeg": "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\n"
              }
            ],
            "_view_module": "@jupyter-widgets/output",
            "_model_module_version": "1.0.0",
            "_view_count": null,
            "_view_module_version": "1.0.0",
            "layout": "IPY_MODEL_95e449f8257e441488786cdaadac3f84",
            "_model_module": "@jupyter-widgets/output"
          }
        },
        "87483729609043b4bd05535819b07a66": {
          "model_module": "@jupyter-widgets/output",
          "model_name": "OutputModel",
          "state": {
            "_view_name": "OutputView",
            "msg_id": "",
            "_dom_classes": [],
            "_model_name": "OutputModel",
            "outputs": [
              {
                "output_type": "stream",
                "metadata": {
                  "tags": []
                },
                "text": "Video available at https://www.bilibili.com/video/BV1Zq4y1p7N6\n",
                "stream": "stdout"
              },
              {
                "output_type": "display_data",
                "metadata": {
                  "tags": []
                },
                "text/html": "\n        <iframe\n            width=\"854\"\n            height=\"480\"\n            src=\"https://player.bilibili.com/player.html?bvid=BV1Zq4y1p7N6&page=1?fs=1\"\n            frameborder=\"0\"\n            allowfullscreen\n        ></iframe>\n        ",
                "text/plain": "<__main__.BiliVideo at 0x7f80f28e73d0>"
              }
            ],
            "_view_module": "@jupyter-widgets/output",
            "_model_module_version": "1.0.0",
            "_view_count": null,
            "_view_module_version": "1.0.0",
            "layout": "IPY_MODEL_73aacecf0dd14f7589607fb6f59769d7",
            "_model_module": "@jupyter-widgets/output"
          }
        },
        "95e449f8257e441488786cdaadac3f84": {
          "model_module": "@jupyter-widgets/base",
          "model_name": "LayoutModel",
          "state": {
            "_view_name": "LayoutView",
            "grid_template_rows": null,
            "right": null,
            "justify_content": null,
            "_view_module": "@jupyter-widgets/base",
            "overflow": null,
            "_model_module_version": "1.2.0",
            "_view_count": null,
            "flex_flow": null,
            "width": null,
            "min_width": null,
            "border": null,
            "align_items": null,
            "bottom": null,
            "_model_module": "@jupyter-widgets/base",
            "top": null,
            "grid_column": null,
            "overflow_y": null,
            "overflow_x": null,
            "grid_auto_flow": null,
            "grid_area": null,
            "grid_template_columns": null,
            "flex": null,
            "_model_name": "LayoutModel",
            "justify_items": null,
            "grid_row": null,
            "max_height": null,
            "align_content": null,
            "visibility": null,
            "align_self": null,
            "height": null,
            "min_height": null,
            "padding": null,
            "grid_auto_rows": null,
            "grid_gap": null,
            "max_width": null,
            "order": null,
            "_view_module_version": "1.2.0",
            "grid_template_areas": null,
            "object_position": null,
            "object_fit": null,
            "grid_auto_columns": null,
            "margin": null,
            "display": null,
            "left": null
          }
        },
        "73aacecf0dd14f7589607fb6f59769d7": {
          "model_module": "@jupyter-widgets/base",
          "model_name": "LayoutModel",
          "state": {
            "_view_name": "LayoutView",
            "grid_template_rows": null,
            "right": null,
            "justify_content": null,
            "_view_module": "@jupyter-widgets/base",
            "overflow": null,
            "_model_module_version": "1.2.0",
            "_view_count": null,
            "flex_flow": null,
            "width": null,
            "min_width": null,
            "border": null,
            "align_items": null,
            "bottom": null,
            "_model_module": "@jupyter-widgets/base",
            "top": null,
            "grid_column": null,
            "overflow_y": null,
            "overflow_x": null,
            "grid_auto_flow": null,
            "grid_area": null,
            "grid_template_columns": null,
            "flex": null,
            "_model_name": "LayoutModel",
            "justify_items": null,
            "grid_row": null,
            "max_height": null,
            "align_content": null,
            "visibility": null,
            "align_self": null,
            "height": null,
            "min_height": null,
            "padding": null,
            "grid_auto_rows": null,
            "grid_gap": null,
            "max_width": null,
            "order": null,
            "_view_module_version": "1.2.0",
            "grid_template_areas": null,
            "object_position": null,
            "object_fit": null,
            "grid_auto_columns": null,
            "margin": null,
            "display": null,
            "left": null
          }
        },
        "dd4c7b295ffb4339aa522470f5090462": {
          "model_module": "@jupyter-widgets/controls",
          "model_name": "VBoxModel",
          "state": {
            "_view_name": "VBoxView",
            "_dom_classes": [
              "widget-interact"
            ],
            "_model_name": "VBoxModel",
            "_view_module": "@jupyter-widgets/controls",
            "_model_module_version": "1.5.0",
            "_view_count": null,
            "_view_module_version": "1.5.0",
            "box_style": "",
            "layout": "IPY_MODEL_7666b1096882477da261a1ff7ac1490f",
            "_model_module": "@jupyter-widgets/controls",
            "children": [
              "IPY_MODEL_ef560594ac6d4c86949b5b65a64d5a29",
              "IPY_MODEL_c5fb66a4e98b4a0abb12f7dcfe472b9e",
              "IPY_MODEL_37efca79a26d47d69945367266d42405",
              "IPY_MODEL_fad96347fc0647a1a1a07e6a4805c9f8"
            ]
          }
        },
        "7666b1096882477da261a1ff7ac1490f": {
          "model_module": "@jupyter-widgets/base",
          "model_name": "LayoutModel",
          "state": {
            "_view_name": "LayoutView",
            "grid_template_rows": null,
            "right": null,
            "justify_content": null,
            "_view_module": "@jupyter-widgets/base",
            "overflow": null,
            "_model_module_version": "1.2.0",
            "_view_count": null,
            "flex_flow": null,
            "width": null,
            "min_width": null,
            "border": null,
            "align_items": null,
            "bottom": null,
            "_model_module": "@jupyter-widgets/base",
            "top": null,
            "grid_column": null,
            "overflow_y": null,
            "overflow_x": null,
            "grid_auto_flow": null,
            "grid_area": null,
            "grid_template_columns": null,
            "flex": null,
            "_model_name": "LayoutModel",
            "justify_items": null,
            "grid_row": null,
            "max_height": null,
            "align_content": null,
            "visibility": null,
            "align_self": null,
            "height": null,
            "min_height": null,
            "padding": null,
            "grid_auto_rows": null,
            "grid_gap": null,
            "max_width": null,
            "order": null,
            "_view_module_version": "1.2.0",
            "grid_template_areas": null,
            "object_position": null,
            "object_fit": null,
            "grid_auto_columns": null,
            "margin": null,
            "display": null,
            "left": null
          }
        },
        "ef560594ac6d4c86949b5b65a64d5a29": {
          "model_module": "@jupyter-widgets/controls",
          "model_name": "FloatSliderModel",
          "state": {
            "_view_name": "FloatSliderView",
            "style": "IPY_MODEL_62002ac8601d47cd809b62b874b734ce",
            "_dom_classes": [],
            "description": "p(color=golden)",
            "step": 0.01,
            "_model_name": "FloatSliderModel",
            "orientation": "horizontal",
            "max": 0.99,
            "_view_module": "@jupyter-widgets/controls",
            "_model_module_version": "1.5.0",
            "value": 0.8,
            "_view_count": null,
            "disabled": false,
            "_view_module_version": "1.5.0",
            "min": 0.01,
            "continuous_update": true,
            "readout_format": ".2f",
            "description_tooltip": null,
            "readout": true,
            "_model_module": "@jupyter-widgets/controls",
            "layout": "IPY_MODEL_e2c079a934bd40e3a3212c67c2cd362c"
          }
        },
        "c5fb66a4e98b4a0abb12f7dcfe472b9e": {
          "model_module": "@jupyter-widgets/controls",
          "model_name": "FloatSliderModel",
          "state": {
            "_view_name": "FloatSliderView",
            "style": "IPY_MODEL_1857f8f6f51a46888f3701ddca7a9245",
            "_dom_classes": [],
            "description": "p(size=large)",
            "step": 0.01,
            "_model_name": "FloatSliderModel",
            "orientation": "horizontal",
            "max": 0.99,
            "_view_module": "@jupyter-widgets/controls",
            "_model_module_version": "1.5.0",
            "value": 0.81,
            "_view_count": null,
            "disabled": false,
            "_view_module_version": "1.5.0",
            "min": 0.01,
            "continuous_update": true,
            "readout_format": ".2f",
            "description_tooltip": null,
            "readout": true,
            "_model_module": "@jupyter-widgets/controls",
            "layout": "IPY_MODEL_46624c6f95b64dec94253232b63c1a00"
          }
        },
        "37efca79a26d47d69945367266d42405": {
          "model_module": "@jupyter-widgets/controls",
          "model_name": "FloatSliderModel",
          "state": {
            "_view_name": "FloatSliderView",
            "style": "IPY_MODEL_2cdec9e1ff37441ca337f1b2cc3db705",
            "_dom_classes": [],
            "description": "ρ",
            "step": 0.01,
            "_model_name": "FloatSliderModel",
            "orientation": "horizontal",
            "max": 0.958644209675705,
            "_view_module": "@jupyter-widgets/controls",
            "_model_module_version": "1.5.0",
            "value": 0.9578389475810737,
            "_view_count": null,
            "disabled": false,
            "_view_module_version": "1.5.0",
            "min": -0.23216105241892623,
            "continuous_update": true,
            "readout_format": ".2f",
            "description_tooltip": null,
            "readout": true,
            "_model_module": "@jupyter-widgets/controls",
            "layout": "IPY_MODEL_47a14fe3a9314384a7bf57b82dc2f6fc"
          }
        },
        "fad96347fc0647a1a1a07e6a4805c9f8": {
          "model_module": "@jupyter-widgets/output",
          "model_name": "OutputModel",
          "state": {
            "_view_name": "OutputView",
            "msg_id": "",
            "_dom_classes": [],
            "_model_name": "OutputModel",
            "outputs": [
              {
                "output_type": "display_data",
                "metadata": {
                  "tags": [],
                  "image/png": {
                    "width": 401,
                    "height": 361
                  },
                  "needs_background": "light"
                },
                "image/png": "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\n",
                "text/plain": "<Figure size 360x360 with 3 Axes>"
              }
            ],
            "_view_module": "@jupyter-widgets/output",
            "_model_module_version": "1.0.0",
            "_view_count": null,
            "_view_module_version": "1.0.0",
            "layout": "IPY_MODEL_aa897c2392a342bb8a325f7dd97a592c",
            "_model_module": "@jupyter-widgets/output"
          }
        },
        "62002ac8601d47cd809b62b874b734ce": {
          "model_module": "@jupyter-widgets/controls",
          "model_name": "SliderStyleModel",
          "state": {
            "_view_name": "StyleView",
            "handle_color": null,
            "_model_name": "SliderStyleModel",
            "description_width": "initial",
            "_view_module": "@jupyter-widgets/base",
            "_model_module_version": "1.5.0",
            "_view_count": null,
            "_view_module_version": "1.2.0",
            "_model_module": "@jupyter-widgets/controls"
          }
        },
        "e2c079a934bd40e3a3212c67c2cd362c": {
          "model_module": "@jupyter-widgets/base",
          "model_name": "LayoutModel",
          "state": {
            "_view_name": "LayoutView",
            "grid_template_rows": null,
            "right": null,
            "justify_content": null,
            "_view_module": "@jupyter-widgets/base",
            "overflow": null,
            "_model_module_version": "1.2.0",
            "_view_count": null,
            "flex_flow": null,
            "width": null,
            "min_width": null,
            "border": null,
            "align_items": null,
            "bottom": null,
            "_model_module": "@jupyter-widgets/base",
            "top": null,
            "grid_column": null,
            "overflow_y": null,
            "overflow_x": null,
            "grid_auto_flow": null,
            "grid_area": "widget002",
            "grid_template_columns": null,
            "flex": null,
            "_model_name": "LayoutModel",
            "justify_items": null,
            "grid_row": null,
            "max_height": null,
            "align_content": null,
            "visibility": null,
            "align_self": null,
            "height": null,
            "min_height": null,
            "padding": null,
            "grid_auto_rows": null,
            "grid_gap": null,
            "max_width": null,
            "order": null,
            "_view_module_version": "1.2.0",
            "grid_template_areas": null,
            "object_position": null,
            "object_fit": null,
            "grid_auto_columns": null,
            "margin": null,
            "display": null,
            "left": null
          }
        },
        "1857f8f6f51a46888f3701ddca7a9245": {
          "model_module": "@jupyter-widgets/controls",
          "model_name": "SliderStyleModel",
          "state": {
            "_view_name": "StyleView",
            "handle_color": null,
            "_model_name": "SliderStyleModel",
            "description_width": "initial",
            "_view_module": "@jupyter-widgets/base",
            "_model_module_version": "1.5.0",
            "_view_count": null,
            "_view_module_version": "1.2.0",
            "_model_module": "@jupyter-widgets/controls"
          }
        },
        "46624c6f95b64dec94253232b63c1a00": {
          "model_module": "@jupyter-widgets/base",
          "model_name": "LayoutModel",
          "state": {
            "_view_name": "LayoutView",
            "grid_template_rows": null,
            "right": null,
            "justify_content": null,
            "_view_module": "@jupyter-widgets/base",
            "overflow": null,
            "_model_module_version": "1.2.0",
            "_view_count": null,
            "flex_flow": null,
            "width": null,
            "min_width": null,
            "border": null,
            "align_items": null,
            "bottom": null,
            "_model_module": "@jupyter-widgets/base",
            "top": null,
            "grid_column": null,
            "overflow_y": null,
            "overflow_x": null,
            "grid_auto_flow": null,
            "grid_area": "widget003",
            "grid_template_columns": null,
            "flex": null,
            "_model_name": "LayoutModel",
            "justify_items": null,
            "grid_row": null,
            "max_height": null,
            "align_content": null,
            "visibility": null,
            "align_self": null,
            "height": null,
            "min_height": null,
            "padding": null,
            "grid_auto_rows": null,
            "grid_gap": null,
            "max_width": null,
            "order": null,
            "_view_module_version": "1.2.0",
            "grid_template_areas": null,
            "object_position": null,
            "object_fit": null,
            "grid_auto_columns": null,
            "margin": null,
            "display": null,
            "left": null
          }
        },
        "2cdec9e1ff37441ca337f1b2cc3db705": {
          "model_module": "@jupyter-widgets/controls",
          "model_name": "SliderStyleModel",
          "state": {
            "_view_name": "StyleView",
            "handle_color": null,
            "_model_name": "SliderStyleModel",
            "description_width": "",
            "_view_module": "@jupyter-widgets/base",
            "_model_module_version": "1.5.0",
            "_view_count": null,
            "_view_module_version": "1.2.0",
            "_model_module": "@jupyter-widgets/controls"
          }
        },
        "47a14fe3a9314384a7bf57b82dc2f6fc": {
          "model_module": "@jupyter-widgets/base",
          "model_name": "LayoutModel",
          "state": {
            "_view_name": "LayoutView",
            "grid_template_rows": null,
            "right": null,
            "justify_content": null,
            "_view_module": "@jupyter-widgets/base",
            "overflow": null,
            "_model_module_version": "1.2.0",
            "_view_count": null,
            "flex_flow": null,
            "width": null,
            "min_width": null,
            "border": null,
            "align_items": null,
            "bottom": null,
            "_model_module": "@jupyter-widgets/base",
            "top": null,
            "grid_column": null,
            "overflow_y": null,
            "overflow_x": null,
            "grid_auto_flow": null,
            "grid_area": "widget001",
            "grid_template_columns": null,
            "flex": null,
            "_model_name": "LayoutModel",
            "justify_items": null,
            "grid_row": null,
            "max_height": null,
            "align_content": null,
            "visibility": null,
            "align_self": null,
            "height": null,
            "min_height": null,
            "padding": null,
            "grid_auto_rows": null,
            "grid_gap": null,
            "max_width": null,
            "order": null,
            "_view_module_version": "1.2.0",
            "grid_template_areas": null,
            "object_position": null,
            "object_fit": null,
            "grid_auto_columns": null,
            "margin": null,
            "display": null,
            "left": null
          }
        },
        "aa897c2392a342bb8a325f7dd97a592c": {
          "model_module": "@jupyter-widgets/base",
          "model_name": "LayoutModel",
          "state": {
            "_view_name": "LayoutView",
            "grid_template_rows": null,
            "right": null,
            "justify_content": null,
            "_view_module": "@jupyter-widgets/base",
            "overflow": null,
            "_model_module_version": "1.2.0",
            "_view_count": null,
            "flex_flow": null,
            "width": null,
            "min_width": null,
            "border": null,
            "align_items": null,
            "bottom": null,
            "_model_module": "@jupyter-widgets/base",
            "top": null,
            "grid_column": null,
            "overflow_y": null,
            "overflow_x": null,
            "grid_auto_flow": null,
            "grid_area": null,
            "grid_template_columns": null,
            "flex": null,
            "_model_name": "LayoutModel",
            "justify_items": null,
            "grid_row": null,
            "max_height": null,
            "align_content": null,
            "visibility": null,
            "align_self": null,
            "height": null,
            "min_height": null,
            "padding": null,
            "grid_auto_rows": null,
            "grid_gap": null,
            "max_width": null,
            "order": null,
            "_view_module_version": "1.2.0",
            "grid_template_areas": null,
            "object_position": null,
            "object_fit": null,
            "grid_auto_columns": null,
            "margin": null,
            "display": null,
            "left": null
          }
        },
        "d038fa8aebd34bad96c8e117fe89b880": {
          "model_module": "@jupyter-widgets/controls",
          "model_name": "TabModel",
          "state": {
            "_view_name": "TabView",
            "_dom_classes": [],
            "_titles": {
              "0": "Youtube",
              "1": "Bilibili"
            },
            "_model_name": "TabModel",
            "_view_module": "@jupyter-widgets/controls",
            "selected_index": 0,
            "_model_module_version": "1.5.0",
            "_view_count": null,
            "_view_module_version": "1.5.0",
            "box_style": "",
            "layout": "IPY_MODEL_e3b433c83e9949719a25bc8347bec0d4",
            "_model_module": "@jupyter-widgets/controls",
            "children": [
              "IPY_MODEL_b491d0f6f244459787c851a765445879",
              "IPY_MODEL_7e73a4e9930b462cab206e19ea7e18db"
            ]
          }
        },
        "e3b433c83e9949719a25bc8347bec0d4": {
          "model_module": "@jupyter-widgets/base",
          "model_name": "LayoutModel",
          "state": {
            "_view_name": "LayoutView",
            "grid_template_rows": null,
            "right": null,
            "justify_content": null,
            "_view_module": "@jupyter-widgets/base",
            "overflow": null,
            "_model_module_version": "1.2.0",
            "_view_count": null,
            "flex_flow": null,
            "width": null,
            "min_width": null,
            "border": null,
            "align_items": null,
            "bottom": null,
            "_model_module": "@jupyter-widgets/base",
            "top": null,
            "grid_column": null,
            "overflow_y": null,
            "overflow_x": null,
            "grid_auto_flow": null,
            "grid_area": null,
            "grid_template_columns": null,
            "flex": null,
            "_model_name": "LayoutModel",
            "justify_items": null,
            "grid_row": null,
            "max_height": null,
            "align_content": null,
            "visibility": null,
            "align_self": null,
            "height": null,
            "min_height": null,
            "padding": null,
            "grid_auto_rows": null,
            "grid_gap": null,
            "max_width": null,
            "order": null,
            "_view_module_version": "1.2.0",
            "grid_template_areas": null,
            "object_position": null,
            "object_fit": null,
            "grid_auto_columns": null,
            "margin": null,
            "display": null,
            "left": null
          }
        },
        "b491d0f6f244459787c851a765445879": {
          "model_module": "@jupyter-widgets/output",
          "model_name": "OutputModel",
          "state": {
            "_view_name": "OutputView",
            "msg_id": "",
            "_dom_classes": [],
            "_model_name": "OutputModel",
            "outputs": [
              {
                "output_type": "stream",
                "metadata": {
                  "tags": []
                },
                "text": "Video available at https://youtube.com/watch?v=cOAJQ4utwD0\n",
                "stream": "stdout"
              },
              {
                "output_type": "display_data",
                "metadata": {
                  "tags": []
                },
                "text/html": "\n        <iframe\n            width=\"854\"\n            height=\"480\"\n            src=\"https://www.youtube.com/embed/cOAJQ4utwD0?fs=1&rel=0\"\n            frameborder=\"0\"\n            allowfullscreen\n        ></iframe>\n        ",
                "text/plain": "<IPython.lib.display.YouTubeVideo at 0x7f80f2154410>",
                "image/jpeg": "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\n"
              }
            ],
            "_view_module": "@jupyter-widgets/output",
            "_model_module_version": "1.0.0",
            "_view_count": null,
            "_view_module_version": "1.0.0",
            "layout": "IPY_MODEL_08308948b2a14f09a61c3fd240977242",
            "_model_module": "@jupyter-widgets/output"
          }
        },
        "7e73a4e9930b462cab206e19ea7e18db": {
          "model_module": "@jupyter-widgets/output",
          "model_name": "OutputModel",
          "state": {
            "_view_name": "OutputView",
            "msg_id": "",
            "_dom_classes": [],
            "_model_name": "OutputModel",
            "outputs": [
              {
                "output_type": "stream",
                "metadata": {
                  "tags": []
                },
                "text": "Video available at https://www.bilibili.com/video/BV1fK4y1M7EC\n",
                "stream": "stdout"
              },
              {
                "output_type": "display_data",
                "metadata": {
                  "tags": []
                },
                "text/html": "\n        <iframe\n            width=\"854\"\n            height=\"480\"\n            src=\"https://player.bilibili.com/player.html?bvid=BV1fK4y1M7EC&page=1?fs=1\"\n            frameborder=\"0\"\n            allowfullscreen\n        ></iframe>\n        ",
                "text/plain": "<__main__.BiliVideo at 0x7f80f2e24ad0>"
              }
            ],
            "_view_module": "@jupyter-widgets/output",
            "_model_module_version": "1.0.0",
            "_view_count": null,
            "_view_module_version": "1.0.0",
            "layout": "IPY_MODEL_c4f03b74dd5a47acb9b4a75dbe2657ca",
            "_model_module": "@jupyter-widgets/output"
          }
        },
        "08308948b2a14f09a61c3fd240977242": {
          "model_module": "@jupyter-widgets/base",
          "model_name": "LayoutModel",
          "state": {
            "_view_name": "LayoutView",
            "grid_template_rows": null,
            "right": null,
            "justify_content": null,
            "_view_module": "@jupyter-widgets/base",
            "overflow": null,
            "_model_module_version": "1.2.0",
            "_view_count": null,
            "flex_flow": null,
            "width": null,
            "min_width": null,
            "border": null,
            "align_items": null,
            "bottom": null,
            "_model_module": "@jupyter-widgets/base",
            "top": null,
            "grid_column": null,
            "overflow_y": null,
            "overflow_x": null,
            "grid_auto_flow": null,
            "grid_area": null,
            "grid_template_columns": null,
            "flex": null,
            "_model_name": "LayoutModel",
            "justify_items": null,
            "grid_row": null,
            "max_height": null,
            "align_content": null,
            "visibility": null,
            "align_self": null,
            "height": null,
            "min_height": null,
            "padding": null,
            "grid_auto_rows": null,
            "grid_gap": null,
            "max_width": null,
            "order": null,
            "_view_module_version": "1.2.0",
            "grid_template_areas": null,
            "object_position": null,
            "object_fit": null,
            "grid_auto_columns": null,
            "margin": null,
            "display": null,
            "left": null
          }
        },
        "c4f03b74dd5a47acb9b4a75dbe2657ca": {
          "model_module": "@jupyter-widgets/base",
          "model_name": "LayoutModel",
          "state": {
            "_view_name": "LayoutView",
            "grid_template_rows": null,
            "right": null,
            "justify_content": null,
            "_view_module": "@jupyter-widgets/base",
            "overflow": null,
            "_model_module_version": "1.2.0",
            "_view_count": null,
            "flex_flow": null,
            "width": null,
            "min_width": null,
            "border": null,
            "align_items": null,
            "bottom": null,
            "_model_module": "@jupyter-widgets/base",
            "top": null,
            "grid_column": null,
            "overflow_y": null,
            "overflow_x": null,
            "grid_auto_flow": null,
            "grid_area": null,
            "grid_template_columns": null,
            "flex": null,
            "_model_name": "LayoutModel",
            "justify_items": null,
            "grid_row": null,
            "max_height": null,
            "align_content": null,
            "visibility": null,
            "align_self": null,
            "height": null,
            "min_height": null,
            "padding": null,
            "grid_auto_rows": null,
            "grid_gap": null,
            "max_width": null,
            "order": null,
            "_view_module_version": "1.2.0",
            "grid_template_areas": null,
            "object_position": null,
            "object_fit": null,
            "grid_auto_columns": null,
            "margin": null,
            "display": null,
            "left": null
          }
        },
        "aeea453e40a24d8ea7e25f1bca0e5ce0": {
          "model_module": "@jupyter-widgets/controls",
          "model_name": "VBoxModel",
          "state": {
            "_view_name": "VBoxView",
            "_dom_classes": [],
            "_model_name": "VBoxModel",
            "_view_module": "@jupyter-widgets/controls",
            "_model_module_version": "1.5.0",
            "_view_count": null,
            "_view_module_version": "1.5.0",
            "box_style": "",
            "layout": "IPY_MODEL_dc0a00808e594baa814a964dfd18c5a8",
            "_model_module": "@jupyter-widgets/controls",
            "children": [
              "IPY_MODEL_3e5e760296554e3f894df8e987fcba42",
              "IPY_MODEL_557efe8ffef746dd82bcfec76741a87c",
              "IPY_MODEL_f8151485d3ad40a09067fcca5f5e594a"
            ]
          }
        },
        "dc0a00808e594baa814a964dfd18c5a8": {
          "model_module": "@jupyter-widgets/base",
          "model_name": "LayoutModel",
          "state": {
            "_view_name": "LayoutView",
            "grid_template_rows": null,
            "right": null,
            "justify_content": null,
            "_view_module": "@jupyter-widgets/base",
            "overflow": null,
            "_model_module_version": "1.2.0",
            "_view_count": null,
            "flex_flow": null,
            "width": null,
            "min_width": null,
            "border": null,
            "align_items": null,
            "bottom": null,
            "_model_module": "@jupyter-widgets/base",
            "top": null,
            "grid_column": null,
            "overflow_y": null,
            "overflow_x": null,
            "grid_auto_flow": null,
            "grid_area": null,
            "grid_template_columns": null,
            "flex": null,
            "_model_name": "LayoutModel",
            "justify_items": null,
            "grid_row": null,
            "max_height": null,
            "align_content": null,
            "visibility": null,
            "align_self": null,
            "height": null,
            "min_height": null,
            "padding": null,
            "grid_auto_rows": null,
            "grid_gap": null,
            "max_width": null,
            "order": null,
            "_view_module_version": "1.2.0",
            "grid_template_areas": null,
            "object_position": null,
            "object_fit": null,
            "grid_auto_columns": null,
            "margin": null,
            "display": null,
            "left": null
          }
        },
        "3e5e760296554e3f894df8e987fcba42": {
          "model_module": "@jupyter-widgets/controls",
          "model_name": "FloatSliderModel",
          "state": {
            "_view_name": "FloatSliderView",
            "style": "IPY_MODEL_864f107cf0af4dbe9178f5dee7ff697e",
            "_dom_classes": [],
            "description": "p(s = left)",
            "step": 0.01,
            "_model_name": "FloatSliderModel",
            "orientation": "horizontal",
            "max": 0.99,
            "_view_module": "@jupyter-widgets/controls",
            "_model_module_version": "1.5.0",
            "value": 0.6,
            "_view_count": null,
            "disabled": false,
            "_view_module_version": "1.5.0",
            "min": 0.01,
            "continuous_update": true,
            "readout_format": ".2f",
            "description_tooltip": null,
            "readout": true,
            "_model_module": "@jupyter-widgets/controls",
            "layout": "IPY_MODEL_d84ad76983f143918c73955ab3d5044b"
          }
        },
        "557efe8ffef746dd82bcfec76741a87c": {
          "model_module": "@jupyter-widgets/controls",
          "model_name": "HBoxModel",
          "state": {
            "_view_name": "HBoxView",
            "_dom_classes": [],
            "_model_name": "HBoxModel",
            "_view_module": "@jupyter-widgets/controls",
            "_model_module_version": "1.5.0",
            "_view_count": null,
            "_view_module_version": "1.5.0",
            "box_style": "",
            "layout": "IPY_MODEL_43ebfd46ff9943839adfd23d3aa6bf22",
            "_model_module": "@jupyter-widgets/controls",
            "children": [
              "IPY_MODEL_11ea922a61b24227bffc1e47cc857cae",
              "IPY_MODEL_14f7c27a0e934fa88dd227fcd08e36b7"
            ]
          }
        },
        "f8151485d3ad40a09067fcca5f5e594a": {
          "model_module": "@jupyter-widgets/controls",
          "model_name": "ToggleButtonsModel",
          "state": {
            "_options_labels": [
              "Fish",
              "No Fish"
            ],
            "_view_name": "ToggleButtonsView",
            "style": "IPY_MODEL_427d18151e6e43019cadf2ae45bb5bec",
            "_dom_classes": [],
            "description": "Observation (m) on the left:",
            "_model_name": "ToggleButtonsModel",
            "tooltips": [],
            "index": 1,
            "button_style": "",
            "_view_module": "@jupyter-widgets/controls",
            "_model_module_version": "1.5.0",
            "_view_count": null,
            "disabled": false,
            "_view_module_version": "1.5.0",
            "icons": [],
            "description_tooltip": null,
            "_model_module": "@jupyter-widgets/controls",
            "layout": "IPY_MODEL_f50724b5d2bd4c21926185a58ffda289"
          }
        },
        "864f107cf0af4dbe9178f5dee7ff697e": {
          "model_module": "@jupyter-widgets/controls",
          "model_name": "SliderStyleModel",
          "state": {
            "_view_name": "StyleView",
            "handle_color": null,
            "_model_name": "SliderStyleModel",
            "description_width": "",
            "_view_module": "@jupyter-widgets/base",
            "_model_module_version": "1.5.0",
            "_view_count": null,
            "_view_module_version": "1.2.0",
            "_model_module": "@jupyter-widgets/controls"
          }
        },
        "d84ad76983f143918c73955ab3d5044b": {
          "model_module": "@jupyter-widgets/base",
          "model_name": "LayoutModel",
          "state": {
            "_view_name": "LayoutView",
            "grid_template_rows": null,
            "right": null,
            "justify_content": null,
            "_view_module": "@jupyter-widgets/base",
            "overflow": null,
            "_model_module_version": "1.2.0",
            "_view_count": null,
            "flex_flow": null,
            "width": null,
            "min_width": null,
            "border": null,
            "align_items": null,
            "bottom": null,
            "_model_module": "@jupyter-widgets/base",
            "top": null,
            "grid_column": null,
            "overflow_y": null,
            "overflow_x": null,
            "grid_auto_flow": null,
            "grid_area": null,
            "grid_template_columns": null,
            "flex": null,
            "_model_name": "LayoutModel",
            "justify_items": null,
            "grid_row": null,
            "max_height": null,
            "align_content": null,
            "visibility": null,
            "align_self": null,
            "height": null,
            "min_height": null,
            "padding": null,
            "grid_auto_rows": null,
            "grid_gap": null,
            "max_width": null,
            "order": null,
            "_view_module_version": "1.2.0",
            "grid_template_areas": null,
            "object_position": null,
            "object_fit": null,
            "grid_auto_columns": null,
            "margin": null,
            "display": null,
            "left": null
          }
        },
        "43ebfd46ff9943839adfd23d3aa6bf22": {
          "model_module": "@jupyter-widgets/base",
          "model_name": "LayoutModel",
          "state": {
            "_view_name": "LayoutView",
            "grid_template_rows": null,
            "right": null,
            "justify_content": null,
            "_view_module": "@jupyter-widgets/base",
            "overflow": null,
            "_model_module_version": "1.2.0",
            "_view_count": null,
            "flex_flow": null,
            "width": null,
            "min_width": null,
            "border": null,
            "align_items": null,
            "bottom": null,
            "_model_module": "@jupyter-widgets/base",
            "top": null,
            "grid_column": null,
            "overflow_y": null,
            "overflow_x": null,
            "grid_auto_flow": null,
            "grid_area": null,
            "grid_template_columns": null,
            "flex": null,
            "_model_name": "LayoutModel",
            "justify_items": null,
            "grid_row": null,
            "max_height": null,
            "align_content": null,
            "visibility": null,
            "align_self": null,
            "height": null,
            "min_height": null,
            "padding": null,
            "grid_auto_rows": null,
            "grid_gap": null,
            "max_width": null,
            "order": null,
            "_view_module_version": "1.2.0",
            "grid_template_areas": null,
            "object_position": null,
            "object_fit": null,
            "grid_auto_columns": null,
            "margin": null,
            "display": null,
            "left": null
          }
        },
        "11ea922a61b24227bffc1e47cc857cae": {
          "model_module": "@jupyter-widgets/controls",
          "model_name": "FloatSliderModel",
          "state": {
            "_view_name": "FloatSliderView",
            "style": "IPY_MODEL_97acf862eb2a4196961bf8cd23e5f4b8",
            "_dom_classes": [],
            "description": "p(fish on left | state = left)",
            "step": 0.01,
            "_model_name": "FloatSliderModel",
            "orientation": "horizontal",
            "max": 0.99,
            "_view_module": "@jupyter-widgets/controls",
            "_model_module_version": "1.5.0",
            "value": 0.99,
            "_view_count": null,
            "disabled": false,
            "_view_module_version": "1.5.0",
            "min": 0.01,
            "continuous_update": true,
            "readout_format": ".2f",
            "description_tooltip": null,
            "readout": true,
            "_model_module": "@jupyter-widgets/controls",
            "layout": "IPY_MODEL_6cc8a5430adb444c86dbb5860dcc7b47"
          }
        },
        "14f7c27a0e934fa88dd227fcd08e36b7": {
          "model_module": "@jupyter-widgets/controls",
          "model_name": "FloatSliderModel",
          "state": {
            "_view_name": "FloatSliderView",
            "style": "IPY_MODEL_50a7781cec654cc4b2ef90dbf5e6ae8a",
            "_dom_classes": [],
            "description": "p(fish on left | state = right)",
            "step": 0.01,
            "_model_name": "FloatSliderModel",
            "orientation": "horizontal",
            "max": 0.99,
            "_view_module": "@jupyter-widgets/controls",
            "_model_module_version": "1.5.0",
            "value": 0.99,
            "_view_count": null,
            "disabled": false,
            "_view_module_version": "1.5.0",
            "min": 0.01,
            "continuous_update": true,
            "readout_format": ".2f",
            "description_tooltip": null,
            "readout": true,
            "_model_module": "@jupyter-widgets/controls",
            "layout": "IPY_MODEL_872a52aa48274f9f93f6dd47858a2f9d"
          }
        },
        "427d18151e6e43019cadf2ae45bb5bec": {
          "model_module": "@jupyter-widgets/controls",
          "model_name": "ToggleButtonsStyleModel",
          "state": {
            "_view_name": "StyleView",
            "button_width": "",
            "_model_name": "ToggleButtonsStyleModel",
            "description_width": "initial",
            "_view_module": "@jupyter-widgets/base",
            "_model_module_version": "1.5.0",
            "_view_count": null,
            "font_weight": "",
            "_view_module_version": "1.2.0",
            "_model_module": "@jupyter-widgets/controls"
          }
        },
        "f50724b5d2bd4c21926185a58ffda289": {
          "model_module": "@jupyter-widgets/base",
          "model_name": "LayoutModel",
          "state": {
            "_view_name": "LayoutView",
            "grid_template_rows": null,
            "right": null,
            "justify_content": null,
            "_view_module": "@jupyter-widgets/base",
            "overflow": null,
            "_model_module_version": "1.2.0",
            "_view_count": null,
            "flex_flow": null,
            "width": "auto",
            "min_width": null,
            "border": null,
            "align_items": null,
            "bottom": null,
            "_model_module": "@jupyter-widgets/base",
            "top": null,
            "grid_column": null,
            "overflow_y": null,
            "overflow_x": null,
            "grid_auto_flow": null,
            "grid_area": null,
            "grid_template_columns": null,
            "flex": null,
            "_model_name": "LayoutModel",
            "justify_items": null,
            "grid_row": null,
            "max_height": null,
            "align_content": null,
            "visibility": null,
            "align_self": null,
            "height": null,
            "min_height": null,
            "padding": null,
            "grid_auto_rows": null,
            "grid_gap": null,
            "max_width": null,
            "order": null,
            "_view_module_version": "1.2.0",
            "grid_template_areas": null,
            "object_position": null,
            "object_fit": null,
            "grid_auto_columns": null,
            "margin": null,
            "display": "flex",
            "left": null
          }
        },
        "97acf862eb2a4196961bf8cd23e5f4b8": {
          "model_module": "@jupyter-widgets/controls",
          "model_name": "SliderStyleModel",
          "state": {
            "_view_name": "StyleView",
            "handle_color": null,
            "_model_name": "SliderStyleModel",
            "description_width": "initial",
            "_view_module": "@jupyter-widgets/base",
            "_model_module_version": "1.5.0",
            "_view_count": null,
            "_view_module_version": "1.2.0",
            "_model_module": "@jupyter-widgets/controls"
          }
        },
        "6cc8a5430adb444c86dbb5860dcc7b47": {
          "model_module": "@jupyter-widgets/base",
          "model_name": "LayoutModel",
          "state": {
            "_view_name": "LayoutView",
            "grid_template_rows": null,
            "right": null,
            "justify_content": null,
            "_view_module": "@jupyter-widgets/base",
            "overflow": null,
            "_model_module_version": "1.2.0",
            "_view_count": null,
            "flex_flow": null,
            "width": "370px",
            "min_width": null,
            "border": null,
            "align_items": null,
            "bottom": null,
            "_model_module": "@jupyter-widgets/base",
            "top": null,
            "grid_column": null,
            "overflow_y": null,
            "overflow_x": null,
            "grid_auto_flow": null,
            "grid_area": null,
            "grid_template_columns": null,
            "flex": null,
            "_model_name": "LayoutModel",
            "justify_items": null,
            "grid_row": null,
            "max_height": null,
            "align_content": null,
            "visibility": null,
            "align_self": null,
            "height": null,
            "min_height": null,
            "padding": null,
            "grid_auto_rows": null,
            "grid_gap": null,
            "max_width": null,
            "order": null,
            "_view_module_version": "1.2.0",
            "grid_template_areas": null,
            "object_position": null,
            "object_fit": null,
            "grid_auto_columns": null,
            "margin": null,
            "display": null,
            "left": null
          }
        },
        "50a7781cec654cc4b2ef90dbf5e6ae8a": {
          "model_module": "@jupyter-widgets/controls",
          "model_name": "SliderStyleModel",
          "state": {
            "_view_name": "StyleView",
            "handle_color": null,
            "_model_name": "SliderStyleModel",
            "description_width": "initial",
            "_view_module": "@jupyter-widgets/base",
            "_model_module_version": "1.5.0",
            "_view_count": null,
            "_view_module_version": "1.2.0",
            "_model_module": "@jupyter-widgets/controls"
          }
        },
        "872a52aa48274f9f93f6dd47858a2f9d": {
          "model_module": "@jupyter-widgets/base",
          "model_name": "LayoutModel",
          "state": {
            "_view_name": "LayoutView",
            "grid_template_rows": null,
            "right": null,
            "justify_content": null,
            "_view_module": "@jupyter-widgets/base",
            "overflow": null,
            "_model_module_version": "1.2.0",
            "_view_count": null,
            "flex_flow": null,
            "width": "370px",
            "min_width": null,
            "border": null,
            "align_items": null,
            "bottom": null,
            "_model_module": "@jupyter-widgets/base",
            "top": null,
            "grid_column": null,
            "overflow_y": null,
            "overflow_x": null,
            "grid_auto_flow": null,
            "grid_area": null,
            "grid_template_columns": null,
            "flex": null,
            "_model_name": "LayoutModel",
            "justify_items": null,
            "grid_row": null,
            "max_height": null,
            "align_content": null,
            "visibility": null,
            "align_self": null,
            "height": null,
            "min_height": null,
            "padding": null,
            "grid_auto_rows": null,
            "grid_gap": null,
            "max_width": null,
            "order": null,
            "_view_module_version": "1.2.0",
            "grid_template_areas": null,
            "object_position": null,
            "object_fit": null,
            "grid_auto_columns": null,
            "margin": null,
            "display": null,
            "left": null
          }
        },
        "7dfc837f20f049cf86586cf32ed475f5": {
          "model_module": "@jupyter-widgets/output",
          "model_name": "OutputModel",
          "state": {
            "_view_name": "OutputView",
            "msg_id": "",
            "_dom_classes": [],
            "_model_name": "OutputModel",
            "outputs": [
              {
                "output_type": "display_data",
                "metadata": {
                  "tags": [],
                  "image/png": {
                    "width": 766,
                    "height": 345
                  },
                  "needs_background": "light"
                },
                "image/png": "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\n",
                "text/plain": "<Figure size 864x288 with 3 Axes>"
              }
            ],
            "_view_module": "@jupyter-widgets/output",
            "_model_module_version": "1.0.0",
            "_view_count": null,
            "_view_module_version": "1.0.0",
            "layout": "IPY_MODEL_ab460a1ddf3b4fcd827cbf34abd3a6cc",
            "_model_module": "@jupyter-widgets/output"
          }
        },
        "ab460a1ddf3b4fcd827cbf34abd3a6cc": {
          "model_module": "@jupyter-widgets/base",
          "model_name": "LayoutModel",
          "state": {
            "_view_name": "LayoutView",
            "grid_template_rows": null,
            "right": null,
            "justify_content": null,
            "_view_module": "@jupyter-widgets/base",
            "overflow": null,
            "_model_module_version": "1.2.0",
            "_view_count": null,
            "flex_flow": null,
            "width": null,
            "min_width": null,
            "border": null,
            "align_items": null,
            "bottom": null,
            "_model_module": "@jupyter-widgets/base",
            "top": null,
            "grid_column": null,
            "overflow_y": null,
            "overflow_x": null,
            "grid_auto_flow": null,
            "grid_area": null,
            "grid_template_columns": null,
            "flex": null,
            "_model_name": "LayoutModel",
            "justify_items": null,
            "grid_row": null,
            "max_height": null,
            "align_content": null,
            "visibility": null,
            "align_self": null,
            "height": null,
            "min_height": null,
            "padding": null,
            "grid_auto_rows": null,
            "grid_gap": null,
            "max_width": null,
            "order": null,
            "_view_module_version": "1.2.0",
            "grid_template_areas": null,
            "object_position": null,
            "object_fit": null,
            "grid_auto_columns": null,
            "margin": null,
            "display": null,
            "left": null
          }
        },
        "6752ec891f024865bcb2bbcf73c52d96": {
          "model_module": "@jupyter-widgets/controls",
          "model_name": "TabModel",
          "state": {
            "_view_name": "TabView",
            "_dom_classes": [],
            "_titles": {
              "0": "Youtube",
              "1": "Bilibili"
            },
            "_model_name": "TabModel",
            "_view_module": "@jupyter-widgets/controls",
            "selected_index": 0,
            "_model_module_version": "1.5.0",
            "_view_count": null,
            "_view_module_version": "1.5.0",
            "box_style": "",
            "layout": "IPY_MODEL_4c17390f635d4f64be56156991c37555",
            "_model_module": "@jupyter-widgets/controls",
            "children": [
              "IPY_MODEL_6f6c62a2815f42f2b94b1050144e5d8f",
              "IPY_MODEL_eda8e922d81c4c54ba561fcdf859567e"
            ]
          }
        },
        "4c17390f635d4f64be56156991c37555": {
          "model_module": "@jupyter-widgets/base",
          "model_name": "LayoutModel",
          "state": {
            "_view_name": "LayoutView",
            "grid_template_rows": null,
            "right": null,
            "justify_content": null,
            "_view_module": "@jupyter-widgets/base",
            "overflow": null,
            "_model_module_version": "1.2.0",
            "_view_count": null,
            "flex_flow": null,
            "width": null,
            "min_width": null,
            "border": null,
            "align_items": null,
            "bottom": null,
            "_model_module": "@jupyter-widgets/base",
            "top": null,
            "grid_column": null,
            "overflow_y": null,
            "overflow_x": null,
            "grid_auto_flow": null,
            "grid_area": null,
            "grid_template_columns": null,
            "flex": null,
            "_model_name": "LayoutModel",
            "justify_items": null,
            "grid_row": null,
            "max_height": null,
            "align_content": null,
            "visibility": null,
            "align_self": null,
            "height": null,
            "min_height": null,
            "padding": null,
            "grid_auto_rows": null,
            "grid_gap": null,
            "max_width": null,
            "order": null,
            "_view_module_version": "1.2.0",
            "grid_template_areas": null,
            "object_position": null,
            "object_fit": null,
            "grid_auto_columns": null,
            "margin": null,
            "display": null,
            "left": null
          }
        },
        "6f6c62a2815f42f2b94b1050144e5d8f": {
          "model_module": "@jupyter-widgets/output",
          "model_name": "OutputModel",
          "state": {
            "_view_name": "OutputView",
            "msg_id": "",
            "_dom_classes": [],
            "_model_name": "OutputModel",
            "outputs": [
              {
                "output_type": "stream",
                "metadata": {
                  "tags": []
                },
                "text": "Video available at https://youtube.com/watch?v=YPQgLVolvBs\n",
                "stream": "stdout"
              },
              {
                "output_type": "display_data",
                "metadata": {
                  "tags": []
                },
                "text/html": "\n        <iframe\n            width=\"854\"\n            height=\"480\"\n            src=\"https://www.youtube.com/embed/YPQgLVolvBs?fs=1&rel=0\"\n            frameborder=\"0\"\n            allowfullscreen\n        ></iframe>\n        ",
                "text/plain": "<IPython.lib.display.YouTubeVideo at 0x7f80f1fe6bd0>",
                "image/jpeg": "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\n"
              }
            ],
            "_view_module": "@jupyter-widgets/output",
            "_model_module_version": "1.0.0",
            "_view_count": null,
            "_view_module_version": "1.0.0",
            "layout": "IPY_MODEL_332bd18af0c54e1f9c3dddfa315ada1c",
            "_model_module": "@jupyter-widgets/output"
          }
        },
        "eda8e922d81c4c54ba561fcdf859567e": {
          "model_module": "@jupyter-widgets/output",
          "model_name": "OutputModel",
          "state": {
            "_view_name": "OutputView",
            "msg_id": "",
            "_dom_classes": [],
            "_model_name": "OutputModel",
            "outputs": [
              {
                "output_type": "stream",
                "metadata": {
                  "tags": []
                },
                "text": "Video available at https://www.bilibili.com/video/BV1TU4y1G7SM\n",
                "stream": "stdout"
              },
              {
                "output_type": "display_data",
                "metadata": {
                  "tags": []
                },
                "text/html": "\n        <iframe\n            width=\"854\"\n            height=\"480\"\n            src=\"https://player.bilibili.com/player.html?bvid=BV1TU4y1G7SM&page=1?fs=1\"\n            frameborder=\"0\"\n            allowfullscreen\n        ></iframe>\n        ",
                "text/plain": "<__main__.BiliVideo at 0x7f80f2546590>"
              }
            ],
            "_view_module": "@jupyter-widgets/output",
            "_model_module_version": "1.0.0",
            "_view_count": null,
            "_view_module_version": "1.0.0",
            "layout": "IPY_MODEL_44c23dc556b34ba3b55b600398de00cc",
            "_model_module": "@jupyter-widgets/output"
          }
        },
        "332bd18af0c54e1f9c3dddfa315ada1c": {
          "model_module": "@jupyter-widgets/base",
          "model_name": "LayoutModel",
          "state": {
            "_view_name": "LayoutView",
            "grid_template_rows": null,
            "right": null,
            "justify_content": null,
            "_view_module": "@jupyter-widgets/base",
            "overflow": null,
            "_model_module_version": "1.2.0",
            "_view_count": null,
            "flex_flow": null,
            "width": null,
            "min_width": null,
            "border": null,
            "align_items": null,
            "bottom": null,
            "_model_module": "@jupyter-widgets/base",
            "top": null,
            "grid_column": null,
            "overflow_y": null,
            "overflow_x": null,
            "grid_auto_flow": null,
            "grid_area": null,
            "grid_template_columns": null,
            "flex": null,
            "_model_name": "LayoutModel",
            "justify_items": null,
            "grid_row": null,
            "max_height": null,
            "align_content": null,
            "visibility": null,
            "align_self": null,
            "height": null,
            "min_height": null,
            "padding": null,
            "grid_auto_rows": null,
            "grid_gap": null,
            "max_width": null,
            "order": null,
            "_view_module_version": "1.2.0",
            "grid_template_areas": null,
            "object_position": null,
            "object_fit": null,
            "grid_auto_columns": null,
            "margin": null,
            "display": null,
            "left": null
          }
        },
        "44c23dc556b34ba3b55b600398de00cc": {
          "model_module": "@jupyter-widgets/base",
          "model_name": "LayoutModel",
          "state": {
            "_view_name": "LayoutView",
            "grid_template_rows": null,
            "right": null,
            "justify_content": null,
            "_view_module": "@jupyter-widgets/base",
            "overflow": null,
            "_model_module_version": "1.2.0",
            "_view_count": null,
            "flex_flow": null,
            "width": null,
            "min_width": null,
            "border": null,
            "align_items": null,
            "bottom": null,
            "_model_module": "@jupyter-widgets/base",
            "top": null,
            "grid_column": null,
            "overflow_y": null,
            "overflow_x": null,
            "grid_auto_flow": null,
            "grid_area": null,
            "grid_template_columns": null,
            "flex": null,
            "_model_name": "LayoutModel",
            "justify_items": null,
            "grid_row": null,
            "max_height": null,
            "align_content": null,
            "visibility": null,
            "align_self": null,
            "height": null,
            "min_height": null,
            "padding": null,
            "grid_auto_rows": null,
            "grid_gap": null,
            "max_width": null,
            "order": null,
            "_view_module_version": "1.2.0",
            "grid_template_areas": null,
            "object_position": null,
            "object_fit": null,
            "grid_auto_columns": null,
            "margin": null,
            "display": null,
            "left": null
          }
        },
        "afc9cc204ce3461ebd4f1b1ee9baaf3e": {
          "model_module": "@jupyter-widgets/controls",
          "model_name": "TabModel",
          "state": {
            "_view_name": "TabView",
            "_dom_classes": [],
            "_titles": {
              "0": "Youtube",
              "1": "Bilibili"
            },
            "_model_name": "TabModel",
            "_view_module": "@jupyter-widgets/controls",
            "selected_index": 0,
            "_model_module_version": "1.5.0",
            "_view_count": null,
            "_view_module_version": "1.5.0",
            "box_style": "",
            "layout": "IPY_MODEL_186c2b7585564c558a1af6d1379513d4",
            "_model_module": "@jupyter-widgets/controls",
            "children": [
              "IPY_MODEL_d59aa9cb48134e789912d8b29593f2dd",
              "IPY_MODEL_069db7080fc94653a8123bfe176549a5"
            ]
          }
        },
        "186c2b7585564c558a1af6d1379513d4": {
          "model_module": "@jupyter-widgets/base",
          "model_name": "LayoutModel",
          "state": {
            "_view_name": "LayoutView",
            "grid_template_rows": null,
            "right": null,
            "justify_content": null,
            "_view_module": "@jupyter-widgets/base",
            "overflow": null,
            "_model_module_version": "1.2.0",
            "_view_count": null,
            "flex_flow": null,
            "width": null,
            "min_width": null,
            "border": null,
            "align_items": null,
            "bottom": null,
            "_model_module": "@jupyter-widgets/base",
            "top": null,
            "grid_column": null,
            "overflow_y": null,
            "overflow_x": null,
            "grid_auto_flow": null,
            "grid_area": null,
            "grid_template_columns": null,
            "flex": null,
            "_model_name": "LayoutModel",
            "justify_items": null,
            "grid_row": null,
            "max_height": null,
            "align_content": null,
            "visibility": null,
            "align_self": null,
            "height": null,
            "min_height": null,
            "padding": null,
            "grid_auto_rows": null,
            "grid_gap": null,
            "max_width": null,
            "order": null,
            "_view_module_version": "1.2.0",
            "grid_template_areas": null,
            "object_position": null,
            "object_fit": null,
            "grid_auto_columns": null,
            "margin": null,
            "display": null,
            "left": null
          }
        },
        "d59aa9cb48134e789912d8b29593f2dd": {
          "model_module": "@jupyter-widgets/output",
          "model_name": "OutputModel",
          "state": {
            "_view_name": "OutputView",
            "msg_id": "",
            "_dom_classes": [],
            "_model_name": "OutputModel",
            "outputs": [
              {
                "output_type": "stream",
                "metadata": {
                  "tags": []
                },
                "text": "Video available at https://youtube.com/watch?v=tz9zsmTHR68\n",
                "stream": "stdout"
              },
              {
                "output_type": "display_data",
                "metadata": {
                  "tags": []
                },
                "text/html": "\n        <iframe\n            width=\"854\"\n            height=\"480\"\n            src=\"https://www.youtube.com/embed/tz9zsmTHR68?fs=1&rel=0\"\n            frameborder=\"0\"\n            allowfullscreen\n        ></iframe>\n        ",
                "text/plain": "<IPython.lib.display.YouTubeVideo at 0x7f80f2154410>",
                "image/jpeg": "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\n"
              }
            ],
            "_view_module": "@jupyter-widgets/output",
            "_model_module_version": "1.0.0",
            "_view_count": null,
            "_view_module_version": "1.0.0",
            "layout": "IPY_MODEL_55e225d3e5f1491493bc2cf976c8ce6f",
            "_model_module": "@jupyter-widgets/output"
          }
        },
        "069db7080fc94653a8123bfe176549a5": {
          "model_module": "@jupyter-widgets/output",
          "model_name": "OutputModel",
          "state": {
            "_view_name": "OutputView",
            "msg_id": "",
            "_dom_classes": [],
            "_model_name": "OutputModel",
            "outputs": [
              {
                "output_type": "stream",
                "metadata": {
                  "tags": []
                },
                "text": "Video available at https://www.bilibili.com/video/BV1954y1n7uH\n",
                "stream": "stdout"
              },
              {
                "output_type": "display_data",
                "metadata": {
                  "tags": []
                },
                "text/html": "\n        <iframe\n            width=\"854\"\n            height=\"480\"\n            src=\"https://player.bilibili.com/player.html?bvid=BV1954y1n7uH&page=1?fs=1\"\n            frameborder=\"0\"\n            allowfullscreen\n        ></iframe>\n        ",
                "text/plain": "<__main__.BiliVideo at 0x7f80f23b8b50>"
              }
            ],
            "_view_module": "@jupyter-widgets/output",
            "_model_module_version": "1.0.0",
            "_view_count": null,
            "_view_module_version": "1.0.0",
            "layout": "IPY_MODEL_0c810012a700475895e9fee7c9efbd09",
            "_model_module": "@jupyter-widgets/output"
          }
        },
        "55e225d3e5f1491493bc2cf976c8ce6f": {
          "model_module": "@jupyter-widgets/base",
          "model_name": "LayoutModel",
          "state": {
            "_view_name": "LayoutView",
            "grid_template_rows": null,
            "right": null,
            "justify_content": null,
            "_view_module": "@jupyter-widgets/base",
            "overflow": null,
            "_model_module_version": "1.2.0",
            "_view_count": null,
            "flex_flow": null,
            "width": null,
            "min_width": null,
            "border": null,
            "align_items": null,
            "bottom": null,
            "_model_module": "@jupyter-widgets/base",
            "top": null,
            "grid_column": null,
            "overflow_y": null,
            "overflow_x": null,
            "grid_auto_flow": null,
            "grid_area": null,
            "grid_template_columns": null,
            "flex": null,
            "_model_name": "LayoutModel",
            "justify_items": null,
            "grid_row": null,
            "max_height": null,
            "align_content": null,
            "visibility": null,
            "align_self": null,
            "height": null,
            "min_height": null,
            "padding": null,
            "grid_auto_rows": null,
            "grid_gap": null,
            "max_width": null,
            "order": null,
            "_view_module_version": "1.2.0",
            "grid_template_areas": null,
            "object_position": null,
            "object_fit": null,
            "grid_auto_columns": null,
            "margin": null,
            "display": null,
            "left": null
          }
        },
        "0c810012a700475895e9fee7c9efbd09": {
          "model_module": "@jupyter-widgets/base",
          "model_name": "LayoutModel",
          "state": {
            "_view_name": "LayoutView",
            "grid_template_rows": null,
            "right": null,
            "justify_content": null,
            "_view_module": "@jupyter-widgets/base",
            "overflow": null,
            "_model_module_version": "1.2.0",
            "_view_count": null,
            "flex_flow": null,
            "width": null,
            "min_width": null,
            "border": null,
            "align_items": null,
            "bottom": null,
            "_model_module": "@jupyter-widgets/base",
            "top": null,
            "grid_column": null,
            "overflow_y": null,
            "overflow_x": null,
            "grid_auto_flow": null,
            "grid_area": null,
            "grid_template_columns": null,
            "flex": null,
            "_model_name": "LayoutModel",
            "justify_items": null,
            "grid_row": null,
            "max_height": null,
            "align_content": null,
            "visibility": null,
            "align_self": null,
            "height": null,
            "min_height": null,
            "padding": null,
            "grid_auto_rows": null,
            "grid_gap": null,
            "max_width": null,
            "order": null,
            "_view_module_version": "1.2.0",
            "grid_template_areas": null,
            "object_position": null,
            "object_fit": null,
            "grid_auto_columns": null,
            "margin": null,
            "display": null,
            "left": null
          }
        },
        "61c6f535f0a54c48bdf8097ac4e13b05": {
          "model_module": "@jupyter-widgets/controls",
          "model_name": "VBoxModel",
          "state": {
            "_view_name": "VBoxView",
            "_dom_classes": [],
            "_model_name": "VBoxModel",
            "_view_module": "@jupyter-widgets/controls",
            "_model_module_version": "1.5.0",
            "_view_count": null,
            "_view_module_version": "1.5.0",
            "box_style": "",
            "layout": "IPY_MODEL_d3422bb95326461d877a5f1f1d2969b4",
            "_model_module": "@jupyter-widgets/controls",
            "children": [
              "IPY_MODEL_7e8fd45a30a34b36a9cbac8d9173725f",
              "IPY_MODEL_3c068b62b29444e0a287bb144d3d5de3",
              "IPY_MODEL_89f42a618ce94a6d94d87379d648f5d8"
            ]
          }
        },
        "d3422bb95326461d877a5f1f1d2969b4": {
          "model_module": "@jupyter-widgets/base",
          "model_name": "LayoutModel",
          "state": {
            "_view_name": "LayoutView",
            "grid_template_rows": null,
            "right": null,
            "justify_content": null,
            "_view_module": "@jupyter-widgets/base",
            "overflow": null,
            "_model_module_version": "1.2.0",
            "_view_count": null,
            "flex_flow": null,
            "width": null,
            "min_width": null,
            "border": null,
            "align_items": null,
            "bottom": null,
            "_model_module": "@jupyter-widgets/base",
            "top": null,
            "grid_column": null,
            "overflow_y": null,
            "overflow_x": null,
            "grid_auto_flow": null,
            "grid_area": null,
            "grid_template_columns": null,
            "flex": null,
            "_model_name": "LayoutModel",
            "justify_items": null,
            "grid_row": null,
            "max_height": null,
            "align_content": null,
            "visibility": null,
            "align_self": null,
            "height": null,
            "min_height": null,
            "padding": null,
            "grid_auto_rows": null,
            "grid_gap": null,
            "max_width": null,
            "order": null,
            "_view_module_version": "1.2.0",
            "grid_template_areas": null,
            "object_position": null,
            "object_fit": null,
            "grid_auto_columns": null,
            "margin": null,
            "display": null,
            "left": null
          }
        },
        "7e8fd45a30a34b36a9cbac8d9173725f": {
          "model_module": "@jupyter-widgets/controls",
          "model_name": "FloatSliderModel",
          "state": {
            "_view_name": "FloatSliderView",
            "style": "IPY_MODEL_c362d60ca6aa4ef88d6007a6c8052a39",
            "_dom_classes": [],
            "description": "p(s = left)",
            "step": 0.01,
            "_model_name": "FloatSliderModel",
            "orientation": "horizontal",
            "max": 0.99,
            "_view_module": "@jupyter-widgets/controls",
            "_model_module_version": "1.5.0",
            "value": 0.38,
            "_view_count": null,
            "disabled": false,
            "_view_module_version": "1.5.0",
            "min": 0.01,
            "continuous_update": true,
            "readout_format": ".2f",
            "description_tooltip": null,
            "readout": true,
            "_model_module": "@jupyter-widgets/controls",
            "layout": "IPY_MODEL_0af96fcbe6ba40399bb7db76ab7ea3f1"
          }
        },
        "3c068b62b29444e0a287bb144d3d5de3": {
          "model_module": "@jupyter-widgets/controls",
          "model_name": "HBoxModel",
          "state": {
            "_view_name": "HBoxView",
            "_dom_classes": [],
            "_model_name": "HBoxModel",
            "_view_module": "@jupyter-widgets/controls",
            "_model_module_version": "1.5.0",
            "_view_count": null,
            "_view_module_version": "1.5.0",
            "box_style": "",
            "layout": "IPY_MODEL_93f16479204944c197b74d1b0104061f",
            "_model_module": "@jupyter-widgets/controls",
            "children": [
              "IPY_MODEL_9bfd6421432a4b648f71ba8fd992675d",
              "IPY_MODEL_9046f43f9f7a4abe911aa56f1d45fb48"
            ]
          }
        },
        "89f42a618ce94a6d94d87379d648f5d8": {
          "model_module": "@jupyter-widgets/controls",
          "model_name": "ToggleButtonsModel",
          "state": {
            "_options_labels": [
              "Fish",
              "No Fish"
            ],
            "_view_name": "ToggleButtonsView",
            "style": "IPY_MODEL_0133b6f562ec44b28f2802c6257dbb18",
            "_dom_classes": [],
            "description": "Observation (m) on the left:",
            "_model_name": "ToggleButtonsModel",
            "tooltips": [],
            "index": 0,
            "button_style": "",
            "_view_module": "@jupyter-widgets/controls",
            "_model_module_version": "1.5.0",
            "_view_count": null,
            "disabled": false,
            "_view_module_version": "1.5.0",
            "icons": [],
            "description_tooltip": null,
            "_model_module": "@jupyter-widgets/controls",
            "layout": "IPY_MODEL_aef0c2679c50440097c349e05b22f507"
          }
        },
        "c362d60ca6aa4ef88d6007a6c8052a39": {
          "model_module": "@jupyter-widgets/controls",
          "model_name": "SliderStyleModel",
          "state": {
            "_view_name": "StyleView",
            "handle_color": null,
            "_model_name": "SliderStyleModel",
            "description_width": "",
            "_view_module": "@jupyter-widgets/base",
            "_model_module_version": "1.5.0",
            "_view_count": null,
            "_view_module_version": "1.2.0",
            "_model_module": "@jupyter-widgets/controls"
          }
        },
        "0af96fcbe6ba40399bb7db76ab7ea3f1": {
          "model_module": "@jupyter-widgets/base",
          "model_name": "LayoutModel",
          "state": {
            "_view_name": "LayoutView",
            "grid_template_rows": null,
            "right": null,
            "justify_content": null,
            "_view_module": "@jupyter-widgets/base",
            "overflow": null,
            "_model_module_version": "1.2.0",
            "_view_count": null,
            "flex_flow": null,
            "width": "300px",
            "min_width": null,
            "border": null,
            "align_items": null,
            "bottom": null,
            "_model_module": "@jupyter-widgets/base",
            "top": null,
            "grid_column": null,
            "overflow_y": null,
            "overflow_x": null,
            "grid_auto_flow": null,
            "grid_area": null,
            "grid_template_columns": null,
            "flex": null,
            "_model_name": "LayoutModel",
            "justify_items": null,
            "grid_row": null,
            "max_height": null,
            "align_content": null,
            "visibility": null,
            "align_self": null,
            "height": null,
            "min_height": null,
            "padding": null,
            "grid_auto_rows": null,
            "grid_gap": null,
            "max_width": null,
            "order": null,
            "_view_module_version": "1.2.0",
            "grid_template_areas": null,
            "object_position": null,
            "object_fit": null,
            "grid_auto_columns": null,
            "margin": null,
            "display": null,
            "left": null
          }
        },
        "93f16479204944c197b74d1b0104061f": {
          "model_module": "@jupyter-widgets/base",
          "model_name": "LayoutModel",
          "state": {
            "_view_name": "LayoutView",
            "grid_template_rows": null,
            "right": null,
            "justify_content": null,
            "_view_module": "@jupyter-widgets/base",
            "overflow": null,
            "_model_module_version": "1.2.0",
            "_view_count": null,
            "flex_flow": null,
            "width": null,
            "min_width": null,
            "border": null,
            "align_items": null,
            "bottom": null,
            "_model_module": "@jupyter-widgets/base",
            "top": null,
            "grid_column": null,
            "overflow_y": null,
            "overflow_x": null,
            "grid_auto_flow": null,
            "grid_area": null,
            "grid_template_columns": null,
            "flex": null,
            "_model_name": "LayoutModel",
            "justify_items": null,
            "grid_row": null,
            "max_height": null,
            "align_content": null,
            "visibility": null,
            "align_self": null,
            "height": null,
            "min_height": null,
            "padding": null,
            "grid_auto_rows": null,
            "grid_gap": null,
            "max_width": null,
            "order": null,
            "_view_module_version": "1.2.0",
            "grid_template_areas": null,
            "object_position": null,
            "object_fit": null,
            "grid_auto_columns": null,
            "margin": null,
            "display": null,
            "left": null
          }
        },
        "9bfd6421432a4b648f71ba8fd992675d": {
          "model_module": "@jupyter-widgets/controls",
          "model_name": "FloatSliderModel",
          "state": {
            "_view_name": "FloatSliderView",
            "style": "IPY_MODEL_65612d6ba6c348b28cf9c16a6e028669",
            "_dom_classes": [],
            "description": "p(fish on left | state = left)",
            "step": 0.01,
            "_model_name": "FloatSliderModel",
            "orientation": "horizontal",
            "max": 0.99,
            "_view_module": "@jupyter-widgets/controls",
            "_model_module_version": "1.5.0",
            "value": 0.5,
            "_view_count": null,
            "disabled": false,
            "_view_module_version": "1.5.0",
            "min": 0.01,
            "continuous_update": true,
            "readout_format": ".2f",
            "description_tooltip": null,
            "readout": true,
            "_model_module": "@jupyter-widgets/controls",
            "layout": "IPY_MODEL_5b45dcd8ea7f45548d029bf7761a075c"
          }
        },
        "9046f43f9f7a4abe911aa56f1d45fb48": {
          "model_module": "@jupyter-widgets/controls",
          "model_name": "FloatSliderModel",
          "state": {
            "_view_name": "FloatSliderView",
            "style": "IPY_MODEL_35c1bf600e0e4dd09aebe0edf9836ebd",
            "_dom_classes": [],
            "description": "p(fish on left | state = right)",
            "step": 0.01,
            "_model_name": "FloatSliderModel",
            "orientation": "horizontal",
            "max": 0.99,
            "_view_module": "@jupyter-widgets/controls",
            "_model_module_version": "1.5.0",
            "value": 0.5,
            "_view_count": null,
            "disabled": false,
            "_view_module_version": "1.5.0",
            "min": 0.01,
            "continuous_update": true,
            "readout_format": ".2f",
            "description_tooltip": null,
            "readout": true,
            "_model_module": "@jupyter-widgets/controls",
            "layout": "IPY_MODEL_32eecdb043ca41f89abbdc1bb9f67ede"
          }
        },
        "0133b6f562ec44b28f2802c6257dbb18": {
          "model_module": "@jupyter-widgets/controls",
          "model_name": "ToggleButtonsStyleModel",
          "state": {
            "_view_name": "StyleView",
            "button_width": "",
            "_model_name": "ToggleButtonsStyleModel",
            "description_width": "initial",
            "_view_module": "@jupyter-widgets/base",
            "_model_module_version": "1.5.0",
            "_view_count": null,
            "font_weight": "",
            "_view_module_version": "1.2.0",
            "_model_module": "@jupyter-widgets/controls"
          }
        },
        "aef0c2679c50440097c349e05b22f507": {
          "model_module": "@jupyter-widgets/base",
          "model_name": "LayoutModel",
          "state": {
            "_view_name": "LayoutView",
            "grid_template_rows": null,
            "right": null,
            "justify_content": null,
            "_view_module": "@jupyter-widgets/base",
            "overflow": null,
            "_model_module_version": "1.2.0",
            "_view_count": null,
            "flex_flow": null,
            "width": "auto",
            "min_width": null,
            "border": null,
            "align_items": null,
            "bottom": null,
            "_model_module": "@jupyter-widgets/base",
            "top": null,
            "grid_column": null,
            "overflow_y": null,
            "overflow_x": null,
            "grid_auto_flow": null,
            "grid_area": null,
            "grid_template_columns": null,
            "flex": null,
            "_model_name": "LayoutModel",
            "justify_items": null,
            "grid_row": null,
            "max_height": null,
            "align_content": null,
            "visibility": null,
            "align_self": null,
            "height": null,
            "min_height": null,
            "padding": null,
            "grid_auto_rows": null,
            "grid_gap": null,
            "max_width": null,
            "order": null,
            "_view_module_version": "1.2.0",
            "grid_template_areas": null,
            "object_position": null,
            "object_fit": null,
            "grid_auto_columns": null,
            "margin": null,
            "display": "flex",
            "left": null
          }
        },
        "65612d6ba6c348b28cf9c16a6e028669": {
          "model_module": "@jupyter-widgets/controls",
          "model_name": "SliderStyleModel",
          "state": {
            "_view_name": "StyleView",
            "handle_color": null,
            "_model_name": "SliderStyleModel",
            "description_width": "initial",
            "_view_module": "@jupyter-widgets/base",
            "_model_module_version": "1.5.0",
            "_view_count": null,
            "_view_module_version": "1.2.0",
            "_model_module": "@jupyter-widgets/controls"
          }
        },
        "5b45dcd8ea7f45548d029bf7761a075c": {
          "model_module": "@jupyter-widgets/base",
          "model_name": "LayoutModel",
          "state": {
            "_view_name": "LayoutView",
            "grid_template_rows": null,
            "right": null,
            "justify_content": null,
            "_view_module": "@jupyter-widgets/base",
            "overflow": null,
            "_model_module_version": "1.2.0",
            "_view_count": null,
            "flex_flow": null,
            "width": "370px",
            "min_width": null,
            "border": null,
            "align_items": null,
            "bottom": null,
            "_model_module": "@jupyter-widgets/base",
            "top": null,
            "grid_column": null,
            "overflow_y": null,
            "overflow_x": null,
            "grid_auto_flow": null,
            "grid_area": null,
            "grid_template_columns": null,
            "flex": null,
            "_model_name": "LayoutModel",
            "justify_items": null,
            "grid_row": null,
            "max_height": null,
            "align_content": null,
            "visibility": null,
            "align_self": null,
            "height": null,
            "min_height": null,
            "padding": null,
            "grid_auto_rows": null,
            "grid_gap": null,
            "max_width": null,
            "order": null,
            "_view_module_version": "1.2.0",
            "grid_template_areas": null,
            "object_position": null,
            "object_fit": null,
            "grid_auto_columns": null,
            "margin": null,
            "display": null,
            "left": null
          }
        },
        "35c1bf600e0e4dd09aebe0edf9836ebd": {
          "model_module": "@jupyter-widgets/controls",
          "model_name": "SliderStyleModel",
          "state": {
            "_view_name": "StyleView",
            "handle_color": null,
            "_model_name": "SliderStyleModel",
            "description_width": "initial",
            "_view_module": "@jupyter-widgets/base",
            "_model_module_version": "1.5.0",
            "_view_count": null,
            "_view_module_version": "1.2.0",
            "_model_module": "@jupyter-widgets/controls"
          }
        },
        "32eecdb043ca41f89abbdc1bb9f67ede": {
          "model_module": "@jupyter-widgets/base",
          "model_name": "LayoutModel",
          "state": {
            "_view_name": "LayoutView",
            "grid_template_rows": null,
            "right": null,
            "justify_content": null,
            "_view_module": "@jupyter-widgets/base",
            "overflow": null,
            "_model_module_version": "1.2.0",
            "_view_count": null,
            "flex_flow": null,
            "width": "370px",
            "min_width": null,
            "border": null,
            "align_items": null,
            "bottom": null,
            "_model_module": "@jupyter-widgets/base",
            "top": null,
            "grid_column": null,
            "overflow_y": null,
            "overflow_x": null,
            "grid_auto_flow": null,
            "grid_area": null,
            "grid_template_columns": null,
            "flex": null,
            "_model_name": "LayoutModel",
            "justify_items": null,
            "grid_row": null,
            "max_height": null,
            "align_content": null,
            "visibility": null,
            "align_self": null,
            "height": null,
            "min_height": null,
            "padding": null,
            "grid_auto_rows": null,
            "grid_gap": null,
            "max_width": null,
            "order": null,
            "_view_module_version": "1.2.0",
            "grid_template_areas": null,
            "object_position": null,
            "object_fit": null,
            "grid_auto_columns": null,
            "margin": null,
            "display": null,
            "left": null
          }
        },
        "ac2050f419dc4c09b37a55a2e6f494b5": {
          "model_module": "@jupyter-widgets/output",
          "model_name": "OutputModel",
          "state": {
            "_view_name": "OutputView",
            "msg_id": "",
            "_dom_classes": [],
            "_model_name": "OutputModel",
            "outputs": [
              {
                "output_type": "display_data",
                "metadata": {
                  "tags": [],
                  "image/png": {
                    "width": 646,
                    "height": 549
                  },
                  "needs_background": "light"
                },
                "image/png": "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\n",
                "text/plain": "<Figure size 720x648 with 5 Axes>"
              }
            ],
            "_view_module": "@jupyter-widgets/output",
            "_model_module_version": "1.0.0",
            "_view_count": null,
            "_view_module_version": "1.0.0",
            "layout": "IPY_MODEL_d5b482c25d0141d2a3937081403b0294",
            "_model_module": "@jupyter-widgets/output"
          }
        },
        "d5b482c25d0141d2a3937081403b0294": {
          "model_module": "@jupyter-widgets/base",
          "model_name": "LayoutModel",
          "state": {
            "_view_name": "LayoutView",
            "grid_template_rows": null,
            "right": null,
            "justify_content": null,
            "_view_module": "@jupyter-widgets/base",
            "overflow": null,
            "_model_module_version": "1.2.0",
            "_view_count": null,
            "flex_flow": null,
            "width": null,
            "min_width": null,
            "border": null,
            "align_items": null,
            "bottom": null,
            "_model_module": "@jupyter-widgets/base",
            "top": null,
            "grid_column": null,
            "overflow_y": null,
            "overflow_x": null,
            "grid_auto_flow": null,
            "grid_area": null,
            "grid_template_columns": null,
            "flex": null,
            "_model_name": "LayoutModel",
            "justify_items": null,
            "grid_row": null,
            "max_height": null,
            "align_content": null,
            "visibility": null,
            "align_self": null,
            "height": null,
            "min_height": null,
            "padding": null,
            "grid_auto_rows": null,
            "grid_gap": null,
            "max_width": null,
            "order": null,
            "_view_module_version": "1.2.0",
            "grid_template_areas": null,
            "object_position": null,
            "object_fit": null,
            "grid_auto_columns": null,
            "margin": null,
            "display": null,
            "left": null
          }
        },
        "9982ba138d6b444bbe6ba9e5c96f5e09": {
          "model_module": "@jupyter-widgets/controls",
          "model_name": "TabModel",
          "state": {
            "_view_name": "TabView",
            "_dom_classes": [],
            "_titles": {
              "0": "Youtube",
              "1": "Bilibili"
            },
            "_model_name": "TabModel",
            "_view_module": "@jupyter-widgets/controls",
            "selected_index": 0,
            "_model_module_version": "1.5.0",
            "_view_count": null,
            "_view_module_version": "1.5.0",
            "box_style": "",
            "layout": "IPY_MODEL_7f93908325f049f6afcd0192744e46d9",
            "_model_module": "@jupyter-widgets/controls",
            "children": [
              "IPY_MODEL_e3637baa11914e1886454234febaaa99",
              "IPY_MODEL_1765f89a3db34c14b6e8a4abd4190e8e"
            ]
          }
        },
        "7f93908325f049f6afcd0192744e46d9": {
          "model_module": "@jupyter-widgets/base",
          "model_name": "LayoutModel",
          "state": {
            "_view_name": "LayoutView",
            "grid_template_rows": null,
            "right": null,
            "justify_content": null,
            "_view_module": "@jupyter-widgets/base",
            "overflow": null,
            "_model_module_version": "1.2.0",
            "_view_count": null,
            "flex_flow": null,
            "width": null,
            "min_width": null,
            "border": null,
            "align_items": null,
            "bottom": null,
            "_model_module": "@jupyter-widgets/base",
            "top": null,
            "grid_column": null,
            "overflow_y": null,
            "overflow_x": null,
            "grid_auto_flow": null,
            "grid_area": null,
            "grid_template_columns": null,
            "flex": null,
            "_model_name": "LayoutModel",
            "justify_items": null,
            "grid_row": null,
            "max_height": null,
            "align_content": null,
            "visibility": null,
            "align_self": null,
            "height": null,
            "min_height": null,
            "padding": null,
            "grid_auto_rows": null,
            "grid_gap": null,
            "max_width": null,
            "order": null,
            "_view_module_version": "1.2.0",
            "grid_template_areas": null,
            "object_position": null,
            "object_fit": null,
            "grid_auto_columns": null,
            "margin": null,
            "display": null,
            "left": null
          }
        },
        "e3637baa11914e1886454234febaaa99": {
          "model_module": "@jupyter-widgets/output",
          "model_name": "OutputModel",
          "state": {
            "_view_name": "OutputView",
            "msg_id": "",
            "_dom_classes": [],
            "_model_name": "OutputModel",
            "outputs": [
              {
                "output_type": "stream",
                "metadata": {
                  "tags": []
                },
                "text": "Video available at https://youtube.com/watch?v=h9L0EYmUpHs\n",
                "stream": "stdout"
              },
              {
                "output_type": "display_data",
                "metadata": {
                  "tags": []
                },
                "text/html": "\n        <iframe\n            width=\"854\"\n            height=\"480\"\n            src=\"https://www.youtube.com/embed/h9L0EYmUpHs?fs=1&rel=0\"\n            frameborder=\"0\"\n            allowfullscreen\n        ></iframe>\n        ",
                "text/plain": "<IPython.lib.display.YouTubeVideo at 0x7f80f23b6c90>",
                "image/jpeg": "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\n"
              }
            ],
            "_view_module": "@jupyter-widgets/output",
            "_model_module_version": "1.0.0",
            "_view_count": null,
            "_view_module_version": "1.0.0",
            "layout": "IPY_MODEL_2b297f7330c743238df8aa1e18afe04a",
            "_model_module": "@jupyter-widgets/output"
          }
        },
        "1765f89a3db34c14b6e8a4abd4190e8e": {
          "model_module": "@jupyter-widgets/output",
          "model_name": "OutputModel",
          "state": {
            "_view_name": "OutputView",
            "msg_id": "",
            "_dom_classes": [],
            "_model_name": "OutputModel",
            "outputs": [
              {
                "output_type": "stream",
                "metadata": {
                  "tags": []
                },
                "text": "Video available at https://www.bilibili.com/video/BV1QU4y137BS\n",
                "stream": "stdout"
              },
              {
                "output_type": "display_data",
                "metadata": {
                  "tags": []
                },
                "text/html": "\n        <iframe\n            width=\"854\"\n            height=\"480\"\n            src=\"https://player.bilibili.com/player.html?bvid=BV1QU4y137BS&page=1?fs=1\"\n            frameborder=\"0\"\n            allowfullscreen\n        ></iframe>\n        ",
                "text/plain": "<__main__.BiliVideo at 0x7f80f207d490>"
              }
            ],
            "_view_module": "@jupyter-widgets/output",
            "_model_module_version": "1.0.0",
            "_view_count": null,
            "_view_module_version": "1.0.0",
            "layout": "IPY_MODEL_253b03892f5f4e6997b73a5f1352559d",
            "_model_module": "@jupyter-widgets/output"
          }
        },
        "2b297f7330c743238df8aa1e18afe04a": {
          "model_module": "@jupyter-widgets/base",
          "model_name": "LayoutModel",
          "state": {
            "_view_name": "LayoutView",
            "grid_template_rows": null,
            "right": null,
            "justify_content": null,
            "_view_module": "@jupyter-widgets/base",
            "overflow": null,
            "_model_module_version": "1.2.0",
            "_view_count": null,
            "flex_flow": null,
            "width": null,
            "min_width": null,
            "border": null,
            "align_items": null,
            "bottom": null,
            "_model_module": "@jupyter-widgets/base",
            "top": null,
            "grid_column": null,
            "overflow_y": null,
            "overflow_x": null,
            "grid_auto_flow": null,
            "grid_area": null,
            "grid_template_columns": null,
            "flex": null,
            "_model_name": "LayoutModel",
            "justify_items": null,
            "grid_row": null,
            "max_height": null,
            "align_content": null,
            "visibility": null,
            "align_self": null,
            "height": null,
            "min_height": null,
            "padding": null,
            "grid_auto_rows": null,
            "grid_gap": null,
            "max_width": null,
            "order": null,
            "_view_module_version": "1.2.0",
            "grid_template_areas": null,
            "object_position": null,
            "object_fit": null,
            "grid_auto_columns": null,
            "margin": null,
            "display": null,
            "left": null
          }
        },
        "253b03892f5f4e6997b73a5f1352559d": {
          "model_module": "@jupyter-widgets/base",
          "model_name": "LayoutModel",
          "state": {
            "_view_name": "LayoutView",
            "grid_template_rows": null,
            "right": null,
            "justify_content": null,
            "_view_module": "@jupyter-widgets/base",
            "overflow": null,
            "_model_module_version": "1.2.0",
            "_view_count": null,
            "flex_flow": null,
            "width": null,
            "min_width": null,
            "border": null,
            "align_items": null,
            "bottom": null,
            "_model_module": "@jupyter-widgets/base",
            "top": null,
            "grid_column": null,
            "overflow_y": null,
            "overflow_x": null,
            "grid_auto_flow": null,
            "grid_area": null,
            "grid_template_columns": null,
            "flex": null,
            "_model_name": "LayoutModel",
            "justify_items": null,
            "grid_row": null,
            "max_height": null,
            "align_content": null,
            "visibility": null,
            "align_self": null,
            "height": null,
            "min_height": null,
            "padding": null,
            "grid_auto_rows": null,
            "grid_gap": null,
            "max_width": null,
            "order": null,
            "_view_module_version": "1.2.0",
            "grid_template_areas": null,
            "object_position": null,
            "object_fit": null,
            "grid_auto_columns": null,
            "margin": null,
            "display": null,
            "left": null
          }
        }
      }
    }
  },
  "cells": [
    {
      "cell_type": "markdown",
      "metadata": {
        "id": "view-in-github",
        "colab_type": "text"
      },
      "source": [
        "<a href=\"https://colab.research.google.com/github/darsnack/NMA-Tutorials/blob/main/tutorials/W3D1_BayesianDecisions/student/W3D1_Tutorial1.ipynb\" target=\"_parent\"><img src=\"https://colab.research.google.com/assets/colab-badge.svg\" alt=\"Open In Colab\"/></a>"
      ]
    },
    {
      "cell_type": "markdown",
      "metadata": {
        "execution": {},
        "id": "_dCV4q6Y5MIt"
      },
      "source": [
        "# Tutorial 1: Bayes with a binary hidden state\n",
        "**Week 3, Day 1: Bayesian Decisions**\n",
        "\n",
        "**By Neuromatch Academy**\n",
        "\n",
        "__Content creators:__ Eric DeWitt, Xaq Pitkow, Ella Batty, Saeed Salehi\n",
        "\n",
        "__Content reviewers:__ Hyosub Kim, Zahra Arjmandi, Anoop Kulkarni\n",
        "\n",
        "__Production editor:__ Ella Batty"
      ]
    },
    {
      "cell_type": "markdown",
      "metadata": {
        "execution": {},
        "id": "FqQd7pxP5MIx"
      },
      "source": [
        "**Our 2021 Sponsors, including Presenting Sponsor Facebook Reality Labs**\n",
        "\n",
        "<p align='center'><img src='https://github.com/NeuromatchAcademy/widgets/blob/master/sponsors.png?raw=True'/></p>"
      ]
    },
    {
      "cell_type": "markdown",
      "metadata": {
        "execution": {},
        "id": "uxZHRhaE5MIx"
      },
      "source": [
        "# Tutorial Objectives\n",
        "\n",
        "*Estimated timing of tutorial: 1 hour, 30 minutes*\n",
        "\n",
        "This is the first of two core tutorials on Bayesian statistics. In these tutorials, we will explore the fundemental concepts of the Bayesian approach. In this tutorial you will work through an example of Bayesian inference and decision making using a binary hidden state. The second tutorial extends these concepts to a continuous hidden state. In the related NMA days, each of these basic ideas will be extended. In Hidden Dynamics, we consider these idea through time as you explore what happens when we infere a hidden state using repeated observations and when the hidden state changes across time. In the Optimal Control day, we will introduce the notion of how to use inference and decisions to select actions for optimal control.\n",
        "\n",
        "This notebook will introduce the fundamental building blocks for Bayesian statistics: \n",
        "\n",
        "1. How do we combine the possible loss (or gain) for making a decision with our probabilitic knowledge?\n",
        "2. How do we use probability distributions to represent hidden states?\n",
        "3. How does marginalization work and how can we use it?\n",
        "4. How do we combine new information with our prior knowledge? "
      ]
    },
    {
      "cell_type": "code",
      "metadata": {
        "cellView": "form",
        "execution": {},
        "id": "nuGf3GX_5MIy"
      },
      "source": [
        "# @title Tutorial slides\n",
        "\n",
        "# @markdown These are the slides for the videos in this tutorial\n",
        "from IPython.display import IFrame\n",
        "IFrame(src=f\"https://mfr.ca-1.osf.io/render?url=https://osf.io/dx7jt/?direct%26mode=render%26action=download%26mode=render\", width=854, height=480)"
      ],
      "execution_count": null,
      "outputs": []
    },
    {
      "cell_type": "code",
      "metadata": {
        "cellView": "form",
        "execution": {},
        "id": "Tu9Ts3Km5MIz",
        "outputId": "0081c407-1ede-4d09-8381-cd7f22f06ea1",
        "colab": {
          "base_uri": "https://localhost:8080/",
          "height": 580,
          "referenced_widgets": [
            "5f9eca8bba9845c08be8f20240523b84",
            "8d646e8ce4ac4ee081bdb9018f30bcad",
            "eb2cfc0cdf2c49ed877009c8bf1adb42",
            "46cba77604c84d3ea98fa3b363d6ac1d",
            "91ce515bc186488b8efd19f70442bfa8",
            "9b7a3e3a68bc459894e2bb44ff9c345a"
          ]
        }
      },
      "source": [
        "# @title Video 1: Introduction to Bayesian Statistics and Decisions\n",
        "from ipywidgets import widgets\n",
        "\n",
        "out2 = widgets.Output()\n",
        "with out2:\n",
        "  from IPython.display import IFrame\n",
        "  class BiliVideo(IFrame):\n",
        "      def __init__(self, id, page=1, width=400, height=300, **kwargs):\n",
        "          self.id=id\n",
        "          src = 'https://player.bilibili.com/player.html?bvid={0}&page={1}'.format(id, page)\n",
        "          super(BiliVideo, self).__init__(src, width, height, **kwargs)\n",
        "\n",
        "  video = BiliVideo(id=\"BV1Ch41167jN\", width=854, height=480, fs=1)\n",
        "  print('Video available at https://www.bilibili.com/video/{0}'.format(video.id))\n",
        "  display(video)\n",
        "\n",
        "out1 = widgets.Output()\n",
        "with out1:\n",
        "  from IPython.display import YouTubeVideo\n",
        "  video = YouTubeVideo(id=\"Hcx2_JTpf2M\", width=854, height=480, fs=1, rel=0)\n",
        "  print('Video available at https://youtube.com/watch?v=' + video.id)\n",
        "  display(video)\n",
        "\n",
        "out = widgets.Tab([out1, out2])\n",
        "out.set_title(0, 'Youtube')\n",
        "out.set_title(1, 'Bilibili')\n",
        "\n",
        "display(out)"
      ],
      "execution_count": 1,
      "outputs": [
        {
          "output_type": "display_data",
          "data": {
            "application/vnd.jupyter.widget-view+json": {
              "model_id": "5f9eca8bba9845c08be8f20240523b84",
              "version_minor": 0,
              "version_major": 2
            },
            "text/plain": [
              "Tab(children=(Output(), Output()), _titles={'0': 'Youtube', '1': 'Bilibili'})"
            ]
          },
          "metadata": {
            "tags": []
          }
        }
      ]
    },
    {
      "cell_type": "markdown",
      "metadata": {
        "execution": {},
        "id": "ILA--P-c5MIz"
      },
      "source": [
        "# Setup  \n"
      ]
    },
    {
      "cell_type": "code",
      "metadata": {
        "execution": {},
        "id": "oeDb8kfk5MI0"
      },
      "source": [
        "# Imports\n",
        "\n",
        "import numpy as np\n",
        "import matplotlib.pyplot as plt\n",
        "from matplotlib import patches, transforms, gridspec\n",
        "from scipy.optimize import fsolve\n",
        "\n",
        "from collections import namedtuple"
      ],
      "execution_count": 2,
      "outputs": []
    },
    {
      "cell_type": "code",
      "metadata": {
        "cellView": "form",
        "execution": {},
        "id": "_JWjgd3M5MI0"
      },
      "source": [
        "#@title Figure Settings\n",
        "import ipywidgets as widgets       # interactive display\n",
        "from ipywidgets import GridspecLayout, HBox, VBox, FloatSlider, Layout, ToggleButtons\n",
        "from ipywidgets import interactive, interactive_output, Checkbox, Select\n",
        "from IPython.display import clear_output\n",
        "%config InlineBackend.figure_format = 'retina'\n",
        "plt.style.use(\"https://raw.githubusercontent.com/NeuromatchAcademy/course-content/master/nma.mplstyle\")\n",
        "\n",
        "import warnings\n",
        "warnings.filterwarnings(\"ignore\")"
      ],
      "execution_count": 3,
      "outputs": []
    },
    {
      "cell_type": "code",
      "metadata": {
        "cellView": "form",
        "execution": {},
        "id": "zi_zUbM85MI1"
      },
      "source": [
        "# @title Plotting Functions\n",
        "\n",
        "def plot_joint_probs(P, ):\n",
        "    assert np.all(P >= 0), \"probabilities should be >= 0\"\n",
        "    # normalize if not\n",
        "    P = P / np.sum(P)\n",
        "    marginal_y = np.sum(P,axis=1)\n",
        "    marginal_x = np.sum(P,axis=0)\n",
        "\n",
        "    # definitions for the axes\n",
        "    left, width = 0.1, 0.65\n",
        "    bottom, height = 0.1, 0.65\n",
        "    spacing = 0.005\n",
        "\n",
        "    # start with a square Figure\n",
        "    fig = plt.figure(figsize=(5, 5))\n",
        "\n",
        "    joint_prob = [left, bottom, width, height]\n",
        "    rect_histx = [left, bottom + height + spacing, width, 0.2]\n",
        "    rect_histy = [left + width + spacing, bottom, 0.2, height]\n",
        "\n",
        "    rect_x_cmap = plt.cm.Blues\n",
        "    rect_y_cmap = plt.cm.Reds\n",
        "\n",
        "    # Show joint probs and marginals\n",
        "    ax = fig.add_axes(joint_prob)\n",
        "    ax_x = fig.add_axes(rect_histx, sharex=ax)\n",
        "    ax_y = fig.add_axes(rect_histy, sharey=ax)\n",
        "\n",
        "    # Show joint probs and marginals\n",
        "    ax.matshow(P,vmin=0., vmax=1., cmap='Greys')\n",
        "    ax_x.bar(0, marginal_x[0], facecolor=rect_x_cmap(marginal_x[0]))\n",
        "    ax_x.bar(1, marginal_x[1], facecolor=rect_x_cmap(marginal_x[1]))\n",
        "    ax_y.barh(0, marginal_y[0], facecolor=rect_y_cmap(marginal_y[0]))\n",
        "    ax_y.barh(1, marginal_y[1], facecolor=rect_y_cmap(marginal_y[1]))\n",
        "    # set limits\n",
        "    ax_x.set_ylim([0,1])\n",
        "    ax_y.set_xlim([0,1])\n",
        "\n",
        "    # show values\n",
        "    ind = np.arange(2)\n",
        "    x,y = np.meshgrid(ind,ind)\n",
        "    for i,j in zip(x.flatten(), y.flatten()):\n",
        "        c = f\"{P[i,j]:.2f}\"\n",
        "        ax.text(j,i, c, va='center', ha='center', color='black')\n",
        "    for i in ind:\n",
        "        v = marginal_x[i]\n",
        "        c = f\"{v:.2f}\"\n",
        "        ax_x.text(i, v +0.1, c, va='center', ha='center', color='black')\n",
        "        v = marginal_y[i]\n",
        "        c = f\"{v:.2f}\"\n",
        "        ax_y.text(v+0.2, i, c, va='center', ha='center', color='black')\n",
        "\n",
        "    # set up labels\n",
        "    ax.xaxis.tick_bottom()\n",
        "    ax.yaxis.tick_left()\n",
        "    ax.set_xticks([0,1])\n",
        "    ax.set_yticks([0,1])\n",
        "    ax.set_xticklabels(['Silver','Gold'])\n",
        "    ax.set_yticklabels(['Small', 'Large'])\n",
        "    ax.set_xlabel('color')\n",
        "    ax.set_ylabel('size')\n",
        "    ax_x.axis('off')\n",
        "    ax_y.axis('off')\n",
        "    return fig\n",
        "\n",
        "\n",
        "def plot_prior_likelihood_posterior(prior, likelihood, posterior):\n",
        "\n",
        "    # definitions for the axes\n",
        "    left, width = 0.05, 0.3\n",
        "    bottom, height = 0.05, 0.9\n",
        "    padding = 0.12\n",
        "    small_width = 0.1\n",
        "    left_space = left + small_width + padding\n",
        "    added_space = padding + width\n",
        "\n",
        "    fig = plt.figure(figsize=(12, 4))\n",
        "\n",
        "    rect_prior = [left, bottom, small_width, height]\n",
        "    rect_likelihood = [left_space , bottom , width, height]\n",
        "    rect_posterior = [left_space +  added_space, bottom , width, height]\n",
        "\n",
        "    ax_prior = fig.add_axes(rect_prior)\n",
        "    ax_likelihood = fig.add_axes(rect_likelihood, sharey=ax_prior)\n",
        "    ax_posterior = fig.add_axes(rect_posterior, sharey = ax_prior)\n",
        "\n",
        "    rect_colormap = plt.cm.Blues\n",
        "\n",
        "    # Show posterior probs and marginals\n",
        "    ax_prior.barh(0, prior[0], facecolor = rect_colormap(prior[0, 0]))\n",
        "    ax_prior.barh(1, prior[1], facecolor = rect_colormap(prior[1, 0]))\n",
        "    ax_likelihood.matshow(likelihood, vmin=0., vmax=1., cmap='Reds')\n",
        "    ax_posterior.matshow(posterior, vmin=0., vmax=1., cmap='Greens')\n",
        "\n",
        "\n",
        "    # Probabilities plot details\n",
        "    # ax_prior.set(xlim = [1, 0], yticks = [0, 1], yticklabels = ['left', 'right'],\n",
        "    #              ylabel = 'state (s)', title = \"Prior p(s)\")\n",
        "    ax_prior.set(xlim = [1, 0], xticks = [], yticks = [0, 1], yticklabels = ['left', 'right'],\n",
        "                 title = \"Prior p(s)\")\n",
        "    ax_prior.yaxis.tick_right()\n",
        "    ax_prior.spines['left'].set_visible(False)\n",
        "    ax_prior.spines['bottom'].set_visible(False)\n",
        "\n",
        "    # Likelihood plot details\n",
        "    ax_likelihood.set(xticks = [0, 1], xticklabels = ['fish', 'no fish'],\n",
        "                  yticks = [0, 1], yticklabels = ['left', 'right'],\n",
        "                   ylabel = 'state (s)', xlabel = 'measurement (m)',\n",
        "                   title = 'Likelihood p(m (left) | s)')\n",
        "    ax_likelihood.xaxis.set_ticks_position('bottom')\n",
        "    ax_likelihood.spines['left'].set_visible(False)\n",
        "    ax_likelihood.spines['bottom'].set_visible(False)\n",
        "\n",
        "    # Posterior plot details\n",
        "\n",
        "    ax_posterior.set(xticks = [0, 1], xticklabels = ['fish', 'no fish'],\n",
        "                  yticks = [0, 1], yticklabels = ['left', 'right'],\n",
        "                   ylabel = 'state (s)', xlabel = 'measurement (m)',\n",
        "                   title = 'Posterior p(s | m)')\n",
        "    ax_posterior.xaxis.set_ticks_position('bottom')\n",
        "    ax_posterior.spines['left'].set_visible(False)\n",
        "    ax_posterior.spines['bottom'].set_visible(False)\n",
        "\n",
        "\n",
        "    # show values\n",
        "    ind = np.arange(2)\n",
        "    x,y = np.meshgrid(ind,ind)\n",
        "    for i,j in zip(x.flatten(), y.flatten()):\n",
        "        c = f\"{posterior[i,j]:.2f}\"\n",
        "        ax_posterior.text(j,i, c, va='center', ha='center', color='black')\n",
        "    for i,j in zip(x.flatten(), y.flatten()):\n",
        "        c = f\"{likelihood[i,j]:.2f}\"\n",
        "        ax_likelihood.text(j,i, c, va='center', ha='center', color='black')\n",
        "    for i in ind:\n",
        "        v = prior[i, 0]\n",
        "        c = f\"{v:.2f}\"\n",
        "        ax_prior.text(v+0.2, i, c, va='center', ha='center', color='black')\n",
        "\n",
        "\n",
        "def plot_prior_likelihood(ps, p_a_s1, p_a_s0, measurement):\n",
        "    likelihood = np.asarray([[p_a_s1, 1-p_a_s1],[p_a_s0, 1-p_a_s0]])\n",
        "    assert 0.0 <= ps <= 1.0\n",
        "    prior = np.asarray([ps, 1 - ps])\n",
        "    if measurement == \"Fish\":\n",
        "        posterior = likelihood[:, 0] * prior\n",
        "    else:\n",
        "        posterior = (likelihood[:, 1] * prior).reshape(-1)\n",
        "    posterior /= np.sum(posterior)\n",
        "\n",
        "    # definitions for the axes\n",
        "    left, width = 0.05, 0.3\n",
        "    bottom, height = 0.05, 0.9\n",
        "    padding = 0.12\n",
        "    small_width = 0.2\n",
        "    left_space = left + small_width + padding\n",
        "    small_padding = 0.05\n",
        "\n",
        "    fig = plt.figure(figsize=(12, 4))\n",
        "\n",
        "    rect_prior = [left, bottom, small_width, height]\n",
        "    rect_likelihood = [left_space , bottom , width, height]\n",
        "    rect_posterior = [left_space + width + small_padding, bottom , small_width, height]\n",
        "\n",
        "    ax_prior = fig.add_axes(rect_prior)\n",
        "    ax_likelihood = fig.add_axes(rect_likelihood, sharey=ax_prior)\n",
        "    ax_posterior = fig.add_axes(rect_posterior, sharey=ax_prior)\n",
        "\n",
        "    prior_colormap = plt.cm.Blues\n",
        "    posterior_colormap = plt.cm.Greens\n",
        "\n",
        "    # Show posterior probs and marginals\n",
        "    ax_prior.barh(0, prior[0], facecolor = prior_colormap(prior[0]))\n",
        "    ax_prior.barh(1, prior[1], facecolor = prior_colormap(prior[1]))\n",
        "    ax_likelihood.matshow(likelihood, vmin=0., vmax=1., cmap='Reds')\n",
        "    # ax_posterior.matshow(posterior, vmin=0., vmax=1., cmap='')\n",
        "    ax_posterior.barh(0, posterior[0], facecolor = posterior_colormap(posterior[0]))\n",
        "    ax_posterior.barh(1, posterior[1], facecolor = posterior_colormap(posterior[1]))\n",
        "\n",
        "    # Probabilities plot details\n",
        "    ax_prior.set(xlim = [1, 0], yticks = [0, 1], yticklabels = ['left', 'right'],\n",
        "                 title = \"Prior p(s)\", xticks = [])\n",
        "    ax_prior.yaxis.tick_right()\n",
        "    ax_prior.spines['left'].set_visible(False)\n",
        "    ax_prior.spines['bottom'].set_visible(False)\n",
        "\n",
        "    # Likelihood plot details\n",
        "    ax_likelihood.set(xticks = [0, 1], xticklabels = ['fish', 'no fish'],\n",
        "                  yticks = [0, 1], yticklabels = ['left', 'right'],\n",
        "                   ylabel = 'state (s)', xlabel = 'measurement (m)',\n",
        "                   title = 'Likelihood p(m | s)')\n",
        "    ax_likelihood.xaxis.set_ticks_position('bottom')\n",
        "    ax_likelihood.spines['left'].set_visible(False)\n",
        "    ax_likelihood.spines['bottom'].set_visible(False)\n",
        "\n",
        "    # Posterior plot details\n",
        "    ax_posterior.set(xlim = [0, 1], xticks = [], yticks = [0, 1],\n",
        "                     yticklabels = ['left', 'right'], title = \"Posterior p(s | m)\")\n",
        "    ax_posterior.spines['left'].set_visible(False)\n",
        "    ax_posterior.spines['bottom'].set_visible(False)\n",
        "\n",
        "    # show values\n",
        "    ind = np.arange(2)\n",
        "    x,y = np.meshgrid(ind,ind)\n",
        "    # for i,j in zip(x.flatten(), y.flatten()):\n",
        "    #     c = f\"{posterior[i,j]:.2f}\"\n",
        "    #     ax_posterior.text(j,i, c, va='center', ha='center', color='black')\n",
        "    for i in ind:\n",
        "        v = posterior[i]\n",
        "        c = f\"{v:.2f}\"\n",
        "        ax_posterior.text(v+0.2, i, c, va='center', ha='center', color='black')\n",
        "    for i,j in zip(x.flatten(), y.flatten()):\n",
        "        c = f\"{likelihood[i,j]:.2f}\"\n",
        "        ax_likelihood.text(j,i, c, va='center', ha='center', color='black')\n",
        "    for i in ind:\n",
        "        v = prior[i]\n",
        "        c = f\"{v:.2f}\"\n",
        "        ax_prior.text(v+0.2, i, c, va='center', ha='center', color='black')\n",
        "    return fig\n",
        "\n",
        "\n",
        "from matplotlib import colors\n",
        "def plot_utility(ps):\n",
        "    prior = np.asarray([ps, 1 - ps])\n",
        "\n",
        "    utility = np.array([[2, -3], [-2, 1]])\n",
        "\n",
        "    expected = prior @ utility\n",
        "\n",
        "    # definitions for the axes\n",
        "    left, width = 0.05, 0.16\n",
        "    bottom, height = 0.05, 0.9\n",
        "    padding = 0.02\n",
        "    small_width = 0.1\n",
        "    left_space = left + small_width + padding\n",
        "    added_space = padding + width\n",
        "\n",
        "    fig = plt.figure(figsize=(17, 3))\n",
        "\n",
        "    rect_prior = [left, bottom, small_width, height]\n",
        "    rect_utility = [left + added_space , bottom , width, height]\n",
        "    rect_expected = [left + 2* added_space, bottom , width, height]\n",
        "\n",
        "    ax_prior = fig.add_axes(rect_prior)\n",
        "    ax_utility = fig.add_axes(rect_utility, sharey=ax_prior)\n",
        "    ax_expected = fig.add_axes(rect_expected)\n",
        "\n",
        "    rect_colormap = plt.cm.Blues\n",
        "\n",
        "    # Data of plots\n",
        "    ax_prior.barh(0, prior[0], facecolor = rect_colormap(prior[0]))\n",
        "    ax_prior.barh(1, prior[1], facecolor = rect_colormap(prior[1]))\n",
        "    ax_utility.matshow(utility, cmap='cool')\n",
        "    norm = colors.Normalize(vmin=-3, vmax=3)\n",
        "    ax_expected.bar(0, expected[0], facecolor = rect_colormap(norm(expected[0])))\n",
        "    ax_expected.bar(1, expected[1], facecolor = rect_colormap(norm(expected[1])))\n",
        "\n",
        "    # Probabilities plot details\n",
        "    ax_prior.set(xlim = [1, 0], xticks = [], yticks = [0, 1], yticklabels = ['left', 'right'],\n",
        "                 title = \"Probability of state\")\n",
        "    ax_prior.yaxis.tick_right()\n",
        "    ax_prior.spines['left'].set_visible(False)\n",
        "    ax_prior.spines['bottom'].set_visible(False)\n",
        "\n",
        "    # Utility plot details\n",
        "    ax_utility.set(xticks = [0, 1], xticklabels = ['left', 'right'],\n",
        "                  yticks = [0, 1], yticklabels = ['left', 'right'],\n",
        "                   ylabel = 'state (s)', xlabel = 'action (a)',\n",
        "                   title = 'Utility')\n",
        "    ax_utility.xaxis.set_ticks_position('bottom')\n",
        "    ax_utility.spines['left'].set_visible(False)\n",
        "    ax_utility.spines['bottom'].set_visible(False)\n",
        "\n",
        "    # Expected utility plot details\n",
        "    ax_expected.set(title = 'Expected utility', ylim = [-3, 3],\n",
        "                    xticks = [0, 1], xticklabels = ['left', 'right'],\n",
        "                    xlabel = 'action (a)',\n",
        "                    yticks = [])\n",
        "    ax_expected.xaxis.set_ticks_position('bottom')\n",
        "    ax_expected.spines['left'].set_visible(False)\n",
        "    ax_expected.spines['bottom'].set_visible(False)\n",
        "\n",
        "    # show values\n",
        "    ind = np.arange(2)\n",
        "    x,y = np.meshgrid(ind,ind)\n",
        "\n",
        "    for i,j in zip(x.flatten(), y.flatten()):\n",
        "        c = f\"{utility[i,j]:.2f}\"\n",
        "        ax_utility.text(j,i, c, va='center', ha='center', color='black')\n",
        "    for i in ind:\n",
        "        v = prior[i]\n",
        "        c = f\"{v:.2f}\"\n",
        "        ax_prior.text(v+0.2, i, c, va='center', ha='center', color='black')\n",
        "    for i in ind:\n",
        "        v = expected[i]\n",
        "        c = f\"{v:.2f}\"\n",
        "        ax_expected.text(i, 2.5, c, va='center', ha='center', color='black')\n",
        "\n",
        "    return fig\n",
        "\n",
        "\n",
        "def plot_prior_likelihood_utility(ps, p_a_s1, p_a_s0, measurement):\n",
        "    assert 0.0 <= ps <= 1.0\n",
        "    assert 0.0 <= p_a_s1 <= 1.0\n",
        "    assert 0.0 <= p_a_s0 <= 1.0\n",
        "    prior = np.asarray([ps, 1 - ps])\n",
        "    likelihood = np.asarray([[p_a_s1, 1-p_a_s1],[p_a_s0, 1-p_a_s0]])\n",
        "    utility = np.array([[2.0, -3.0], [-2.0, 1.0]])\n",
        "    # expected = np.zeros_like(utility)\n",
        "\n",
        "    if measurement == \"Fish\":\n",
        "        posterior = likelihood[:, 0] * prior\n",
        "    else:\n",
        "        posterior = (likelihood[:, 1] * prior).reshape(-1)\n",
        "    posterior /= np.sum(posterior)\n",
        "    # expected[:, 0] = utility[:, 0] * posterior\n",
        "    # expected[:, 1] = utility[:, 1] * posterior\n",
        "    expected = posterior @ utility\n",
        "\n",
        "    # definitions for the axes\n",
        "    left, width = 0.05, 0.3\n",
        "    bottom, height = 0.05, 0.3\n",
        "    padding = 0.12\n",
        "    small_width = 0.2\n",
        "    left_space = left + small_width + padding\n",
        "    small_padding = 0.05\n",
        "\n",
        "    fig = plt.figure(figsize=(10, 9))\n",
        "\n",
        "    rect_prior = [left, bottom + height + padding, small_width, height]\n",
        "    rect_likelihood = [left_space , bottom + height + padding , width, height]\n",
        "    rect_posterior = [left_space + width + small_padding, bottom + height + padding , small_width, height]\n",
        "\n",
        "    rect_utility = [padding, bottom, width, height]\n",
        "    rect_expected = [padding + width + padding + left, bottom, width, height]\n",
        "\n",
        "    ax_likelihood = fig.add_axes(rect_likelihood)\n",
        "    ax_prior = fig.add_axes(rect_prior, sharey=ax_likelihood)\n",
        "    ax_posterior = fig.add_axes(rect_posterior, sharey=ax_likelihood)\n",
        "    ax_utility = fig.add_axes(rect_utility)\n",
        "    ax_expected = fig.add_axes(rect_expected)\n",
        "\n",
        "    prior_colormap = plt.cm.Blues\n",
        "    posterior_colormap = plt.cm.Greens\n",
        "    expected_colormap = plt.cm.Wistia\n",
        "\n",
        "    # Show posterior probs and marginals\n",
        "    ax_prior.barh(0, prior[0], facecolor = prior_colormap(prior[0]))\n",
        "    ax_prior.barh(1, prior[1], facecolor = prior_colormap(prior[1]))\n",
        "    ax_likelihood.matshow(likelihood, vmin=0., vmax=1., cmap='Reds')\n",
        "    ax_posterior.barh(0, posterior[0], facecolor = posterior_colormap(posterior[0]))\n",
        "    ax_posterior.barh(1, posterior[1], facecolor = posterior_colormap(posterior[1]))\n",
        "    ax_utility.matshow(utility, vmin=0., vmax=1., cmap='cool')\n",
        "    # ax_expected.matshow(expected, vmin=0., vmax=1., cmap='Wistia')\n",
        "    ax_expected.bar(0, expected[0], facecolor = expected_colormap(expected[0]))\n",
        "    ax_expected.bar(1, expected[1], facecolor = expected_colormap(expected[1]))\n",
        "\n",
        "    # Probabilities plot details\n",
        "    ax_prior.set(xlim = [1, 0], yticks = [0, 1], yticklabels = ['left', 'right'],\n",
        "                 title = \"Prior p(s)\", xticks = [])\n",
        "    ax_prior.yaxis.tick_right()\n",
        "    ax_prior.spines['left'].set_visible(False)\n",
        "    ax_prior.spines['bottom'].set_visible(False)\n",
        "\n",
        "    # Likelihood plot details\n",
        "    ax_likelihood.set(xticks = [0, 1], xticklabels = ['fish', 'no fish'],\n",
        "                  yticks = [0, 1], yticklabels = ['left', 'right'],\n",
        "                   ylabel = 'state (s)', xlabel = 'measurement (m)',\n",
        "                   title = 'Likelihood p(m | s)')\n",
        "    ax_likelihood.xaxis.set_ticks_position('bottom')\n",
        "    ax_likelihood.spines['left'].set_visible(False)\n",
        "    ax_likelihood.spines['bottom'].set_visible(False)\n",
        "\n",
        "    # Posterior plot details\n",
        "    ax_posterior.set(xlim = [0, 1], xticks = [], yticks = [0, 1],\n",
        "                     yticklabels = ['left', 'right'], title = \"Posterior p(s | m)\")\n",
        "    ax_posterior.spines['left'].set_visible(False)\n",
        "    ax_posterior.spines['bottom'].set_visible(False)\n",
        "\n",
        "    # Utility plot details\n",
        "    ax_utility.set(xticks = [0, 1], xticklabels = ['left', 'right'],\n",
        "                   xlabel = 'action (a)', yticks = [0, 1], yticklabels = ['left', 'right'],\n",
        "                   title = 'Utility', ylabel = 'state (s)')\n",
        "    ax_utility.xaxis.set_ticks_position('bottom')\n",
        "    ax_utility.spines['left'].set_visible(False)\n",
        "    ax_utility.spines['bottom'].set_visible(False)\n",
        "\n",
        "    # Expected Utility plot details\n",
        "    ax_expected.set(ylim = [-2, 2], xticks = [0, 1], xticklabels = ['left', 'right'],\n",
        "                 xlabel = 'action (a)', title = 'Expected utility', yticks=[])\n",
        "    # ax_expected.axis('off')\n",
        "    ax_expected.spines['left'].set_visible(False)\n",
        "    # ax_expected.set(xticks = [0, 1], xticklabels = ['left', 'right'],\n",
        "    #                 xlabel = 'action (a)',\n",
        "    #                title = 'Expected utility')\n",
        "    # ax_expected.xaxis.set_ticks_position('bottom')\n",
        "    # ax_expected.spines['left'].set_visible(False)\n",
        "    # ax_expected.spines['bottom'].set_visible(False)\n",
        "\n",
        "    # show values\n",
        "    ind = np.arange(2)\n",
        "    x,y = np.meshgrid(ind,ind)\n",
        "    for i in ind:\n",
        "        v = posterior[i]\n",
        "        c = f\"{v:.2f}\"\n",
        "        ax_posterior.text(v+0.2, i, c, va='center', ha='center', color='black')\n",
        "    for i,j in zip(x.flatten(), y.flatten()):\n",
        "        c = f\"{likelihood[i,j]:.2f}\"\n",
        "        ax_likelihood.text(j,i, c, va='center', ha='center', color='black')\n",
        "    for i,j in zip(x.flatten(), y.flatten()):\n",
        "        c = f\"{utility[i,j]:.2f}\"\n",
        "        ax_utility.text(j,i, c, va='center', ha='center', color='black')\n",
        "    # for i,j in zip(x.flatten(), y.flatten()):\n",
        "    #     c = f\"{expected[i,j]:.2f}\"\n",
        "    #     ax_expected.text(j,i, c, va='center', ha='center', color='black')\n",
        "    for i in ind:\n",
        "        v = prior[i]\n",
        "        c = f\"{v:.2f}\"\n",
        "        ax_prior.text(v+0.2, i, c, va='center', ha='center', color='black')\n",
        "    for i in ind:\n",
        "        v = expected[i]\n",
        "        c = f\"{v:.2f}\"\n",
        "        ax_expected.text(i, v, c, va='center', ha='center', color='black')\n",
        "\n",
        "    return fig"
      ],
      "execution_count": 4,
      "outputs": []
    },
    {
      "cell_type": "code",
      "metadata": {
        "cellView": "form",
        "execution": {},
        "id": "nseoWlmr5MI3"
      },
      "source": [
        "# @title Helper Functions\n",
        "\n",
        "def compute_marginal(px, py, cor):\n",
        "    \"\"\" Calculate 2x2 joint probabilities given marginals p(x=1), p(y=1) and correlation\n",
        "\n",
        "      Args:\n",
        "        px (scalar): marginal probability of x\n",
        "        py (scalar): marginal probability of y\n",
        "        cor (scalar): correlation value\n",
        "\n",
        "      Returns:\n",
        "        ndarray of size (2, 2): joint probability array of x and y\n",
        "    \"\"\"\n",
        "\n",
        "    p11 = px*py + cor*np.sqrt(px*py*(1-px)*(1-py))\n",
        "    p01 = px - p11\n",
        "    p10 = py - p11\n",
        "    p00 = 1.0 - p11 - p01 - p10\n",
        "\n",
        "    return np.asarray([[p00, p01], [p10, p11]])\n",
        "\n",
        "\n",
        "def compute_cor_range(px,py):\n",
        "    \"\"\" Calculate the allowed range of correlation values given marginals p(x=1)\n",
        "      and p(y=1)\n",
        "\n",
        "    Args:\n",
        "      px (scalar): marginal probability of x\n",
        "      py (scalar): marginal probability of y\n",
        "\n",
        "    Returns:\n",
        "      scalar, scalar: minimum and maximum possible values of correlation\n",
        "    \"\"\"\n",
        "\n",
        "    def p11(corr):\n",
        "        return px*py + corr*np.sqrt(px*py*(1-px)*(1-py))\n",
        "    def p01(corr):\n",
        "        return px - p11(corr)\n",
        "    def p10(corr):\n",
        "        return py - p11(corr)\n",
        "    def p00(corr):\n",
        "        return 1.0 - p11(corr) - p01(corr) - p10(corr)\n",
        "    Cmax = min(fsolve(p01, 0.0), fsolve(p10, 0.0))\n",
        "    Cmin = max(fsolve(p11, 0.0), fsolve(p00, 0.0))\n",
        "    return Cmin, Cmax"
      ],
      "execution_count": 5,
      "outputs": []
    },
    {
      "cell_type": "markdown",
      "metadata": {
        "execution": {},
        "id": "JlVRjgxp5MI4"
      },
      "source": [
        "---\n",
        "# Section 1: Gone Fishin'\n"
      ]
    },
    {
      "cell_type": "code",
      "metadata": {
        "cellView": "form",
        "execution": {},
        "id": "vX9cveva5MI4",
        "outputId": "ec999dd4-8491-45cc-d91b-73e0a9943b88",
        "colab": {
          "base_uri": "https://localhost:8080/",
          "height": 580,
          "referenced_widgets": [
            "c077183e88704146837baebbbf1b5f2d",
            "4a3de428b9a14d96ba689989c3fa57ae",
            "940e8de89548497fad53e4e503dc4174",
            "6b57e575d9784dec9fb613a834ae056a",
            "55714fb7cd164d8796895d9864810084",
            "ac01f66451854f8894224d122ea837f7"
          ]
        }
      },
      "source": [
        "# @title Video 2: Gone Fishin'\n",
        "from ipywidgets import widgets\n",
        "\n",
        "out2 = widgets.Output()\n",
        "with out2:\n",
        "  from IPython.display import IFrame\n",
        "  class BiliVideo(IFrame):\n",
        "      def __init__(self, id, page=1, width=400, height=300, **kwargs):\n",
        "          self.id=id\n",
        "          src = 'https://player.bilibili.com/player.html?bvid={0}&page={1}'.format(id, page)\n",
        "          super(BiliVideo, self).__init__(src, width, height, **kwargs)\n",
        "\n",
        "  video = BiliVideo(id=\"BV1TP4y147pJ\", width=854, height=480, fs=1)\n",
        "  print('Video available at https://www.bilibili.com/video/{0}'.format(video.id))\n",
        "  display(video)\n",
        "\n",
        "out1 = widgets.Output()\n",
        "with out1:\n",
        "  from IPython.display import YouTubeVideo\n",
        "  video = YouTubeVideo(id=\"kAdBjWOI_yE\", width=854, height=480, fs=1, rel=0)\n",
        "  print('Video available at https://youtube.com/watch?v=' + video.id)\n",
        "  display(video)\n",
        "\n",
        "out = widgets.Tab([out1, out2])\n",
        "out.set_title(0, 'Youtube')\n",
        "out.set_title(1, 'Bilibili')\n",
        "\n",
        "display(out)"
      ],
      "execution_count": 6,
      "outputs": [
        {
          "output_type": "display_data",
          "data": {
            "application/vnd.jupyter.widget-view+json": {
              "model_id": "c077183e88704146837baebbbf1b5f2d",
              "version_minor": 0,
              "version_major": 2
            },
            "text/plain": [
              "Tab(children=(Output(), Output()), _titles={'0': 'Youtube', '1': 'Bilibili'})"
            ]
          },
          "metadata": {
            "tags": []
          }
        }
      ]
    },
    {
      "cell_type": "markdown",
      "metadata": {
        "execution": {},
        "id": "0hJxqBKZ5MI5"
      },
      "source": [
        "This video covers the example problem of fishing that we will cover in this tutorial.\n",
        "\n",
        "<details>\n",
        "<summary> <font color=‘blue’>Click here for text recap of video </font></summary>\n",
        "\n",
        "You were just introduced to the **binary hidden state problem** we are going to explore. You need to decide which side to fish on--the hidden state. We know fish like to school together. On different days the school of fish is either on the left or right side, but we don’t know what the case is today. We define our knowledge about the fish location as a distribution over the random hidden state variable. Using our probabilistic knowledge, also called our **belief** about the hidden state, we will explore how to make the decision about where to fish today, based on what to expect in terms of gains or losses for the decision.\n",
        "The gains and losss are defined by the utility of choosing an action, which is fishing on the left or right. The details of the utilities are described \n",
        "</details>\n",
        "\n",
        "In the next two sections we will consider just the probability of where the fish might be and what you gain or lose by choosing where to fish (leaving Bayesian approaches to the last few sections).\n",
        "\n",
        "Remember, you can either think of your self as a scientist conducting an experiment or as a brain trying to make a decision. The Bayesian approach is the same!\n"
      ]
    },
    {
      "cell_type": "markdown",
      "metadata": {
        "execution": {},
        "id": "1YJozSb55MI5"
      },
      "source": [
        "---\n",
        "# Section 2: Deciding where to fish \n",
        "\n",
        "*Estimated timing to here from start of tutorial: 10 min*"
      ]
    },
    {
      "cell_type": "code",
      "metadata": {
        "cellView": "form",
        "execution": {},
        "id": "oGhz6LVU5MI6",
        "outputId": "e3a744c8-760c-45bb-e6ea-95a8d6fa9591",
        "colab": {
          "base_uri": "https://localhost:8080/",
          "height": 580,
          "referenced_widgets": [
            "1482e785a4a649179ee9023d7fea17fd",
            "fc1eb653df884023a83e989b6f046017",
            "f2d8203654c3430f86c066e5f6309b15",
            "5cda31f3214345a4818b9b9d79dc4ffb",
            "93c4642044f744ef8f2c3e254f99c8cb",
            "32f79c06faab4e2ba09d27942a7bf278"
          ]
        }
      },
      "source": [
        "# @title Video 3: Utility\n",
        "from ipywidgets import widgets\n",
        "\n",
        "out2 = widgets.Output()\n",
        "with out2:\n",
        "  from IPython.display import IFrame\n",
        "  class BiliVideo(IFrame):\n",
        "      def __init__(self, id, page=1, width=400, height=300, **kwargs):\n",
        "          self.id=id\n",
        "          src = 'https://player.bilibili.com/player.html?bvid={0}&page={1}'.format(id, page)\n",
        "          super(BiliVideo, self).__init__(src, width, height, **kwargs)\n",
        "\n",
        "  video = BiliVideo(id=\"BV1uL411H7ZE\", width=854, height=480, fs=1)\n",
        "  print('Video available at https://www.bilibili.com/video/{0}'.format(video.id))\n",
        "  display(video)\n",
        "\n",
        "out1 = widgets.Output()\n",
        "with out1:\n",
        "  from IPython.display import YouTubeVideo\n",
        "  video = YouTubeVideo(id=\"8-5RM0k3IKE\", width=854, height=480, fs=1, rel=0)\n",
        "  print('Video available at https://youtube.com/watch?v=' + video.id)\n",
        "  display(video)\n",
        "\n",
        "out = widgets.Tab([out1, out2])\n",
        "out.set_title(0, 'Youtube')\n",
        "out.set_title(1, 'Bilibili')\n",
        "\n",
        "display(out)"
      ],
      "execution_count": 7,
      "outputs": [
        {
          "output_type": "display_data",
          "data": {
            "application/vnd.jupyter.widget-view+json": {
              "model_id": "1482e785a4a649179ee9023d7fea17fd",
              "version_minor": 0,
              "version_major": 2
            },
            "text/plain": [
              "Tab(children=(Output(), Output()), _titles={'0': 'Youtube', '1': 'Bilibili'})"
            ]
          },
          "metadata": {
            "tags": []
          }
        }
      ]
    },
    {
      "cell_type": "markdown",
      "metadata": {
        "execution": {},
        "id": "vggWJynC5MI6"
      },
      "source": [
        "This video covers utility and expected utility.\n",
        "\n",
        "<details>\n",
        "<summary> <font color=‘blue’>Click here for text recap of video </font></summary>\n",
        "\n",
        "You need to decide where to fish. It may seem obvious - you could just fish on the side where the probability of the fish being is higher! Unfortunately, decisions and actions are always a little more complicated. Deciding to fish may be influenced by more than just the probability of the school of fish being there as we saw by the potential issues of submarines and sunburn. The consequences of the action you take is based on the true (but hidden) state of the world and the action you choose! In our example, fishing on the wrong side, where there aren't many fish, is likely to lead to you spending your afternoon not catching fish and therefore getting a sunburn. The submarine represents a risk to fishing on the right side that is greater than the left side. If you want to know what to expect from taking the action of fishing on one side or the other, you need to calculate the expected utility.\n",
        "\n",
        "You know the (prior) probability that the school of fish is on the left side of the dock today, $P(s = \\textrm{left})$. So, you also know the probability the school is on the right, $P(s = \\textrm{right})$, because these two probabilities must add up to 1.\n",
        "\n",
        "We quantify gains and losses numerically using a **utility** function $U(s,a)$, which describes the consequences of your actions: how much value you gain (or if negative, lose) given the state of the world ($s$) and the action you take ($a$). In our example, our utility can be summarized as:\n",
        "\n",
        "| Utility: U(s,a)   | a = left   | a = right  |\n",
        "| ----------------- |------------|------------|\n",
        "| s = Left          | +2         | -3         |\n",
        "| s = right         | -2         | +1         |\n",
        "\n",
        "To use possible gains and losses to choose an action, we calculate the **expected utility** of that action by weighing these utilities with the probability of that state occuring. This allows us to choose actions by taking probabilities of events into account: we don't care if the outcome of an action-state pair is a loss if the probability of that state is very low. We can formalize this as:\n",
        "\n",
        "$$ \\text{Expected utility of action a} = \\sum_{s}U(s,a)P(s) $$\n",
        "\n",
        "In other words, the expected utility of an action a is the sum over possible states of the utility of that action and state times the probability of that state.\n",
        "\n",
        "</details>\n"
      ]
    },
    {
      "cell_type": "markdown",
      "metadata": {
        "execution": {},
        "id": "9V8QKotW5MI7"
      },
      "source": [
        "## Interactive Demo 2: Exploring the decision\n",
        "\n",
        "Let's start to get a sense of how all this works using the interactive demo below. You can change the probability that the school of fish is on the left side,$p(s = \\textrm{left})$, using the slider. You will see the utility function (a matrix) in the middle and the corresponding expected utility for each action on the right.\n",
        "\n",
        "First, make sure you understand how the expected utility of each action is being computed from the probabilities and the utility values. In the initial state: the probability of the fish being on the left is 0.9 and on the right is 0.1. The expected utility of the action of fishing on the left is then $U(s = \\textrm{left},a = \\textrm{left})p(s = \\textrm{left}) + U(s = \\textrm{right},a = \\textrm{left})p(s = \\textrm{right}) = 2(0.9) + -2(0.1) = 1.6$. Essentially, to get the expected utility of action $a$, you are doing a weighted sum over the relevant column of the utility matrix (corresponding to action $a$) where the weights are the state probabilities.\n",
        "\n",
        "For each of these scenarios, think and discuss first. Then use the demo to try out each and see if your action would have been correct (that is, if the expected value of that action is the highest).\n",
        "\n",
        "\n",
        "1.  You just arrived at the dock for the first time and have no sense of where the fish might be. So you guess that the probability of the school being on the left side is 0.5 (so the probability on the right side is also 0.5). Which side would you choose to fish on given our utility values?\n",
        "2.  You think that the probability of the school being on the left side is very low (0.1) and correspondingly high on the right side (0.9). Which side would you choose to fish on given our utility values?\n",
        "3.  What would you choose if the probability of the school being on the left side is slightly lower than on the right side (0. 4 vs 0.6)?"
      ]
    },
    {
      "cell_type": "code",
      "metadata": {
        "cellView": "form",
        "execution": {},
        "id": "2q5yXYXH5MI7",
        "outputId": "3c14190d-31af-4518-dd7f-ca288e948cb8",
        "colab": {
          "base_uri": "https://localhost:8080/",
          "height": 326,
          "referenced_widgets": [
            "1652eeb16d7c4d7ba1a9489af2906f10",
            "c35289e03ef942989b11d6bd0604ab1b",
            "b0d4f454630c46b09bd9b3dd94ed65da",
            "9a2bdd13b54844d5a83944df08164757",
            "3e5fe41680034e8b9a1cd6504046ecff",
            "3918abdfd059417fac8d85c6a0d0e742",
            "e2ed61c9a8184bc3bd388ff06831faef"
          ]
        }
      },
      "source": [
        "# @markdown Execute this cell to use the widget\n",
        "ps_widget = widgets.FloatSlider(0.9, description='p(s = left)', min=0.0, max=1.0, step=0.01)\n",
        "\n",
        "@widgets.interact(\n",
        "    ps = ps_widget,\n",
        ")\n",
        "def make_utility_plot(ps):\n",
        "    fig = plot_utility(ps)\n",
        "    plt.show(fig)\n",
        "    plt.close(fig)\n",
        "    return None"
      ],
      "execution_count": 8,
      "outputs": [
        {
          "output_type": "display_data",
          "data": {
            "application/vnd.jupyter.widget-view+json": {
              "model_id": "1652eeb16d7c4d7ba1a9489af2906f10",
              "version_minor": 0,
              "version_major": 2
            },
            "text/plain": [
              "interactive(children=(FloatSlider(value=0.9, description='p(s = left)', max=1.0, step=0.01), Output()), _dom_c…"
            ]
          },
          "metadata": {
            "tags": []
          }
        }
      ]
    },
    {
      "cell_type": "markdown",
      "metadata": {
        "execution": {},
        "id": "81l11D2o5MI8"
      },
      "source": [
        "[*Click for solution*](https://github.com/NeuromatchAcademy/course-content/tree/master//tutorials/W3D1_BayesianDecisions/solutions/W3D1_Tutorial1_Solution_b21e7033.py)\n",
        "\n"
      ]
    },
    {
      "cell_type": "code",
      "metadata": {
        "cellView": "form",
        "execution": {},
        "id": "SfR_uNqD5MI8",
        "outputId": "f4228ae4-7dde-42e1-b972-0b13f9a487dc",
        "colab": {
          "base_uri": "https://localhost:8080/",
          "height": 580,
          "referenced_widgets": [
            "c1921cd0ee3e446697dad46bb741cf6d",
            "fd7897dc7a9b4f0bae5071fdacdfd503",
            "054c05b84b4c4fc084242bfba7db5e7a",
            "6f1f7b6598fe44c8bcfa3396a2f1e75f",
            "20364254d86e4f82884c5410d97a5c83",
            "9d18d05cda474f4abf521729f8b8858d"
          ]
        }
      },
      "source": [
        "# @title Video 4: Utility Demo Discussion\n",
        "from ipywidgets import widgets\n",
        "\n",
        "out2 = widgets.Output()\n",
        "with out2:\n",
        "  from IPython.display import IFrame\n",
        "  class BiliVideo(IFrame):\n",
        "      def __init__(self, id, page=1, width=400, height=300, **kwargs):\n",
        "          self.id=id\n",
        "          src = 'https://player.bilibili.com/player.html?bvid={0}&page={1}'.format(id, page)\n",
        "          super(BiliVideo, self).__init__(src, width, height, **kwargs)\n",
        "\n",
        "  video = BiliVideo(id=\"BV1po4y1D7Fu\", width=854, height=480, fs=1)\n",
        "  print('Video available at https://www.bilibili.com/video/{0}'.format(video.id))\n",
        "  display(video)\n",
        "\n",
        "out1 = widgets.Output()\n",
        "with out1:\n",
        "  from IPython.display import YouTubeVideo\n",
        "  video = YouTubeVideo(id=\"GHQbmsEyQjE\", width=854, height=480, fs=1, rel=0)\n",
        "  print('Video available at https://youtube.com/watch?v=' + video.id)\n",
        "  display(video)\n",
        "\n",
        "out = widgets.Tab([out1, out2])\n",
        "out.set_title(0, 'Youtube')\n",
        "out.set_title(1, 'Bilibili')\n",
        "\n",
        "display(out)"
      ],
      "execution_count": 9,
      "outputs": [
        {
          "output_type": "display_data",
          "data": {
            "application/vnd.jupyter.widget-view+json": {
              "model_id": "c1921cd0ee3e446697dad46bb741cf6d",
              "version_minor": 0,
              "version_major": 2
            },
            "text/plain": [
              "Tab(children=(Output(), Output()), _titles={'0': 'Youtube', '1': 'Bilibili'})"
            ]
          },
          "metadata": {
            "tags": []
          }
        }
      ]
    },
    {
      "cell_type": "markdown",
      "metadata": {
        "execution": {},
        "id": "FPFIukIo5MI9"
      },
      "source": [
        "In this section, you have seen that both the utility of various state and action pairs and our knowledge of the probability of each state affects your decision. Importantly, we want our knowledge of the probability of each state to be as accurate as possible! \n",
        "\n",
        "So how do we know these probabilities? We may have prior knowledge from years of fishing at the same dock, learning that the fish are more likely to be on the left side, for example. Of course, we need to update our knowledge (our belief)! To do this, we need to collect more information, or take some measurements! In the next few sections, we will focus on how we improve our knowledge of the probabilities."
      ]
    },
    {
      "cell_type": "markdown",
      "metadata": {
        "execution": {},
        "id": "KWQtG_oy5MI9"
      },
      "source": [
        "---\n",
        "# Section 3: Likelihood of the fish being on either side\n",
        "\n",
        "*Estimated timing to here from start of tutorial: 25 min*\n",
        " \n"
      ]
    },
    {
      "cell_type": "code",
      "metadata": {
        "cellView": "form",
        "execution": {},
        "id": "Pajb-vT85MI9",
        "outputId": "1d826b50-a359-423d-8b2c-4aa7ffcc3eaa",
        "colab": {
          "base_uri": "https://localhost:8080/",
          "height": 580,
          "referenced_widgets": [
            "dfb5363ebf84437491693291f03de1f8",
            "adf33e75e3b8468ab3c809655b780d93",
            "44e0025ad04f403db8c18ec706da1c10",
            "b536e618188247a2ad1b0570b2420bbd",
            "f6ead1e4ec384a588697640b7c0f5c04",
            "cf47a7fb5aeb49c08aa783d54a62019c"
          ]
        }
      },
      "source": [
        "# @title Video 5: Likelihood\n",
        "from ipywidgets import widgets\n",
        "\n",
        "out2 = widgets.Output()\n",
        "with out2:\n",
        "  from IPython.display import IFrame\n",
        "  class BiliVideo(IFrame):\n",
        "      def __init__(self, id, page=1, width=400, height=300, **kwargs):\n",
        "          self.id=id\n",
        "          src = 'https://player.bilibili.com/player.html?bvid={0}&page={1}'.format(id, page)\n",
        "          super(BiliVideo, self).__init__(src, width, height, **kwargs)\n",
        "\n",
        "  video = BiliVideo(id=\"BV1EK4y1u7AV\", width=854, height=480, fs=1)\n",
        "  print('Video available at https://www.bilibili.com/video/{0}'.format(video.id))\n",
        "  display(video)\n",
        "\n",
        "out1 = widgets.Output()\n",
        "with out1:\n",
        "  from IPython.display import YouTubeVideo\n",
        "  video = YouTubeVideo(id=\"Yv8MDjdm1l4\", width=854, height=480, fs=1, rel=0)\n",
        "  print('Video available at https://youtube.com/watch?v=' + video.id)\n",
        "  display(video)\n",
        "\n",
        "out = widgets.Tab([out1, out2])\n",
        "out.set_title(0, 'Youtube')\n",
        "out.set_title(1, 'Bilibili')\n",
        "\n",
        "display(out)"
      ],
      "execution_count": 10,
      "outputs": [
        {
          "output_type": "display_data",
          "data": {
            "application/vnd.jupyter.widget-view+json": {
              "model_id": "dfb5363ebf84437491693291f03de1f8",
              "version_minor": 0,
              "version_major": 2
            },
            "text/plain": [
              "Tab(children=(Output(), Output()), _titles={'0': 'Youtube', '1': 'Bilibili'})"
            ]
          },
          "metadata": {
            "tags": []
          }
        }
      ]
    },
    {
      "cell_type": "markdown",
      "metadata": {
        "execution": {},
        "id": "auj9D1uB5MI-"
      },
      "source": [
        "\n",
        "<details>\n",
        "<summary> <font color=‘blue’>Click here for text recap of video </font></summary>\n",
        "\n",
        "First, we'll think about what it means to take a measurement (also often called an observation or just data) and what it tells you about what the hidden state may be. Specifically, we'll be looking at the **likelihood**, which is the probability of your measurement ($m$) given the hidden state ($s$): $P(m | s)$. Remember that in this case, the hidden state is which side of the dock the school of fish is on.\n",
        "We will watch someone fish (for let's say 10 minutes) and our measurement is whether they catch a fish or not. We know something about what catching a fish means for the likelihood of the fish being on one side or the other.\n",
        "</details>"
      ]
    },
    {
      "cell_type": "markdown",
      "metadata": {
        "execution": {},
        "id": "TLqtdC0d5MI_"
      },
      "source": [
        "## Think! 3: Guessing the location of the fish\n",
        "\n",
        "Let's say we go to different dock to fish. Here, there are different probabilities of catching fish given the state of the world. At this dock, if you fish on the side of the dock where the fish are, you have a 70% chance of catching a fish. If you fish on the wrong side, you will catch a fish with only 20% probability. These are the likelihoods of observing someone catching a fish! That is, you are taking a measurement by seeing if someone else catches a fish!\n",
        "\n",
        "You see a fisherperson is fishing on the left side.\n",
        "\n",
        "1) Please figure out each of the following (might be easiest to do this separately and then compare notes):\n",
        "- probability of catching a fish given that the school of fish is on the left side, $P(m = \\textrm{catch fish} | s = \\textrm{left} )$\n",
        "- probability of not catching a fish given that the school of fish is on the left side, $P(m = \\textrm{no fish} | s = \\textrm{left})$\n",
        "- probability of catching a fish given that the school of fish is on the right side, $P(m = \\textrm{catch  fish} | s = \\textrm{right})$\n",
        "- probability of not catching a fish given that the school of fish is on the right side, $P(m = \\textrm{no fish} | s = \\textrm{right})$\n",
        "\n",
        "2) If the fisherperson catches a fish, which side would you guess the school is on? Why?\n",
        "\n",
        "3) If the fisherperson does not catch a fish, which side would you guess the school is on? Why?\n"
      ]
    },
    {
      "cell_type": "markdown",
      "metadata": {
        "execution": {},
        "id": "F5T3s-Bz5MI_"
      },
      "source": [
        "[*Click for solution*](https://github.com/NeuromatchAcademy/course-content/tree/master//tutorials/W3D1_BayesianDecisions/solutions/W3D1_Tutorial1_Solution_84eff60e.py)\n",
        "\n"
      ]
    },
    {
      "cell_type": "markdown",
      "metadata": {
        "execution": {},
        "id": "s3uOETv15MJA"
      },
      "source": [
        "In the prior exercise, you tried to guess where the school of fish was based on the measurement you took (watching someone fish). You did this by choosing the state (side where you think the fish are) that maximized the probability of the measurement. In other words, you estimated the state by maximizing the likelihood (the side with the highest probability of measurement given state $P(m|s$)). This is called maximum likelihood estimation (MLE) and you've encountered it before during this course, in the [pre-reqs statistics day](https://compneuro.neuromatch.io/tutorials/W0D5_Statistics/student/W0D5_Tutorial2.html#section-2-2-maximum-likelihood) and on [Model Fitting day](https://compneuro.neuromatch.io/tutorials/W1D3_ModelFitting/student/W1D3_Tutorial2.html)!\n",
        "\n",
        "But, what if you had been going to this dock for years and you knew that the fish were almost always on the left side? This should probably affect how you make your estimate -- you would rely less on the single new measurement and more on your prior knowledge. This is the fundemental idea behind Bayesian inference, as we will see later in this tutorial!"
      ]
    },
    {
      "cell_type": "markdown",
      "metadata": {
        "execution": {},
        "id": "nH9Lu5Rm5MJA"
      },
      "source": [
        "---\n",
        "# Section 4: Correlation and marginalization\n",
        "\n",
        "*Estimated timing to here from start of tutorial: 35 min*\n"
      ]
    },
    {
      "cell_type": "code",
      "metadata": {
        "cellView": "form",
        "execution": {},
        "id": "_6vZyYbK5MJB",
        "outputId": "648a3f90-b621-48d0-db38-1df5a25c53a2",
        "colab": {
          "base_uri": "https://localhost:8080/",
          "height": 580,
          "referenced_widgets": [
            "1ade6a16eaad4db9bccb3db7cb0dc1c8",
            "f897a8b397fa4391a7baa158e00d8526",
            "bfe3c92a1dae403d8e0bd01e63f27429",
            "87483729609043b4bd05535819b07a66",
            "95e449f8257e441488786cdaadac3f84",
            "73aacecf0dd14f7589607fb6f59769d7"
          ]
        }
      },
      "source": [
        "# @title Video 6: Correlation and marginalization\n",
        "from ipywidgets import widgets\n",
        "\n",
        "out2 = widgets.Output()\n",
        "with out2:\n",
        "  from IPython.display import IFrame\n",
        "  class BiliVideo(IFrame):\n",
        "      def __init__(self, id, page=1, width=400, height=300, **kwargs):\n",
        "          self.id=id\n",
        "          src = 'https://player.bilibili.com/player.html?bvid={0}&page={1}'.format(id, page)\n",
        "          super(BiliVideo, self).__init__(src, width, height, **kwargs)\n",
        "\n",
        "  video = BiliVideo(id=\"BV1Zq4y1p7N6\", width=854, height=480, fs=1)\n",
        "  print('Video available at https://www.bilibili.com/video/{0}'.format(video.id))\n",
        "  display(video)\n",
        "\n",
        "out1 = widgets.Output()\n",
        "with out1:\n",
        "  from IPython.display import YouTubeVideo\n",
        "  video = YouTubeVideo(id=\"iprFMHch2_g\", width=854, height=480, fs=1, rel=0)\n",
        "  print('Video available at https://youtube.com/watch?v=' + video.id)\n",
        "  display(video)\n",
        "\n",
        "out = widgets.Tab([out1, out2])\n",
        "out.set_title(0, 'Youtube')\n",
        "out.set_title(1, 'Bilibili')\n",
        "\n",
        "display(out)"
      ],
      "execution_count": 11,
      "outputs": [
        {
          "output_type": "display_data",
          "data": {
            "application/vnd.jupyter.widget-view+json": {
              "model_id": "1ade6a16eaad4db9bccb3db7cb0dc1c8",
              "version_minor": 0,
              "version_major": 2
            },
            "text/plain": [
              "Tab(children=(Output(), Output()), _titles={'0': 'Youtube', '1': 'Bilibili'})"
            ]
          },
          "metadata": {
            "tags": []
          }
        }
      ]
    },
    {
      "cell_type": "markdown",
      "metadata": {
        "execution": {},
        "id": "AzvOO2o15MJC"
      },
      "source": [
        "## Section 4.1: Correlation"
      ]
    },
    {
      "cell_type": "markdown",
      "metadata": {
        "execution": {},
        "id": "FdHgSCuV5MJC"
      },
      "source": [
        "In this section, we are going to take a step back for a bit and think more generally about the amount of information shared between two random variables. We want to know how much information you gain when you observe one variable (take a measurement) if you know something about another. We will see that the fundamental concept is the same if we think about two attributes, for example the size and color of the fish, or the prior information and the likelihood.\n"
      ]
    },
    {
      "cell_type": "markdown",
      "metadata": {
        "execution": {},
        "id": "4Z1sh_B05MJD"
      },
      "source": [
        "### Think! 4.1: Covarying probability distributions\n",
        "\n",
        "The relationship between the marginal probabilities and the joint probabilities is determined by the correlation between the two random variables - a normalized measure of how much the variables covary. We can also think of this as gaining some information about one of the variables when we observe a measurement from the other. We will think about this more formally in Tutorial 2. \n",
        "\n",
        "Here, we want to think about how the correlation between size and color of these fish changes how much information we gain about one attribute based on the other. See Bonus Section 1 for the formula for correlation.\n",
        "\n",
        "Use the widget below and answer the following questions:\n",
        "\n",
        "1. When the correlation is zero, $\\rho = 0$, what does the distribution of size tell you about color?\n",
        "2. Set $\\rho$ to something small. As you change the probability of golden fish, what happens to the ratio of size probabilities? Set $\\rho$ larger (can be negative). Can you explain the pattern of changes in the probabilities of size as you change the probability of golden fish?\n",
        "3. Set the probability of golden fish and of large fish to around 65%. As the correlation goes towards 1, how often will you see silver large fish?\n",
        "4. What is increasing the (absolute) correlation telling you about how likely you are to see one of the properties if you see a fish with the other?\n"
      ]
    },
    {
      "cell_type": "code",
      "metadata": {
        "cellView": "form",
        "execution": {},
        "id": "BXri-BIh5MJG",
        "outputId": "64d3adbc-7958-4405-8407-481d4d6b3e57",
        "colab": {
          "base_uri": "https://localhost:8080/",
          "height": 474,
          "referenced_widgets": [
            "dd4c7b295ffb4339aa522470f5090462",
            "7666b1096882477da261a1ff7ac1490f",
            "ef560594ac6d4c86949b5b65a64d5a29",
            "c5fb66a4e98b4a0abb12f7dcfe472b9e",
            "37efca79a26d47d69945367266d42405",
            "fad96347fc0647a1a1a07e6a4805c9f8",
            "62002ac8601d47cd809b62b874b734ce",
            "e2c079a934bd40e3a3212c67c2cd362c",
            "1857f8f6f51a46888f3701ddca7a9245",
            "46624c6f95b64dec94253232b63c1a00",
            "2cdec9e1ff37441ca337f1b2cc3db705",
            "47a14fe3a9314384a7bf57b82dc2f6fc",
            "aa897c2392a342bb8a325f7dd97a592c"
          ]
        }
      },
      "source": [
        "# @markdown Execute this cell to enable the widget\n",
        "style = {'description_width': 'initial'}\n",
        "gs = GridspecLayout(2,2)\n",
        "\n",
        "cor_widget = widgets.FloatSlider(0.0, description='ρ', min=-1, max=1, step=0.01)\n",
        "px_widget = widgets.FloatSlider(0.5, description='p(color=golden)', min=0.01, max=0.99, step=0.01, style=style)\n",
        "py_widget = widgets.FloatSlider(0.5, description='p(size=large)', min=0.01, max=0.99, step=0.01, style=style)\n",
        "gs[0,0] = cor_widget\n",
        "gs[0,1] = px_widget\n",
        "gs[1,0] = py_widget\n",
        "\n",
        "\n",
        "@widgets.interact(\n",
        "    px=px_widget,\n",
        "    py=py_widget,\n",
        "    cor=cor_widget,\n",
        ")\n",
        "def make_corr_plot(px, py, cor):\n",
        "    Cmin, Cmax = compute_cor_range(px, py) #allow correlation values\n",
        "    cor_widget.min, cor_widget.max = Cmin+0.01, Cmax-0.01\n",
        "    if cor_widget.value > Cmax:\n",
        "        cor_widget.value = Cmax\n",
        "    if cor_widget.value < Cmin:\n",
        "        cor_widget.value = Cmin\n",
        "    cor = cor_widget.value\n",
        "    P = compute_marginal(px,py,cor)\n",
        "    # print(P)\n",
        "    fig = plot_joint_probs(P)\n",
        "    plt.show(fig)\n",
        "    plt.close(fig)\n",
        "    return None\n",
        "\n",
        "# gs[1,1] = make_corr_plot()"
      ],
      "execution_count": 12,
      "outputs": [
        {
          "output_type": "display_data",
          "data": {
            "application/vnd.jupyter.widget-view+json": {
              "model_id": "dd4c7b295ffb4339aa522470f5090462",
              "version_minor": 0,
              "version_major": 2
            },
            "text/plain": [
              "interactive(children=(FloatSlider(value=0.5, description='p(color=golden)', layout=Layout(grid_area='widget002…"
            ]
          },
          "metadata": {
            "tags": []
          }
        }
      ]
    },
    {
      "cell_type": "markdown",
      "metadata": {
        "execution": {},
        "id": "Puwkq80S5MJH"
      },
      "source": [
        "[*Click for solution*](https://github.com/NeuromatchAcademy/course-content/tree/master//tutorials/W3D1_BayesianDecisions/solutions/W3D1_Tutorial1_Solution_5567dab4.py)\n",
        "\n"
      ]
    },
    {
      "cell_type": "markdown",
      "metadata": {
        "execution": {},
        "id": "ohCCMlFi5MJJ"
      },
      "source": [
        "We have just seen how two random variables can be more or less independent. The more correlated, the less independent, and the more shared information. We also learned that we can marginalize to determine the marginal likelihood of a measurement or to find the marginal probability distribution of two random variables. We are going to now complete our journey towards being fully Bayesian!"
      ]
    },
    {
      "cell_type": "markdown",
      "metadata": {
        "execution": {},
        "id": "Fw5qaiIf5MJK"
      },
      "source": [
        "## Section 4.2: Marginalisation"
      ]
    },
    {
      "cell_type": "markdown",
      "metadata": {
        "execution": {},
        "id": "rynviUls5MJK"
      },
      "source": [
        "\n",
        "<details>\n",
        "<summary> <font color=‘blue’>Click here for text recap of relevant part of video </font></summary>\n",
        "\n",
        "We may want to find the probability of one variable while ignoring another: we will do this by averaging out, or marginalizing, the irrelevant variable.\n",
        "\n",
        "We will think of this in two different ways.\n",
        "\n",
        "In the first math exercise, you will think about the case where you know the joint probabilities of two variables and want to figure out the probability of just one variable. To make this explicit, let's assume that a fish has a color that is either gold or silver (our first variable) and a size that is either small or large (our second). We could write out the the **joint probabilities**: the probability of both specific attributes occuring together. For example, the probability of a fish being small and silver, $P(X = \\textrm{small}, Y = \\textrm{silver})$, is 0.4. The following table summarizes our joint probabilities:\n",
        "\n",
        "| P(X, Y)        | Y = silver  | Y = gold  |\n",
        "| -------------- |-------------|-----------|\n",
        "| X = small      | 0.4         | 0.2       |\n",
        "| X = large      | 0.1         | 0.3       |\n",
        "\n",
        "\n",
        "We want to know what the probability of a fish being small  regardless of color. Since the fish are either silver or gold, this would be the probability of a fish being small and silver plus the probability of a fish being small and gold. This is an example of marginalizing, or averaging out, the variable we are not interested in across the rows or columns.. In math speak: $P(X = \\textrm{small}) = \\sum_y{P(X = \\textrm{small}, Y)}$. This gives us a **marginal probability**, a probability of a variable outcome (in this case size), regardless of the other variables (in this case color).\n",
        "\n",
        "More generally, we can marginalize out a second irrelevant variable $y$ by summing over the relevant joint probabilities:\n",
        "\n",
        "$$p(x) = \\sum_y p(x, y) $$\n",
        "\n",
        "\n",
        "In the second math exercise, you will remove an unknown (the hidden state) to find the marginal probability of a measurement. You will do this by marginalizing out the hidden state. In this case, you know the conditional probabilities of the measurement given state and the probabilities of each state. You can marginalize using:\n",
        "\n",
        "$$p(m) = \\sum_s p(m | s) p(s) $$\n",
        "\n",
        "These two ways of thinking about marginalization (as averaging over joint probabilities or conditioning on some variable) are equivalent because the joint probability of two variables equals the conditional probability of the first given the second times the marginal probability of the second:\n",
        "\n",
        "$$p(x, y) = p(x|y)p(y)$$ \n",
        "\n"
      ]
    },
    {
      "cell_type": "markdown",
      "metadata": {
        "execution": {},
        "id": "yLw4ZrCw5MJL"
      },
      "source": [
        "### Math Exercise 4.2.1: Computing marginal probabilities\n",
        "\n",
        "To understand the information between two variables, let's first consider the joint probabilities over the size and color of the fish.\n",
        "\n",
        "| P(X, Y)        | Y = silver  | Y = gold  |\n",
        "| -------------- |-------------|-----------|\n",
        "| X = small      | 0.4         | 0.2       |\n",
        "| X = large      | 0.1         | 0.3       |\n",
        "\n",
        "Please complete the following math problems to further practice thinking through probabilities:\n",
        "\n",
        "1. Calculate the probability of a fish being silver.\n",
        "2. Calculate the probability of a fish being small, large, silver, or gold.\n",
        "3. Calculate the probability of a fish being small OR gold. (Hint: $P(A\\ \\textrm{or}\\ B) = P(A) + P(B) - P(A\\ \\textrm{and}\\ B)$)\n",
        "\n",
        "**We don't typically have math exercises in NMA but feel it is important for you to really compute this out yourself. Feel free to use the next cell to write out the math if helpful, or use paper and pen. We recommend doing this exercise individually first and then comparing notes and discussing.**\n"
      ]
    },
    {
      "cell_type": "code",
      "metadata": {
        "execution": {},
        "id": "znC-XCO45MJL"
      },
      "source": [
        "\"\"\"\n",
        "\n",
        "Joint probabilities\n",
        "\n",
        "P( X = small, Y = silver) = 0.4\n",
        "P( X = large, Y = silver) = 0.1\n",
        "P( X = small, Y = gold) = 0.2\n",
        "P( X = large, Y = gold) = 0.3\n",
        "\n",
        "\n",
        "1. P(Y = silver) =\n",
        "   P(Y = silver, X = small) + P(Y = silver, X = large) =\n",
        "   0.4 + 0.1 = 0.5\n",
        "\n",
        "2. P(X = small or large, Y = silver or gold) = 1.0\n",
        "\n",
        "3. P( X = small or Y = gold) =\n",
        "   P(X = small) + P(Y = gold) - P(X = small, Y = gold) =\n",
        "   (0.4 + 0.2) + (0.2 + 0.3) - 0.2 = 0.9\n",
        "\n",
        "\"\"\""
      ],
      "execution_count": null,
      "outputs": []
    },
    {
      "cell_type": "markdown",
      "metadata": {
        "execution": {},
        "id": "my0U9PA55MJM"
      },
      "source": [
        "[*Click for solution*](https://github.com/NeuromatchAcademy/course-content/tree/master//tutorials/W3D1_BayesianDecisions/solutions/W3D1_Tutorial1_Solution_a2c6d43f.py)\n",
        "\n"
      ]
    },
    {
      "cell_type": "markdown",
      "metadata": {
        "execution": {},
        "id": "hz9eMfVM5MJM"
      },
      "source": [
        "### Math Exercise 4.2.2: Computing marginal likelihood\n",
        "\n",
        "When we normalize to find the posterior, we need to determine the marinal likelihood--or evidence--for the measurement we observed. To do this, we need to marginalize as we just did above to find the probabilities of a color or size. Only, in this case, we are marginalizing to remove a conditioning variable! In this case, let's consider the likelihood of fish (if we observed a fisherperson fishing on the **right**).\n",
        "\n",
        "| p(m\\|s)       | m = fish | m = no fish  |\n",
        "| ------------ | ---------- | -------------- |\n",
        "| s = left     | 0.1      | 0.9          |\n",
        "| s = right    | 0.5      | 0.5          |\n",
        "\n",
        "\n",
        "The table above shows us the **likelihoods**, just as we explored earlier.\n",
        "\n",
        "You want to know the total probability of a fish being caught, $P(m = \\textrm{fish})$, by the fisherperson fishing on the right. (You would need this to calcualate the posterior.) To do this, you will need to consider the prior probability, $p(s)$, and marginalize over the hidden states!\n",
        "\n",
        "This is an example of marginalizing, or conditioning away, the variable we are not interested in as well.\n",
        "\n",
        "Please complete the following math problems to further practice thinking through probabilities:\n",
        "\n",
        "1. Calculate the marginal likelihood of the fish being caught, $P(m = \\textrm{fish})$, if the priors are: $p(s = \\textrm{left}) = 0.3$ and $p(s = \\textrm{right}) = 0.7$.\n",
        "2. Calculate the marginal likelihood of the fish being caught,  $P(m = \\textrm{fish})$, if the priors are: $p(s = \\textrm{left}) = 0.6$ and $p(s = \\textrm{right}) = 0.4$.\n",
        "\n",
        "**We don't typically have math exercises in NMA but feel it is important for you to really compute this out yourself. Feel free to use the next cell to write out the math if helpful, or use paper and pen. We recommend doing this exercise individually first and then comparing notes and discussing.**\n"
      ]
    },
    {
      "cell_type": "code",
      "metadata": {
        "execution": {},
        "id": "_N4beli65MJN"
      },
      "source": [
        "\"\"\"\n",
        "\n",
        "Priors\n",
        "P(s = left) = 0.3\n",
        "P(s = right) = 0.7\n",
        "\n",
        "Likelihoods\n",
        "P(m = fish | s = left) = 0.1\n",
        "P(m = fish | s = right) = 0.5\n",
        "P(m = no fish | s = left) = 0.9\n",
        "P(m = no fish | s = right) = 0.5\n",
        "\n",
        "1. P(m = fish) =\n",
        "   P(m = fish | s = left) P(s = left) + P(m = fish | s = right) P(s = right) =\n",
        "   0.1(0.3) + 0.5(0.7) = 0.38\n",
        "\n",
        "2. P(m = fish) =\n",
        "   P(m = fish | s = left) P(s = left) + P(m = fish | s = right) P(s = right) =\n",
        "   0.1(0.6) + \n",
        "\n",
        "\"\"\""
      ],
      "execution_count": null,
      "outputs": []
    },
    {
      "cell_type": "markdown",
      "metadata": {
        "execution": {},
        "id": "S1E5l_Bk5MJO"
      },
      "source": [
        "[*Click for solution*](https://github.com/NeuromatchAcademy/course-content/tree/master//tutorials/W3D1_BayesianDecisions/solutions/W3D1_Tutorial1_Solution_16d6767a.py)\n",
        "\n"
      ]
    },
    {
      "cell_type": "markdown",
      "metadata": {
        "execution": {},
        "id": "NaWHuXbM5MJO"
      },
      "source": [
        "---\n",
        "# Section 5: Bayes' Rule and the Posterior\n",
        "\n",
        "*Estimated timing to here from start of tutorial: 55 min*"
      ]
    },
    {
      "cell_type": "code",
      "metadata": {
        "cellView": "form",
        "execution": {},
        "id": "FPwepo7R5MJO",
        "outputId": "19e55a12-a285-495e-9c24-2a3b14091f41",
        "colab": {
          "base_uri": "https://localhost:8080/",
          "height": 580,
          "referenced_widgets": [
            "d038fa8aebd34bad96c8e117fe89b880",
            "e3b433c83e9949719a25bc8347bec0d4",
            "b491d0f6f244459787c851a765445879",
            "7e73a4e9930b462cab206e19ea7e18db",
            "08308948b2a14f09a61c3fd240977242",
            "c4f03b74dd5a47acb9b4a75dbe2657ca"
          ]
        }
      },
      "source": [
        "# @title Video 7: Posterior Beliefs\n",
        "from ipywidgets import widgets\n",
        "\n",
        "out2 = widgets.Output()\n",
        "with out2:\n",
        "  from IPython.display import IFrame\n",
        "  class BiliVideo(IFrame):\n",
        "      def __init__(self, id, page=1, width=400, height=300, **kwargs):\n",
        "          self.id=id\n",
        "          src = 'https://player.bilibili.com/player.html?bvid={0}&page={1}'.format(id, page)\n",
        "          super(BiliVideo, self).__init__(src, width, height, **kwargs)\n",
        "\n",
        "  video = BiliVideo(id=\"BV1fK4y1M7EC\", width=854, height=480, fs=1)\n",
        "  print('Video available at https://www.bilibili.com/video/{0}'.format(video.id))\n",
        "  display(video)\n",
        "\n",
        "out1 = widgets.Output()\n",
        "with out1:\n",
        "  from IPython.display import YouTubeVideo\n",
        "  video = YouTubeVideo(id=\"cOAJQ4utwD0\", width=854, height=480, fs=1, rel=0)\n",
        "  print('Video available at https://youtube.com/watch?v=' + video.id)\n",
        "  display(video)\n",
        "\n",
        "out = widgets.Tab([out1, out2])\n",
        "out.set_title(0, 'Youtube')\n",
        "out.set_title(1, 'Bilibili')\n",
        "\n",
        "display(out)"
      ],
      "execution_count": 13,
      "outputs": [
        {
          "output_type": "display_data",
          "data": {
            "application/vnd.jupyter.widget-view+json": {
              "model_id": "d038fa8aebd34bad96c8e117fe89b880",
              "version_minor": 0,
              "version_major": 2
            },
            "text/plain": [
              "Tab(children=(Output(), Output()), _titles={'0': 'Youtube', '1': 'Bilibili'})"
            ]
          },
          "metadata": {
            "tags": []
          }
        }
      ]
    },
    {
      "cell_type": "markdown",
      "metadata": {
        "execution": {},
        "id": "zwD5LsLo5MJO"
      },
      "source": [
        "Marginalization is going to be used to combine our prior knowlege, which we call the **prior**, and our new information from a measurement, the **likelihood**. Only in this case, the information we gain about the hidden state we are interested in, where the fish are, is based on the relationship between the probabilities of the measurement and our prior. \n",
        "\n",
        "We can now calculate the full posterior distribution for the hidden state ($s$) using Bayes' Rule. As we've seen, the posterior is proportional the the prior times the likelihood. This means that the posterior probability of the hidden state ($s$) given a measurement ($m$) is proportional to the likelihood of the measurement given the state times the prior probability of that state:\n",
        "\n",
        "$$ P(s | m) \\propto P(m | s) P(s)  $$\n",
        "\n",
        "We say proportional to instead of equal because we need to normalize to produce a full probability distribution:\n",
        "\n",
        "$$ P(s | m) = \\frac{P(m | s) P(s)}{P(m)}  $$\n",
        "\n",
        "Normalizing by this $P(m)$ means that our posterior is a complete probability distribution that sums or integrates to 1 appropriately. We now can use this new, complete probability distribution for any future inference or decisions we like! In fact, as we will see tomorrow, we can use it as a new prior! Finally, we often call this probability distribution our beliefs over the hidden states, to emphasize that it is our subjective knowlege about the hidden state.\n",
        "\n",
        "For many complicated cases, like those we might be using to model behavioral or brain inferences, the normalization term can be intractable or extremely complex to calculate. We can be careful to choose probability distributions were we can analytically calculate the posterior probability or numerical approximation is reliable. Better yet, we sometimes don't need to bother with this normalization! The normalization term, $P(m)$, is the probability of the measurement. This does not depend on state so is essentially a constant we can often ignore. We can compare the unnormalized posterior distribution values for different states because how they relate to each other is unchanged when divided by the same constant. We will see how to do this to compare evidence for different hypotheses tomorrow. (It's also used to compare the likelihood of models fit using maximum likelihood estimation)\n",
        "\n",
        "In this relatively simple example, we can compute the marginal likelihood $P(m)$ easily by using:\n",
        "$$P(m) = \\sum_s P(m | s) P(s)$$\n",
        "We can then normalize so that we deal with the full posterior distribution.\n",
        "\n"
      ]
    },
    {
      "cell_type": "markdown",
      "metadata": {
        "execution": {},
        "id": "xN_bgk715MJP"
      },
      "source": [
        "## Math Exercise 5: Calculating a posterior probability\n",
        "\n",
        "Our prior is $p(s = \\textrm{left}) = 0.3$ and $p(s = \\textrm{right}) = 0.7$. In the video, we learned that the chance of catching a fish given they fish on the same side as the school was 50%. Otherwise, it was 10%. We observe a person fishing on the left side. Our likelihood is: \n",
        "\n",
        "\n",
        "| Likelihood: p(m \\| s) | m = fish   | m = no fish  |\n",
        "| ----------------- |----------|----------|\n",
        "| s = left          | 0.5          | 0.5         |\n",
        "| s = right         | 0.1        |  0.9       |\n",
        "\n",
        "\n",
        "Calculate the posterior probability (on paper) that:\n",
        "\n",
        "1. The school is on the left if the fisherperson catches a fish: $p(s = \\textrm{left} | m = \\textrm{fish})$ (hint: normalize by computing $p(m = \\textrm{fish})$)\n",
        "2. The school is on the right if the fisherperson does not catch a fish: $p(s = \\textrm{right} | m = \\textrm{no fish})$\n",
        "\n",
        "**We don't typically have math exercises in NMA but feel it is important for you to really compute this out yourself. Feel free to use the next cell to write out the math if helpful, or use paper and pen. We recommend doing this exercise individually first and then comparing notes and discussing.**"
      ]
    },
    {
      "cell_type": "code",
      "metadata": {
        "execution": {},
        "id": "439DvbmG5MJP"
      },
      "source": [
        "\"\"\"\n",
        "Priors\n",
        "p(s = left) = 0.3\n",
        "p(s = right) = 0.7\n",
        "\n",
        "Likelihoods\n",
        "P(m = fish | s = left) = 0.5\n",
        "P(m = fish | s = right) = 0.1\n",
        "P(m = no fish | s = left) = 0.5\n",
        "P(m = no fish | s = right) = 0.9\n",
        "\n",
        "p(m = fish) =\n",
        "p(m = fish | s = left) p(s = left) + p(m = fish | s = right) p(s = right) =\n",
        "0.5(0.3) + 0.1(0.7) = 0.22\n",
        "\n",
        "1. p( s = left | m = fish) =\n",
        "   p(m = fish | s = left) p(s = left) / p(m = fish) =\n",
        "   0.5(0.3) / 0.22 = 0.682\n",
        "\n",
        "2. p( s = right | m = no fish ) =\n",
        "   p(m = no fish | s = right) p(s = right) / p(m = no fish) =\n",
        "   0.9(0.7) / (1 - 0.22) = 0.808\n",
        "\n",
        "\"\"\""
      ],
      "execution_count": null,
      "outputs": []
    },
    {
      "cell_type": "markdown",
      "metadata": {
        "execution": {},
        "id": "_YkEsO5k5MJP"
      },
      "source": [
        "[*Click for solution*](https://github.com/NeuromatchAcademy/course-content/tree/master//tutorials/W3D1_BayesianDecisions/solutions/W3D1_Tutorial1_Solution_1fcd83ee.py)\n",
        "\n"
      ]
    },
    {
      "cell_type": "markdown",
      "metadata": {
        "execution": {},
        "id": "KaZsY81m5MJP"
      },
      "source": [
        "## Coding Exercise 5: Computing Posteriors\n",
        "\n",
        "Let's implement our above math to be able to compute posteriors for different priors and likelihoods.\n",
        "\n",
        "As before, our prior is $p(s = \\textrm{left}) = 0.3$ and $p(s = \\textrm{right}) = 0.7$. In the video, we learned that the chance of catching a fish given they fish on the same side as the school was 50%. Otherwise, it was 10%. We observe a person fishing on the left side. Our likelihood is: \n",
        "\n",
        "\n",
        "| Likelihood: p(m \\| s) | m = fish   | m = no fish  |\n",
        "| ----------------- |----------|----------|\n",
        "| s = left          | 0.5          | 0.5         |\n",
        "| s = right         | 0.1        |  0.9       |\n",
        "\n",
        "\n",
        "We want our full posterior to take the same 2 by 2 form. Make sure the outputs match your math answers!\n",
        "\n"
      ]
    },
    {
      "cell_type": "code",
      "metadata": {
        "execution": {},
        "id": "bqGfbzqa5MJQ",
        "outputId": "6ed741e0-5a04-4449-9716-4c6bf47f1983",
        "colab": {
          "base_uri": "https://localhost:8080/",
          "height": 362
        }
      },
      "source": [
        "def compute_posterior(likelihood, prior):\n",
        "  \"\"\" Use Bayes' Rule to compute posterior from likelihood and prior\n",
        "\n",
        "  Args:\n",
        "    likelihood (ndarray): i x j array with likelihood probabilities where i is\n",
        "                    number of state options, j is number of measurement options\n",
        "    prior (ndarray): i x 1 array with prior probability of each state\n",
        "\n",
        "  Returns:\n",
        "    ndarray: i x j array with posterior probabilities where i is\n",
        "            number of state options, j is number of measurement options\n",
        "\n",
        "  \"\"\"\n",
        "\n",
        "  #################################################\n",
        "  ## TODO for students ##\n",
        "  # Fill out function and remove\n",
        "  # raise NotImplementedError(\"Student exercise: implement compute_posterior\")\n",
        "  #################################################\n",
        "\n",
        "  # Compute unnormalized posterior (likelihood times prior)\n",
        "  # first row is s = left, second row is s = right\n",
        "  posterior = likelihood * prior\n",
        "\n",
        "  # Compute p(m)\n",
        "  p_m = np.sum(posterior, axis = 0)\n",
        "\n",
        "  # Normalize posterior (divide elements by p_m)\n",
        "  posterior /= p_m\n",
        "\n",
        "  return posterior\n",
        "\n",
        "\n",
        "# Make prior\n",
        "prior = np.array([0.3, 0.7]).reshape((2, 1)) # first row is s = left, second row is s = right\n",
        "\n",
        "# Make likelihood\n",
        "likelihood = np.array([[0.5, 0.5], [0.1, 0.9]]) # first row is s = left, second row is s = right\n",
        "\n",
        "# Compute posterior\n",
        "posterior = compute_posterior(likelihood, prior)\n",
        "\n",
        "# Visualize\n",
        "plot_prior_likelihood_posterior(prior, likelihood, posterior)"
      ],
      "execution_count": 14,
      "outputs": [
        {
          "output_type": "display_data",
          "data": {
            "image/png": "[encoded data removed]",
            "text/plain": [
              "<Figure size 864x288 with 3 Axes>"
            ]
          },
          "metadata": {
            "tags": [],
            "image/png": {
              "width": 834,
              "height": 345
            },
            "needs_background": "light"
          }
        }
      ]
    },
    {
      "cell_type": "markdown",
      "metadata": {
        "execution": {},
        "id": "vz66brTH5MJQ"
      },
      "source": [
        "[*Click for solution*](https://github.com/NeuromatchAcademy/course-content/tree/master//tutorials/W3D1_BayesianDecisions/solutions/W3D1_Tutorial1_Solution_1a2cc907.py)\n",
        "\n",
        "*Example output:*\n",
        "\n",
        "<img alt='Solution hint' align='left' width=1665.0 height=674.0 src=https://raw.githubusercontent.com/NeuromatchAcademy/course-content/master/tutorials/W3D1_BayesianDecisions/static/W3D1_Tutorial1_Solution_1a2cc907_0.png>\n",
        "\n"
      ]
    },
    {
      "cell_type": "markdown",
      "metadata": {
        "execution": {},
        "id": "rbuQV6dn5MJQ"
      },
      "source": [
        "## Interactive Demo 5: What affects the posterior?\n",
        "\n",
        "Now that we can understand the implementation of *Bayes rule*, let's vary the parameters of the prior and likelihood to see how changing the prior and likelihood affect the posterior. \n",
        "\n",
        "In the demo below, you can change the prior by playing with the slider for $p( s = left)$. You can also change the likelihood by changing the probability of catching a fish given that the school is on the left and the probability of catching a fish given that the school is on the right. The fisherperson you are observing is fishing on the left.\n",
        " \n",
        "\n",
        "1.   Keeping the likelihood constant, when does the prior have the strongest influence over the posterior? Meaning, when does the posterior look most like the prior no matter whether a fish was caught or not?\n",
        "2.   What happens if the likelihoods for catching a fish are similar when you fish on the correct or incorrect side?\n",
        "3.  Set the prior probability of the state = left to 0.6 and play with the likelihood. When does the likelihood exert the most influence over the posterior?"
      ]
    },
    {
      "cell_type": "code",
      "metadata": {
        "cellView": "form",
        "execution": {},
        "id": "zYiML5Xo5MJR",
        "outputId": "f6d39684-ae2f-4a02-990a-1b9a5ea83bbb",
        "colab": {
          "base_uri": "https://localhost:8080/",
          "height": 459,
          "referenced_widgets": [
            "aeea453e40a24d8ea7e25f1bca0e5ce0",
            "dc0a00808e594baa814a964dfd18c5a8",
            "3e5e760296554e3f894df8e987fcba42",
            "557efe8ffef746dd82bcfec76741a87c",
            "f8151485d3ad40a09067fcca5f5e594a",
            "864f107cf0af4dbe9178f5dee7ff697e",
            "d84ad76983f143918c73955ab3d5044b",
            "43ebfd46ff9943839adfd23d3aa6bf22",
            "11ea922a61b24227bffc1e47cc857cae",
            "14f7c27a0e934fa88dd227fcd08e36b7",
            "427d18151e6e43019cadf2ae45bb5bec",
            "f50724b5d2bd4c21926185a58ffda289",
            "97acf862eb2a4196961bf8cd23e5f4b8",
            "6cc8a5430adb444c86dbb5860dcc7b47",
            "50a7781cec654cc4b2ef90dbf5e6ae8a",
            "872a52aa48274f9f93f6dd47858a2f9d",
            "7dfc837f20f049cf86586cf32ed475f5",
            "ab460a1ddf3b4fcd827cbf34abd3a6cc"
          ]
        }
      },
      "source": [
        "# @markdown Execute this cell to enable the widget\n",
        "# style = {'description_width': 'initial'}\n",
        "ps_widget = widgets.FloatSlider(0.3, description='p(s = left)',\n",
        "                                min=0.01, max=0.99, step=0.01)\n",
        "p_a_s1_widget = widgets.FloatSlider(0.5, description='p(fish on left | state = left)',\n",
        "                                    min=0.01, max=0.99, step=0.01, style=style, layout=Layout(width='370px'))\n",
        "p_a_s0_widget = widgets.FloatSlider(0.1, description='p(fish on left | state = right)',\n",
        "                                    min=0.01, max=0.99, step=0.01, style=style, layout=Layout(width='370px'))\n",
        "# observed_widget = widgets.Checkbox(value=False, description='Observed fish (m)',\n",
        "#                                  disabled=False, indent=False,\n",
        "#                                  layout=Layout(display=\"flex\", justify_content=\"center\"))\n",
        "\n",
        "observed_widget = ToggleButtons(options=['Fish', 'No Fish'],\n",
        "    description='Observation (m) on the left:', disabled=False, button_style='',\n",
        "    layout=Layout(width='auto', display=\"flex\"),\n",
        "    style={'description_width': 'initial'}\n",
        ")\n",
        "\n",
        "widget_ui = VBox([ps_widget,\n",
        "                  HBox([p_a_s1_widget, p_a_s0_widget]),\n",
        "                  observed_widget])\n",
        "widget_out = interactive_output(plot_prior_likelihood,\n",
        "                                {'ps': ps_widget,\n",
        "                                'p_a_s1': p_a_s1_widget,\n",
        "                                'p_a_s0': p_a_s0_widget,\n",
        "                                'measurement': observed_widget})\n",
        "display(widget_ui, widget_out)\n",
        "\n",
        "# @widgets.interact(\n",
        "#     ps=ps_widget,\n",
        "#     p_a_s1=p_a_s1_widget,\n",
        "#     p_a_s0=p_a_s0_widget,\n",
        "#     m_right=observed_widget\n",
        "# )\n",
        "# def make_prior_likelihood_plot(ps,p_a_s1,p_a_s0,m_right):\n",
        "#     fig = plot_prior_likelihood(ps,p_a_s1,p_a_s0,m_right)\n",
        "#     plt.show(fig)\n",
        "#     plt.close(fig)\n",
        "#     return None"
      ],
      "execution_count": 15,
      "outputs": [
        {
          "output_type": "display_data",
          "data": {
            "application/vnd.jupyter.widget-view+json": {
              "model_id": "aeea453e40a24d8ea7e25f1bca0e5ce0",
              "version_minor": 0,
              "version_major": 2
            },
            "text/plain": [
              "VBox(children=(FloatSlider(value=0.3, description='p(s = left)', max=0.99, min=0.01, step=0.01), HBox(children…"
            ]
          },
          "metadata": {
            "tags": []
          }
        },
        {
          "output_type": "display_data",
          "data": {
            "application/vnd.jupyter.widget-view+json": {
              "model_id": "7dfc837f20f049cf86586cf32ed475f5",
              "version_minor": 0,
              "version_major": 2
            },
            "text/plain": [
              "Output()"
            ]
          },
          "metadata": {
            "tags": []
          }
        }
      ]
    },
    {
      "cell_type": "markdown",
      "metadata": {
        "execution": {},
        "id": "j88nEfEH5MJR"
      },
      "source": [
        "[*Click for solution*](https://github.com/NeuromatchAcademy/course-content/tree/master//tutorials/W3D1_BayesianDecisions/solutions/W3D1_Tutorial1_Solution_09d33baa.py)\n",
        "\n"
      ]
    },
    {
      "cell_type": "code",
      "metadata": {
        "cellView": "form",
        "execution": {},
        "id": "KVHUaO0R5MJS",
        "outputId": "4c624ee7-cd6d-4afc-f37e-4f29031785d6",
        "colab": {
          "base_uri": "https://localhost:8080/",
          "height": 580,
          "referenced_widgets": [
            "6752ec891f024865bcb2bbcf73c52d96",
            "4c17390f635d4f64be56156991c37555",
            "6f6c62a2815f42f2b94b1050144e5d8f",
            "eda8e922d81c4c54ba561fcdf859567e",
            "332bd18af0c54e1f9c3dddfa315ada1c",
            "44c23dc556b34ba3b55b600398de00cc"
          ]
        }
      },
      "source": [
        "# @title Video 8: Posterior Beliefs Exercises Discussion\n",
        "from ipywidgets import widgets\n",
        "\n",
        "out2 = widgets.Output()\n",
        "with out2:\n",
        "  from IPython.display import IFrame\n",
        "  class BiliVideo(IFrame):\n",
        "      def __init__(self, id, page=1, width=400, height=300, **kwargs):\n",
        "          self.id=id\n",
        "          src = 'https://player.bilibili.com/player.html?bvid={0}&page={1}'.format(id, page)\n",
        "          super(BiliVideo, self).__init__(src, width, height, **kwargs)\n",
        "\n",
        "  video = BiliVideo(id=\"BV1TU4y1G7SM\", width=854, height=480, fs=1)\n",
        "  print('Video available at https://www.bilibili.com/video/{0}'.format(video.id))\n",
        "  display(video)\n",
        "\n",
        "out1 = widgets.Output()\n",
        "with out1:\n",
        "  from IPython.display import YouTubeVideo\n",
        "  video = YouTubeVideo(id=\"YPQgLVolvBs\", width=854, height=480, fs=1, rel=0)\n",
        "  print('Video available at https://youtube.com/watch?v=' + video.id)\n",
        "  display(video)\n",
        "\n",
        "out = widgets.Tab([out1, out2])\n",
        "out.set_title(0, 'Youtube')\n",
        "out.set_title(1, 'Bilibili')\n",
        "\n",
        "display(out)"
      ],
      "execution_count": 17,
      "outputs": [
        {
          "output_type": "display_data",
          "data": {
            "application/vnd.jupyter.widget-view+json": {
              "model_id": "6752ec891f024865bcb2bbcf73c52d96",
              "version_minor": 0,
              "version_major": 2
            },
            "text/plain": [
              "Tab(children=(Output(), Output()), _titles={'0': 'Youtube', '1': 'Bilibili'})"
            ]
          },
          "metadata": {
            "tags": []
          }
        }
      ]
    },
    {
      "cell_type": "markdown",
      "metadata": {
        "execution": {},
        "id": "Jak4mqbn5MJS"
      },
      "source": [
        "# Section 6: Making Bayesian fishing decisions\n",
        "\n",
        "*Estimated timing to here from start of tutorial: 1 hr, 15 min*"
      ]
    },
    {
      "cell_type": "code",
      "metadata": {
        "cellView": "form",
        "execution": {},
        "id": "oAXq4fYQ5MJT",
        "outputId": "c75b820b-e653-4bea-d915-d4ce7b1b55b1",
        "colab": {
          "base_uri": "https://localhost:8080/",
          "height": 580,
          "referenced_widgets": [
            "afc9cc204ce3461ebd4f1b1ee9baaf3e",
            "186c2b7585564c558a1af6d1379513d4",
            "d59aa9cb48134e789912d8b29593f2dd",
            "069db7080fc94653a8123bfe176549a5",
            "55e225d3e5f1491493bc2cf976c8ce6f",
            "0c810012a700475895e9fee7c9efbd09"
          ]
        }
      },
      "source": [
        "# @title Video 9: Bayesian Decisions\n",
        "from ipywidgets import widgets\n",
        "\n",
        "out2 = widgets.Output()\n",
        "with out2:\n",
        "  from IPython.display import IFrame\n",
        "  class BiliVideo(IFrame):\n",
        "      def __init__(self, id, page=1, width=400, height=300, **kwargs):\n",
        "          self.id=id\n",
        "          src = 'https://player.bilibili.com/player.html?bvid={0}&page={1}'.format(id, page)\n",
        "          super(BiliVideo, self).__init__(src, width, height, **kwargs)\n",
        "\n",
        "  video = BiliVideo(id=\"BV1954y1n7uH\", width=854, height=480, fs=1)\n",
        "  print('Video available at https://www.bilibili.com/video/{0}'.format(video.id))\n",
        "  display(video)\n",
        "\n",
        "out1 = widgets.Output()\n",
        "with out1:\n",
        "  from IPython.display import YouTubeVideo\n",
        "  video = YouTubeVideo(id=\"tz9zsmTHR68\", width=854, height=480, fs=1, rel=0)\n",
        "  print('Video available at https://youtube.com/watch?v=' + video.id)\n",
        "  display(video)\n",
        "\n",
        "out = widgets.Tab([out1, out2])\n",
        "out.set_title(0, 'Youtube')\n",
        "out.set_title(1, 'Bilibili')\n",
        "\n",
        "display(out)"
      ],
      "execution_count": 16,
      "outputs": [
        {
          "output_type": "display_data",
          "data": {
            "application/vnd.jupyter.widget-view+json": {
              "model_id": "afc9cc204ce3461ebd4f1b1ee9baaf3e",
              "version_minor": 0,
              "version_major": 2
            },
            "text/plain": [
              "Tab(children=(Output(), Output()), _titles={'0': 'Youtube', '1': 'Bilibili'})"
            ]
          },
          "metadata": {
            "tags": []
          }
        }
      ]
    },
    {
      "cell_type": "markdown",
      "metadata": {
        "execution": {},
        "id": "8ckWO3gv5MJT"
      },
      "source": [
        "\n",
        "We will explore how to consider the expected utility of an action based on our belief (the posterior distribution) about where we think the fish are. Now we have all the components of a Bayesian decision: our prior information, the likelihood given a measurement, the posterior distribution (belief) and our utility (the gains and losses). This allows us to consider the relationship between the true value of the hidden state, $s$, and what we *expect* to get if we take action, $a$, based on our belief!\n",
        "\n",
        "Let's use the following widget to think about the relationship between these probability distributions and utility function."
      ]
    },
    {
      "cell_type": "markdown",
      "metadata": {
        "execution": {},
        "id": "PS1UXJeE5MJT"
      },
      "source": [
        "## Interactive Demo! 6: What is more important, the probabilities or the utilities?\n",
        "\n",
        "We are now going to put everything we've learned together to gain some intuitions for how each of the elements that goes into a Bayesian decision comes together. Remember, the common assumption in neuroscience, psychology, economics, ecology, etc. is that we (humans and animals) are tying to maximize our expected utility. There is a lot going on in this demo as it brings everything in this tutorial together in one place - please spend time making sure you understand the controls and the plots, especially how everything relates together.\n",
        "\n",
        "1. Can you find a situation where the expected utility is the same for both actions?\n",
        "2. What is more important for determining the expected utility: the prior or a new measurement (the likelihood)?\n",
        "3. Why is this a normative model?\n",
        "4. Can you think of ways in which this model would need to be extended to describe human or animal behavior?"
      ]
    },
    {
      "cell_type": "code",
      "metadata": {
        "cellView": "form",
        "execution": {},
        "id": "DUzp93eX5MJT",
        "outputId": "633d7d9d-7ac5-490b-df13-6c321f001709",
        "colab": {
          "base_uri": "https://localhost:8080/",
          "height": 663,
          "referenced_widgets": [
            "61c6f535f0a54c48bdf8097ac4e13b05",
            "d3422bb95326461d877a5f1f1d2969b4",
            "7e8fd45a30a34b36a9cbac8d9173725f",
            "3c068b62b29444e0a287bb144d3d5de3",
            "89f42a618ce94a6d94d87379d648f5d8",
            "c362d60ca6aa4ef88d6007a6c8052a39",
            "0af96fcbe6ba40399bb7db76ab7ea3f1",
            "93f16479204944c197b74d1b0104061f",
            "9bfd6421432a4b648f71ba8fd992675d",
            "9046f43f9f7a4abe911aa56f1d45fb48",
            "0133b6f562ec44b28f2802c6257dbb18",
            "aef0c2679c50440097c349e05b22f507",
            "65612d6ba6c348b28cf9c16a6e028669",
            "5b45dcd8ea7f45548d029bf7761a075c",
            "35c1bf600e0e4dd09aebe0edf9836ebd",
            "32eecdb043ca41f89abbdc1bb9f67ede",
            "ac2050f419dc4c09b37a55a2e6f494b5",
            "d5b482c25d0141d2a3937081403b0294"
          ]
        }
      },
      "source": [
        "# @markdown Execute this cell to enable the widget\n",
        "# style = {'description_width': 'initial'}\n",
        "\n",
        "ps_widget = widgets.FloatSlider(0.3, description='p(s = left)',\n",
        "                                min=0.01, max=0.99, step=0.01, layout=Layout(width='300px'))\n",
        "p_a_s1_widget = widgets.FloatSlider(0.5, description='p(fish on left | state = left)',\n",
        "                                    min=0.01, max=0.99, step=0.01, style=style, layout=Layout(width='370px'))\n",
        "p_a_s0_widget = widgets.FloatSlider(0.1, description='p(fish on left | state = right)',\n",
        "                                    min=0.01, max=0.99, step=0.01, style=style, layout=Layout(width='370px'))\n",
        "\n",
        "observed_widget = ToggleButtons(options=['Fish', 'No Fish'],\n",
        "    description='Observation (m) on the left:', disabled=False, button_style='',\n",
        "    layout=Layout(width='auto', display=\"flex\"),\n",
        "    style={'description_width': 'initial'}\n",
        ")\n",
        "\n",
        "widget_ui = VBox([ps_widget,\n",
        "                  HBox([p_a_s1_widget, p_a_s0_widget]),\n",
        "                  observed_widget])\n",
        "\n",
        "widget_out = interactive_output(plot_prior_likelihood_utility,\n",
        "                                {'ps': ps_widget,\n",
        "                                'p_a_s1': p_a_s1_widget,\n",
        "                                'p_a_s0': p_a_s0_widget,\n",
        "                                'measurement': observed_widget})\n",
        "display(widget_ui, widget_out)\n",
        "\n",
        "# @widgets.interact(\n",
        "#     ps=ps_widget,\n",
        "#     p_a_s1=p_a_s1_widget,\n",
        "#     p_a_s0=p_a_s0_widget,\n",
        "#     m_right=observed_widget\n",
        "# )\n",
        "# def make_prior_likelihood_utility_plot(ps, p_a_s1, p_a_s0,m_right):\n",
        "#     fig = plot_prior_likelihood_utility(ps, p_a_s1, p_a_s0,m_right)\n",
        "#     plt.show(fig)\n",
        "#     plt.close(fig)\n",
        "#     return None"
      ],
      "execution_count": 18,
      "outputs": [
        {
          "output_type": "display_data",
          "data": {
            "application/vnd.jupyter.widget-view+json": {
              "model_id": "61c6f535f0a54c48bdf8097ac4e13b05",
              "version_minor": 0,
              "version_major": 2
            },
            "text/plain": [
              "VBox(children=(FloatSlider(value=0.3, description='p(s = left)', layout=Layout(width='300px'), max=0.99, min=0…"
            ]
          },
          "metadata": {
            "tags": []
          }
        },
        {
          "output_type": "display_data",
          "data": {
            "application/vnd.jupyter.widget-view+json": {
              "model_id": "ac2050f419dc4c09b37a55a2e6f494b5",
              "version_minor": 0,
              "version_major": 2
            },
            "text/plain": [
              "Output()"
            ]
          },
          "metadata": {
            "tags": []
          }
        }
      ]
    },
    {
      "cell_type": "markdown",
      "metadata": {
        "execution": {},
        "id": "fqV4g_BD5MJU"
      },
      "source": [
        "[*Click for solution*](https://github.com/NeuromatchAcademy/course-content/tree/master//tutorials/W3D1_BayesianDecisions/solutions/W3D1_Tutorial1_Solution_0dad47c0.py)\n",
        "\n"
      ]
    },
    {
      "cell_type": "code",
      "metadata": {
        "cellView": "form",
        "execution": {},
        "id": "qtRQhTsI5MJU",
        "outputId": "728cda11-3c79-412b-fab3-ec79fae50ff1",
        "colab": {
          "base_uri": "https://localhost:8080/",
          "height": 580,
          "referenced_widgets": [
            "9982ba138d6b444bbe6ba9e5c96f5e09",
            "7f93908325f049f6afcd0192744e46d9",
            "e3637baa11914e1886454234febaaa99",
            "1765f89a3db34c14b6e8a4abd4190e8e",
            "2b297f7330c743238df8aa1e18afe04a",
            "253b03892f5f4e6997b73a5f1352559d"
          ]
        }
      },
      "source": [
        "# @title Video 10: Bayesian Decisions Demo Discussion\n",
        "from ipywidgets import widgets\n",
        "\n",
        "out2 = widgets.Output()\n",
        "with out2:\n",
        "  from IPython.display import IFrame\n",
        "  class BiliVideo(IFrame):\n",
        "      def __init__(self, id, page=1, width=400, height=300, **kwargs):\n",
        "          self.id=id\n",
        "          src = 'https://player.bilibili.com/player.html?bvid={0}&page={1}'.format(id, page)\n",
        "          super(BiliVideo, self).__init__(src, width, height, **kwargs)\n",
        "\n",
        "  video = BiliVideo(id=\"BV1QU4y137BS\", width=854, height=480, fs=1)\n",
        "  print('Video available at https://www.bilibili.com/video/{0}'.format(video.id))\n",
        "  display(video)\n",
        "\n",
        "out1 = widgets.Output()\n",
        "with out1:\n",
        "  from IPython.display import YouTubeVideo\n",
        "  video = YouTubeVideo(id=\"h9L0EYmUpHs\", width=854, height=480, fs=1, rel=0)\n",
        "  print('Video available at https://youtube.com/watch?v=' + video.id)\n",
        "  display(video)\n",
        "\n",
        "out = widgets.Tab([out1, out2])\n",
        "out.set_title(0, 'Youtube')\n",
        "out.set_title(1, 'Bilibili')\n",
        "\n",
        "display(out)"
      ],
      "execution_count": 19,
      "outputs": [
        {
          "output_type": "display_data",
          "data": {
            "application/vnd.jupyter.widget-view+json": {
              "model_id": "9982ba138d6b444bbe6ba9e5c96f5e09",
              "version_minor": 0,
              "version_major": 2
            },
            "text/plain": [
              "Tab(children=(Output(), Output()), _titles={'0': 'Youtube', '1': 'Bilibili'})"
            ]
          },
          "metadata": {
            "tags": []
          }
        }
      ]
    },
    {
      "cell_type": "markdown",
      "metadata": {
        "execution": {},
        "id": "xpm6kNqt5MJU"
      },
      "source": [
        "---\n",
        "# Summary\n",
        "\n",
        "*Estimated timing of tutorial: 1 hour, 30 minutes*\n",
        "\n",
        "In this tutorial, you learned about combining prior information with new measurements to update your knowledge using Bayes Rule, in the context of a fishing problem. \n",
        "\n",
        "Specifically, we covered:\n",
        "\n",
        "* That the likelihood is the probability of the measurement given some hidden state\n",
        "\n",
        "* That how the prior and likelihood interact to create the posterior, the probability of the hidden state given a measurement, depends on how they covary\n",
        "\n",
        "* That utility is the gain from each action and state pair, and the expected utility for an action is the sum of the utility for all state pairs, weighted by the probability of that state happening. You can then choose the action with highest expected utility.\n"
      ]
    },
    {
      "cell_type": "markdown",
      "metadata": {
        "execution": {},
        "id": "htkI8Knd5MJU"
      },
      "source": [
        "---\n",
        "# Bonus"
      ]
    },
    {
      "cell_type": "markdown",
      "metadata": {
        "execution": {},
        "id": "1dce4_F55MJV"
      },
      "source": [
        "## Bonus Section 1: Correlation Formula\n",
        "To understand the way we calculate the correlation, we need to review the definition of covariance and correlation.\n",
        "\n",
        "Covariance:\n",
        "\n",
        "$$\n",
        "cov(X,Y) = \\sigma_{XY} = E[(X - \\mu_{x})(Y - \\mu_{y})] = E[X]E[Y] - \\mu_{x}\\mu_{y}\n",
        "$$\n",
        "\n",
        "Correlation:\n",
        "\n",
        "$$\n",
        "\\rho_{XY} = \\frac{cov(Y,Y)}{\\sqrt{V(X)V(Y)}} = \\frac{\\sigma_{XY}}{\\sigma_{X}\\sigma_{Y}}\n",
        "$$"
      ]
    }
  ]
}